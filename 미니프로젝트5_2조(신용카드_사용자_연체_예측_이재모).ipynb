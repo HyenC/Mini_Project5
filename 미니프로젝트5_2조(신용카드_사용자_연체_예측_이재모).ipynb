{
  "nbformat": 4,
  "nbformat_minor": 0,
  "metadata": {
    "colab": {
      "provenance": []
    },
    "kernelspec": {
      "name": "python3",
      "display_name": "Python 3"
    },
    "language_info": {
      "name": "python"
    }
  },
  "cells": [
    {
      "cell_type": "code",
      "source": [
        "import pandas as pd\n",
        "import numpy as np\n",
        "import matplotlib.pyplot as plt \n",
        "import seaborn as sns"
      ],
      "metadata": {
        "id": "hs4Bd0XzZQ5m"
      },
      "execution_count": 1,
      "outputs": []
    },
    {
      "cell_type": "code",
      "source": [
        "from google.colab import drive\n",
        "drive.mount('/content/drive')"
      ],
      "metadata": {
        "colab": {
          "base_uri": "https://localhost:8080/"
        },
        "id": "3TMoUQulbnLl",
        "outputId": "84a7cc1e-e01f-4217-b3de-d77bf82e6516"
      },
      "execution_count": 2,
      "outputs": [
        {
          "output_type": "stream",
          "name": "stdout",
          "text": [
            "Drive already mounted at /content/drive; to attempt to forcibly remount, call drive.mount(\"/content/drive\", force_remount=True).\n"
          ]
        }
      ]
    },
    {
      "cell_type": "code",
      "source": [
        "train = pd.read_csv('/content/drive/MyDrive/데이터셋/card/train.csv')\n",
        "test = pd.read_csv('/content/drive/MyDrive/데이터셋/card/test.csv')\n",
        "sub = pd.read_csv('/content/drive/MyDrive/데이터셋/card/sample_submission.csv')\n",
        "\n",
        "train.shape, test.shape, sub.shape"
      ],
      "metadata": {
        "colab": {
          "base_uri": "https://localhost:8080/"
        },
        "id": "5L0hIOEKahzH",
        "outputId": "2ffd813a-4b24-4d15-9f73-b14f895abc14"
      },
      "execution_count": 3,
      "outputs": [
        {
          "output_type": "execute_result",
          "data": {
            "text/plain": [
              "((26457, 20), (10000, 19), (10000, 4))"
            ]
          },
          "metadata": {},
          "execution_count": 3
        }
      ]
    },
    {
      "cell_type": "code",
      "source": [
        "train['credit'].value_counts()"
      ],
      "metadata": {
        "colab": {
          "base_uri": "https://localhost:8080/"
        },
        "id": "mpTURy5Xb-o1",
        "outputId": "6160d379-a7ee-4a4b-a2e4-2d72eb137d7f"
      },
      "execution_count": null,
      "outputs": [
        {
          "output_type": "execute_result",
          "data": {
            "text/plain": [
              "2.0    16968\n",
              "1.0     6267\n",
              "0.0     3222\n",
              "Name: credit, dtype: int64"
            ]
          },
          "metadata": {},
          "execution_count": 6
        }
      ]
    },
    {
      "cell_type": "code",
      "source": [
        "train = train.drop(['index'], axis=1)\n",
        "test = test.drop(['index'], axis=1)\n",
        "train.shape, test.shape"
      ],
      "metadata": {
        "id": "K44xdgLVeFO3",
        "colab": {
          "base_uri": "https://localhost:8080/"
        },
        "outputId": "a2919812-32af-4972-9f25-b2b03ab2e9b9"
      },
      "execution_count": 4,
      "outputs": [
        {
          "output_type": "execute_result",
          "data": {
            "text/plain": [
              "((26457, 19), (10000, 18))"
            ]
          },
          "metadata": {},
          "execution_count": 4
        }
      ]
    },
    {
      "cell_type": "code",
      "source": [
        "df = pd.concat([train, test], axis=0)\n",
        "print(df.shape)\n",
        "df.head()"
      ],
      "metadata": {
        "colab": {
          "base_uri": "https://localhost:8080/",
          "height": 389
        },
        "id": "7QJduTLWV9PT",
        "outputId": "260ff5d6-23ca-44ed-de81-1b0a5d368f06"
      },
      "execution_count": 5,
      "outputs": [
        {
          "output_type": "stream",
          "name": "stdout",
          "text": [
            "(36457, 19)\n"
          ]
        },
        {
          "output_type": "execute_result",
          "data": {
            "text/plain": [
              "  gender car reality  child_num  income_total           income_type  \\\n",
              "0      F   N       N          0      202500.0  Commercial associate   \n",
              "1      F   N       Y          1      247500.0  Commercial associate   \n",
              "2      M   Y       Y          0      450000.0               Working   \n",
              "3      F   N       Y          0      202500.0  Commercial associate   \n",
              "4      F   Y       Y          0      157500.0         State servant   \n",
              "\n",
              "                        edu_type     family_type           house_type  \\\n",
              "0               Higher education         Married  Municipal apartment   \n",
              "1  Secondary / secondary special  Civil marriage    House / apartment   \n",
              "2               Higher education         Married    House / apartment   \n",
              "3  Secondary / secondary special         Married    House / apartment   \n",
              "4               Higher education         Married    House / apartment   \n",
              "\n",
              "   DAYS_BIRTH  DAYS_EMPLOYED  FLAG_MOBIL  work_phone  phone  email  \\\n",
              "0      -13899          -4709           1           0      0      0   \n",
              "1      -11380          -1540           1           0      0      1   \n",
              "2      -19087          -4434           1           0      1      0   \n",
              "3      -15088          -2092           1           0      1      0   \n",
              "4      -15037          -2105           1           0      0      0   \n",
              "\n",
              "    occyp_type  family_size  begin_month  credit  \n",
              "0          NaN          2.0         -6.0     1.0  \n",
              "1     Laborers          3.0         -5.0     1.0  \n",
              "2     Managers          2.0        -22.0     2.0  \n",
              "3  Sales staff          2.0        -37.0     0.0  \n",
              "4     Managers          2.0        -26.0     2.0  "
            ],
            "text/html": [
              "\n",
              "  <div id=\"df-d0a49b8a-2d95-42f7-a004-105f00f6ecf4\">\n",
              "    <div class=\"colab-df-container\">\n",
              "      <div>\n",
              "<style scoped>\n",
              "    .dataframe tbody tr th:only-of-type {\n",
              "        vertical-align: middle;\n",
              "    }\n",
              "\n",
              "    .dataframe tbody tr th {\n",
              "        vertical-align: top;\n",
              "    }\n",
              "\n",
              "    .dataframe thead th {\n",
              "        text-align: right;\n",
              "    }\n",
              "</style>\n",
              "<table border=\"1\" class=\"dataframe\">\n",
              "  <thead>\n",
              "    <tr style=\"text-align: right;\">\n",
              "      <th></th>\n",
              "      <th>gender</th>\n",
              "      <th>car</th>\n",
              "      <th>reality</th>\n",
              "      <th>child_num</th>\n",
              "      <th>income_total</th>\n",
              "      <th>income_type</th>\n",
              "      <th>edu_type</th>\n",
              "      <th>family_type</th>\n",
              "      <th>house_type</th>\n",
              "      <th>DAYS_BIRTH</th>\n",
              "      <th>DAYS_EMPLOYED</th>\n",
              "      <th>FLAG_MOBIL</th>\n",
              "      <th>work_phone</th>\n",
              "      <th>phone</th>\n",
              "      <th>email</th>\n",
              "      <th>occyp_type</th>\n",
              "      <th>family_size</th>\n",
              "      <th>begin_month</th>\n",
              "      <th>credit</th>\n",
              "    </tr>\n",
              "  </thead>\n",
              "  <tbody>\n",
              "    <tr>\n",
              "      <th>0</th>\n",
              "      <td>F</td>\n",
              "      <td>N</td>\n",
              "      <td>N</td>\n",
              "      <td>0</td>\n",
              "      <td>202500.0</td>\n",
              "      <td>Commercial associate</td>\n",
              "      <td>Higher education</td>\n",
              "      <td>Married</td>\n",
              "      <td>Municipal apartment</td>\n",
              "      <td>-13899</td>\n",
              "      <td>-4709</td>\n",
              "      <td>1</td>\n",
              "      <td>0</td>\n",
              "      <td>0</td>\n",
              "      <td>0</td>\n",
              "      <td>NaN</td>\n",
              "      <td>2.0</td>\n",
              "      <td>-6.0</td>\n",
              "      <td>1.0</td>\n",
              "    </tr>\n",
              "    <tr>\n",
              "      <th>1</th>\n",
              "      <td>F</td>\n",
              "      <td>N</td>\n",
              "      <td>Y</td>\n",
              "      <td>1</td>\n",
              "      <td>247500.0</td>\n",
              "      <td>Commercial associate</td>\n",
              "      <td>Secondary / secondary special</td>\n",
              "      <td>Civil marriage</td>\n",
              "      <td>House / apartment</td>\n",
              "      <td>-11380</td>\n",
              "      <td>-1540</td>\n",
              "      <td>1</td>\n",
              "      <td>0</td>\n",
              "      <td>0</td>\n",
              "      <td>1</td>\n",
              "      <td>Laborers</td>\n",
              "      <td>3.0</td>\n",
              "      <td>-5.0</td>\n",
              "      <td>1.0</td>\n",
              "    </tr>\n",
              "    <tr>\n",
              "      <th>2</th>\n",
              "      <td>M</td>\n",
              "      <td>Y</td>\n",
              "      <td>Y</td>\n",
              "      <td>0</td>\n",
              "      <td>450000.0</td>\n",
              "      <td>Working</td>\n",
              "      <td>Higher education</td>\n",
              "      <td>Married</td>\n",
              "      <td>House / apartment</td>\n",
              "      <td>-19087</td>\n",
              "      <td>-4434</td>\n",
              "      <td>1</td>\n",
              "      <td>0</td>\n",
              "      <td>1</td>\n",
              "      <td>0</td>\n",
              "      <td>Managers</td>\n",
              "      <td>2.0</td>\n",
              "      <td>-22.0</td>\n",
              "      <td>2.0</td>\n",
              "    </tr>\n",
              "    <tr>\n",
              "      <th>3</th>\n",
              "      <td>F</td>\n",
              "      <td>N</td>\n",
              "      <td>Y</td>\n",
              "      <td>0</td>\n",
              "      <td>202500.0</td>\n",
              "      <td>Commercial associate</td>\n",
              "      <td>Secondary / secondary special</td>\n",
              "      <td>Married</td>\n",
              "      <td>House / apartment</td>\n",
              "      <td>-15088</td>\n",
              "      <td>-2092</td>\n",
              "      <td>1</td>\n",
              "      <td>0</td>\n",
              "      <td>1</td>\n",
              "      <td>0</td>\n",
              "      <td>Sales staff</td>\n",
              "      <td>2.0</td>\n",
              "      <td>-37.0</td>\n",
              "      <td>0.0</td>\n",
              "    </tr>\n",
              "    <tr>\n",
              "      <th>4</th>\n",
              "      <td>F</td>\n",
              "      <td>Y</td>\n",
              "      <td>Y</td>\n",
              "      <td>0</td>\n",
              "      <td>157500.0</td>\n",
              "      <td>State servant</td>\n",
              "      <td>Higher education</td>\n",
              "      <td>Married</td>\n",
              "      <td>House / apartment</td>\n",
              "      <td>-15037</td>\n",
              "      <td>-2105</td>\n",
              "      <td>1</td>\n",
              "      <td>0</td>\n",
              "      <td>0</td>\n",
              "      <td>0</td>\n",
              "      <td>Managers</td>\n",
              "      <td>2.0</td>\n",
              "      <td>-26.0</td>\n",
              "      <td>2.0</td>\n",
              "    </tr>\n",
              "  </tbody>\n",
              "</table>\n",
              "</div>\n",
              "      <button class=\"colab-df-convert\" onclick=\"convertToInteractive('df-d0a49b8a-2d95-42f7-a004-105f00f6ecf4')\"\n",
              "              title=\"Convert this dataframe to an interactive table.\"\n",
              "              style=\"display:none;\">\n",
              "        \n",
              "  <svg xmlns=\"http://www.w3.org/2000/svg\" height=\"24px\"viewBox=\"0 0 24 24\"\n",
              "       width=\"24px\">\n",
              "    <path d=\"M0 0h24v24H0V0z\" fill=\"none\"/>\n",
              "    <path d=\"M18.56 5.44l.94 2.06.94-2.06 2.06-.94-2.06-.94-.94-2.06-.94 2.06-2.06.94zm-11 1L8.5 8.5l.94-2.06 2.06-.94-2.06-.94L8.5 2.5l-.94 2.06-2.06.94zm10 10l.94 2.06.94-2.06 2.06-.94-2.06-.94-.94-2.06-.94 2.06-2.06.94z\"/><path d=\"M17.41 7.96l-1.37-1.37c-.4-.4-.92-.59-1.43-.59-.52 0-1.04.2-1.43.59L10.3 9.45l-7.72 7.72c-.78.78-.78 2.05 0 2.83L4 21.41c.39.39.9.59 1.41.59.51 0 1.02-.2 1.41-.59l7.78-7.78 2.81-2.81c.8-.78.8-2.07 0-2.86zM5.41 20L4 18.59l7.72-7.72 1.47 1.35L5.41 20z\"/>\n",
              "  </svg>\n",
              "      </button>\n",
              "      \n",
              "  <style>\n",
              "    .colab-df-container {\n",
              "      display:flex;\n",
              "      flex-wrap:wrap;\n",
              "      gap: 12px;\n",
              "    }\n",
              "\n",
              "    .colab-df-convert {\n",
              "      background-color: #E8F0FE;\n",
              "      border: none;\n",
              "      border-radius: 50%;\n",
              "      cursor: pointer;\n",
              "      display: none;\n",
              "      fill: #1967D2;\n",
              "      height: 32px;\n",
              "      padding: 0 0 0 0;\n",
              "      width: 32px;\n",
              "    }\n",
              "\n",
              "    .colab-df-convert:hover {\n",
              "      background-color: #E2EBFA;\n",
              "      box-shadow: 0px 1px 2px rgba(60, 64, 67, 0.3), 0px 1px 3px 1px rgba(60, 64, 67, 0.15);\n",
              "      fill: #174EA6;\n",
              "    }\n",
              "\n",
              "    [theme=dark] .colab-df-convert {\n",
              "      background-color: #3B4455;\n",
              "      fill: #D2E3FC;\n",
              "    }\n",
              "\n",
              "    [theme=dark] .colab-df-convert:hover {\n",
              "      background-color: #434B5C;\n",
              "      box-shadow: 0px 1px 3px 1px rgba(0, 0, 0, 0.15);\n",
              "      filter: drop-shadow(0px 1px 2px rgba(0, 0, 0, 0.3));\n",
              "      fill: #FFFFFF;\n",
              "    }\n",
              "  </style>\n",
              "\n",
              "      <script>\n",
              "        const buttonEl =\n",
              "          document.querySelector('#df-d0a49b8a-2d95-42f7-a004-105f00f6ecf4 button.colab-df-convert');\n",
              "        buttonEl.style.display =\n",
              "          google.colab.kernel.accessAllowed ? 'block' : 'none';\n",
              "\n",
              "        async function convertToInteractive(key) {\n",
              "          const element = document.querySelector('#df-d0a49b8a-2d95-42f7-a004-105f00f6ecf4');\n",
              "          const dataTable =\n",
              "            await google.colab.kernel.invokeFunction('convertToInteractive',\n",
              "                                                     [key], {});\n",
              "          if (!dataTable) return;\n",
              "\n",
              "          const docLinkHtml = 'Like what you see? Visit the ' +\n",
              "            '<a target=\"_blank\" href=https://colab.research.google.com/notebooks/data_table.ipynb>data table notebook</a>'\n",
              "            + ' to learn more about interactive tables.';\n",
              "          element.innerHTML = '';\n",
              "          dataTable['output_type'] = 'display_data';\n",
              "          await google.colab.output.renderOutput(dataTable, element);\n",
              "          const docLink = document.createElement('div');\n",
              "          docLink.innerHTML = docLinkHtml;\n",
              "          element.appendChild(docLink);\n",
              "        }\n",
              "      </script>\n",
              "    </div>\n",
              "  </div>\n",
              "  "
            ]
          },
          "metadata": {},
          "execution_count": 5
        }
      ]
    },
    {
      "cell_type": "code",
      "source": [
        "sns.displot(data=df['DAYS_BIRTH'])"
      ],
      "metadata": {
        "id": "CkjsGI2ieE-W",
        "colab": {
          "base_uri": "https://localhost:8080/",
          "height": 386
        },
        "outputId": "4fda47c3-a70f-4f3b-84d0-987ed52a4cbb"
      },
      "execution_count": null,
      "outputs": [
        {
          "output_type": "execute_result",
          "data": {
            "text/plain": [
              "<seaborn.axisgrid.FacetGrid at 0x7f419fe180d0>"
            ]
          },
          "metadata": {},
          "execution_count": 17
        },
        {
          "output_type": "display_data",
          "data": {
            "text/plain": [
              "<Figure size 360x360 with 1 Axes>"
            ],
            "image/png": "[encoded data removed]"
          },
          "metadata": {
            "needs_background": "light"
          }
        }
      ]
    },
    {
      "cell_type": "code",
      "source": [
        "sns.displot(data=df['income_total'])"
      ],
      "metadata": {
        "colab": {
          "base_uri": "https://localhost:8080/",
          "height": 386
        },
        "id": "xNWg9cGqW64f",
        "outputId": "58fcd8f6-55c3-438a-cbd9-eca568e39dd8"
      },
      "execution_count": null,
      "outputs": [
        {
          "output_type": "execute_result",
          "data": {
            "text/plain": [
              "<seaborn.axisgrid.FacetGrid at 0x7f0961fcb0d0>"
            ]
          },
          "metadata": {},
          "execution_count": 39
        },
        {
          "output_type": "display_data",
          "data": {
            "text/plain": [
              "<Figure size 360x360 with 1 Axes>"
            ],
            "image/png": "[encoded data removed]"
          },
          "metadata": {
            "needs_background": "light"
          }
        }
      ]
    },
    {
      "cell_type": "code",
      "source": [
        "df_a = df[df['DAYS_EMPLOYED'] > 0]"
      ],
      "metadata": {
        "id": "N_15W8EANlyu"
      },
      "execution_count": null,
      "outputs": []
    },
    {
      "cell_type": "code",
      "source": [
        "df['DAYS_EMPLOYED'].value_counts(ascending=False)"
      ],
      "metadata": {
        "colab": {
          "base_uri": "https://localhost:8080/"
        },
        "id": "tzq7Qs8-M8Dn",
        "outputId": "fb785d71-9458-440e-fbd4-66f9e890872c"
      },
      "execution_count": null,
      "outputs": [
        {
          "output_type": "execute_result",
          "data": {
            "text/plain": [
              " 0       6135\n",
              "-401       78\n",
              "-1539      64\n",
              "-200       63\n",
              "-2087      61\n",
              "         ... \n",
              "-4092       1\n",
              "-3351       1\n",
              "-3146       1\n",
              "-2932       1\n",
              "-616        1\n",
              "Name: DAYS_EMPLOYED, Length: 3640, dtype: int64"
            ]
          },
          "metadata": {},
          "execution_count": 36
        }
      ]
    },
    {
      "cell_type": "code",
      "source": [
        "sns.displot(data=df['DAYS_EMPLOYED'])"
      ],
      "metadata": {
        "colab": {
          "base_uri": "https://localhost:8080/",
          "height": 386
        },
        "id": "zyTsGxxgPJAH",
        "outputId": "54a15602-3ceb-45f7-a997-1a3e74b44bba"
      },
      "execution_count": null,
      "outputs": [
        {
          "output_type": "execute_result",
          "data": {
            "text/plain": [
              "<seaborn.axisgrid.FacetGrid at 0x7f098e4ead60>"
            ]
          },
          "metadata": {},
          "execution_count": 14
        },
        {
          "output_type": "display_data",
          "data": {
            "text/plain": [
              "<Figure size 360x360 with 1 Axes>"
            ],
            "image/png": "[encoded data removed]"
          },
          "metadata": {
            "needs_background": "light"
          }
        }
      ]
    },
    {
      "cell_type": "code",
      "source": [
        "df['credit'].value_counts()"
      ],
      "metadata": {
        "colab": {
          "base_uri": "https://localhost:8080/"
        },
        "id": "eeqTVWvrPQ9j",
        "outputId": "a948d5a4-d3af-4067-f232-cf632b4e0ec1"
      },
      "execution_count": null,
      "outputs": [
        {
          "output_type": "execute_result",
          "data": {
            "text/plain": [
              "2.0    16968\n",
              "1.0     6267\n",
              "0.0     3222\n",
              "Name: credit, dtype: int64"
            ]
          },
          "metadata": {},
          "execution_count": 27
        }
      ]
    },
    {
      "cell_type": "code",
      "source": [
        "df2=df"
      ],
      "metadata": {
        "id": "lomU0gdNPj1X"
      },
      "execution_count": null,
      "outputs": []
    },
    {
      "cell_type": "code",
      "source": [
        "plt.figure(figsize=(20,20))\n",
        "sns.displot(data=df2['DAYS_EMPLOYED'])"
      ],
      "metadata": {
        "colab": {
          "base_uri": "https://localhost:8080/",
          "height": 404
        },
        "id": "x6JHme2SPtpf",
        "outputId": "8393d468-15a2-48da-b2c9-81bab417544c"
      },
      "execution_count": null,
      "outputs": [
        {
          "output_type": "execute_result",
          "data": {
            "text/plain": [
              "<seaborn.axisgrid.FacetGrid at 0x7f09659d75b0>"
            ]
          },
          "metadata": {},
          "execution_count": 20
        },
        {
          "output_type": "display_data",
          "data": {
            "text/plain": [
              "<Figure size 1440x1440 with 0 Axes>"
            ]
          },
          "metadata": {}
        },
        {
          "output_type": "display_data",
          "data": {
            "text/plain": [
              "<Figure size 360x360 with 1 Axes>"
            ],
            "image/png": "[encoded data removed]"
          },
          "metadata": {
            "needs_background": "light"
          }
        }
      ]
    },
    {
      "cell_type": "code",
      "source": [
        "df2['DAYS_EMPLOYED'] = abs(df['DAYS_EMPLOYED'])"
      ],
      "metadata": {
        "id": "ejwaRq3pPl1f"
      },
      "execution_count": null,
      "outputs": []
    },
    {
      "cell_type": "code",
      "source": [
        "df.isna().sum()"
      ],
      "metadata": {
        "colab": {
          "base_uri": "https://localhost:8080/"
        },
        "id": "a-XGkDDBTMrN",
        "outputId": "53a9694b-6323-4476-e6b8-ef19dc128ee5"
      },
      "execution_count": null,
      "outputs": [
        {
          "output_type": "execute_result",
          "data": {
            "text/plain": [
              "gender               0\n",
              "car                  0\n",
              "reality              0\n",
              "child_num            0\n",
              "income_total         0\n",
              "income_type          0\n",
              "edu_type             0\n",
              "family_type          0\n",
              "house_type           0\n",
              "DAYS_BIRTH           0\n",
              "DAYS_EMPLOYED        0\n",
              "FLAG_MOBIL           0\n",
              "work_phone           0\n",
              "phone                0\n",
              "email                0\n",
              "occyp_type       11323\n",
              "family_size          0\n",
              "begin_month          0\n",
              "credit           10000\n",
              "dtype: int64"
            ]
          },
          "metadata": {},
          "execution_count": 38
        }
      ]
    },
    {
      "cell_type": "code",
      "source": [],
      "metadata": {
        "id": "JmsT-Oi760Ps"
      },
      "execution_count": null,
      "outputs": []
    },
    {
      "cell_type": "markdown",
      "source": [
        "# 전처리"
      ],
      "metadata": {
        "id": "1yMVXjQY61Gi"
      }
    },
    {
      "cell_type": "code",
      "source": [
        "df['occyp_type'].fillna('NaN', inplace=True)"
      ],
      "metadata": {
        "id": "riXoUiECUDdI"
      },
      "execution_count": 6,
      "outputs": []
    },
    {
      "cell_type": "code",
      "source": [
        "df.loc[(df['DAYS_EMPLOYED'] > 0), 'DAYS_EMPLOYED'] = 0"
      ],
      "metadata": {
        "id": "kDVklnDpVFZN"
      },
      "execution_count": 7,
      "outputs": []
    },
    {
      "cell_type": "code",
      "source": [
        "sns.displot(df=df['DAYS_EMPLOYED'])"
      ],
      "metadata": {
        "colab": {
          "base_uri": "https://localhost:8080/",
          "height": 386
        },
        "id": "It-9mzPhVUFu",
        "outputId": "be74a3c0-9207-4c84-ee0f-8e14b918e0df"
      },
      "execution_count": null,
      "outputs": [
        {
          "output_type": "execute_result",
          "data": {
            "text/plain": [
              "<seaborn.axisgrid.FacetGrid at 0x7f0904bbcf40>"
            ]
          },
          "metadata": {},
          "execution_count": 267
        },
        {
          "output_type": "display_data",
          "data": {
            "text/plain": [
              "<Figure size 360x360 with 1 Axes>"
            ],
            "image/png": "[encoded data removed]"
          },
          "metadata": {
            "needs_background": "light"
          }
        }
      ]
    },
    {
      "cell_type": "code",
      "source": [
        "df['DAYS_BIRTH'] = abs(df['DAYS_BIRTH'])"
      ],
      "metadata": {
        "id": "-jPWFr7W0mCb"
      },
      "execution_count": 8,
      "outputs": []
    },
    {
      "cell_type": "code",
      "source": [
        "df['DAYS_EMPLOYED'] = abs(df['DAYS_EMPLOYED'])"
      ],
      "metadata": {
        "id": "KR-FjAX60tva"
      },
      "execution_count": 9,
      "outputs": []
    },
    {
      "cell_type": "code",
      "source": [
        "df['begin_month'] = abs(df['begin_month'])"
      ],
      "metadata": {
        "id": "t4hhmxxB02s7"
      },
      "execution_count": 10,
      "outputs": []
    },
    {
      "cell_type": "code",
      "source": [
        "df['begin_month'].value_counts()"
      ],
      "metadata": {
        "colab": {
          "base_uri": "https://localhost:8080/"
        },
        "id": "B_nMwgoH07cr",
        "outputId": "a551dad3-82f0-49ee-dbe4-92a5ea8b1274"
      },
      "execution_count": 11,
      "outputs": [
        {
          "output_type": "execute_result",
          "data": {
            "text/plain": [
              "7.0     889\n",
              "11.0    828\n",
              "6.0     824\n",
              "8.0     820\n",
              "5.0     816\n",
              "       ... \n",
              "58.0    333\n",
              "60.0    321\n",
              "0.0     315\n",
              "59.0    307\n",
              "57.0    304\n",
              "Name: begin_month, Length: 61, dtype: int64"
            ]
          },
          "metadata": {},
          "execution_count": 11
        }
      ]
    },
    {
      "cell_type": "code",
      "source": [
        "df['gender'] = df['gender'].replace(['F','M'],[0,1])\n",
        "df['car'] = df['car'].replace(['N','Y'],[0,1])\n",
        "df['reality'] = df['reality'].replace(['N','Y'],[0,1])"
      ],
      "metadata": {
        "id": "dfDRTXtg1NUY"
      },
      "execution_count": 12,
      "outputs": []
    },
    {
      "cell_type": "code",
      "source": [
        "from sklearn import preprocessing\n",
        "label_encoder=preprocessing.LabelEncoder()\n",
        "df['income_type']=label_encoder.fit_transform(df['income_type'])\n",
        "df['edu_type']=label_encoder.fit_transform(df['edu_type'])\n",
        "df['family_type']=label_encoder.fit_transform(df['family_type'])\n",
        "df['house_type']=label_encoder.fit_transform(df['house_type'])\n",
        "df['occyp_type']=label_encoder.fit_transform(df['occyp_type'])"
      ],
      "metadata": {
        "id": "cUMi0cW61bXa"
      },
      "execution_count": 13,
      "outputs": []
    },
    {
      "cell_type": "code",
      "source": [
        "corr = df.corr()\n",
        "corr"
      ],
      "metadata": {
        "colab": {
          "base_uri": "https://localhost:8080/",
          "height": 678
        },
        "id": "IwzFBJyk2KQP",
        "outputId": "77025057-0278-4db2-fe1e-d94fa48b1292"
      },
      "execution_count": null,
      "outputs": [
        {
          "output_type": "execute_result",
          "data": {
            "text/plain": [
              "                 gender       car   reality  child_num  income_total  \\\n",
              "gender         1.000000  0.361379 -0.050758   0.077690      0.197805   \n",
              "car            0.361379  1.000000 -0.015185   0.105839      0.215506   \n",
              "reality       -0.050758 -0.015185  1.000000  -0.000575      0.032719   \n",
              "child_num      0.077690  0.105839 -0.000575   1.000000      0.033691   \n",
              "income_total   0.197805  0.215506  0.032719   0.033691      1.000000   \n",
              "income_type    0.105639  0.054817 -0.046543   0.109401     -0.072974   \n",
              "edu_type       0.005880 -0.101272  0.010997  -0.049823     -0.226931   \n",
              "family_type   -0.099289 -0.121716  0.022993  -0.160386     -0.001191   \n",
              "house_type     0.070301  0.016337 -0.179187   0.023302     -0.006480   \n",
              "DAYS_BIRTH    -0.202352 -0.157144  0.129838  -0.339357     -0.067908   \n",
              "DAYS_EMPLOYED -0.031731  0.006244 -0.033646   0.043358      0.087130   \n",
              "work_phone     0.064994  0.021644 -0.207732   0.048091     -0.037746   \n",
              "phone         -0.026833 -0.014019 -0.066601  -0.016291      0.017245   \n",
              "email         -0.003284  0.021750  0.052194   0.015960      0.086681   \n",
              "occyp_type    -0.130181 -0.119776  0.048800  -0.134796     -0.091777   \n",
              "family_size    0.110782  0.151814 -0.005723   0.889114      0.023750   \n",
              "begin_month   -0.005079  0.029627 -0.006476   0.003984      0.017494   \n",
              "credit         0.001562  0.007761 -0.009387   0.004081      0.008555   \n",
              "\n",
              "               income_type  edu_type  family_type  house_type  DAYS_BIRTH  \\\n",
              "gender            0.105639  0.005880    -0.099289    0.070301   -0.202352   \n",
              "car               0.054817 -0.101272    -0.121716    0.016337   -0.157144   \n",
              "reality          -0.046543  0.010997     0.022993   -0.179187    0.129838   \n",
              "child_num         0.109401 -0.049823    -0.160386    0.023302   -0.339357   \n",
              "income_total     -0.072974 -0.226931    -0.001191   -0.006480   -0.067908   \n",
              "income_type       1.000000  0.057225    -0.048532    0.035694   -0.213509   \n",
              "edu_type          0.057225  1.000000     0.007747   -0.036322    0.169024   \n",
              "family_type      -0.048532  0.007747     1.000000    0.010025    0.106486   \n",
              "house_type        0.035694 -0.036322     0.010025    1.000000   -0.211562   \n",
              "DAYS_BIRTH       -0.213509  0.169024     0.106486   -0.211562    1.000000   \n",
              "DAYS_EMPLOYED     0.192949 -0.016347    -0.049974   -0.021771   -0.023497   \n",
              "work_phone        0.165785 -0.021092    -0.063103    0.030080   -0.179054   \n",
              "phone             0.006529 -0.044875    -0.015065   -0.020254    0.028659   \n",
              "email            -0.019567 -0.098457    -0.010895    0.012879   -0.105625   \n",
              "occyp_type       -0.204559  0.081714     0.055781   -0.065115    0.329082   \n",
              "family_size       0.109313 -0.041344    -0.546511    0.003805   -0.304020   \n",
              "begin_month       0.000846 -0.014839    -0.030053   -0.030031    0.053913   \n",
              "credit           -0.008163  0.013780    -0.005230   -0.009023    0.025187   \n",
              "\n",
              "               DAYS_EMPLOYED  work_phone     phone     email  occyp_type  \\\n",
              "gender             -0.031731    0.064994 -0.026833 -0.003284   -0.130181   \n",
              "car                 0.006244    0.021644 -0.014019  0.021750   -0.119776   \n",
              "reality            -0.033646   -0.207732 -0.066601  0.052194    0.048800   \n",
              "child_num           0.043358    0.048091 -0.016291  0.015960   -0.134796   \n",
              "income_total        0.087130   -0.037746  0.017245  0.086681   -0.091777   \n",
              "income_type         0.192949    0.165785  0.006529 -0.019567   -0.204559   \n",
              "edu_type           -0.016347   -0.021092 -0.044875 -0.098457    0.081714   \n",
              "family_type        -0.049974   -0.063103 -0.015065 -0.010895    0.055781   \n",
              "house_type         -0.021771    0.030080 -0.020254  0.012879   -0.065115   \n",
              "DAYS_BIRTH         -0.023497   -0.179054  0.028659 -0.105625    0.329082   \n",
              "DAYS_EMPLOYED       1.000000    0.111327  0.043025 -0.002168   -0.235377   \n",
              "work_phone          0.111327    1.000000  0.311644 -0.034838   -0.149313   \n",
              "phone               0.043025    0.311644  1.000000  0.010455   -0.004102   \n",
              "email              -0.002168   -0.034838  0.010455  1.000000   -0.054536   \n",
              "occyp_type         -0.235377   -0.149313 -0.004102 -0.054536    1.000000   \n",
              "family_size         0.054587    0.064527 -0.004221  0.014619   -0.125233   \n",
              "begin_month         0.077180    0.009713  0.014893 -0.002978   -0.006931   \n",
              "credit              0.022824   -0.003134  0.003452  0.014812    0.009733   \n",
              "\n",
              "               family_size  begin_month    credit  \n",
              "gender            0.110782    -0.005079  0.001562  \n",
              "car               0.151814     0.029627  0.007761  \n",
              "reality          -0.005723    -0.006476 -0.009387  \n",
              "child_num         0.889114     0.003984  0.004081  \n",
              "income_total      0.023750     0.017494  0.008555  \n",
              "income_type       0.109313     0.000846 -0.008163  \n",
              "edu_type         -0.041344    -0.014839  0.013780  \n",
              "family_type      -0.546511    -0.030053 -0.005230  \n",
              "house_type        0.003805    -0.030031 -0.009023  \n",
              "DAYS_BIRTH       -0.304020     0.053913  0.025187  \n",
              "DAYS_EMPLOYED     0.054587     0.077180  0.022824  \n",
              "work_phone        0.064527     0.009713 -0.003134  \n",
              "phone            -0.004221     0.014893  0.003452  \n",
              "email             0.014619    -0.002978  0.014812  \n",
              "occyp_type       -0.125233    -0.006931  0.009733  \n",
              "family_size       1.000000     0.020926  0.008227  \n",
              "begin_month       0.020926     1.000000  0.147477  \n",
              "credit            0.008227     0.147477  1.000000  "
            ],
            "text/html": [
              "\n",
              "  <div id=\"df-e6ff3af1-bb94-458e-95d3-c2abd6c74387\">\n",
              "    <div class=\"colab-df-container\">\n",
              "      <div>\n",
              "<style scoped>\n",
              "    .dataframe tbody tr th:only-of-type {\n",
              "        vertical-align: middle;\n",
              "    }\n",
              "\n",
              "    .dataframe tbody tr th {\n",
              "        vertical-align: top;\n",
              "    }\n",
              "\n",
              "    .dataframe thead th {\n",
              "        text-align: right;\n",
              "    }\n",
              "</style>\n",
              "<table border=\"1\" class=\"dataframe\">\n",
              "  <thead>\n",
              "    <tr style=\"text-align: right;\">\n",
              "      <th></th>\n",
              "      <th>gender</th>\n",
              "      <th>car</th>\n",
              "      <th>reality</th>\n",
              "      <th>child_num</th>\n",
              "      <th>income_total</th>\n",
              "      <th>income_type</th>\n",
              "      <th>edu_type</th>\n",
              "      <th>family_type</th>\n",
              "      <th>house_type</th>\n",
              "      <th>DAYS_BIRTH</th>\n",
              "      <th>DAYS_EMPLOYED</th>\n",
              "      <th>work_phone</th>\n",
              "      <th>phone</th>\n",
              "      <th>email</th>\n",
              "      <th>occyp_type</th>\n",
              "      <th>family_size</th>\n",
              "      <th>begin_month</th>\n",
              "      <th>credit</th>\n",
              "    </tr>\n",
              "  </thead>\n",
              "  <tbody>\n",
              "    <tr>\n",
              "      <th>gender</th>\n",
              "      <td>1.000000</td>\n",
              "      <td>0.361379</td>\n",
              "      <td>-0.050758</td>\n",
              "      <td>0.077690</td>\n",
              "      <td>0.197805</td>\n",
              "      <td>0.105639</td>\n",
              "      <td>0.005880</td>\n",
              "      <td>-0.099289</td>\n",
              "      <td>0.070301</td>\n",
              "      <td>-0.202352</td>\n",
              "      <td>-0.031731</td>\n",
              "      <td>0.064994</td>\n",
              "      <td>-0.026833</td>\n",
              "      <td>-0.003284</td>\n",
              "      <td>-0.130181</td>\n",
              "      <td>0.110782</td>\n",
              "      <td>-0.005079</td>\n",
              "      <td>0.001562</td>\n",
              "    </tr>\n",
              "    <tr>\n",
              "      <th>car</th>\n",
              "      <td>0.361379</td>\n",
              "      <td>1.000000</td>\n",
              "      <td>-0.015185</td>\n",
              "      <td>0.105839</td>\n",
              "      <td>0.215506</td>\n",
              "      <td>0.054817</td>\n",
              "      <td>-0.101272</td>\n",
              "      <td>-0.121716</td>\n",
              "      <td>0.016337</td>\n",
              "      <td>-0.157144</td>\n",
              "      <td>0.006244</td>\n",
              "      <td>0.021644</td>\n",
              "      <td>-0.014019</td>\n",
              "      <td>0.021750</td>\n",
              "      <td>-0.119776</td>\n",
              "      <td>0.151814</td>\n",
              "      <td>0.029627</td>\n",
              "      <td>0.007761</td>\n",
              "    </tr>\n",
              "    <tr>\n",
              "      <th>reality</th>\n",
              "      <td>-0.050758</td>\n",
              "      <td>-0.015185</td>\n",
              "      <td>1.000000</td>\n",
              "      <td>-0.000575</td>\n",
              "      <td>0.032719</td>\n",
              "      <td>-0.046543</td>\n",
              "      <td>0.010997</td>\n",
              "      <td>0.022993</td>\n",
              "      <td>-0.179187</td>\n",
              "      <td>0.129838</td>\n",
              "      <td>-0.033646</td>\n",
              "      <td>-0.207732</td>\n",
              "      <td>-0.066601</td>\n",
              "      <td>0.052194</td>\n",
              "      <td>0.048800</td>\n",
              "      <td>-0.005723</td>\n",
              "      <td>-0.006476</td>\n",
              "      <td>-0.009387</td>\n",
              "    </tr>\n",
              "    <tr>\n",
              "      <th>child_num</th>\n",
              "      <td>0.077690</td>\n",
              "      <td>0.105839</td>\n",
              "      <td>-0.000575</td>\n",
              "      <td>1.000000</td>\n",
              "      <td>0.033691</td>\n",
              "      <td>0.109401</td>\n",
              "      <td>-0.049823</td>\n",
              "      <td>-0.160386</td>\n",
              "      <td>0.023302</td>\n",
              "      <td>-0.339357</td>\n",
              "      <td>0.043358</td>\n",
              "      <td>0.048091</td>\n",
              "      <td>-0.016291</td>\n",
              "      <td>0.015960</td>\n",
              "      <td>-0.134796</td>\n",
              "      <td>0.889114</td>\n",
              "      <td>0.003984</td>\n",
              "      <td>0.004081</td>\n",
              "    </tr>\n",
              "    <tr>\n",
              "      <th>income_total</th>\n",
              "      <td>0.197805</td>\n",
              "      <td>0.215506</td>\n",
              "      <td>0.032719</td>\n",
              "      <td>0.033691</td>\n",
              "      <td>1.000000</td>\n",
              "      <td>-0.072974</td>\n",
              "      <td>-0.226931</td>\n",
              "      <td>-0.001191</td>\n",
              "      <td>-0.006480</td>\n",
              "      <td>-0.067908</td>\n",
              "      <td>0.087130</td>\n",
              "      <td>-0.037746</td>\n",
              "      <td>0.017245</td>\n",
              "      <td>0.086681</td>\n",
              "      <td>-0.091777</td>\n",
              "      <td>0.023750</td>\n",
              "      <td>0.017494</td>\n",
              "      <td>0.008555</td>\n",
              "    </tr>\n",
              "    <tr>\n",
              "      <th>income_type</th>\n",
              "      <td>0.105639</td>\n",
              "      <td>0.054817</td>\n",
              "      <td>-0.046543</td>\n",
              "      <td>0.109401</td>\n",
              "      <td>-0.072974</td>\n",
              "      <td>1.000000</td>\n",
              "      <td>0.057225</td>\n",
              "      <td>-0.048532</td>\n",
              "      <td>0.035694</td>\n",
              "      <td>-0.213509</td>\n",
              "      <td>0.192949</td>\n",
              "      <td>0.165785</td>\n",
              "      <td>0.006529</td>\n",
              "      <td>-0.019567</td>\n",
              "      <td>-0.204559</td>\n",
              "      <td>0.109313</td>\n",
              "      <td>0.000846</td>\n",
              "      <td>-0.008163</td>\n",
              "    </tr>\n",
              "    <tr>\n",
              "      <th>edu_type</th>\n",
              "      <td>0.005880</td>\n",
              "      <td>-0.101272</td>\n",
              "      <td>0.010997</td>\n",
              "      <td>-0.049823</td>\n",
              "      <td>-0.226931</td>\n",
              "      <td>0.057225</td>\n",
              "      <td>1.000000</td>\n",
              "      <td>0.007747</td>\n",
              "      <td>-0.036322</td>\n",
              "      <td>0.169024</td>\n",
              "      <td>-0.016347</td>\n",
              "      <td>-0.021092</td>\n",
              "      <td>-0.044875</td>\n",
              "      <td>-0.098457</td>\n",
              "      <td>0.081714</td>\n",
              "      <td>-0.041344</td>\n",
              "      <td>-0.014839</td>\n",
              "      <td>0.013780</td>\n",
              "    </tr>\n",
              "    <tr>\n",
              "      <th>family_type</th>\n",
              "      <td>-0.099289</td>\n",
              "      <td>-0.121716</td>\n",
              "      <td>0.022993</td>\n",
              "      <td>-0.160386</td>\n",
              "      <td>-0.001191</td>\n",
              "      <td>-0.048532</td>\n",
              "      <td>0.007747</td>\n",
              "      <td>1.000000</td>\n",
              "      <td>0.010025</td>\n",
              "      <td>0.106486</td>\n",
              "      <td>-0.049974</td>\n",
              "      <td>-0.063103</td>\n",
              "      <td>-0.015065</td>\n",
              "      <td>-0.010895</td>\n",
              "      <td>0.055781</td>\n",
              "      <td>-0.546511</td>\n",
              "      <td>-0.030053</td>\n",
              "      <td>-0.005230</td>\n",
              "    </tr>\n",
              "    <tr>\n",
              "      <th>house_type</th>\n",
              "      <td>0.070301</td>\n",
              "      <td>0.016337</td>\n",
              "      <td>-0.179187</td>\n",
              "      <td>0.023302</td>\n",
              "      <td>-0.006480</td>\n",
              "      <td>0.035694</td>\n",
              "      <td>-0.036322</td>\n",
              "      <td>0.010025</td>\n",
              "      <td>1.000000</td>\n",
              "      <td>-0.211562</td>\n",
              "      <td>-0.021771</td>\n",
              "      <td>0.030080</td>\n",
              "      <td>-0.020254</td>\n",
              "      <td>0.012879</td>\n",
              "      <td>-0.065115</td>\n",
              "      <td>0.003805</td>\n",
              "      <td>-0.030031</td>\n",
              "      <td>-0.009023</td>\n",
              "    </tr>\n",
              "    <tr>\n",
              "      <th>DAYS_BIRTH</th>\n",
              "      <td>-0.202352</td>\n",
              "      <td>-0.157144</td>\n",
              "      <td>0.129838</td>\n",
              "      <td>-0.339357</td>\n",
              "      <td>-0.067908</td>\n",
              "      <td>-0.213509</td>\n",
              "      <td>0.169024</td>\n",
              "      <td>0.106486</td>\n",
              "      <td>-0.211562</td>\n",
              "      <td>1.000000</td>\n",
              "      <td>-0.023497</td>\n",
              "      <td>-0.179054</td>\n",
              "      <td>0.028659</td>\n",
              "      <td>-0.105625</td>\n",
              "      <td>0.329082</td>\n",
              "      <td>-0.304020</td>\n",
              "      <td>0.053913</td>\n",
              "      <td>0.025187</td>\n",
              "    </tr>\n",
              "    <tr>\n",
              "      <th>DAYS_EMPLOYED</th>\n",
              "      <td>-0.031731</td>\n",
              "      <td>0.006244</td>\n",
              "      <td>-0.033646</td>\n",
              "      <td>0.043358</td>\n",
              "      <td>0.087130</td>\n",
              "      <td>0.192949</td>\n",
              "      <td>-0.016347</td>\n",
              "      <td>-0.049974</td>\n",
              "      <td>-0.021771</td>\n",
              "      <td>-0.023497</td>\n",
              "      <td>1.000000</td>\n",
              "      <td>0.111327</td>\n",
              "      <td>0.043025</td>\n",
              "      <td>-0.002168</td>\n",
              "      <td>-0.235377</td>\n",
              "      <td>0.054587</td>\n",
              "      <td>0.077180</td>\n",
              "      <td>0.022824</td>\n",
              "    </tr>\n",
              "    <tr>\n",
              "      <th>work_phone</th>\n",
              "      <td>0.064994</td>\n",
              "      <td>0.021644</td>\n",
              "      <td>-0.207732</td>\n",
              "      <td>0.048091</td>\n",
              "      <td>-0.037746</td>\n",
              "      <td>0.165785</td>\n",
              "      <td>-0.021092</td>\n",
              "      <td>-0.063103</td>\n",
              "      <td>0.030080</td>\n",
              "      <td>-0.179054</td>\n",
              "      <td>0.111327</td>\n",
              "      <td>1.000000</td>\n",
              "      <td>0.311644</td>\n",
              "      <td>-0.034838</td>\n",
              "      <td>-0.149313</td>\n",
              "      <td>0.064527</td>\n",
              "      <td>0.009713</td>\n",
              "      <td>-0.003134</td>\n",
              "    </tr>\n",
              "    <tr>\n",
              "      <th>phone</th>\n",
              "      <td>-0.026833</td>\n",
              "      <td>-0.014019</td>\n",
              "      <td>-0.066601</td>\n",
              "      <td>-0.016291</td>\n",
              "      <td>0.017245</td>\n",
              "      <td>0.006529</td>\n",
              "      <td>-0.044875</td>\n",
              "      <td>-0.015065</td>\n",
              "      <td>-0.020254</td>\n",
              "      <td>0.028659</td>\n",
              "      <td>0.043025</td>\n",
              "      <td>0.311644</td>\n",
              "      <td>1.000000</td>\n",
              "      <td>0.010455</td>\n",
              "      <td>-0.004102</td>\n",
              "      <td>-0.004221</td>\n",
              "      <td>0.014893</td>\n",
              "      <td>0.003452</td>\n",
              "    </tr>\n",
              "    <tr>\n",
              "      <th>email</th>\n",
              "      <td>-0.003284</td>\n",
              "      <td>0.021750</td>\n",
              "      <td>0.052194</td>\n",
              "      <td>0.015960</td>\n",
              "      <td>0.086681</td>\n",
              "      <td>-0.019567</td>\n",
              "      <td>-0.098457</td>\n",
              "      <td>-0.010895</td>\n",
              "      <td>0.012879</td>\n",
              "      <td>-0.105625</td>\n",
              "      <td>-0.002168</td>\n",
              "      <td>-0.034838</td>\n",
              "      <td>0.010455</td>\n",
              "      <td>1.000000</td>\n",
              "      <td>-0.054536</td>\n",
              "      <td>0.014619</td>\n",
              "      <td>-0.002978</td>\n",
              "      <td>0.014812</td>\n",
              "    </tr>\n",
              "    <tr>\n",
              "      <th>occyp_type</th>\n",
              "      <td>-0.130181</td>\n",
              "      <td>-0.119776</td>\n",
              "      <td>0.048800</td>\n",
              "      <td>-0.134796</td>\n",
              "      <td>-0.091777</td>\n",
              "      <td>-0.204559</td>\n",
              "      <td>0.081714</td>\n",
              "      <td>0.055781</td>\n",
              "      <td>-0.065115</td>\n",
              "      <td>0.329082</td>\n",
              "      <td>-0.235377</td>\n",
              "      <td>-0.149313</td>\n",
              "      <td>-0.004102</td>\n",
              "      <td>-0.054536</td>\n",
              "      <td>1.000000</td>\n",
              "      <td>-0.125233</td>\n",
              "      <td>-0.006931</td>\n",
              "      <td>0.009733</td>\n",
              "    </tr>\n",
              "    <tr>\n",
              "      <th>family_size</th>\n",
              "      <td>0.110782</td>\n",
              "      <td>0.151814</td>\n",
              "      <td>-0.005723</td>\n",
              "      <td>0.889114</td>\n",
              "      <td>0.023750</td>\n",
              "      <td>0.109313</td>\n",
              "      <td>-0.041344</td>\n",
              "      <td>-0.546511</td>\n",
              "      <td>0.003805</td>\n",
              "      <td>-0.304020</td>\n",
              "      <td>0.054587</td>\n",
              "      <td>0.064527</td>\n",
              "      <td>-0.004221</td>\n",
              "      <td>0.014619</td>\n",
              "      <td>-0.125233</td>\n",
              "      <td>1.000000</td>\n",
              "      <td>0.020926</td>\n",
              "      <td>0.008227</td>\n",
              "    </tr>\n",
              "    <tr>\n",
              "      <th>begin_month</th>\n",
              "      <td>-0.005079</td>\n",
              "      <td>0.029627</td>\n",
              "      <td>-0.006476</td>\n",
              "      <td>0.003984</td>\n",
              "      <td>0.017494</td>\n",
              "      <td>0.000846</td>\n",
              "      <td>-0.014839</td>\n",
              "      <td>-0.030053</td>\n",
              "      <td>-0.030031</td>\n",
              "      <td>0.053913</td>\n",
              "      <td>0.077180</td>\n",
              "      <td>0.009713</td>\n",
              "      <td>0.014893</td>\n",
              "      <td>-0.002978</td>\n",
              "      <td>-0.006931</td>\n",
              "      <td>0.020926</td>\n",
              "      <td>1.000000</td>\n",
              "      <td>0.147477</td>\n",
              "    </tr>\n",
              "    <tr>\n",
              "      <th>credit</th>\n",
              "      <td>0.001562</td>\n",
              "      <td>0.007761</td>\n",
              "      <td>-0.009387</td>\n",
              "      <td>0.004081</td>\n",
              "      <td>0.008555</td>\n",
              "      <td>-0.008163</td>\n",
              "      <td>0.013780</td>\n",
              "      <td>-0.005230</td>\n",
              "      <td>-0.009023</td>\n",
              "      <td>0.025187</td>\n",
              "      <td>0.022824</td>\n",
              "      <td>-0.003134</td>\n",
              "      <td>0.003452</td>\n",
              "      <td>0.014812</td>\n",
              "      <td>0.009733</td>\n",
              "      <td>0.008227</td>\n",
              "      <td>0.147477</td>\n",
              "      <td>1.000000</td>\n",
              "    </tr>\n",
              "  </tbody>\n",
              "</table>\n",
              "</div>\n",
              "      <button class=\"colab-df-convert\" onclick=\"convertToInteractive('df-e6ff3af1-bb94-458e-95d3-c2abd6c74387')\"\n",
              "              title=\"Convert this dataframe to an interactive table.\"\n",
              "              style=\"display:none;\">\n",
              "        \n",
              "  <svg xmlns=\"http://www.w3.org/2000/svg\" height=\"24px\"viewBox=\"0 0 24 24\"\n",
              "       width=\"24px\">\n",
              "    <path d=\"M0 0h24v24H0V0z\" fill=\"none\"/>\n",
              "    <path d=\"M18.56 5.44l.94 2.06.94-2.06 2.06-.94-2.06-.94-.94-2.06-.94 2.06-2.06.94zm-11 1L8.5 8.5l.94-2.06 2.06-.94-2.06-.94L8.5 2.5l-.94 2.06-2.06.94zm10 10l.94 2.06.94-2.06 2.06-.94-2.06-.94-.94-2.06-.94 2.06-2.06.94z\"/><path d=\"M17.41 7.96l-1.37-1.37c-.4-.4-.92-.59-1.43-.59-.52 0-1.04.2-1.43.59L10.3 9.45l-7.72 7.72c-.78.78-.78 2.05 0 2.83L4 21.41c.39.39.9.59 1.41.59.51 0 1.02-.2 1.41-.59l7.78-7.78 2.81-2.81c.8-.78.8-2.07 0-2.86zM5.41 20L4 18.59l7.72-7.72 1.47 1.35L5.41 20z\"/>\n",
              "  </svg>\n",
              "      </button>\n",
              "      \n",
              "  <style>\n",
              "    .colab-df-container {\n",
              "      display:flex;\n",
              "      flex-wrap:wrap;\n",
              "      gap: 12px;\n",
              "    }\n",
              "\n",
              "    .colab-df-convert {\n",
              "      background-color: #E8F0FE;\n",
              "      border: none;\n",
              "      border-radius: 50%;\n",
              "      cursor: pointer;\n",
              "      display: none;\n",
              "      fill: #1967D2;\n",
              "      height: 32px;\n",
              "      padding: 0 0 0 0;\n",
              "      width: 32px;\n",
              "    }\n",
              "\n",
              "    .colab-df-convert:hover {\n",
              "      background-color: #E2EBFA;\n",
              "      box-shadow: 0px 1px 2px rgba(60, 64, 67, 0.3), 0px 1px 3px 1px rgba(60, 64, 67, 0.15);\n",
              "      fill: #174EA6;\n",
              "    }\n",
              "\n",
              "    [theme=dark] .colab-df-convert {\n",
              "      background-color: #3B4455;\n",
              "      fill: #D2E3FC;\n",
              "    }\n",
              "\n",
              "    [theme=dark] .colab-df-convert:hover {\n",
              "      background-color: #434B5C;\n",
              "      box-shadow: 0px 1px 3px 1px rgba(0, 0, 0, 0.15);\n",
              "      filter: drop-shadow(0px 1px 2px rgba(0, 0, 0, 0.3));\n",
              "      fill: #FFFFFF;\n",
              "    }\n",
              "  </style>\n",
              "\n",
              "      <script>\n",
              "        const buttonEl =\n",
              "          document.querySelector('#df-e6ff3af1-bb94-458e-95d3-c2abd6c74387 button.colab-df-convert');\n",
              "        buttonEl.style.display =\n",
              "          google.colab.kernel.accessAllowed ? 'block' : 'none';\n",
              "\n",
              "        async function convertToInteractive(key) {\n",
              "          const element = document.querySelector('#df-e6ff3af1-bb94-458e-95d3-c2abd6c74387');\n",
              "          const dataTable =\n",
              "            await google.colab.kernel.invokeFunction('convertToInteractive',\n",
              "                                                     [key], {});\n",
              "          if (!dataTable) return;\n",
              "\n",
              "          const docLinkHtml = 'Like what you see? Visit the ' +\n",
              "            '<a target=\"_blank\" href=https://colab.research.google.com/notebooks/data_table.ipynb>data table notebook</a>'\n",
              "            + ' to learn more about interactive tables.';\n",
              "          element.innerHTML = '';\n",
              "          dataTable['output_type'] = 'display_data';\n",
              "          await google.colab.output.renderOutput(dataTable, element);\n",
              "          const docLink = document.createElement('div');\n",
              "          docLink.innerHTML = docLinkHtml;\n",
              "          element.appendChild(docLink);\n",
              "        }\n",
              "      </script>\n",
              "    </div>\n",
              "  </div>\n",
              "  "
            ]
          },
          "metadata": {},
          "execution_count": 67
        }
      ]
    },
    {
      "cell_type": "code",
      "source": [
        "df = df.drop(columns='FLAG_MOBIL')"
      ],
      "metadata": {
        "id": "WQ0YBjVm3Ajm"
      },
      "execution_count": 14,
      "outputs": []
    },
    {
      "cell_type": "code",
      "source": [
        "df.head()"
      ],
      "metadata": {
        "colab": {
          "base_uri": "https://localhost:8080/",
          "height": 206
        },
        "id": "4hDg957y3XEy",
        "outputId": "3e65b78d-7880-443b-ebf9-0f00e46ff075"
      },
      "execution_count": null,
      "outputs": [
        {
          "output_type": "execute_result",
          "data": {
            "text/plain": [
              "   index  gender  car  reality  child_num  income_total  income_type  \\\n",
              "0      0       0    0        0          0      202500.0            0   \n",
              "1      1       0    0        1          1      247500.0            0   \n",
              "2      2       1    1        1          0      450000.0            4   \n",
              "3      3       0    0        1          0      202500.0            0   \n",
              "4      4       0    1        1          0      157500.0            2   \n",
              "\n",
              "   edu_type  family_type  house_type  DAYS_BIRTH  DAYS_EMPLOYED  work_phone  \\\n",
              "0         1            1           2       13899           4709           0   \n",
              "1         4            0           1       11380           1540           0   \n",
              "2         1            1           1       19087           4434           0   \n",
              "3         4            1           1       15088           2092           0   \n",
              "4         1            1           1       15037           2105           0   \n",
              "\n",
              "   phone  email  occyp_type  family_size  begin_month  credit  \n",
              "0      0      0          12          2.0          6.0     1.0  \n",
              "1      0      1           8          3.0          5.0     1.0  \n",
              "2      1      0          10          2.0         22.0     2.0  \n",
              "3      1      0          15          2.0         37.0     0.0  \n",
              "4      0      0          10          2.0         26.0     2.0  "
            ],
            "text/html": [
              "\n",
              "  <div id=\"df-95004738-f38e-4255-bcac-20a71825a91a\">\n",
              "    <div class=\"colab-df-container\">\n",
              "      <div>\n",
              "<style scoped>\n",
              "    .dataframe tbody tr th:only-of-type {\n",
              "        vertical-align: middle;\n",
              "    }\n",
              "\n",
              "    .dataframe tbody tr th {\n",
              "        vertical-align: top;\n",
              "    }\n",
              "\n",
              "    .dataframe thead th {\n",
              "        text-align: right;\n",
              "    }\n",
              "</style>\n",
              "<table border=\"1\" class=\"dataframe\">\n",
              "  <thead>\n",
              "    <tr style=\"text-align: right;\">\n",
              "      <th></th>\n",
              "      <th>index</th>\n",
              "      <th>gender</th>\n",
              "      <th>car</th>\n",
              "      <th>reality</th>\n",
              "      <th>child_num</th>\n",
              "      <th>income_total</th>\n",
              "      <th>income_type</th>\n",
              "      <th>edu_type</th>\n",
              "      <th>family_type</th>\n",
              "      <th>house_type</th>\n",
              "      <th>DAYS_BIRTH</th>\n",
              "      <th>DAYS_EMPLOYED</th>\n",
              "      <th>work_phone</th>\n",
              "      <th>phone</th>\n",
              "      <th>email</th>\n",
              "      <th>occyp_type</th>\n",
              "      <th>family_size</th>\n",
              "      <th>begin_month</th>\n",
              "      <th>credit</th>\n",
              "    </tr>\n",
              "  </thead>\n",
              "  <tbody>\n",
              "    <tr>\n",
              "      <th>0</th>\n",
              "      <td>0</td>\n",
              "      <td>0</td>\n",
              "      <td>0</td>\n",
              "      <td>0</td>\n",
              "      <td>0</td>\n",
              "      <td>202500.0</td>\n",
              "      <td>0</td>\n",
              "      <td>1</td>\n",
              "      <td>1</td>\n",
              "      <td>2</td>\n",
              "      <td>13899</td>\n",
              "      <td>4709</td>\n",
              "      <td>0</td>\n",
              "      <td>0</td>\n",
              "      <td>0</td>\n",
              "      <td>12</td>\n",
              "      <td>2.0</td>\n",
              "      <td>6.0</td>\n",
              "      <td>1.0</td>\n",
              "    </tr>\n",
              "    <tr>\n",
              "      <th>1</th>\n",
              "      <td>1</td>\n",
              "      <td>0</td>\n",
              "      <td>0</td>\n",
              "      <td>1</td>\n",
              "      <td>1</td>\n",
              "      <td>247500.0</td>\n",
              "      <td>0</td>\n",
              "      <td>4</td>\n",
              "      <td>0</td>\n",
              "      <td>1</td>\n",
              "      <td>11380</td>\n",
              "      <td>1540</td>\n",
              "      <td>0</td>\n",
              "      <td>0</td>\n",
              "      <td>1</td>\n",
              "      <td>8</td>\n",
              "      <td>3.0</td>\n",
              "      <td>5.0</td>\n",
              "      <td>1.0</td>\n",
              "    </tr>\n",
              "    <tr>\n",
              "      <th>2</th>\n",
              "      <td>2</td>\n",
              "      <td>1</td>\n",
              "      <td>1</td>\n",
              "      <td>1</td>\n",
              "      <td>0</td>\n",
              "      <td>450000.0</td>\n",
              "      <td>4</td>\n",
              "      <td>1</td>\n",
              "      <td>1</td>\n",
              "      <td>1</td>\n",
              "      <td>19087</td>\n",
              "      <td>4434</td>\n",
              "      <td>0</td>\n",
              "      <td>1</td>\n",
              "      <td>0</td>\n",
              "      <td>10</td>\n",
              "      <td>2.0</td>\n",
              "      <td>22.0</td>\n",
              "      <td>2.0</td>\n",
              "    </tr>\n",
              "    <tr>\n",
              "      <th>3</th>\n",
              "      <td>3</td>\n",
              "      <td>0</td>\n",
              "      <td>0</td>\n",
              "      <td>1</td>\n",
              "      <td>0</td>\n",
              "      <td>202500.0</td>\n",
              "      <td>0</td>\n",
              "      <td>4</td>\n",
              "      <td>1</td>\n",
              "      <td>1</td>\n",
              "      <td>15088</td>\n",
              "      <td>2092</td>\n",
              "      <td>0</td>\n",
              "      <td>1</td>\n",
              "      <td>0</td>\n",
              "      <td>15</td>\n",
              "      <td>2.0</td>\n",
              "      <td>37.0</td>\n",
              "      <td>0.0</td>\n",
              "    </tr>\n",
              "    <tr>\n",
              "      <th>4</th>\n",
              "      <td>4</td>\n",
              "      <td>0</td>\n",
              "      <td>1</td>\n",
              "      <td>1</td>\n",
              "      <td>0</td>\n",
              "      <td>157500.0</td>\n",
              "      <td>2</td>\n",
              "      <td>1</td>\n",
              "      <td>1</td>\n",
              "      <td>1</td>\n",
              "      <td>15037</td>\n",
              "      <td>2105</td>\n",
              "      <td>0</td>\n",
              "      <td>0</td>\n",
              "      <td>0</td>\n",
              "      <td>10</td>\n",
              "      <td>2.0</td>\n",
              "      <td>26.0</td>\n",
              "      <td>2.0</td>\n",
              "    </tr>\n",
              "  </tbody>\n",
              "</table>\n",
              "</div>\n",
              "      <button class=\"colab-df-convert\" onclick=\"convertToInteractive('df-95004738-f38e-4255-bcac-20a71825a91a')\"\n",
              "              title=\"Convert this dataframe to an interactive table.\"\n",
              "              style=\"display:none;\">\n",
              "        \n",
              "  <svg xmlns=\"http://www.w3.org/2000/svg\" height=\"24px\"viewBox=\"0 0 24 24\"\n",
              "       width=\"24px\">\n",
              "    <path d=\"M0 0h24v24H0V0z\" fill=\"none\"/>\n",
              "    <path d=\"M18.56 5.44l.94 2.06.94-2.06 2.06-.94-2.06-.94-.94-2.06-.94 2.06-2.06.94zm-11 1L8.5 8.5l.94-2.06 2.06-.94-2.06-.94L8.5 2.5l-.94 2.06-2.06.94zm10 10l.94 2.06.94-2.06 2.06-.94-2.06-.94-.94-2.06-.94 2.06-2.06.94z\"/><path d=\"M17.41 7.96l-1.37-1.37c-.4-.4-.92-.59-1.43-.59-.52 0-1.04.2-1.43.59L10.3 9.45l-7.72 7.72c-.78.78-.78 2.05 0 2.83L4 21.41c.39.39.9.59 1.41.59.51 0 1.02-.2 1.41-.59l7.78-7.78 2.81-2.81c.8-.78.8-2.07 0-2.86zM5.41 20L4 18.59l7.72-7.72 1.47 1.35L5.41 20z\"/>\n",
              "  </svg>\n",
              "      </button>\n",
              "      \n",
              "  <style>\n",
              "    .colab-df-container {\n",
              "      display:flex;\n",
              "      flex-wrap:wrap;\n",
              "      gap: 12px;\n",
              "    }\n",
              "\n",
              "    .colab-df-convert {\n",
              "      background-color: #E8F0FE;\n",
              "      border: none;\n",
              "      border-radius: 50%;\n",
              "      cursor: pointer;\n",
              "      display: none;\n",
              "      fill: #1967D2;\n",
              "      height: 32px;\n",
              "      padding: 0 0 0 0;\n",
              "      width: 32px;\n",
              "    }\n",
              "\n",
              "    .colab-df-convert:hover {\n",
              "      background-color: #E2EBFA;\n",
              "      box-shadow: 0px 1px 2px rgba(60, 64, 67, 0.3), 0px 1px 3px 1px rgba(60, 64, 67, 0.15);\n",
              "      fill: #174EA6;\n",
              "    }\n",
              "\n",
              "    [theme=dark] .colab-df-convert {\n",
              "      background-color: #3B4455;\n",
              "      fill: #D2E3FC;\n",
              "    }\n",
              "\n",
              "    [theme=dark] .colab-df-convert:hover {\n",
              "      background-color: #434B5C;\n",
              "      box-shadow: 0px 1px 3px 1px rgba(0, 0, 0, 0.15);\n",
              "      filter: drop-shadow(0px 1px 2px rgba(0, 0, 0, 0.3));\n",
              "      fill: #FFFFFF;\n",
              "    }\n",
              "  </style>\n",
              "\n",
              "      <script>\n",
              "        const buttonEl =\n",
              "          document.querySelector('#df-95004738-f38e-4255-bcac-20a71825a91a button.colab-df-convert');\n",
              "        buttonEl.style.display =\n",
              "          google.colab.kernel.accessAllowed ? 'block' : 'none';\n",
              "\n",
              "        async function convertToInteractive(key) {\n",
              "          const element = document.querySelector('#df-95004738-f38e-4255-bcac-20a71825a91a');\n",
              "          const dataTable =\n",
              "            await google.colab.kernel.invokeFunction('convertToInteractive',\n",
              "                                                     [key], {});\n",
              "          if (!dataTable) return;\n",
              "\n",
              "          const docLinkHtml = 'Like what you see? Visit the ' +\n",
              "            '<a target=\"_blank\" href=https://colab.research.google.com/notebooks/data_table.ipynb>data table notebook</a>'\n",
              "            + ' to learn more about interactive tables.';\n",
              "          element.innerHTML = '';\n",
              "          dataTable['output_type'] = 'display_data';\n",
              "          await google.colab.output.renderOutput(dataTable, element);\n",
              "          const docLink = document.createElement('div');\n",
              "          docLink.innerHTML = docLinkHtml;\n",
              "          element.appendChild(docLink);\n",
              "        }\n",
              "      </script>\n",
              "    </div>\n",
              "  </div>\n",
              "  "
            ]
          },
          "metadata": {},
          "execution_count": 92
        }
      ]
    },
    {
      "cell_type": "code",
      "source": [
        "plt.figure(figsize=(25,25))\n",
        "sns.heatmap(data=corr, annot=True)"
      ],
      "metadata": {
        "colab": {
          "base_uri": "https://localhost:8080/",
          "height": 1000
        },
        "id": "Z-f_kg-h2ONN",
        "outputId": "295c06d2-6ec2-499e-9a98-46f38d34b36a"
      },
      "execution_count": null,
      "outputs": [
        {
          "output_type": "execute_result",
          "data": {
            "text/plain": [
              "<matplotlib.axes._subplots.AxesSubplot at 0x7f095f58a0a0>"
            ]
          },
          "metadata": {},
          "execution_count": 68
        },
        {
          "output_type": "display_data",
          "data": {
            "text/plain": [
              "<Figure size 1800x1800 with 2 Axes>"
            ],
            "image/png": "[encoded data removed]"
          },
          "metadata": {
            "needs_background": "light"
          }
        }
      ]
    },
    {
      "cell_type": "code",
      "source": [
        "train=df[:len(df)-10000]\n",
        "test=df[len(df)-10000:]"
      ],
      "metadata": {
        "id": "glAlYcq96Jtk"
      },
      "execution_count": 15,
      "outputs": []
    },
    {
      "cell_type": "code",
      "source": [
        "X_train=train.drop('credit', axis=1)\n",
        "y_train=train[['credit']]\n",
        "X_test=test.drop('credit', axis=1)\n",
        "\n",
        "X_train.shape, y_train.shape, X_test.shape"
      ],
      "metadata": {
        "colab": {
          "base_uri": "https://localhost:8080/"
        },
        "id": "xMV4-Zr86cMf",
        "outputId": "50aa8695-264d-4e44-b32f-e86797c5f7cc"
      },
      "execution_count": 16,
      "outputs": [
        {
          "output_type": "execute_result",
          "data": {
            "text/plain": [
              "((26457, 17), (26457, 1), (10000, 17))"
            ]
          },
          "metadata": {},
          "execution_count": 16
        }
      ]
    },
    {
      "cell_type": "markdown",
      "source": [
        "# 모델구성"
      ],
      "metadata": {
        "id": "O-_MzGzu4VJQ"
      }
    },
    {
      "cell_type": "code",
      "source": [
        "X_train.shape, y_train.shape"
      ],
      "metadata": {
        "colab": {
          "base_uri": "https://localhost:8080/"
        },
        "id": "7NAl5INCFUkJ",
        "outputId": "78dd117a-d2ad-4be6-fe22-93a9b597a122"
      },
      "execution_count": 17,
      "outputs": [
        {
          "output_type": "execute_result",
          "data": {
            "text/plain": [
              "((26457, 17), (26457, 1))"
            ]
          },
          "metadata": {},
          "execution_count": 17
        }
      ]
    },
    {
      "cell_type": "code",
      "source": [
        "X_train.columns"
      ],
      "metadata": {
        "colab": {
          "base_uri": "https://localhost:8080/"
        },
        "id": "G2odNGzUL0TO",
        "outputId": "d2c1acd9-52de-4797-b40d-401595027292"
      },
      "execution_count": 18,
      "outputs": [
        {
          "output_type": "execute_result",
          "data": {
            "text/plain": [
              "Index(['gender', 'car', 'reality', 'child_num', 'income_total', 'income_type',\n",
              "       'edu_type', 'family_type', 'house_type', 'DAYS_BIRTH', 'DAYS_EMPLOYED',\n",
              "       'work_phone', 'phone', 'email', 'occyp_type', 'family_size',\n",
              "       'begin_month'],\n",
              "      dtype='object')"
            ]
          },
          "metadata": {},
          "execution_count": 18
        }
      ]
    },
    {
      "cell_type": "code",
      "source": [
        "input_shape = X_train.shape[1]\n",
        "\n",
        "input_shape"
      ],
      "metadata": {
        "colab": {
          "base_uri": "https://localhost:8080/"
        },
        "id": "AZZWkUPtUrvk",
        "outputId": "2159f2b0-13c2-428e-c2d2-010db4f90c84"
      },
      "execution_count": 37,
      "outputs": [
        {
          "output_type": "execute_result",
          "data": {
            "text/plain": [
              "17"
            ]
          },
          "metadata": {},
          "execution_count": 37
        }
      ]
    },
    {
      "cell_type": "code",
      "source": [
        "from keras.layers import Dense\n",
        "from keras.models import Sequential\n",
        "import tensorflow as tf\n",
        "\n",
        "model = tf.keras.Sequential()\n",
        "model.add(tf.keras.layers.Dense(128, input_dim=17, activation='relu'))\n",
        "model.add(tf.keras.layers.Dense(64, activation='relu'))\n",
        "model.add(tf.keras.layers.Dense(3))"
      ],
      "metadata": {
        "id": "QqsM5fXu3cl-"
      },
      "execution_count": 41,
      "outputs": []
    },
    {
      "cell_type": "code",
      "source": [
        "model.compile(optimizer='adam',\n",
        "              loss=tf.keras.losses.SparseCategoricalCrossentropy(from_logits=True),\n",
        "              metrics=['accuracy'])"
      ],
      "metadata": {
        "id": "Gy1GFUob3dD7"
      },
      "execution_count": 42,
      "outputs": []
    },
    {
      "cell_type": "code",
      "source": [
        "model.summary()"
      ],
      "metadata": {
        "colab": {
          "base_uri": "https://localhost:8080/"
        },
        "id": "D0qwgO81-sVL",
        "outputId": "19c89fa9-e255-4256-c5b8-09808c02d2b7"
      },
      "execution_count": 31,
      "outputs": [
        {
          "output_type": "stream",
          "name": "stdout",
          "text": [
            "Model: \"sequential_2\"\n",
            "_________________________________________________________________\n",
            " Layer (type)                Output Shape              Param #   \n",
            "=================================================================\n",
            " dense_6 (Dense)             (None, 128)               2304      \n",
            "                                                                 \n",
            " dense_7 (Dense)             (None, 128)               16512     \n",
            "                                                                 \n",
            " dense_8 (Dense)             (None, 3)                 387       \n",
            "                                                                 \n",
            "=================================================================\n",
            "Total params: 19,203\n",
            "Trainable params: 19,203\n",
            "Non-trainable params: 0\n",
            "_________________________________________________________________\n"
          ]
        }
      ]
    },
    {
      "cell_type": "code",
      "source": [
        "model.fit(X_train, y_train, epochs=20)"
      ],
      "metadata": {
        "colab": {
          "base_uri": "https://localhost:8080/"
        },
        "id": "tOZyw3P-3dwK",
        "outputId": "c05c567f-8621-4256-e305-806f2c4ef85c"
      },
      "execution_count": 43,
      "outputs": [
        {
          "output_type": "stream",
          "name": "stdout",
          "text": [
            "Epoch 1/20\n",
            "827/827 [==============================] - 2s 2ms/step - loss: 677.2648 - accuracy: 0.4841\n",
            "Epoch 2/20\n",
            "827/827 [==============================] - 1s 2ms/step - loss: 419.5439 - accuracy: 0.4900\n",
            "Epoch 3/20\n",
            "827/827 [==============================] - 1s 2ms/step - loss: 345.5721 - accuracy: 0.4857\n",
            "Epoch 4/20\n",
            "827/827 [==============================] - 1s 2ms/step - loss: 253.3759 - accuracy: 0.4891\n",
            "Epoch 5/20\n",
            "827/827 [==============================] - 1s 2ms/step - loss: 230.4554 - accuracy: 0.4915\n",
            "Epoch 6/20\n",
            "827/827 [==============================] - 1s 2ms/step - loss: 204.0398 - accuracy: 0.4899\n",
            "Epoch 7/20\n",
            "827/827 [==============================] - 2s 2ms/step - loss: 173.2696 - accuracy: 0.4902\n",
            "Epoch 8/20\n",
            "827/827 [==============================] - 2s 2ms/step - loss: 116.5320 - accuracy: 0.4923\n",
            "Epoch 9/20\n",
            "827/827 [==============================] - 2s 2ms/step - loss: 95.2361 - accuracy: 0.4931\n",
            "Epoch 10/20\n",
            "827/827 [==============================] - 1s 2ms/step - loss: 73.7693 - accuracy: 0.4908\n",
            "Epoch 11/20\n",
            "827/827 [==============================] - 1s 2ms/step - loss: 54.8670 - accuracy: 0.5007\n",
            "Epoch 12/20\n",
            "827/827 [==============================] - 1s 2ms/step - loss: 36.1151 - accuracy: 0.4887\n",
            "Epoch 13/20\n",
            "827/827 [==============================] - 1s 2ms/step - loss: 34.8797 - accuracy: 0.4892\n",
            "Epoch 14/20\n",
            "827/827 [==============================] - 1s 2ms/step - loss: 26.9934 - accuracy: 0.4931\n",
            "Epoch 15/20\n",
            "827/827 [==============================] - 1s 2ms/step - loss: 21.6625 - accuracy: 0.4922\n",
            "Epoch 16/20\n",
            "827/827 [==============================] - 1s 2ms/step - loss: 12.0934 - accuracy: 0.4940\n",
            "Epoch 17/20\n",
            "827/827 [==============================] - 1s 2ms/step - loss: 0.9494 - accuracy: 0.6365\n",
            "Epoch 18/20\n",
            "827/827 [==============================] - 1s 2ms/step - loss: 0.9131 - accuracy: 0.6409\n",
            "Epoch 19/20\n",
            "827/827 [==============================] - 1s 2ms/step - loss: 0.9103 - accuracy: 0.6405\n",
            "Epoch 20/20\n",
            "827/827 [==============================] - 1s 2ms/step - loss: 0.9176 - accuracy: 0.6409\n"
          ]
        },
        {
          "output_type": "execute_result",
          "data": {
            "text/plain": [
              "<keras.callbacks.History at 0x7f43cf638550>"
            ]
          },
          "metadata": {},
          "execution_count": 43
        }
      ]
    },
    {
      "cell_type": "code",
      "source": [
        "probability_model = tf.keras.Sequential([model, \n",
        "                                         tf.keras.layers.Softmax()])\n",
        "predictions = probability_model.predict(X_test)\n",
        "predictions"
      ],
      "metadata": {
        "colab": {
          "base_uri": "https://localhost:8080/"
        },
        "id": "fqWjABi-cUuj",
        "outputId": "584adc9d-3430-43dc-a642-5df458c61a07"
      },
      "execution_count": 47,
      "outputs": [
        {
          "output_type": "stream",
          "name": "stdout",
          "text": [
            "313/313 [==============================] - 1s 1ms/step\n"
          ]
        },
        {
          "output_type": "execute_result",
          "data": {
            "text/plain": [
              "array([[0.06469409, 0.18500802, 0.7502979 ],\n",
              "       [0.06398376, 0.18407546, 0.75194085],\n",
              "       [0.08265481, 0.20645738, 0.71088785],\n",
              "       ...,\n",
              "       [0.14255604, 0.25763935, 0.5998046 ],\n",
              "       [0.17583999, 0.27718765, 0.54697233],\n",
              "       [0.19626212, 0.28691363, 0.5168242 ]], dtype=float32)"
            ]
          },
          "metadata": {},
          "execution_count": 47
        }
      ]
    },
    {
      "cell_type": "code",
      "source": [
        "model.predict(X_test)"
      ],
      "metadata": {
        "colab": {
          "base_uri": "https://localhost:8080/"
        },
        "id": "EVTOH6YiW7Nl",
        "outputId": "8ed6f50e-6f98-479b-fba7-6aa8d67404bb"
      },
      "execution_count": 24,
      "outputs": [
        {
          "output_type": "stream",
          "name": "stdout",
          "text": [
            "313/313 [==============================] - 0s 950us/step\n"
          ]
        },
        {
          "output_type": "execute_result",
          "data": {
            "text/plain": [
              "array([[0.1288254 , 0.23768051, 0.6334942 ],\n",
              "       [0.1288254 , 0.23768051, 0.6334942 ],\n",
              "       [0.1288254 , 0.23768051, 0.6334942 ],\n",
              "       ...,\n",
              "       [0.1288254 , 0.23768051, 0.6334942 ],\n",
              "       [0.1288254 , 0.23768051, 0.6334942 ],\n",
              "       [0.1288254 , 0.23768051, 0.6334942 ]], dtype=float32)"
            ]
          },
          "metadata": {},
          "execution_count": 24
        }
      ]
    },
    {
      "cell_type": "code",
      "source": [
        "print(predictions.shape)"
      ],
      "metadata": {
        "colab": {
          "base_uri": "https://localhost:8080/"
        },
        "id": "fCVrnW2fEGdB",
        "outputId": "12c6b9c1-c445-4252-c373-8abaab238605"
      },
      "execution_count": 55,
      "outputs": [
        {
          "output_type": "stream",
          "name": "stdout",
          "text": [
            "(10000, 3)\n"
          ]
        }
      ]
    },
    {
      "cell_type": "code",
      "source": [
        "predictions"
      ],
      "metadata": {
        "colab": {
          "base_uri": "https://localhost:8080/"
        },
        "id": "FGaoBJVmEm0N",
        "outputId": "751aa77d-c7f4-47cd-efe6-448e84401e43"
      },
      "execution_count": 56,
      "outputs": [
        {
          "output_type": "execute_result",
          "data": {
            "text/plain": [
              "array([[0.06469409, 0.18500802, 0.7502979 ],\n",
              "       [0.06398376, 0.18407546, 0.75194085],\n",
              "       [0.08265481, 0.20645738, 0.71088785],\n",
              "       ...,\n",
              "       [0.14255604, 0.25763935, 0.5998046 ],\n",
              "       [0.17583999, 0.27718765, 0.54697233],\n",
              "       [0.19626212, 0.28691363, 0.5168242 ]], dtype=float32)"
            ]
          },
          "metadata": {},
          "execution_count": 56
        }
      ]
    },
    {
      "cell_type": "code",
      "source": [
        "predictions[0][1]"
      ],
      "metadata": {
        "colab": {
          "base_uri": "https://localhost:8080/"
        },
        "id": "DcsqwLgfAhtw",
        "outputId": "06d47a16-2d5c-49ff-e8f8-bad9b93d75b0"
      },
      "execution_count": 60,
      "outputs": [
        {
          "output_type": "execute_result",
          "data": {
            "text/plain": [
              "0.18500802"
            ]
          },
          "metadata": {},
          "execution_count": 60
        }
      ]
    },
    {
      "cell_type": "code",
      "source": [
        "i, j, k = [], [], []\n",
        "for row in range(10000):\n",
        "  i.append(predictions[row][0])\n",
        "  j.append(predictions[row][1])\n",
        "  k.append(predictions[row][2])\n",
        "\n",
        "len(i), len(j), len(k)"
      ],
      "metadata": {
        "id": "-ZJyZM61EhzA",
        "colab": {
          "base_uri": "https://localhost:8080/"
        },
        "outputId": "336c9e20-54a5-4776-bfef-f026034d2d53"
      },
      "execution_count": 63,
      "outputs": [
        {
          "output_type": "execute_result",
          "data": {
            "text/plain": [
              "(10000, 10000, 10000)"
            ]
          },
          "metadata": {},
          "execution_count": 63
        }
      ]
    },
    {
      "cell_type": "code",
      "source": [
        "sub"
      ],
      "metadata": {
        "colab": {
          "base_uri": "https://localhost:8080/",
          "height": 424
        },
        "id": "0CBohmXjA5La",
        "outputId": "c332ec26-a6a5-4b3b-8f82-eb0eae29a52c"
      },
      "execution_count": 65,
      "outputs": [
        {
          "output_type": "execute_result",
          "data": {
            "text/plain": [
              "      index         0         1         2\n",
              "0     26457  0.064694  0.185008  0.750298\n",
              "1     26458  0.063984  0.184075  0.751941\n",
              "2     26459  0.082655  0.206457  0.710888\n",
              "3     26460  0.068289  0.189621  0.742090\n",
              "4     26461  0.141383  0.256855  0.601761\n",
              "...     ...       ...       ...       ...\n",
              "9995  36452  0.143303  0.258135  0.598563\n",
              "9996  36453  0.196262  0.286914  0.516824\n",
              "9997  36454  0.142556  0.257639  0.599805\n",
              "9998  36455  0.175840  0.277188  0.546972\n",
              "9999  36456  0.196262  0.286914  0.516824\n",
              "\n",
              "[10000 rows x 4 columns]"
            ],
            "text/html": [
              "\n",
              "  <div id=\"df-564dc21a-0bd9-4df9-bb77-bc0322e25588\">\n",
              "    <div class=\"colab-df-container\">\n",
              "      <div>\n",
              "<style scoped>\n",
              "    .dataframe tbody tr th:only-of-type {\n",
              "        vertical-align: middle;\n",
              "    }\n",
              "\n",
              "    .dataframe tbody tr th {\n",
              "        vertical-align: top;\n",
              "    }\n",
              "\n",
              "    .dataframe thead th {\n",
              "        text-align: right;\n",
              "    }\n",
              "</style>\n",
              "<table border=\"1\" class=\"dataframe\">\n",
              "  <thead>\n",
              "    <tr style=\"text-align: right;\">\n",
              "      <th></th>\n",
              "      <th>index</th>\n",
              "      <th>0</th>\n",
              "      <th>1</th>\n",
              "      <th>2</th>\n",
              "    </tr>\n",
              "  </thead>\n",
              "  <tbody>\n",
              "    <tr>\n",
              "      <th>0</th>\n",
              "      <td>26457</td>\n",
              "      <td>0.064694</td>\n",
              "      <td>0.185008</td>\n",
              "      <td>0.750298</td>\n",
              "    </tr>\n",
              "    <tr>\n",
              "      <th>1</th>\n",
              "      <td>26458</td>\n",
              "      <td>0.063984</td>\n",
              "      <td>0.184075</td>\n",
              "      <td>0.751941</td>\n",
              "    </tr>\n",
              "    <tr>\n",
              "      <th>2</th>\n",
              "      <td>26459</td>\n",
              "      <td>0.082655</td>\n",
              "      <td>0.206457</td>\n",
              "      <td>0.710888</td>\n",
              "    </tr>\n",
              "    <tr>\n",
              "      <th>3</th>\n",
              "      <td>26460</td>\n",
              "      <td>0.068289</td>\n",
              "      <td>0.189621</td>\n",
              "      <td>0.742090</td>\n",
              "    </tr>\n",
              "    <tr>\n",
              "      <th>4</th>\n",
              "      <td>26461</td>\n",
              "      <td>0.141383</td>\n",
              "      <td>0.256855</td>\n",
              "      <td>0.601761</td>\n",
              "    </tr>\n",
              "    <tr>\n",
              "      <th>...</th>\n",
              "      <td>...</td>\n",
              "      <td>...</td>\n",
              "      <td>...</td>\n",
              "      <td>...</td>\n",
              "    </tr>\n",
              "    <tr>\n",
              "      <th>9995</th>\n",
              "      <td>36452</td>\n",
              "      <td>0.143303</td>\n",
              "      <td>0.258135</td>\n",
              "      <td>0.598563</td>\n",
              "    </tr>\n",
              "    <tr>\n",
              "      <th>9996</th>\n",
              "      <td>36453</td>\n",
              "      <td>0.196262</td>\n",
              "      <td>0.286914</td>\n",
              "      <td>0.516824</td>\n",
              "    </tr>\n",
              "    <tr>\n",
              "      <th>9997</th>\n",
              "      <td>36454</td>\n",
              "      <td>0.142556</td>\n",
              "      <td>0.257639</td>\n",
              "      <td>0.599805</td>\n",
              "    </tr>\n",
              "    <tr>\n",
              "      <th>9998</th>\n",
              "      <td>36455</td>\n",
              "      <td>0.175840</td>\n",
              "      <td>0.277188</td>\n",
              "      <td>0.546972</td>\n",
              "    </tr>\n",
              "    <tr>\n",
              "      <th>9999</th>\n",
              "      <td>36456</td>\n",
              "      <td>0.196262</td>\n",
              "      <td>0.286914</td>\n",
              "      <td>0.516824</td>\n",
              "    </tr>\n",
              "  </tbody>\n",
              "</table>\n",
              "<p>10000 rows × 4 columns</p>\n",
              "</div>\n",
              "      <button class=\"colab-df-convert\" onclick=\"convertToInteractive('df-564dc21a-0bd9-4df9-bb77-bc0322e25588')\"\n",
              "              title=\"Convert this dataframe to an interactive table.\"\n",
              "              style=\"display:none;\">\n",
              "        \n",
              "  <svg xmlns=\"http://www.w3.org/2000/svg\" height=\"24px\"viewBox=\"0 0 24 24\"\n",
              "       width=\"24px\">\n",
              "    <path d=\"M0 0h24v24H0V0z\" fill=\"none\"/>\n",
              "    <path d=\"M18.56 5.44l.94 2.06.94-2.06 2.06-.94-2.06-.94-.94-2.06-.94 2.06-2.06.94zm-11 1L8.5 8.5l.94-2.06 2.06-.94-2.06-.94L8.5 2.5l-.94 2.06-2.06.94zm10 10l.94 2.06.94-2.06 2.06-.94-2.06-.94-.94-2.06-.94 2.06-2.06.94z\"/><path d=\"M17.41 7.96l-1.37-1.37c-.4-.4-.92-.59-1.43-.59-.52 0-1.04.2-1.43.59L10.3 9.45l-7.72 7.72c-.78.78-.78 2.05 0 2.83L4 21.41c.39.39.9.59 1.41.59.51 0 1.02-.2 1.41-.59l7.78-7.78 2.81-2.81c.8-.78.8-2.07 0-2.86zM5.41 20L4 18.59l7.72-7.72 1.47 1.35L5.41 20z\"/>\n",
              "  </svg>\n",
              "      </button>\n",
              "      \n",
              "  <style>\n",
              "    .colab-df-container {\n",
              "      display:flex;\n",
              "      flex-wrap:wrap;\n",
              "      gap: 12px;\n",
              "    }\n",
              "\n",
              "    .colab-df-convert {\n",
              "      background-color: #E8F0FE;\n",
              "      border: none;\n",
              "      border-radius: 50%;\n",
              "      cursor: pointer;\n",
              "      display: none;\n",
              "      fill: #1967D2;\n",
              "      height: 32px;\n",
              "      padding: 0 0 0 0;\n",
              "      width: 32px;\n",
              "    }\n",
              "\n",
              "    .colab-df-convert:hover {\n",
              "      background-color: #E2EBFA;\n",
              "      box-shadow: 0px 1px 2px rgba(60, 64, 67, 0.3), 0px 1px 3px 1px rgba(60, 64, 67, 0.15);\n",
              "      fill: #174EA6;\n",
              "    }\n",
              "\n",
              "    [theme=dark] .colab-df-convert {\n",
              "      background-color: #3B4455;\n",
              "      fill: #D2E3FC;\n",
              "    }\n",
              "\n",
              "    [theme=dark] .colab-df-convert:hover {\n",
              "      background-color: #434B5C;\n",
              "      box-shadow: 0px 1px 3px 1px rgba(0, 0, 0, 0.15);\n",
              "      filter: drop-shadow(0px 1px 2px rgba(0, 0, 0, 0.3));\n",
              "      fill: #FFFFFF;\n",
              "    }\n",
              "  </style>\n",
              "\n",
              "      <script>\n",
              "        const buttonEl =\n",
              "          document.querySelector('#df-564dc21a-0bd9-4df9-bb77-bc0322e25588 button.colab-df-convert');\n",
              "        buttonEl.style.display =\n",
              "          google.colab.kernel.accessAllowed ? 'block' : 'none';\n",
              "\n",
              "        async function convertToInteractive(key) {\n",
              "          const element = document.querySelector('#df-564dc21a-0bd9-4df9-bb77-bc0322e25588');\n",
              "          const dataTable =\n",
              "            await google.colab.kernel.invokeFunction('convertToInteractive',\n",
              "                                                     [key], {});\n",
              "          if (!dataTable) return;\n",
              "\n",
              "          const docLinkHtml = 'Like what you see? Visit the ' +\n",
              "            '<a target=\"_blank\" href=https://colab.research.google.com/notebooks/data_table.ipynb>data table notebook</a>'\n",
              "            + ' to learn more about interactive tables.';\n",
              "          element.innerHTML = '';\n",
              "          dataTable['output_type'] = 'display_data';\n",
              "          await google.colab.output.renderOutput(dataTable, element);\n",
              "          const docLink = document.createElement('div');\n",
              "          docLink.innerHTML = docLinkHtml;\n",
              "          element.appendChild(docLink);\n",
              "        }\n",
              "      </script>\n",
              "    </div>\n",
              "  </div>\n",
              "  "
            ]
          },
          "metadata": {},
          "execution_count": 65
        }
      ]
    },
    {
      "cell_type": "code",
      "source": [
        "sample_submission = pd.read_csv('/content/drive/MyDrive/데이터셋/card/sample_submission.csv')\n",
        "sample_submission"
      ],
      "metadata": {
        "colab": {
          "base_uri": "https://localhost:8080/",
          "height": 424
        },
        "id": "afb8-dL7A9B_",
        "outputId": "b423c06d-0c65-439c-f75b-dae3391dfd32"
      },
      "execution_count": 87,
      "outputs": [
        {
          "output_type": "execute_result",
          "data": {
            "text/plain": [
              "      index  0  1  2\n",
              "0     26457  0  0  0\n",
              "1     26458  0  0  0\n",
              "2     26459  0  0  0\n",
              "3     26460  0  0  0\n",
              "4     26461  0  0  0\n",
              "...     ... .. .. ..\n",
              "9995  36452  0  0  0\n",
              "9996  36453  0  0  0\n",
              "9997  36454  0  0  0\n",
              "9998  36455  0  0  0\n",
              "9999  36456  0  0  0\n",
              "\n",
              "[10000 rows x 4 columns]"
            ],
            "text/html": [
              "\n",
              "  <div id=\"df-3266fe19-74de-4b6a-a250-641d092a3111\">\n",
              "    <div class=\"colab-df-container\">\n",
              "      <div>\n",
              "<style scoped>\n",
              "    .dataframe tbody tr th:only-of-type {\n",
              "        vertical-align: middle;\n",
              "    }\n",
              "\n",
              "    .dataframe tbody tr th {\n",
              "        vertical-align: top;\n",
              "    }\n",
              "\n",
              "    .dataframe thead th {\n",
              "        text-align: right;\n",
              "    }\n",
              "</style>\n",
              "<table border=\"1\" class=\"dataframe\">\n",
              "  <thead>\n",
              "    <tr style=\"text-align: right;\">\n",
              "      <th></th>\n",
              "      <th>index</th>\n",
              "      <th>0</th>\n",
              "      <th>1</th>\n",
              "      <th>2</th>\n",
              "    </tr>\n",
              "  </thead>\n",
              "  <tbody>\n",
              "    <tr>\n",
              "      <th>0</th>\n",
              "      <td>26457</td>\n",
              "      <td>0</td>\n",
              "      <td>0</td>\n",
              "      <td>0</td>\n",
              "    </tr>\n",
              "    <tr>\n",
              "      <th>1</th>\n",
              "      <td>26458</td>\n",
              "      <td>0</td>\n",
              "      <td>0</td>\n",
              "      <td>0</td>\n",
              "    </tr>\n",
              "    <tr>\n",
              "      <th>2</th>\n",
              "      <td>26459</td>\n",
              "      <td>0</td>\n",
              "      <td>0</td>\n",
              "      <td>0</td>\n",
              "    </tr>\n",
              "    <tr>\n",
              "      <th>3</th>\n",
              "      <td>26460</td>\n",
              "      <td>0</td>\n",
              "      <td>0</td>\n",
              "      <td>0</td>\n",
              "    </tr>\n",
              "    <tr>\n",
              "      <th>4</th>\n",
              "      <td>26461</td>\n",
              "      <td>0</td>\n",
              "      <td>0</td>\n",
              "      <td>0</td>\n",
              "    </tr>\n",
              "    <tr>\n",
              "      <th>...</th>\n",
              "      <td>...</td>\n",
              "      <td>...</td>\n",
              "      <td>...</td>\n",
              "      <td>...</td>\n",
              "    </tr>\n",
              "    <tr>\n",
              "      <th>9995</th>\n",
              "      <td>36452</td>\n",
              "      <td>0</td>\n",
              "      <td>0</td>\n",
              "      <td>0</td>\n",
              "    </tr>\n",
              "    <tr>\n",
              "      <th>9996</th>\n",
              "      <td>36453</td>\n",
              "      <td>0</td>\n",
              "      <td>0</td>\n",
              "      <td>0</td>\n",
              "    </tr>\n",
              "    <tr>\n",
              "      <th>9997</th>\n",
              "      <td>36454</td>\n",
              "      <td>0</td>\n",
              "      <td>0</td>\n",
              "      <td>0</td>\n",
              "    </tr>\n",
              "    <tr>\n",
              "      <th>9998</th>\n",
              "      <td>36455</td>\n",
              "      <td>0</td>\n",
              "      <td>0</td>\n",
              "      <td>0</td>\n",
              "    </tr>\n",
              "    <tr>\n",
              "      <th>9999</th>\n",
              "      <td>36456</td>\n",
              "      <td>0</td>\n",
              "      <td>0</td>\n",
              "      <td>0</td>\n",
              "    </tr>\n",
              "  </tbody>\n",
              "</table>\n",
              "<p>10000 rows × 4 columns</p>\n",
              "</div>\n",
              "      <button class=\"colab-df-convert\" onclick=\"convertToInteractive('df-3266fe19-74de-4b6a-a250-641d092a3111')\"\n",
              "              title=\"Convert this dataframe to an interactive table.\"\n",
              "              style=\"display:none;\">\n",
              "        \n",
              "  <svg xmlns=\"http://www.w3.org/2000/svg\" height=\"24px\"viewBox=\"0 0 24 24\"\n",
              "       width=\"24px\">\n",
              "    <path d=\"M0 0h24v24H0V0z\" fill=\"none\"/>\n",
              "    <path d=\"M18.56 5.44l.94 2.06.94-2.06 2.06-.94-2.06-.94-.94-2.06-.94 2.06-2.06.94zm-11 1L8.5 8.5l.94-2.06 2.06-.94-2.06-.94L8.5 2.5l-.94 2.06-2.06.94zm10 10l.94 2.06.94-2.06 2.06-.94-2.06-.94-.94-2.06-.94 2.06-2.06.94z\"/><path d=\"M17.41 7.96l-1.37-1.37c-.4-.4-.92-.59-1.43-.59-.52 0-1.04.2-1.43.59L10.3 9.45l-7.72 7.72c-.78.78-.78 2.05 0 2.83L4 21.41c.39.39.9.59 1.41.59.51 0 1.02-.2 1.41-.59l7.78-7.78 2.81-2.81c.8-.78.8-2.07 0-2.86zM5.41 20L4 18.59l7.72-7.72 1.47 1.35L5.41 20z\"/>\n",
              "  </svg>\n",
              "      </button>\n",
              "      \n",
              "  <style>\n",
              "    .colab-df-container {\n",
              "      display:flex;\n",
              "      flex-wrap:wrap;\n",
              "      gap: 12px;\n",
              "    }\n",
              "\n",
              "    .colab-df-convert {\n",
              "      background-color: #E8F0FE;\n",
              "      border: none;\n",
              "      border-radius: 50%;\n",
              "      cursor: pointer;\n",
              "      display: none;\n",
              "      fill: #1967D2;\n",
              "      height: 32px;\n",
              "      padding: 0 0 0 0;\n",
              "      width: 32px;\n",
              "    }\n",
              "\n",
              "    .colab-df-convert:hover {\n",
              "      background-color: #E2EBFA;\n",
              "      box-shadow: 0px 1px 2px rgba(60, 64, 67, 0.3), 0px 1px 3px 1px rgba(60, 64, 67, 0.15);\n",
              "      fill: #174EA6;\n",
              "    }\n",
              "\n",
              "    [theme=dark] .colab-df-convert {\n",
              "      background-color: #3B4455;\n",
              "      fill: #D2E3FC;\n",
              "    }\n",
              "\n",
              "    [theme=dark] .colab-df-convert:hover {\n",
              "      background-color: #434B5C;\n",
              "      box-shadow: 0px 1px 3px 1px rgba(0, 0, 0, 0.15);\n",
              "      filter: drop-shadow(0px 1px 2px rgba(0, 0, 0, 0.3));\n",
              "      fill: #FFFFFF;\n",
              "    }\n",
              "  </style>\n",
              "\n",
              "      <script>\n",
              "        const buttonEl =\n",
              "          document.querySelector('#df-3266fe19-74de-4b6a-a250-641d092a3111 button.colab-df-convert');\n",
              "        buttonEl.style.display =\n",
              "          google.colab.kernel.accessAllowed ? 'block' : 'none';\n",
              "\n",
              "        async function convertToInteractive(key) {\n",
              "          const element = document.querySelector('#df-3266fe19-74de-4b6a-a250-641d092a3111');\n",
              "          const dataTable =\n",
              "            await google.colab.kernel.invokeFunction('convertToInteractive',\n",
              "                                                     [key], {});\n",
              "          if (!dataTable) return;\n",
              "\n",
              "          const docLinkHtml = 'Like what you see? Visit the ' +\n",
              "            '<a target=\"_blank\" href=https://colab.research.google.com/notebooks/data_table.ipynb>data table notebook</a>'\n",
              "            + ' to learn more about interactive tables.';\n",
              "          element.innerHTML = '';\n",
              "          dataTable['output_type'] = 'display_data';\n",
              "          await google.colab.output.renderOutput(dataTable, element);\n",
              "          const docLink = document.createElement('div');\n",
              "          docLink.innerHTML = docLinkHtml;\n",
              "          element.appendChild(docLink);\n",
              "        }\n",
              "      </script>\n",
              "    </div>\n",
              "  </div>\n",
              "  "
            ]
          },
          "metadata": {},
          "execution_count": 87
        }
      ]
    },
    {
      "cell_type": "code",
      "source": [
        "sub['0'] = i\n",
        "sub['1'] = j\n",
        "sub['2'] = k\n",
        "sub.head(10)"
      ],
      "metadata": {
        "colab": {
          "base_uri": "https://localhost:8080/",
          "height": 363
        },
        "id": "wT_Dg2_qAUWE",
        "outputId": "7fadbd16-ed1d-4b02-d388-7230ce73c215"
      },
      "execution_count": 84,
      "outputs": [
        {
          "output_type": "execute_result",
          "data": {
            "text/plain": [
              "   index         0         1         2\n",
              "0  26457  0.064694  0.185008  0.750298\n",
              "1  26458  0.063984  0.184075  0.751941\n",
              "2  26459  0.082655  0.206457  0.710888\n",
              "3  26460  0.068289  0.189621  0.742090\n",
              "4  26461  0.141383  0.256855  0.601761\n",
              "5  26462  0.092454  0.216694  0.690852\n",
              "6  26463  0.196262  0.286914  0.516824\n",
              "7  26464  0.101783  0.225647  0.672570\n",
              "8  26465  0.156801  0.266619  0.576580\n",
              "9  26466  0.164777  0.271236  0.563987"
            ],
            "text/html": [
              "\n",
              "  <div id=\"df-b372ce1b-0945-42ea-883a-1f365654f317\">\n",
              "    <div class=\"colab-df-container\">\n",
              "      <div>\n",
              "<style scoped>\n",
              "    .dataframe tbody tr th:only-of-type {\n",
              "        vertical-align: middle;\n",
              "    }\n",
              "\n",
              "    .dataframe tbody tr th {\n",
              "        vertical-align: top;\n",
              "    }\n",
              "\n",
              "    .dataframe thead th {\n",
              "        text-align: right;\n",
              "    }\n",
              "</style>\n",
              "<table border=\"1\" class=\"dataframe\">\n",
              "  <thead>\n",
              "    <tr style=\"text-align: right;\">\n",
              "      <th></th>\n",
              "      <th>index</th>\n",
              "      <th>0</th>\n",
              "      <th>1</th>\n",
              "      <th>2</th>\n",
              "    </tr>\n",
              "  </thead>\n",
              "  <tbody>\n",
              "    <tr>\n",
              "      <th>0</th>\n",
              "      <td>26457</td>\n",
              "      <td>0.064694</td>\n",
              "      <td>0.185008</td>\n",
              "      <td>0.750298</td>\n",
              "    </tr>\n",
              "    <tr>\n",
              "      <th>1</th>\n",
              "      <td>26458</td>\n",
              "      <td>0.063984</td>\n",
              "      <td>0.184075</td>\n",
              "      <td>0.751941</td>\n",
              "    </tr>\n",
              "    <tr>\n",
              "      <th>2</th>\n",
              "      <td>26459</td>\n",
              "      <td>0.082655</td>\n",
              "      <td>0.206457</td>\n",
              "      <td>0.710888</td>\n",
              "    </tr>\n",
              "    <tr>\n",
              "      <th>3</th>\n",
              "      <td>26460</td>\n",
              "      <td>0.068289</td>\n",
              "      <td>0.189621</td>\n",
              "      <td>0.742090</td>\n",
              "    </tr>\n",
              "    <tr>\n",
              "      <th>4</th>\n",
              "      <td>26461</td>\n",
              "      <td>0.141383</td>\n",
              "      <td>0.256855</td>\n",
              "      <td>0.601761</td>\n",
              "    </tr>\n",
              "    <tr>\n",
              "      <th>5</th>\n",
              "      <td>26462</td>\n",
              "      <td>0.092454</td>\n",
              "      <td>0.216694</td>\n",
              "      <td>0.690852</td>\n",
              "    </tr>\n",
              "    <tr>\n",
              "      <th>6</th>\n",
              "      <td>26463</td>\n",
              "      <td>0.196262</td>\n",
              "      <td>0.286914</td>\n",
              "      <td>0.516824</td>\n",
              "    </tr>\n",
              "    <tr>\n",
              "      <th>7</th>\n",
              "      <td>26464</td>\n",
              "      <td>0.101783</td>\n",
              "      <td>0.225647</td>\n",
              "      <td>0.672570</td>\n",
              "    </tr>\n",
              "    <tr>\n",
              "      <th>8</th>\n",
              "      <td>26465</td>\n",
              "      <td>0.156801</td>\n",
              "      <td>0.266619</td>\n",
              "      <td>0.576580</td>\n",
              "    </tr>\n",
              "    <tr>\n",
              "      <th>9</th>\n",
              "      <td>26466</td>\n",
              "      <td>0.164777</td>\n",
              "      <td>0.271236</td>\n",
              "      <td>0.563987</td>\n",
              "    </tr>\n",
              "  </tbody>\n",
              "</table>\n",
              "</div>\n",
              "      <button class=\"colab-df-convert\" onclick=\"convertToInteractive('df-b372ce1b-0945-42ea-883a-1f365654f317')\"\n",
              "              title=\"Convert this dataframe to an interactive table.\"\n",
              "              style=\"display:none;\">\n",
              "        \n",
              "  <svg xmlns=\"http://www.w3.org/2000/svg\" height=\"24px\"viewBox=\"0 0 24 24\"\n",
              "       width=\"24px\">\n",
              "    <path d=\"M0 0h24v24H0V0z\" fill=\"none\"/>\n",
              "    <path d=\"M18.56 5.44l.94 2.06.94-2.06 2.06-.94-2.06-.94-.94-2.06-.94 2.06-2.06.94zm-11 1L8.5 8.5l.94-2.06 2.06-.94-2.06-.94L8.5 2.5l-.94 2.06-2.06.94zm10 10l.94 2.06.94-2.06 2.06-.94-2.06-.94-.94-2.06-.94 2.06-2.06.94z\"/><path d=\"M17.41 7.96l-1.37-1.37c-.4-.4-.92-.59-1.43-.59-.52 0-1.04.2-1.43.59L10.3 9.45l-7.72 7.72c-.78.78-.78 2.05 0 2.83L4 21.41c.39.39.9.59 1.41.59.51 0 1.02-.2 1.41-.59l7.78-7.78 2.81-2.81c.8-.78.8-2.07 0-2.86zM5.41 20L4 18.59l7.72-7.72 1.47 1.35L5.41 20z\"/>\n",
              "  </svg>\n",
              "      </button>\n",
              "      \n",
              "  <style>\n",
              "    .colab-df-container {\n",
              "      display:flex;\n",
              "      flex-wrap:wrap;\n",
              "      gap: 12px;\n",
              "    }\n",
              "\n",
              "    .colab-df-convert {\n",
              "      background-color: #E8F0FE;\n",
              "      border: none;\n",
              "      border-radius: 50%;\n",
              "      cursor: pointer;\n",
              "      display: none;\n",
              "      fill: #1967D2;\n",
              "      height: 32px;\n",
              "      padding: 0 0 0 0;\n",
              "      width: 32px;\n",
              "    }\n",
              "\n",
              "    .colab-df-convert:hover {\n",
              "      background-color: #E2EBFA;\n",
              "      box-shadow: 0px 1px 2px rgba(60, 64, 67, 0.3), 0px 1px 3px 1px rgba(60, 64, 67, 0.15);\n",
              "      fill: #174EA6;\n",
              "    }\n",
              "\n",
              "    [theme=dark] .colab-df-convert {\n",
              "      background-color: #3B4455;\n",
              "      fill: #D2E3FC;\n",
              "    }\n",
              "\n",
              "    [theme=dark] .colab-df-convert:hover {\n",
              "      background-color: #434B5C;\n",
              "      box-shadow: 0px 1px 3px 1px rgba(0, 0, 0, 0.15);\n",
              "      filter: drop-shadow(0px 1px 2px rgba(0, 0, 0, 0.3));\n",
              "      fill: #FFFFFF;\n",
              "    }\n",
              "  </style>\n",
              "\n",
              "      <script>\n",
              "        const buttonEl =\n",
              "          document.querySelector('#df-b372ce1b-0945-42ea-883a-1f365654f317 button.colab-df-convert');\n",
              "        buttonEl.style.display =\n",
              "          google.colab.kernel.accessAllowed ? 'block' : 'none';\n",
              "\n",
              "        async function convertToInteractive(key) {\n",
              "          const element = document.querySelector('#df-b372ce1b-0945-42ea-883a-1f365654f317');\n",
              "          const dataTable =\n",
              "            await google.colab.kernel.invokeFunction('convertToInteractive',\n",
              "                                                     [key], {});\n",
              "          if (!dataTable) return;\n",
              "\n",
              "          const docLinkHtml = 'Like what you see? Visit the ' +\n",
              "            '<a target=\"_blank\" href=https://colab.research.google.com/notebooks/data_table.ipynb>data table notebook</a>'\n",
              "            + ' to learn more about interactive tables.';\n",
              "          element.innerHTML = '';\n",
              "          dataTable['output_type'] = 'display_data';\n",
              "          await google.colab.output.renderOutput(dataTable, element);\n",
              "          const docLink = document.createElement('div');\n",
              "          docLink.innerHTML = docLinkHtml;\n",
              "          element.appendChild(docLink);\n",
              "        }\n",
              "      </script>\n",
              "    </div>\n",
              "  </div>\n",
              "  "
            ]
          },
          "metadata": {},
          "execution_count": 84
        }
      ]
    },
    {
      "cell_type": "markdown",
      "source": [],
      "metadata": {
        "id": "sIFJos7aDg5Z"
      }
    },
    {
      "cell_type": "code",
      "source": [
        "sub"
      ],
      "metadata": {
        "colab": {
          "base_uri": "https://localhost:8080/",
          "height": 424
        },
        "id": "xJq3fVbSD9Ak",
        "outputId": "2e8f879d-4596-4f5e-b26e-c7c02d3fa4b6"
      },
      "execution_count": 86,
      "outputs": [
        {
          "output_type": "execute_result",
          "data": {
            "text/plain": [
              "      index         0         1         2\n",
              "0     26457  0.064694  0.185008  0.750298\n",
              "1     26458  0.063984  0.184075  0.751941\n",
              "2     26459  0.082655  0.206457  0.710888\n",
              "3     26460  0.068289  0.189621  0.742090\n",
              "4     26461  0.141383  0.256855  0.601761\n",
              "...     ...       ...       ...       ...\n",
              "9995  36452  0.143303  0.258135  0.598563\n",
              "9996  36453  0.196262  0.286914  0.516824\n",
              "9997  36454  0.142556  0.257639  0.599805\n",
              "9998  36455  0.175840  0.277188  0.546972\n",
              "9999  36456  0.196262  0.286914  0.516824\n",
              "\n",
              "[10000 rows x 4 columns]"
            ],
            "text/html": [
              "\n",
              "  <div id=\"df-06aba498-f1b8-47e5-bb7d-fdcc164bb646\">\n",
              "    <div class=\"colab-df-container\">\n",
              "      <div>\n",
              "<style scoped>\n",
              "    .dataframe tbody tr th:only-of-type {\n",
              "        vertical-align: middle;\n",
              "    }\n",
              "\n",
              "    .dataframe tbody tr th {\n",
              "        vertical-align: top;\n",
              "    }\n",
              "\n",
              "    .dataframe thead th {\n",
              "        text-align: right;\n",
              "    }\n",
              "</style>\n",
              "<table border=\"1\" class=\"dataframe\">\n",
              "  <thead>\n",
              "    <tr style=\"text-align: right;\">\n",
              "      <th></th>\n",
              "      <th>index</th>\n",
              "      <th>0</th>\n",
              "      <th>1</th>\n",
              "      <th>2</th>\n",
              "    </tr>\n",
              "  </thead>\n",
              "  <tbody>\n",
              "    <tr>\n",
              "      <th>0</th>\n",
              "      <td>26457</td>\n",
              "      <td>0.064694</td>\n",
              "      <td>0.185008</td>\n",
              "      <td>0.750298</td>\n",
              "    </tr>\n",
              "    <tr>\n",
              "      <th>1</th>\n",
              "      <td>26458</td>\n",
              "      <td>0.063984</td>\n",
              "      <td>0.184075</td>\n",
              "      <td>0.751941</td>\n",
              "    </tr>\n",
              "    <tr>\n",
              "      <th>2</th>\n",
              "      <td>26459</td>\n",
              "      <td>0.082655</td>\n",
              "      <td>0.206457</td>\n",
              "      <td>0.710888</td>\n",
              "    </tr>\n",
              "    <tr>\n",
              "      <th>3</th>\n",
              "      <td>26460</td>\n",
              "      <td>0.068289</td>\n",
              "      <td>0.189621</td>\n",
              "      <td>0.742090</td>\n",
              "    </tr>\n",
              "    <tr>\n",
              "      <th>4</th>\n",
              "      <td>26461</td>\n",
              "      <td>0.141383</td>\n",
              "      <td>0.256855</td>\n",
              "      <td>0.601761</td>\n",
              "    </tr>\n",
              "    <tr>\n",
              "      <th>...</th>\n",
              "      <td>...</td>\n",
              "      <td>...</td>\n",
              "      <td>...</td>\n",
              "      <td>...</td>\n",
              "    </tr>\n",
              "    <tr>\n",
              "      <th>9995</th>\n",
              "      <td>36452</td>\n",
              "      <td>0.143303</td>\n",
              "      <td>0.258135</td>\n",
              "      <td>0.598563</td>\n",
              "    </tr>\n",
              "    <tr>\n",
              "      <th>9996</th>\n",
              "      <td>36453</td>\n",
              "      <td>0.196262</td>\n",
              "      <td>0.286914</td>\n",
              "      <td>0.516824</td>\n",
              "    </tr>\n",
              "    <tr>\n",
              "      <th>9997</th>\n",
              "      <td>36454</td>\n",
              "      <td>0.142556</td>\n",
              "      <td>0.257639</td>\n",
              "      <td>0.599805</td>\n",
              "    </tr>\n",
              "    <tr>\n",
              "      <th>9998</th>\n",
              "      <td>36455</td>\n",
              "      <td>0.175840</td>\n",
              "      <td>0.277188</td>\n",
              "      <td>0.546972</td>\n",
              "    </tr>\n",
              "    <tr>\n",
              "      <th>9999</th>\n",
              "      <td>36456</td>\n",
              "      <td>0.196262</td>\n",
              "      <td>0.286914</td>\n",
              "      <td>0.516824</td>\n",
              "    </tr>\n",
              "  </tbody>\n",
              "</table>\n",
              "<p>10000 rows × 4 columns</p>\n",
              "</div>\n",
              "      <button class=\"colab-df-convert\" onclick=\"convertToInteractive('df-06aba498-f1b8-47e5-bb7d-fdcc164bb646')\"\n",
              "              title=\"Convert this dataframe to an interactive table.\"\n",
              "              style=\"display:none;\">\n",
              "        \n",
              "  <svg xmlns=\"http://www.w3.org/2000/svg\" height=\"24px\"viewBox=\"0 0 24 24\"\n",
              "       width=\"24px\">\n",
              "    <path d=\"M0 0h24v24H0V0z\" fill=\"none\"/>\n",
              "    <path d=\"M18.56 5.44l.94 2.06.94-2.06 2.06-.94-2.06-.94-.94-2.06-.94 2.06-2.06.94zm-11 1L8.5 8.5l.94-2.06 2.06-.94-2.06-.94L8.5 2.5l-.94 2.06-2.06.94zm10 10l.94 2.06.94-2.06 2.06-.94-2.06-.94-.94-2.06-.94 2.06-2.06.94z\"/><path d=\"M17.41 7.96l-1.37-1.37c-.4-.4-.92-.59-1.43-.59-.52 0-1.04.2-1.43.59L10.3 9.45l-7.72 7.72c-.78.78-.78 2.05 0 2.83L4 21.41c.39.39.9.59 1.41.59.51 0 1.02-.2 1.41-.59l7.78-7.78 2.81-2.81c.8-.78.8-2.07 0-2.86zM5.41 20L4 18.59l7.72-7.72 1.47 1.35L5.41 20z\"/>\n",
              "  </svg>\n",
              "      </button>\n",
              "      \n",
              "  <style>\n",
              "    .colab-df-container {\n",
              "      display:flex;\n",
              "      flex-wrap:wrap;\n",
              "      gap: 12px;\n",
              "    }\n",
              "\n",
              "    .colab-df-convert {\n",
              "      background-color: #E8F0FE;\n",
              "      border: none;\n",
              "      border-radius: 50%;\n",
              "      cursor: pointer;\n",
              "      display: none;\n",
              "      fill: #1967D2;\n",
              "      height: 32px;\n",
              "      padding: 0 0 0 0;\n",
              "      width: 32px;\n",
              "    }\n",
              "\n",
              "    .colab-df-convert:hover {\n",
              "      background-color: #E2EBFA;\n",
              "      box-shadow: 0px 1px 2px rgba(60, 64, 67, 0.3), 0px 1px 3px 1px rgba(60, 64, 67, 0.15);\n",
              "      fill: #174EA6;\n",
              "    }\n",
              "\n",
              "    [theme=dark] .colab-df-convert {\n",
              "      background-color: #3B4455;\n",
              "      fill: #D2E3FC;\n",
              "    }\n",
              "\n",
              "    [theme=dark] .colab-df-convert:hover {\n",
              "      background-color: #434B5C;\n",
              "      box-shadow: 0px 1px 3px 1px rgba(0, 0, 0, 0.15);\n",
              "      filter: drop-shadow(0px 1px 2px rgba(0, 0, 0, 0.3));\n",
              "      fill: #FFFFFF;\n",
              "    }\n",
              "  </style>\n",
              "\n",
              "      <script>\n",
              "        const buttonEl =\n",
              "          document.querySelector('#df-06aba498-f1b8-47e5-bb7d-fdcc164bb646 button.colab-df-convert');\n",
              "        buttonEl.style.display =\n",
              "          google.colab.kernel.accessAllowed ? 'block' : 'none';\n",
              "\n",
              "        async function convertToInteractive(key) {\n",
              "          const element = document.querySelector('#df-06aba498-f1b8-47e5-bb7d-fdcc164bb646');\n",
              "          const dataTable =\n",
              "            await google.colab.kernel.invokeFunction('convertToInteractive',\n",
              "                                                     [key], {});\n",
              "          if (!dataTable) return;\n",
              "\n",
              "          const docLinkHtml = 'Like what you see? Visit the ' +\n",
              "            '<a target=\"_blank\" href=https://colab.research.google.com/notebooks/data_table.ipynb>data table notebook</a>'\n",
              "            + ' to learn more about interactive tables.';\n",
              "          element.innerHTML = '';\n",
              "          dataTable['output_type'] = 'display_data';\n",
              "          await google.colab.output.renderOutput(dataTable, element);\n",
              "          const docLink = document.createElement('div');\n",
              "          docLink.innerHTML = docLinkHtml;\n",
              "          element.appendChild(docLink);\n",
              "        }\n",
              "      </script>\n",
              "    </div>\n",
              "  </div>\n",
              "  "
            ]
          },
          "metadata": {},
          "execution_count": 86
        }
      ]
    },
    {
      "cell_type": "code",
      "source": [
        "sub.to_csv('3.csv', index=False)"
      ],
      "metadata": {
        "id": "F3kGOYgeBOcP"
      },
      "execution_count": 89,
      "outputs": []
    },
    {
      "cell_type": "markdown",
      "source": [],
      "metadata": {
        "id": "TqstKSAeAUK1"
      }
    }
  ]
}