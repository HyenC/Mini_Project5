{
 "cells": [
  {
   "cell_type": "code",
   "execution_count": 1,
   "id": "602cd262",
   "metadata": {},
   "outputs": [],
   "source": [
    "# 라이브러리 불러오기\n",
    "\n",
    "import pandas as pd\n",
    "import numpy as np\n",
    "import seaborn as sns\n",
    "import matplotlib.pyplot as plt"
   ]
  },
  {
   "cell_type": "code",
   "execution_count": 2,
   "id": "ffa495a5",
   "metadata": {},
   "outputs": [
    {
     "data": {
      "text/plain": [
       "((26457, 19), (10000, 18))"
      ]
     },
     "execution_count": 2,
     "metadata": {},
     "output_type": "execute_result"
    }
   ],
   "source": [
    "# train, test , submission불러오기\n",
    "\n",
    "train = pd.read_csv(\"C:/Users/parkk/ais7/credit2/train.csv\", index_col=0)\n",
    "test = pd.read_csv(\"C:/Users/parkk/ais7/credit2/test.csv\", index_col=0)\n",
    "submission = pd.read_csv(\"C:/Users/parkk/ais7/credit2/sample_submission.csv\")\n",
    "\n",
    "train.shape, test.shape"
   ]
  },
  {
   "cell_type": "code",
   "execution_count": 3,
   "id": "2068551f",
   "metadata": {},
   "outputs": [
    {
     "data": {
      "text/plain": [
       "Index(['gender', 'car', 'reality', 'child_num', 'income_total', 'income_type',\n",
       "       'edu_type', 'family_type', 'house_type', 'DAYS_BIRTH', 'DAYS_EMPLOYED',\n",
       "       'FLAG_MOBIL', 'work_phone', 'phone', 'email', 'occyp_type',\n",
       "       'family_size', 'begin_month', 'credit'],\n",
       "      dtype='object')"
      ]
     },
     "execution_count": 3,
     "metadata": {},
     "output_type": "execute_result"
    }
   ],
   "source": [
    "# train 컬럼 확인하기\n",
    "\n",
    "train.columns"
   ]
  },
  {
   "cell_type": "code",
   "execution_count": 4,
   "id": "c98c63fe",
   "metadata": {},
   "outputs": [
    {
     "data": {
      "text/html": [
       "<div>\n",
       "<style scoped>\n",
       "    .dataframe tbody tr th:only-of-type {\n",
       "        vertical-align: middle;\n",
       "    }\n",
       "\n",
       "    .dataframe tbody tr th {\n",
       "        vertical-align: top;\n",
       "    }\n",
       "\n",
       "    .dataframe thead th {\n",
       "        text-align: right;\n",
       "    }\n",
       "</style>\n",
       "<table border=\"1\" class=\"dataframe\">\n",
       "  <thead>\n",
       "    <tr style=\"text-align: right;\">\n",
       "      <th></th>\n",
       "      <th>gender</th>\n",
       "      <th>car</th>\n",
       "      <th>reality</th>\n",
       "      <th>child_num</th>\n",
       "      <th>income_total</th>\n",
       "      <th>income_type</th>\n",
       "      <th>edu_type</th>\n",
       "      <th>family_type</th>\n",
       "      <th>house_type</th>\n",
       "      <th>DAYS_BIRTH</th>\n",
       "      <th>DAYS_EMPLOYED</th>\n",
       "      <th>FLAG_MOBIL</th>\n",
       "      <th>work_phone</th>\n",
       "      <th>phone</th>\n",
       "      <th>email</th>\n",
       "      <th>occyp_type</th>\n",
       "      <th>family_size</th>\n",
       "      <th>begin_month</th>\n",
       "      <th>credit</th>\n",
       "    </tr>\n",
       "    <tr>\n",
       "      <th>index</th>\n",
       "      <th></th>\n",
       "      <th></th>\n",
       "      <th></th>\n",
       "      <th></th>\n",
       "      <th></th>\n",
       "      <th></th>\n",
       "      <th></th>\n",
       "      <th></th>\n",
       "      <th></th>\n",
       "      <th></th>\n",
       "      <th></th>\n",
       "      <th></th>\n",
       "      <th></th>\n",
       "      <th></th>\n",
       "      <th></th>\n",
       "      <th></th>\n",
       "      <th></th>\n",
       "      <th></th>\n",
       "      <th></th>\n",
       "    </tr>\n",
       "  </thead>\n",
       "  <tbody>\n",
       "    <tr>\n",
       "      <th>0</th>\n",
       "      <td>F</td>\n",
       "      <td>N</td>\n",
       "      <td>N</td>\n",
       "      <td>0</td>\n",
       "      <td>202500.0</td>\n",
       "      <td>Commercial associate</td>\n",
       "      <td>Higher education</td>\n",
       "      <td>Married</td>\n",
       "      <td>Municipal apartment</td>\n",
       "      <td>-13899</td>\n",
       "      <td>-4709</td>\n",
       "      <td>1</td>\n",
       "      <td>0</td>\n",
       "      <td>0</td>\n",
       "      <td>0</td>\n",
       "      <td>NaN</td>\n",
       "      <td>2.0</td>\n",
       "      <td>-6.0</td>\n",
       "      <td>1.0</td>\n",
       "    </tr>\n",
       "    <tr>\n",
       "      <th>1</th>\n",
       "      <td>F</td>\n",
       "      <td>N</td>\n",
       "      <td>Y</td>\n",
       "      <td>1</td>\n",
       "      <td>247500.0</td>\n",
       "      <td>Commercial associate</td>\n",
       "      <td>Secondary / secondary special</td>\n",
       "      <td>Civil marriage</td>\n",
       "      <td>House / apartment</td>\n",
       "      <td>-11380</td>\n",
       "      <td>-1540</td>\n",
       "      <td>1</td>\n",
       "      <td>0</td>\n",
       "      <td>0</td>\n",
       "      <td>1</td>\n",
       "      <td>Laborers</td>\n",
       "      <td>3.0</td>\n",
       "      <td>-5.0</td>\n",
       "      <td>1.0</td>\n",
       "    </tr>\n",
       "    <tr>\n",
       "      <th>2</th>\n",
       "      <td>M</td>\n",
       "      <td>Y</td>\n",
       "      <td>Y</td>\n",
       "      <td>0</td>\n",
       "      <td>450000.0</td>\n",
       "      <td>Working</td>\n",
       "      <td>Higher education</td>\n",
       "      <td>Married</td>\n",
       "      <td>House / apartment</td>\n",
       "      <td>-19087</td>\n",
       "      <td>-4434</td>\n",
       "      <td>1</td>\n",
       "      <td>0</td>\n",
       "      <td>1</td>\n",
       "      <td>0</td>\n",
       "      <td>Managers</td>\n",
       "      <td>2.0</td>\n",
       "      <td>-22.0</td>\n",
       "      <td>2.0</td>\n",
       "    </tr>\n",
       "    <tr>\n",
       "      <th>3</th>\n",
       "      <td>F</td>\n",
       "      <td>N</td>\n",
       "      <td>Y</td>\n",
       "      <td>0</td>\n",
       "      <td>202500.0</td>\n",
       "      <td>Commercial associate</td>\n",
       "      <td>Secondary / secondary special</td>\n",
       "      <td>Married</td>\n",
       "      <td>House / apartment</td>\n",
       "      <td>-15088</td>\n",
       "      <td>-2092</td>\n",
       "      <td>1</td>\n",
       "      <td>0</td>\n",
       "      <td>1</td>\n",
       "      <td>0</td>\n",
       "      <td>Sales staff</td>\n",
       "      <td>2.0</td>\n",
       "      <td>-37.0</td>\n",
       "      <td>0.0</td>\n",
       "    </tr>\n",
       "    <tr>\n",
       "      <th>4</th>\n",
       "      <td>F</td>\n",
       "      <td>Y</td>\n",
       "      <td>Y</td>\n",
       "      <td>0</td>\n",
       "      <td>157500.0</td>\n",
       "      <td>State servant</td>\n",
       "      <td>Higher education</td>\n",
       "      <td>Married</td>\n",
       "      <td>House / apartment</td>\n",
       "      <td>-15037</td>\n",
       "      <td>-2105</td>\n",
       "      <td>1</td>\n",
       "      <td>0</td>\n",
       "      <td>0</td>\n",
       "      <td>0</td>\n",
       "      <td>Managers</td>\n",
       "      <td>2.0</td>\n",
       "      <td>-26.0</td>\n",
       "      <td>2.0</td>\n",
       "    </tr>\n",
       "  </tbody>\n",
       "</table>\n",
       "</div>"
      ],
      "text/plain": [
       "      gender car reality  child_num  income_total           income_type  \\\n",
       "index                                                                     \n",
       "0          F   N       N          0      202500.0  Commercial associate   \n",
       "1          F   N       Y          1      247500.0  Commercial associate   \n",
       "2          M   Y       Y          0      450000.0               Working   \n",
       "3          F   N       Y          0      202500.0  Commercial associate   \n",
       "4          F   Y       Y          0      157500.0         State servant   \n",
       "\n",
       "                            edu_type     family_type           house_type  \\\n",
       "index                                                                       \n",
       "0                   Higher education         Married  Municipal apartment   \n",
       "1      Secondary / secondary special  Civil marriage    House / apartment   \n",
       "2                   Higher education         Married    House / apartment   \n",
       "3      Secondary / secondary special         Married    House / apartment   \n",
       "4                   Higher education         Married    House / apartment   \n",
       "\n",
       "       DAYS_BIRTH  DAYS_EMPLOYED  FLAG_MOBIL  work_phone  phone  email  \\\n",
       "index                                                                    \n",
       "0          -13899          -4709           1           0      0      0   \n",
       "1          -11380          -1540           1           0      0      1   \n",
       "2          -19087          -4434           1           0      1      0   \n",
       "3          -15088          -2092           1           0      1      0   \n",
       "4          -15037          -2105           1           0      0      0   \n",
       "\n",
       "        occyp_type  family_size  begin_month  credit  \n",
       "index                                                 \n",
       "0              NaN          2.0         -6.0     1.0  \n",
       "1         Laborers          3.0         -5.0     1.0  \n",
       "2         Managers          2.0        -22.0     2.0  \n",
       "3      Sales staff          2.0        -37.0     0.0  \n",
       "4         Managers          2.0        -26.0     2.0  "
      ]
     },
     "execution_count": 4,
     "metadata": {},
     "output_type": "execute_result"
    }
   ],
   "source": [
    "# train 내용 확인하기\n",
    "\n",
    "train.head()"
   ]
  },
  {
   "cell_type": "code",
   "execution_count": 5,
   "id": "b513215a",
   "metadata": {},
   "outputs": [
    {
     "data": {
      "text/plain": [
       "Index(['gender', 'car', 'reality', 'child_num', 'income_total', 'income_type',\n",
       "       'edu_type', 'family_type', 'house_type', 'DAYS_BIRTH', 'DAYS_EMPLOYED',\n",
       "       'FLAG_MOBIL', 'work_phone', 'phone', 'email', 'occyp_type',\n",
       "       'family_size', 'begin_month'],\n",
       "      dtype='object')"
      ]
     },
     "execution_count": 5,
     "metadata": {},
     "output_type": "execute_result"
    }
   ],
   "source": [
    "# test 컬럼 확인하기\n",
    "\n",
    "test.columns"
   ]
  },
  {
   "cell_type": "code",
   "execution_count": 6,
   "id": "41c088ce",
   "metadata": {},
   "outputs": [
    {
     "data": {
      "text/html": [
       "<div>\n",
       "<style scoped>\n",
       "    .dataframe tbody tr th:only-of-type {\n",
       "        vertical-align: middle;\n",
       "    }\n",
       "\n",
       "    .dataframe tbody tr th {\n",
       "        vertical-align: top;\n",
       "    }\n",
       "\n",
       "    .dataframe thead th {\n",
       "        text-align: right;\n",
       "    }\n",
       "</style>\n",
       "<table border=\"1\" class=\"dataframe\">\n",
       "  <thead>\n",
       "    <tr style=\"text-align: right;\">\n",
       "      <th></th>\n",
       "      <th>gender</th>\n",
       "      <th>car</th>\n",
       "      <th>reality</th>\n",
       "      <th>child_num</th>\n",
       "      <th>income_total</th>\n",
       "      <th>income_type</th>\n",
       "      <th>edu_type</th>\n",
       "      <th>family_type</th>\n",
       "      <th>house_type</th>\n",
       "      <th>DAYS_BIRTH</th>\n",
       "      <th>DAYS_EMPLOYED</th>\n",
       "      <th>FLAG_MOBIL</th>\n",
       "      <th>work_phone</th>\n",
       "      <th>phone</th>\n",
       "      <th>email</th>\n",
       "      <th>occyp_type</th>\n",
       "      <th>family_size</th>\n",
       "      <th>begin_month</th>\n",
       "    </tr>\n",
       "    <tr>\n",
       "      <th>index</th>\n",
       "      <th></th>\n",
       "      <th></th>\n",
       "      <th></th>\n",
       "      <th></th>\n",
       "      <th></th>\n",
       "      <th></th>\n",
       "      <th></th>\n",
       "      <th></th>\n",
       "      <th></th>\n",
       "      <th></th>\n",
       "      <th></th>\n",
       "      <th></th>\n",
       "      <th></th>\n",
       "      <th></th>\n",
       "      <th></th>\n",
       "      <th></th>\n",
       "      <th></th>\n",
       "      <th></th>\n",
       "    </tr>\n",
       "  </thead>\n",
       "  <tbody>\n",
       "    <tr>\n",
       "      <th>26457</th>\n",
       "      <td>M</td>\n",
       "      <td>Y</td>\n",
       "      <td>N</td>\n",
       "      <td>0</td>\n",
       "      <td>112500.0</td>\n",
       "      <td>Pensioner</td>\n",
       "      <td>Secondary / secondary special</td>\n",
       "      <td>Civil marriage</td>\n",
       "      <td>House / apartment</td>\n",
       "      <td>-21990</td>\n",
       "      <td>365243</td>\n",
       "      <td>1</td>\n",
       "      <td>0</td>\n",
       "      <td>1</td>\n",
       "      <td>0</td>\n",
       "      <td>NaN</td>\n",
       "      <td>2.0</td>\n",
       "      <td>-60.0</td>\n",
       "    </tr>\n",
       "    <tr>\n",
       "      <th>26458</th>\n",
       "      <td>F</td>\n",
       "      <td>N</td>\n",
       "      <td>Y</td>\n",
       "      <td>0</td>\n",
       "      <td>135000.0</td>\n",
       "      <td>State servant</td>\n",
       "      <td>Higher education</td>\n",
       "      <td>Married</td>\n",
       "      <td>House / apartment</td>\n",
       "      <td>-18964</td>\n",
       "      <td>-8671</td>\n",
       "      <td>1</td>\n",
       "      <td>0</td>\n",
       "      <td>1</td>\n",
       "      <td>0</td>\n",
       "      <td>Core staff</td>\n",
       "      <td>2.0</td>\n",
       "      <td>-36.0</td>\n",
       "    </tr>\n",
       "    <tr>\n",
       "      <th>26459</th>\n",
       "      <td>F</td>\n",
       "      <td>N</td>\n",
       "      <td>Y</td>\n",
       "      <td>0</td>\n",
       "      <td>69372.0</td>\n",
       "      <td>Working</td>\n",
       "      <td>Secondary / secondary special</td>\n",
       "      <td>Married</td>\n",
       "      <td>House / apartment</td>\n",
       "      <td>-15887</td>\n",
       "      <td>-217</td>\n",
       "      <td>1</td>\n",
       "      <td>1</td>\n",
       "      <td>1</td>\n",
       "      <td>0</td>\n",
       "      <td>Laborers</td>\n",
       "      <td>2.0</td>\n",
       "      <td>-40.0</td>\n",
       "    </tr>\n",
       "    <tr>\n",
       "      <th>26460</th>\n",
       "      <td>M</td>\n",
       "      <td>Y</td>\n",
       "      <td>N</td>\n",
       "      <td>0</td>\n",
       "      <td>112500.0</td>\n",
       "      <td>Commercial associate</td>\n",
       "      <td>Secondary / secondary special</td>\n",
       "      <td>Married</td>\n",
       "      <td>House / apartment</td>\n",
       "      <td>-19270</td>\n",
       "      <td>-2531</td>\n",
       "      <td>1</td>\n",
       "      <td>1</td>\n",
       "      <td>0</td>\n",
       "      <td>0</td>\n",
       "      <td>Drivers</td>\n",
       "      <td>2.0</td>\n",
       "      <td>-41.0</td>\n",
       "    </tr>\n",
       "    <tr>\n",
       "      <th>26461</th>\n",
       "      <td>F</td>\n",
       "      <td>Y</td>\n",
       "      <td>Y</td>\n",
       "      <td>0</td>\n",
       "      <td>225000.0</td>\n",
       "      <td>State servant</td>\n",
       "      <td>Higher education</td>\n",
       "      <td>Married</td>\n",
       "      <td>House / apartment</td>\n",
       "      <td>-17822</td>\n",
       "      <td>-9385</td>\n",
       "      <td>1</td>\n",
       "      <td>1</td>\n",
       "      <td>0</td>\n",
       "      <td>0</td>\n",
       "      <td>Managers</td>\n",
       "      <td>2.0</td>\n",
       "      <td>-8.0</td>\n",
       "    </tr>\n",
       "  </tbody>\n",
       "</table>\n",
       "</div>"
      ],
      "text/plain": [
       "      gender car reality  child_num  income_total           income_type  \\\n",
       "index                                                                     \n",
       "26457      M   Y       N          0      112500.0             Pensioner   \n",
       "26458      F   N       Y          0      135000.0         State servant   \n",
       "26459      F   N       Y          0       69372.0               Working   \n",
       "26460      M   Y       N          0      112500.0  Commercial associate   \n",
       "26461      F   Y       Y          0      225000.0         State servant   \n",
       "\n",
       "                            edu_type     family_type         house_type  \\\n",
       "index                                                                     \n",
       "26457  Secondary / secondary special  Civil marriage  House / apartment   \n",
       "26458               Higher education         Married  House / apartment   \n",
       "26459  Secondary / secondary special         Married  House / apartment   \n",
       "26460  Secondary / secondary special         Married  House / apartment   \n",
       "26461               Higher education         Married  House / apartment   \n",
       "\n",
       "       DAYS_BIRTH  DAYS_EMPLOYED  FLAG_MOBIL  work_phone  phone  email  \\\n",
       "index                                                                    \n",
       "26457      -21990         365243           1           0      1      0   \n",
       "26458      -18964          -8671           1           0      1      0   \n",
       "26459      -15887           -217           1           1      1      0   \n",
       "26460      -19270          -2531           1           1      0      0   \n",
       "26461      -17822          -9385           1           1      0      0   \n",
       "\n",
       "       occyp_type  family_size  begin_month  \n",
       "index                                        \n",
       "26457         NaN          2.0        -60.0  \n",
       "26458  Core staff          2.0        -36.0  \n",
       "26459    Laborers          2.0        -40.0  \n",
       "26460     Drivers          2.0        -41.0  \n",
       "26461    Managers          2.0         -8.0  "
      ]
     },
     "execution_count": 6,
     "metadata": {},
     "output_type": "execute_result"
    }
   ],
   "source": [
    "# test 컬럼 내용 확인하기\n",
    "\n",
    "test.head()"
   ]
  },
  {
   "cell_type": "code",
   "execution_count": 7,
   "id": "47fc87e0",
   "metadata": {},
   "outputs": [],
   "source": [
    "# 필요없는 컬럼 삭제해주기\n",
    "\n",
    "train = train.drop(columns='FLAG_MOBIL', axis=1)\n",
    "test = test.drop(columns='FLAG_MOBIL', axis=1)"
   ]
  },
  {
   "cell_type": "code",
   "execution_count": 8,
   "id": "dfbefc98",
   "metadata": {},
   "outputs": [
    {
     "data": {
      "text/plain": [
       "{'credit'}"
      ]
     },
     "execution_count": 8,
     "metadata": {},
     "output_type": "execute_result"
    }
   ],
   "source": [
    "# train과 test 컬럼 비교해서 test에 없는 컬럼 확인하기\n",
    "\n",
    "set(train.columns) - set(test.columns)"
   ]
  },
  {
   "cell_type": "code",
   "execution_count": 9,
   "id": "41813d28",
   "metadata": {},
   "outputs": [
    {
     "data": {
      "text/plain": [
       "gender              0\n",
       "car                 0\n",
       "reality             0\n",
       "child_num           0\n",
       "income_total        0\n",
       "income_type         0\n",
       "edu_type            0\n",
       "family_type         0\n",
       "house_type          0\n",
       "DAYS_BIRTH          0\n",
       "DAYS_EMPLOYED       0\n",
       "work_phone          0\n",
       "phone               0\n",
       "email               0\n",
       "occyp_type       8171\n",
       "family_size         0\n",
       "begin_month         0\n",
       "credit              0\n",
       "dtype: int64"
      ]
     },
     "execution_count": 9,
     "metadata": {},
     "output_type": "execute_result"
    }
   ],
   "source": [
    "# train null값 확인하기 - occyp_type에 null값이 있는 것 확인\n",
    "\n",
    "train.isnull().sum()"
   ]
  },
  {
   "cell_type": "code",
   "execution_count": 10,
   "id": "06e98388",
   "metadata": {},
   "outputs": [
    {
     "data": {
      "text/plain": [
       "gender              0\n",
       "car                 0\n",
       "reality             0\n",
       "child_num           0\n",
       "income_total        0\n",
       "income_type         0\n",
       "edu_type            0\n",
       "family_type         0\n",
       "house_type          0\n",
       "DAYS_BIRTH          0\n",
       "DAYS_EMPLOYED       0\n",
       "work_phone          0\n",
       "phone               0\n",
       "email               0\n",
       "occyp_type       3152\n",
       "family_size         0\n",
       "begin_month         0\n",
       "dtype: int64"
      ]
     },
     "execution_count": 10,
     "metadata": {},
     "output_type": "execute_result"
    }
   ],
   "source": [
    "# test null값 확인하기 - occyp_type에 null값이 있는 것 확인\n",
    "\n",
    "test.isnull().sum()"
   ]
  },
  {
   "cell_type": "code",
   "execution_count": 11,
   "id": "b758d15d",
   "metadata": {},
   "outputs": [],
   "source": [
    "# train NaN 값을 N (기타라는 의미)로 변경해주기\n",
    "\n",
    "train['occyp_type'] = train['occyp_type'].fillna('N')"
   ]
  },
  {
   "cell_type": "code",
   "execution_count": 12,
   "id": "f29b30dc",
   "metadata": {},
   "outputs": [],
   "source": [
    "# test NaN 값을 N (기타라는 의미)로 변경해주기\n",
    "\n",
    "test['occyp_type'] = test['occyp_type'].fillna('N')"
   ]
  },
  {
   "cell_type": "code",
   "execution_count": 13,
   "id": "c45eda2d",
   "metadata": {},
   "outputs": [
    {
     "data": {
      "text/plain": [
       "array(['N', 'Laborers', 'Managers', 'Sales staff',\n",
       "       'High skill tech staff', 'Core staff', 'Drivers', 'Medicine staff',\n",
       "       'Accountants', 'Realty agents', 'Security staff', 'Cleaning staff',\n",
       "       'Private service staff', 'Cooking staff', 'Secretaries',\n",
       "       'HR staff', 'IT staff', 'Low-skill Laborers',\n",
       "       'Waiters/barmen staff'], dtype=object)"
      ]
     },
     "execution_count": 13,
     "metadata": {},
     "output_type": "execute_result"
    }
   ],
   "source": [
    "# train occyp_type 컬럼 확인해보기 - null은 무직이나 무응답으로 확인\n",
    "\n",
    "train['occyp_type'].unique()"
   ]
  },
  {
   "cell_type": "code",
   "execution_count": 14,
   "id": "251172fe",
   "metadata": {},
   "outputs": [
    {
     "data": {
      "text/plain": [
       "array(['N', 'Core staff', 'Laborers', 'Drivers', 'Managers',\n",
       "       'Sales staff', 'Cleaning staff', 'Accountants', 'Cooking staff',\n",
       "       'Medicine staff', 'Realty agents', 'Waiters/barmen staff',\n",
       "       'Private service staff', 'High skill tech staff',\n",
       "       'Low-skill Laborers', 'Security staff', 'Secretaries', 'HR staff',\n",
       "       'IT staff'], dtype=object)"
      ]
     },
     "execution_count": 14,
     "metadata": {},
     "output_type": "execute_result"
    }
   ],
   "source": [
    "# test occyp_type 컬럼 확인해보기 - null은 무직이나 무응답으로 확인\n",
    "\n",
    "test['occyp_type'].unique()"
   ]
  },
  {
   "cell_type": "code",
   "execution_count": 15,
   "id": "6ee4f476",
   "metadata": {},
   "outputs": [],
   "source": [
    "# 필요없는 컬럼제거 후 train에 재할당하기\n",
    "\n",
    "train = train[['gender', 'car', 'child_num','income_total', 'income_type',\n",
    "       'edu_type', 'family_type', 'house_type',\n",
    "       'phone', 'occyp_type', 'family_size',\n",
    "       'credit']]"
   ]
  },
  {
   "cell_type": "code",
   "execution_count": 16,
   "id": "70ce07a3",
   "metadata": {},
   "outputs": [],
   "source": [
    "# 필요없는 컬럼제거 후 test에 재할당하기\n",
    "\n",
    "test = test[['gender', 'car', 'child_num','income_total', 'income_type',\n",
    "       'edu_type', 'family_type', 'house_type',\n",
    "       'phone', 'occyp_type', 'family_size',\n",
    "       ]]"
   ]
  },
  {
   "cell_type": "code",
   "execution_count": 17,
   "id": "e8193964",
   "metadata": {},
   "outputs": [],
   "source": [
    "# train과 test의 income_total의 값이 너무 커서 일괄적으로 1000나눠서 재할당해주기\n",
    "\n",
    "train['income_total'] = train['income_total'] / 1000\n",
    "test['income_total'] = test['income_total'] / 1000"
   ]
  },
  {
   "cell_type": "code",
   "execution_count": 18,
   "id": "21ecf016",
   "metadata": {},
   "outputs": [
    {
     "name": "stderr",
     "output_type": "stream",
     "text": [
      "C:\\Users\\parkk\\anaconda3\\lib\\site-packages\\sklearn\\preprocessing\\_label.py:115: DataConversionWarning: A column-vector y was passed when a 1d array was expected. Please change the shape of y to (n_samples, ), for example using ravel().\n",
      "  y = column_or_1d(y, warn=True)\n",
      "C:\\Users\\parkk\\anaconda3\\lib\\site-packages\\sklearn\\preprocessing\\_label.py:133: DataConversionWarning: A column-vector y was passed when a 1d array was expected. Please change the shape of y to (n_samples, ), for example using ravel().\n",
      "  y = column_or_1d(y, warn=True)\n",
      "C:\\Users\\parkk\\anaconda3\\lib\\site-packages\\sklearn\\preprocessing\\_label.py:115: DataConversionWarning: A column-vector y was passed when a 1d array was expected. Please change the shape of y to (n_samples, ), for example using ravel().\n",
      "  y = column_or_1d(y, warn=True)\n",
      "C:\\Users\\parkk\\anaconda3\\lib\\site-packages\\sklearn\\preprocessing\\_label.py:133: DataConversionWarning: A column-vector y was passed when a 1d array was expected. Please change the shape of y to (n_samples, ), for example using ravel().\n",
      "  y = column_or_1d(y, warn=True)\n",
      "C:\\Users\\parkk\\anaconda3\\lib\\site-packages\\sklearn\\preprocessing\\_label.py:115: DataConversionWarning: A column-vector y was passed when a 1d array was expected. Please change the shape of y to (n_samples, ), for example using ravel().\n",
      "  y = column_or_1d(y, warn=True)\n",
      "C:\\Users\\parkk\\anaconda3\\lib\\site-packages\\sklearn\\preprocessing\\_label.py:133: DataConversionWarning: A column-vector y was passed when a 1d array was expected. Please change the shape of y to (n_samples, ), for example using ravel().\n",
      "  y = column_or_1d(y, warn=True)\n",
      "C:\\Users\\parkk\\anaconda3\\lib\\site-packages\\sklearn\\preprocessing\\_label.py:115: DataConversionWarning: A column-vector y was passed when a 1d array was expected. Please change the shape of y to (n_samples, ), for example using ravel().\n",
      "  y = column_or_1d(y, warn=True)\n",
      "C:\\Users\\parkk\\anaconda3\\lib\\site-packages\\sklearn\\preprocessing\\_label.py:133: DataConversionWarning: A column-vector y was passed when a 1d array was expected. Please change the shape of y to (n_samples, ), for example using ravel().\n",
      "  y = column_or_1d(y, warn=True)\n",
      "C:\\Users\\parkk\\anaconda3\\lib\\site-packages\\sklearn\\preprocessing\\_label.py:115: DataConversionWarning: A column-vector y was passed when a 1d array was expected. Please change the shape of y to (n_samples, ), for example using ravel().\n",
      "  y = column_or_1d(y, warn=True)\n",
      "C:\\Users\\parkk\\anaconda3\\lib\\site-packages\\sklearn\\preprocessing\\_label.py:133: DataConversionWarning: A column-vector y was passed when a 1d array was expected. Please change the shape of y to (n_samples, ), for example using ravel().\n",
      "  y = column_or_1d(y, warn=True)\n",
      "C:\\Users\\parkk\\anaconda3\\lib\\site-packages\\sklearn\\preprocessing\\_label.py:115: DataConversionWarning: A column-vector y was passed when a 1d array was expected. Please change the shape of y to (n_samples, ), for example using ravel().\n",
      "  y = column_or_1d(y, warn=True)\n",
      "C:\\Users\\parkk\\anaconda3\\lib\\site-packages\\sklearn\\preprocessing\\_label.py:133: DataConversionWarning: A column-vector y was passed when a 1d array was expected. Please change the shape of y to (n_samples, ), for example using ravel().\n",
      "  y = column_or_1d(y, warn=True)\n",
      "C:\\Users\\parkk\\anaconda3\\lib\\site-packages\\sklearn\\preprocessing\\_label.py:115: DataConversionWarning: A column-vector y was passed when a 1d array was expected. Please change the shape of y to (n_samples, ), for example using ravel().\n",
      "  y = column_or_1d(y, warn=True)\n",
      "C:\\Users\\parkk\\anaconda3\\lib\\site-packages\\sklearn\\preprocessing\\_label.py:133: DataConversionWarning: A column-vector y was passed when a 1d array was expected. Please change the shape of y to (n_samples, ), for example using ravel().\n",
      "  y = column_or_1d(y, warn=True)\n"
     ]
    }
   ],
   "source": [
    "# object인 column만 cols에 저장\n",
    "\n",
    "cols = train.select_dtypes(include=\"O\").columns\n",
    "\n",
    "from sklearn import preprocessing\n",
    "\n",
    "# object column을 하나씩 불러와서 encoding 해주기\n",
    "\n",
    "for col in cols:\n",
    "    \n",
    "  # label encoder \n",
    "\n",
    "  le = preprocessing.LabelEncoder()\n",
    "    \n",
    "  # train에 fit_transform해주기 \n",
    "\n",
    "  train[col] = le.fit_transform(train[[col]])\n",
    "  test[col] = le.transform(test[[col]])"
   ]
  },
  {
   "cell_type": "code",
   "execution_count": 19,
   "id": "5799f246",
   "metadata": {},
   "outputs": [],
   "source": [
    "# object인 column만 cols에 저장\n",
    "\n",
    "cols = test.select_dtypes(include=\"O\").columns\n",
    "\n",
    "from sklearn import preprocessing\n",
    "\n",
    "# object column을 하나씩 불러와서 encoding 해주기\n",
    "\n",
    "for col in cols:\n",
    "    \n",
    "  # label encoder \n",
    "\n",
    "  le = preprocessing.LabelEncoder()\n",
    "    \n",
    "  # test에 fit_transform해주기 \n",
    "\n",
    "  test[col] = le.fit_transform(test[[col]])"
   ]
  },
  {
   "cell_type": "code",
   "execution_count": 20,
   "id": "096c7966",
   "metadata": {},
   "outputs": [
    {
     "data": {
      "text/plain": [
       "'credit'"
      ]
     },
     "execution_count": 20,
     "metadata": {},
     "output_type": "execute_result"
    }
   ],
   "source": [
    "label_name = 'credit'\n",
    "label_name"
   ]
  },
  {
   "cell_type": "code",
   "execution_count": 21,
   "id": "7d1ea802",
   "metadata": {},
   "outputs": [],
   "source": [
    "# X에 train 컬럼 credit을 제거해주고, y에 credit을 할당해주기\n",
    "\n",
    "X = train.drop(columns='credit', axis=1)\n",
    "y = train[label_name]"
   ]
  },
  {
   "cell_type": "code",
   "execution_count": 22,
   "id": "04b0c63a",
   "metadata": {},
   "outputs": [
    {
     "data": {
      "text/plain": [
       "((19842, 11), (6615, 11), (19842,), (6615,))"
      ]
     },
     "execution_count": 22,
     "metadata": {},
     "output_type": "execute_result"
    }
   ],
   "source": [
    "# train_test_split을 이용하여 X_train, X_val, y_train, y_val 할당해주기\n",
    "\n",
    "from sklearn.model_selection import train_test_split\n",
    "\n",
    "X_train, X_valid, y_train, y_valid = train_test_split(X, y, stratify=y, random_state=42)\n",
    "X_train.shape, X_valid.shape, y_train.shape, y_valid.shape"
   ]
  },
  {
   "cell_type": "code",
   "execution_count": 23,
   "id": "6c8b4e00",
   "metadata": {},
   "outputs": [],
   "source": [
    "# StandardScaler를 사용하여 스케일링해주기\n",
    "\n",
    "from sklearn.preprocessing import StandardScaler\n",
    "scaler = StandardScaler()\n",
    "X_train_scaled = scaler.fit_transform(X_train)\n",
    "X_valid_scaled = scaler.fit_transform(X_valid)\n",
    "test_scaled = scaler.fit_transform(test)"
   ]
  },
  {
   "cell_type": "code",
   "execution_count": 24,
   "id": "bba5aabc",
   "metadata": {},
   "outputs": [],
   "source": [
    "# tensorflow 라이브러리 불러오기\n",
    "\n",
    "import tensorflow as tf"
   ]
  },
  {
   "cell_type": "code",
   "execution_count": 25,
   "id": "7cf9065b",
   "metadata": {},
   "outputs": [
    {
     "data": {
      "text/plain": [
       "11"
      ]
     },
     "execution_count": 25,
     "metadata": {},
     "output_type": "execute_result"
    }
   ],
   "source": [
    "# input_shape 값을 구해주기. feature수로 만들어 줌.\n",
    "\n",
    "input_shape = X_train_scaled.shape[1]\n",
    "input_shape"
   ]
  },
  {
   "cell_type": "code",
   "execution_count": 26,
   "id": "e9313300",
   "metadata": {},
   "outputs": [],
   "source": [
    "# model 레이어 설정하기\n",
    "\n",
    "model = tf.keras.models.Sequential([\n",
    "    tf.keras.layers.Dense(units=128, input_shape=[input_shape]),\n",
    "    tf.keras.layers.Dense(128, activation='selu'),\n",
    "    tf.keras.layers.Dropout(0.1),\n",
    "    tf.keras.layers.Dense(3, activation='softmax')\n",
    "])"
   ]
  },
  {
   "cell_type": "code",
   "execution_count": 27,
   "id": "987c028d",
   "metadata": {},
   "outputs": [],
   "source": [
    "# model compile 하기\n",
    "model.compile(optimizer='adam',\n",
    "              loss='sparse_categorical_crossentropy',\n",
    "              metrics=['accuracy'])"
   ]
  },
  {
   "cell_type": "code",
   "execution_count": 28,
   "id": "913c7af9",
   "metadata": {},
   "outputs": [
    {
     "name": "stdout",
     "output_type": "stream",
     "text": [
      "Model: \"sequential\"\n",
      "_________________________________________________________________\n",
      " Layer (type)                Output Shape              Param #   \n",
      "=================================================================\n",
      " dense (Dense)               (None, 128)               1536      \n",
      "                                                                 \n",
      " dense_1 (Dense)             (None, 128)               16512     \n",
      "                                                                 \n",
      " dropout (Dropout)           (None, 128)               0         \n",
      "                                                                 \n",
      " dense_2 (Dense)             (None, 3)                 387       \n",
      "                                                                 \n",
      "=================================================================\n",
      "Total params: 18,435\n",
      "Trainable params: 18,435\n",
      "Non-trainable params: 0\n",
      "_________________________________________________________________\n"
     ]
    }
   ],
   "source": [
    "# model 요약해보기\n",
    "\n",
    "model.summary()"
   ]
  },
  {
   "cell_type": "code",
   "execution_count": 54,
   "id": "ad751f50",
   "metadata": {},
   "outputs": [],
   "source": [
    "# early_stop 설정하기\n",
    "\n",
    "early_stop = tf.keras.callbacks.EarlyStopping(monitor='val_loss', patience=30, mode='min')"
   ]
  },
  {
   "cell_type": "code",
   "execution_count": 55,
   "id": "5923cdae",
   "metadata": {},
   "outputs": [
    {
     "data": {
      "text/plain": [
       "<keras.callbacks.History at 0x1b8f5a772e0>"
      ]
     },
     "execution_count": 55,
     "metadata": {},
     "output_type": "execute_result"
    }
   ],
   "source": [
    "# model fit 해주기\n",
    "\n",
    "history = model.fit(X_train_scaled, y_train, epochs=35, validation_split=0.2, callbacks=[early_stop], verbose=0)\n",
    "history"
   ]
  },
  {
   "cell_type": "code",
   "execution_count": 56,
   "id": "ef5103d5",
   "metadata": {},
   "outputs": [
    {
     "data": {
      "text/html": [
       "<div>\n",
       "<style scoped>\n",
       "    .dataframe tbody tr th:only-of-type {\n",
       "        vertical-align: middle;\n",
       "    }\n",
       "\n",
       "    .dataframe tbody tr th {\n",
       "        vertical-align: top;\n",
       "    }\n",
       "\n",
       "    .dataframe thead th {\n",
       "        text-align: right;\n",
       "    }\n",
       "</style>\n",
       "<table border=\"1\" class=\"dataframe\">\n",
       "  <thead>\n",
       "    <tr style=\"text-align: right;\">\n",
       "      <th></th>\n",
       "      <th>loss</th>\n",
       "      <th>accuracy</th>\n",
       "      <th>val_loss</th>\n",
       "      <th>val_accuracy</th>\n",
       "    </tr>\n",
       "  </thead>\n",
       "  <tbody>\n",
       "    <tr>\n",
       "      <th>0</th>\n",
       "      <td>0.881391</td>\n",
       "      <td>0.640459</td>\n",
       "      <td>0.876367</td>\n",
       "      <td>0.644999</td>\n",
       "    </tr>\n",
       "    <tr>\n",
       "      <th>1</th>\n",
       "      <td>0.880762</td>\n",
       "      <td>0.640396</td>\n",
       "      <td>0.874979</td>\n",
       "      <td>0.644999</td>\n",
       "    </tr>\n",
       "    <tr>\n",
       "      <th>2</th>\n",
       "      <td>0.880570</td>\n",
       "      <td>0.640585</td>\n",
       "      <td>0.876690</td>\n",
       "      <td>0.644747</td>\n",
       "    </tr>\n",
       "    <tr>\n",
       "      <th>3</th>\n",
       "      <td>0.881411</td>\n",
       "      <td>0.640333</td>\n",
       "      <td>0.875660</td>\n",
       "      <td>0.644747</td>\n",
       "    </tr>\n",
       "    <tr>\n",
       "      <th>4</th>\n",
       "      <td>0.881318</td>\n",
       "      <td>0.640396</td>\n",
       "      <td>0.874268</td>\n",
       "      <td>0.644999</td>\n",
       "    </tr>\n",
       "  </tbody>\n",
       "</table>\n",
       "</div>"
      ],
      "text/plain": [
       "       loss  accuracy  val_loss  val_accuracy\n",
       "0  0.881391  0.640459  0.876367      0.644999\n",
       "1  0.880762  0.640396  0.874979      0.644999\n",
       "2  0.880570  0.640585  0.876690      0.644747\n",
       "3  0.881411  0.640333  0.875660      0.644747\n",
       "4  0.881318  0.640396  0.874268      0.644999"
      ]
     },
     "execution_count": 56,
     "metadata": {},
     "output_type": "execute_result"
    }
   ],
   "source": [
    "# history를 데이터프레임으로 만들어주기\n",
    "\n",
    "df_hist = pd.DataFrame(history.history)\n",
    "df_hist.head()"
   ]
  },
  {
   "cell_type": "code",
   "execution_count": 57,
   "id": "b343a1de",
   "metadata": {},
   "outputs": [
    {
     "data": {
      "text/plain": [
       "<AxesSubplot:>"
      ]
     },
     "execution_count": 57,
     "metadata": {},
     "output_type": "execute_result"
    },
    {
     "data": {
      "image/png": "[encoded data removed]",
      "text/plain": [
       "<Figure size 432x288 with 1 Axes>"
      ]
     },
     "metadata": {
      "needs_background": "light"
     },
     "output_type": "display_data"
    },
    {
     "data": {
      "image/png": "[encoded data removed]",
      "text/plain": [
       "<Figure size 432x288 with 1 Axes>"
      ]
     },
     "metadata": {
      "needs_background": "light"
     },
     "output_type": "display_data"
    }
   ],
   "source": [
    "# 학습결과를 시각화시켜주기\n",
    "\n",
    "df_hist[[\"loss\", \"accuracy\"]].plot()\n",
    "df_hist[['accuracy','val_accuracy']].plot()"
   ]
  },
  {
   "cell_type": "code",
   "execution_count": 58,
   "id": "9e1ddcc5",
   "metadata": {},
   "outputs": [
    {
     "name": "stdout",
     "output_type": "stream",
     "text": [
      "313/313 [==============================] - 0s 611us/step\n"
     ]
    },
    {
     "data": {
      "text/plain": [
       "array([[0.12040466, 0.18937503, 0.69022036],\n",
       "       [0.1646465 , 0.2626749 , 0.57267857],\n",
       "       [0.12998892, 0.287066  , 0.58294505],\n",
       "       ...,\n",
       "       [0.12184119, 0.2023606 , 0.6757982 ],\n",
       "       [0.13124481, 0.20243984, 0.6663153 ],\n",
       "       [0.1322742 , 0.23298715, 0.6347386 ]], dtype=float32)"
      ]
     },
     "execution_count": 58,
     "metadata": {},
     "output_type": "execute_result"
    }
   ],
   "source": [
    "# test_scaled 컬럼을 predict하고 y_pred에 할당하기\n",
    "\n",
    "y_pred = model.predict(test_scaled)\n",
    "y_pred"
   ]
  },
  {
   "cell_type": "code",
   "execution_count": 59,
   "id": "452acdac",
   "metadata": {},
   "outputs": [
    {
     "data": {
      "text/html": [
       "<div>\n",
       "<style scoped>\n",
       "    .dataframe tbody tr th:only-of-type {\n",
       "        vertical-align: middle;\n",
       "    }\n",
       "\n",
       "    .dataframe tbody tr th {\n",
       "        vertical-align: top;\n",
       "    }\n",
       "\n",
       "    .dataframe thead th {\n",
       "        text-align: right;\n",
       "    }\n",
       "</style>\n",
       "<table border=\"1\" class=\"dataframe\">\n",
       "  <thead>\n",
       "    <tr style=\"text-align: right;\">\n",
       "      <th></th>\n",
       "      <th>0</th>\n",
       "      <th>1</th>\n",
       "      <th>2</th>\n",
       "    </tr>\n",
       "  </thead>\n",
       "  <tbody>\n",
       "    <tr>\n",
       "      <th>0</th>\n",
       "      <td>0.120405</td>\n",
       "      <td>0.189375</td>\n",
       "      <td>0.690220</td>\n",
       "    </tr>\n",
       "    <tr>\n",
       "      <th>1</th>\n",
       "      <td>0.164647</td>\n",
       "      <td>0.262675</td>\n",
       "      <td>0.572679</td>\n",
       "    </tr>\n",
       "    <tr>\n",
       "      <th>2</th>\n",
       "      <td>0.129989</td>\n",
       "      <td>0.287066</td>\n",
       "      <td>0.582945</td>\n",
       "    </tr>\n",
       "    <tr>\n",
       "      <th>3</th>\n",
       "      <td>0.134662</td>\n",
       "      <td>0.178712</td>\n",
       "      <td>0.686625</td>\n",
       "    </tr>\n",
       "    <tr>\n",
       "      <th>4</th>\n",
       "      <td>0.140206</td>\n",
       "      <td>0.214543</td>\n",
       "      <td>0.645251</td>\n",
       "    </tr>\n",
       "    <tr>\n",
       "      <th>...</th>\n",
       "      <td>...</td>\n",
       "      <td>...</td>\n",
       "      <td>...</td>\n",
       "    </tr>\n",
       "    <tr>\n",
       "      <th>9995</th>\n",
       "      <td>0.153055</td>\n",
       "      <td>0.280263</td>\n",
       "      <td>0.566682</td>\n",
       "    </tr>\n",
       "    <tr>\n",
       "      <th>9996</th>\n",
       "      <td>0.129872</td>\n",
       "      <td>0.227596</td>\n",
       "      <td>0.642532</td>\n",
       "    </tr>\n",
       "    <tr>\n",
       "      <th>9997</th>\n",
       "      <td>0.121841</td>\n",
       "      <td>0.202361</td>\n",
       "      <td>0.675798</td>\n",
       "    </tr>\n",
       "    <tr>\n",
       "      <th>9998</th>\n",
       "      <td>0.131245</td>\n",
       "      <td>0.202440</td>\n",
       "      <td>0.666315</td>\n",
       "    </tr>\n",
       "    <tr>\n",
       "      <th>9999</th>\n",
       "      <td>0.132274</td>\n",
       "      <td>0.232987</td>\n",
       "      <td>0.634739</td>\n",
       "    </tr>\n",
       "  </tbody>\n",
       "</table>\n",
       "<p>10000 rows × 3 columns</p>\n",
       "</div>"
      ],
      "text/plain": [
       "             0         1         2\n",
       "0     0.120405  0.189375  0.690220\n",
       "1     0.164647  0.262675  0.572679\n",
       "2     0.129989  0.287066  0.582945\n",
       "3     0.134662  0.178712  0.686625\n",
       "4     0.140206  0.214543  0.645251\n",
       "...        ...       ...       ...\n",
       "9995  0.153055  0.280263  0.566682\n",
       "9996  0.129872  0.227596  0.642532\n",
       "9997  0.121841  0.202361  0.675798\n",
       "9998  0.131245  0.202440  0.666315\n",
       "9999  0.132274  0.232987  0.634739\n",
       "\n",
       "[10000 rows x 3 columns]"
      ]
     },
     "execution_count": 59,
     "metadata": {},
     "output_type": "execute_result"
    }
   ],
   "source": [
    "# y_pred을 dataframe으로 변환해주기\n",
    "\n",
    "y_pred_df = pd.DataFrame(y_pred)\n",
    "y_pred_df"
   ]
  },
  {
   "cell_type": "code",
   "execution_count": 60,
   "id": "ecf2c107",
   "metadata": {},
   "outputs": [],
   "source": [
    "# Rangeindex를 submission과 동일하게 0,1,2로 할당해주기\n",
    "\n",
    "y_pred_df.columns = ['0','1','2']"
   ]
  },
  {
   "cell_type": "code",
   "execution_count": 61,
   "id": "c907251c",
   "metadata": {},
   "outputs": [
    {
     "data": {
      "text/html": [
       "<div>\n",
       "<style scoped>\n",
       "    .dataframe tbody tr th:only-of-type {\n",
       "        vertical-align: middle;\n",
       "    }\n",
       "\n",
       "    .dataframe tbody tr th {\n",
       "        vertical-align: top;\n",
       "    }\n",
       "\n",
       "    .dataframe thead th {\n",
       "        text-align: right;\n",
       "    }\n",
       "</style>\n",
       "<table border=\"1\" class=\"dataframe\">\n",
       "  <thead>\n",
       "    <tr style=\"text-align: right;\">\n",
       "      <th></th>\n",
       "      <th>0</th>\n",
       "      <th>1</th>\n",
       "      <th>2</th>\n",
       "    </tr>\n",
       "  </thead>\n",
       "  <tbody>\n",
       "    <tr>\n",
       "      <th>0</th>\n",
       "      <td>0.139472</td>\n",
       "      <td>0.200510</td>\n",
       "      <td>0.660017</td>\n",
       "    </tr>\n",
       "    <tr>\n",
       "      <th>1</th>\n",
       "      <td>0.162918</td>\n",
       "      <td>0.246530</td>\n",
       "      <td>0.590552</td>\n",
       "    </tr>\n",
       "    <tr>\n",
       "      <th>2</th>\n",
       "      <td>0.134534</td>\n",
       "      <td>0.295559</td>\n",
       "      <td>0.569907</td>\n",
       "    </tr>\n",
       "    <tr>\n",
       "      <th>3</th>\n",
       "      <td>0.135486</td>\n",
       "      <td>0.204858</td>\n",
       "      <td>0.659655</td>\n",
       "    </tr>\n",
       "    <tr>\n",
       "      <th>4</th>\n",
       "      <td>0.126425</td>\n",
       "      <td>0.237917</td>\n",
       "      <td>0.635658</td>\n",
       "    </tr>\n",
       "    <tr>\n",
       "      <th>...</th>\n",
       "      <td>...</td>\n",
       "      <td>...</td>\n",
       "      <td>...</td>\n",
       "    </tr>\n",
       "    <tr>\n",
       "      <th>9995</th>\n",
       "      <td>0.145932</td>\n",
       "      <td>0.253185</td>\n",
       "      <td>0.600883</td>\n",
       "    </tr>\n",
       "    <tr>\n",
       "      <th>9996</th>\n",
       "      <td>0.154859</td>\n",
       "      <td>0.219839</td>\n",
       "      <td>0.625302</td>\n",
       "    </tr>\n",
       "    <tr>\n",
       "      <th>9997</th>\n",
       "      <td>0.132094</td>\n",
       "      <td>0.233152</td>\n",
       "      <td>0.634754</td>\n",
       "    </tr>\n",
       "    <tr>\n",
       "      <th>9998</th>\n",
       "      <td>0.117490</td>\n",
       "      <td>0.231879</td>\n",
       "      <td>0.650631</td>\n",
       "    </tr>\n",
       "    <tr>\n",
       "      <th>9999</th>\n",
       "      <td>0.143308</td>\n",
       "      <td>0.234322</td>\n",
       "      <td>0.622370</td>\n",
       "    </tr>\n",
       "  </tbody>\n",
       "</table>\n",
       "<p>10000 rows × 3 columns</p>\n",
       "</div>"
      ],
      "text/plain": [
       "             0         1         2\n",
       "0     0.139472  0.200510  0.660017\n",
       "1     0.162918  0.246530  0.590552\n",
       "2     0.134534  0.295559  0.569907\n",
       "3     0.135486  0.204858  0.659655\n",
       "4     0.126425  0.237917  0.635658\n",
       "...        ...       ...       ...\n",
       "9995  0.145932  0.253185  0.600883\n",
       "9996  0.154859  0.219839  0.625302\n",
       "9997  0.132094  0.233152  0.634754\n",
       "9998  0.117490  0.231879  0.650631\n",
       "9999  0.143308  0.234322  0.622370\n",
       "\n",
       "[10000 rows x 3 columns]"
      ]
     },
     "execution_count": 61,
     "metadata": {},
     "output_type": "execute_result"
    }
   ],
   "source": [
    "submission.drop(columns='index')"
   ]
  },
  {
   "cell_type": "code",
   "execution_count": 62,
   "id": "5ab4b788",
   "metadata": {},
   "outputs": [],
   "source": [
    "# y_pred_df의 값을 submission에 할당하기\n",
    "\n",
    "submission['0'] = y_pred_df['0']\n",
    "submission['1'] = y_pred_df['1']\n",
    "submission['2'] = y_pred_df['2']"
   ]
  },
  {
   "cell_type": "code",
   "execution_count": 63,
   "id": "85f5221d",
   "metadata": {},
   "outputs": [
    {
     "data": {
      "text/html": [
       "<div>\n",
       "<style scoped>\n",
       "    .dataframe tbody tr th:only-of-type {\n",
       "        vertical-align: middle;\n",
       "    }\n",
       "\n",
       "    .dataframe tbody tr th {\n",
       "        vertical-align: top;\n",
       "    }\n",
       "\n",
       "    .dataframe thead th {\n",
       "        text-align: right;\n",
       "    }\n",
       "</style>\n",
       "<table border=\"1\" class=\"dataframe\">\n",
       "  <thead>\n",
       "    <tr style=\"text-align: right;\">\n",
       "      <th></th>\n",
       "      <th>index</th>\n",
       "      <th>0</th>\n",
       "      <th>1</th>\n",
       "      <th>2</th>\n",
       "    </tr>\n",
       "  </thead>\n",
       "  <tbody>\n",
       "    <tr>\n",
       "      <th>0</th>\n",
       "      <td>26457</td>\n",
       "      <td>0.120405</td>\n",
       "      <td>0.189375</td>\n",
       "      <td>0.690220</td>\n",
       "    </tr>\n",
       "    <tr>\n",
       "      <th>1</th>\n",
       "      <td>26458</td>\n",
       "      <td>0.164647</td>\n",
       "      <td>0.262675</td>\n",
       "      <td>0.572679</td>\n",
       "    </tr>\n",
       "    <tr>\n",
       "      <th>2</th>\n",
       "      <td>26459</td>\n",
       "      <td>0.129989</td>\n",
       "      <td>0.287066</td>\n",
       "      <td>0.582945</td>\n",
       "    </tr>\n",
       "    <tr>\n",
       "      <th>3</th>\n",
       "      <td>26460</td>\n",
       "      <td>0.134662</td>\n",
       "      <td>0.178712</td>\n",
       "      <td>0.686625</td>\n",
       "    </tr>\n",
       "    <tr>\n",
       "      <th>4</th>\n",
       "      <td>26461</td>\n",
       "      <td>0.140206</td>\n",
       "      <td>0.214543</td>\n",
       "      <td>0.645251</td>\n",
       "    </tr>\n",
       "    <tr>\n",
       "      <th>...</th>\n",
       "      <td>...</td>\n",
       "      <td>...</td>\n",
       "      <td>...</td>\n",
       "      <td>...</td>\n",
       "    </tr>\n",
       "    <tr>\n",
       "      <th>9995</th>\n",
       "      <td>36452</td>\n",
       "      <td>0.153055</td>\n",
       "      <td>0.280263</td>\n",
       "      <td>0.566682</td>\n",
       "    </tr>\n",
       "    <tr>\n",
       "      <th>9996</th>\n",
       "      <td>36453</td>\n",
       "      <td>0.129872</td>\n",
       "      <td>0.227596</td>\n",
       "      <td>0.642532</td>\n",
       "    </tr>\n",
       "    <tr>\n",
       "      <th>9997</th>\n",
       "      <td>36454</td>\n",
       "      <td>0.121841</td>\n",
       "      <td>0.202361</td>\n",
       "      <td>0.675798</td>\n",
       "    </tr>\n",
       "    <tr>\n",
       "      <th>9998</th>\n",
       "      <td>36455</td>\n",
       "      <td>0.131245</td>\n",
       "      <td>0.202440</td>\n",
       "      <td>0.666315</td>\n",
       "    </tr>\n",
       "    <tr>\n",
       "      <th>9999</th>\n",
       "      <td>36456</td>\n",
       "      <td>0.132274</td>\n",
       "      <td>0.232987</td>\n",
       "      <td>0.634739</td>\n",
       "    </tr>\n",
       "  </tbody>\n",
       "</table>\n",
       "<p>10000 rows × 4 columns</p>\n",
       "</div>"
      ],
      "text/plain": [
       "      index         0         1         2\n",
       "0     26457  0.120405  0.189375  0.690220\n",
       "1     26458  0.164647  0.262675  0.572679\n",
       "2     26459  0.129989  0.287066  0.582945\n",
       "3     26460  0.134662  0.178712  0.686625\n",
       "4     26461  0.140206  0.214543  0.645251\n",
       "...     ...       ...       ...       ...\n",
       "9995  36452  0.153055  0.280263  0.566682\n",
       "9996  36453  0.129872  0.227596  0.642532\n",
       "9997  36454  0.121841  0.202361  0.675798\n",
       "9998  36455  0.131245  0.202440  0.666315\n",
       "9999  36456  0.132274  0.232987  0.634739\n",
       "\n",
       "[10000 rows x 4 columns]"
      ]
     },
     "execution_count": 63,
     "metadata": {},
     "output_type": "execute_result"
    }
   ],
   "source": [
    "# submission 컬럼 확인하기\n",
    "\n",
    "submission"
   ]
  },
  {
   "cell_type": "code",
   "execution_count": 64,
   "id": "4e3dc832",
   "metadata": {},
   "outputs": [],
   "source": [
    "# submission 파일 저장하기\n",
    "\n",
    "submission.to_csv('C:/Users/parkk/ais7/credit2/submission.csv', index=False)"
   ]
  },
  {
   "cell_type": "code",
   "execution_count": 65,
   "id": "235249f6",
   "metadata": {},
   "outputs": [
    {
     "data": {
      "text/html": [
       "<div>\n",
       "<style scoped>\n",
       "    .dataframe tbody tr th:only-of-type {\n",
       "        vertical-align: middle;\n",
       "    }\n",
       "\n",
       "    .dataframe tbody tr th {\n",
       "        vertical-align: top;\n",
       "    }\n",
       "\n",
       "    .dataframe thead th {\n",
       "        text-align: right;\n",
       "    }\n",
       "</style>\n",
       "<table border=\"1\" class=\"dataframe\">\n",
       "  <thead>\n",
       "    <tr style=\"text-align: right;\">\n",
       "      <th></th>\n",
       "      <th>index</th>\n",
       "      <th>0</th>\n",
       "      <th>1</th>\n",
       "      <th>2</th>\n",
       "    </tr>\n",
       "  </thead>\n",
       "  <tbody>\n",
       "    <tr>\n",
       "      <th>0</th>\n",
       "      <td>26457</td>\n",
       "      <td>0.120405</td>\n",
       "      <td>0.189375</td>\n",
       "      <td>0.690220</td>\n",
       "    </tr>\n",
       "    <tr>\n",
       "      <th>1</th>\n",
       "      <td>26458</td>\n",
       "      <td>0.164647</td>\n",
       "      <td>0.262675</td>\n",
       "      <td>0.572679</td>\n",
       "    </tr>\n",
       "    <tr>\n",
       "      <th>2</th>\n",
       "      <td>26459</td>\n",
       "      <td>0.129989</td>\n",
       "      <td>0.287066</td>\n",
       "      <td>0.582945</td>\n",
       "    </tr>\n",
       "    <tr>\n",
       "      <th>3</th>\n",
       "      <td>26460</td>\n",
       "      <td>0.134662</td>\n",
       "      <td>0.178712</td>\n",
       "      <td>0.686625</td>\n",
       "    </tr>\n",
       "    <tr>\n",
       "      <th>4</th>\n",
       "      <td>26461</td>\n",
       "      <td>0.140206</td>\n",
       "      <td>0.214543</td>\n",
       "      <td>0.645251</td>\n",
       "    </tr>\n",
       "    <tr>\n",
       "      <th>...</th>\n",
       "      <td>...</td>\n",
       "      <td>...</td>\n",
       "      <td>...</td>\n",
       "      <td>...</td>\n",
       "    </tr>\n",
       "    <tr>\n",
       "      <th>9995</th>\n",
       "      <td>36452</td>\n",
       "      <td>0.153055</td>\n",
       "      <td>0.280263</td>\n",
       "      <td>0.566682</td>\n",
       "    </tr>\n",
       "    <tr>\n",
       "      <th>9996</th>\n",
       "      <td>36453</td>\n",
       "      <td>0.129872</td>\n",
       "      <td>0.227596</td>\n",
       "      <td>0.642532</td>\n",
       "    </tr>\n",
       "    <tr>\n",
       "      <th>9997</th>\n",
       "      <td>36454</td>\n",
       "      <td>0.121841</td>\n",
       "      <td>0.202361</td>\n",
       "      <td>0.675798</td>\n",
       "    </tr>\n",
       "    <tr>\n",
       "      <th>9998</th>\n",
       "      <td>36455</td>\n",
       "      <td>0.131245</td>\n",
       "      <td>0.202440</td>\n",
       "      <td>0.666315</td>\n",
       "    </tr>\n",
       "    <tr>\n",
       "      <th>9999</th>\n",
       "      <td>36456</td>\n",
       "      <td>0.132274</td>\n",
       "      <td>0.232987</td>\n",
       "      <td>0.634739</td>\n",
       "    </tr>\n",
       "  </tbody>\n",
       "</table>\n",
       "<p>10000 rows × 4 columns</p>\n",
       "</div>"
      ],
      "text/plain": [
       "      index         0         1         2\n",
       "0     26457  0.120405  0.189375  0.690220\n",
       "1     26458  0.164647  0.262675  0.572679\n",
       "2     26459  0.129989  0.287066  0.582945\n",
       "3     26460  0.134662  0.178712  0.686625\n",
       "4     26461  0.140206  0.214543  0.645251\n",
       "...     ...       ...       ...       ...\n",
       "9995  36452  0.153055  0.280263  0.566682\n",
       "9996  36453  0.129872  0.227596  0.642532\n",
       "9997  36454  0.121841  0.202361  0.675798\n",
       "9998  36455  0.131245  0.202440  0.666315\n",
       "9999  36456  0.132274  0.232987  0.634739\n",
       "\n",
       "[10000 rows x 4 columns]"
      ]
     },
     "execution_count": 65,
     "metadata": {},
     "output_type": "execute_result"
    }
   ],
   "source": [
    "# read_csv로 저장이 되어있는지 확인하기\n",
    "\n",
    "pd.read_csv('C:/Users/parkk/ais7/credit2/submission.csv')"
   ]
  },
  {
   "cell_type": "code",
   "execution_count": null,
   "id": "36166933",
   "metadata": {},
   "outputs": [],
   "source": []
  },
  {
   "cell_type": "code",
   "execution_count": null,
   "id": "a9753ead",
   "metadata": {},
   "outputs": [],
   "source": []
  }
 ],
 "metadata": {
  "kernelspec": {
   "display_name": "Python 3 (ipykernel)",
   "language": "python",
   "name": "python3"
  },
  "language_info": {
   "codemirror_mode": {
    "name": "ipython",
    "version": 3
   },
   "file_extension": ".py",
   "mimetype": "text/x-python",
   "name": "python",
   "nbconvert_exporter": "python",
   "pygments_lexer": "ipython3",
   "version": "3.9.12"
  }
 },
 "nbformat": 4,
 "nbformat_minor": 5
}
