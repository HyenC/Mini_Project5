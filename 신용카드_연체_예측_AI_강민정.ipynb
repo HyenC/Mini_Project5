{
  "nbformat": 4,
  "nbformat_minor": 0,
  "metadata": {
    "colab": {
      "provenance": [],
      "collapsed_sections": [
        "XNqP3HPQWpNn",
        "5ya2ZBYkgn47",
        "eXz0E-EpCWfO",
        "av_9vAPisB_3",
        "1pwxxhJ7X6NT",
        "NGPztlwrgiDT"
      ]
    },
    "kernelspec": {
      "name": "python3",
      "display_name": "Python 3"
    },
    "language_info": {
      "name": "python"
    }
  },
  "cells": [
    {
      "cell_type": "markdown",
      "source": [
        "# Library Load"
      ],
      "metadata": {
        "id": "5iAoIMx9_E2f"
      }
    },
    {
      "cell_type": "code",
      "source": [
        "import pandas as pd\n",
        "import numpy as np\n",
        "import tensorflow as tf\n",
        "import seaborn as sns\n",
        "import sklearn\n",
        "import matplotlib.pyplot as plt"
      ],
      "metadata": {
        "id": "iab5zJr5ebNu"
      },
      "execution_count": 190,
      "outputs": []
    },
    {
      "cell_type": "markdown",
      "source": [
        "# Dataset Load"
      ],
      "metadata": {
        "id": "OybblWUq_Qw0"
      }
    },
    {
      "cell_type": "code",
      "execution_count": 191,
      "metadata": {
        "colab": {
          "base_uri": "https://localhost:8080/"
        },
        "id": "4BSycH3tdKbo",
        "outputId": "519cf68b-18f3-4109-99e9-9ef876103316"
      },
      "outputs": [
        {
          "output_type": "stream",
          "name": "stdout",
          "text": [
            "Drive already mounted at /gdrive; to attempt to forcibly remount, call drive.mount(\"/gdrive\", force_remount=True).\n"
          ]
        }
      ],
      "source": [
        "from google.colab import drive\n",
        "drive.mount('/gdrive')"
      ]
    },
    {
      "cell_type": "code",
      "source": [
        "path = '/gdrive/My Drive/[Dacon]신용카드 연체 예측 AI/'\n",
        "train = pd.read_csv(path + 'train.csv', index_col=\"index\")\n",
        "test = pd.read_csv(path + 'test.csv', index_col=\"index\")\n",
        "train.shape, test.shape"
      ],
      "metadata": {
        "colab": {
          "base_uri": "https://localhost:8080/"
        },
        "id": "REZPG9p4eMGF",
        "outputId": "25e84549-8d37-4cf3-9989-df35dff0fbcd"
      },
      "execution_count": 192,
      "outputs": [
        {
          "output_type": "execute_result",
          "data": {
            "text/plain": [
              "((26457, 19), (10000, 18))"
            ]
          },
          "metadata": {},
          "execution_count": 192
        }
      ]
    },
    {
      "cell_type": "markdown",
      "source": [
        "# Dataset 기본 정보 탐색"
      ],
      "metadata": {
        "id": "emS1zxHc_V89"
      }
    },
    {
      "cell_type": "markdown",
      "source": [
        "\n",
        "\n",
        "> ### 전체 기본 정보\n",
        "\n",
        "\n"
      ],
      "metadata": {
        "id": "pj143i_W_dUs"
      }
    },
    {
      "cell_type": "code",
      "source": [
        "display(train.info())\n",
        "display(test.info())"
      ],
      "metadata": {
        "colab": {
          "base_uri": "https://localhost:8080/",
          "height": 979
        },
        "id": "lJzSg-BaeNn1",
        "outputId": "920a7f9a-763e-472f-ad7d-ee41d11f0ebc"
      },
      "execution_count": 193,
      "outputs": [
        {
          "output_type": "stream",
          "name": "stdout",
          "text": [
            "<class 'pandas.core.frame.DataFrame'>\n",
            "Int64Index: 26457 entries, 0 to 26456\n",
            "Data columns (total 19 columns):\n",
            " #   Column         Non-Null Count  Dtype  \n",
            "---  ------         --------------  -----  \n",
            " 0   gender         26457 non-null  object \n",
            " 1   car            26457 non-null  object \n",
            " 2   reality        26457 non-null  object \n",
            " 3   child_num      26457 non-null  int64  \n",
            " 4   income_total   26457 non-null  float64\n",
            " 5   income_type    26457 non-null  object \n",
            " 6   edu_type       26457 non-null  object \n",
            " 7   family_type    26457 non-null  object \n",
            " 8   house_type     26457 non-null  object \n",
            " 9   DAYS_BIRTH     26457 non-null  int64  \n",
            " 10  DAYS_EMPLOYED  26457 non-null  int64  \n",
            " 11  FLAG_MOBIL     26457 non-null  int64  \n",
            " 12  work_phone     26457 non-null  int64  \n",
            " 13  phone          26457 non-null  int64  \n",
            " 14  email          26457 non-null  int64  \n",
            " 15  occyp_type     18286 non-null  object \n",
            " 16  family_size    26457 non-null  float64\n",
            " 17  begin_month    26457 non-null  float64\n",
            " 18  credit         26457 non-null  float64\n",
            "dtypes: float64(4), int64(7), object(8)\n",
            "memory usage: 4.0+ MB\n"
          ]
        },
        {
          "output_type": "display_data",
          "data": {
            "text/plain": [
              "None"
            ]
          },
          "metadata": {}
        },
        {
          "output_type": "stream",
          "name": "stdout",
          "text": [
            "<class 'pandas.core.frame.DataFrame'>\n",
            "Int64Index: 10000 entries, 26457 to 36456\n",
            "Data columns (total 18 columns):\n",
            " #   Column         Non-Null Count  Dtype  \n",
            "---  ------         --------------  -----  \n",
            " 0   gender         10000 non-null  object \n",
            " 1   car            10000 non-null  object \n",
            " 2   reality        10000 non-null  object \n",
            " 3   child_num      10000 non-null  int64  \n",
            " 4   income_total   10000 non-null  float64\n",
            " 5   income_type    10000 non-null  object \n",
            " 6   edu_type       10000 non-null  object \n",
            " 7   family_type    10000 non-null  object \n",
            " 8   house_type     10000 non-null  object \n",
            " 9   DAYS_BIRTH     10000 non-null  int64  \n",
            " 10  DAYS_EMPLOYED  10000 non-null  int64  \n",
            " 11  FLAG_MOBIL     10000 non-null  int64  \n",
            " 12  work_phone     10000 non-null  int64  \n",
            " 13  phone          10000 non-null  int64  \n",
            " 14  email          10000 non-null  int64  \n",
            " 15  occyp_type     6848 non-null   object \n",
            " 16  family_size    10000 non-null  float64\n",
            " 17  begin_month    10000 non-null  float64\n",
            "dtypes: float64(3), int64(7), object(8)\n",
            "memory usage: 1.4+ MB\n"
          ]
        },
        {
          "output_type": "display_data",
          "data": {
            "text/plain": [
              "None"
            ]
          },
          "metadata": {}
        }
      ]
    },
    {
      "cell_type": "markdown",
      "source": [
        "> ### 결측치 탐색"
      ],
      "metadata": {
        "id": "M7vjT5ny_vn0"
      }
    },
    {
      "cell_type": "code",
      "source": [
        "train.isnull().sum()"
      ],
      "metadata": {
        "colab": {
          "base_uri": "https://localhost:8080/"
        },
        "id": "xq2TmkF90RE4",
        "outputId": "2c7991f9-ef85-40b2-fedd-a8632b101c3b"
      },
      "execution_count": 194,
      "outputs": [
        {
          "output_type": "execute_result",
          "data": {
            "text/plain": [
              "gender              0\n",
              "car                 0\n",
              "reality             0\n",
              "child_num           0\n",
              "income_total        0\n",
              "income_type         0\n",
              "edu_type            0\n",
              "family_type         0\n",
              "house_type          0\n",
              "DAYS_BIRTH          0\n",
              "DAYS_EMPLOYED       0\n",
              "FLAG_MOBIL          0\n",
              "work_phone          0\n",
              "phone               0\n",
              "email               0\n",
              "occyp_type       8171\n",
              "family_size         0\n",
              "begin_month         0\n",
              "credit              0\n",
              "dtype: int64"
            ]
          },
          "metadata": {},
          "execution_count": 194
        }
      ]
    },
    {
      "cell_type": "code",
      "source": [
        "test.isnull().sum()"
      ],
      "metadata": {
        "colab": {
          "base_uri": "https://localhost:8080/"
        },
        "id": "I9UcfLS961Bv",
        "outputId": "e8f32f58-7d3b-4182-8bce-604a3101be07"
      },
      "execution_count": 195,
      "outputs": [
        {
          "output_type": "execute_result",
          "data": {
            "text/plain": [
              "gender              0\n",
              "car                 0\n",
              "reality             0\n",
              "child_num           0\n",
              "income_total        0\n",
              "income_type         0\n",
              "edu_type            0\n",
              "family_type         0\n",
              "house_type          0\n",
              "DAYS_BIRTH          0\n",
              "DAYS_EMPLOYED       0\n",
              "FLAG_MOBIL          0\n",
              "work_phone          0\n",
              "phone               0\n",
              "email               0\n",
              "occyp_type       3152\n",
              "family_size         0\n",
              "begin_month         0\n",
              "dtype: int64"
            ]
          },
          "metadata": {},
          "execution_count": 195
        }
      ]
    },
    {
      "cell_type": "markdown",
      "source": [
        "*   **occyp_type 결측치 대체 필요함**\n",
        "\n",
        "\n",
        "\n",
        "\n",
        "\n"
      ],
      "metadata": {
        "id": "H8qtbUNIPJOd"
      }
    },
    {
      "cell_type": "markdown",
      "source": [
        "> ### 통계 정보 탐색"
      ],
      "metadata": {
        "id": "qWwNBtiR_29K"
      }
    },
    {
      "cell_type": "code",
      "source": [
        "train.describe()"
      ],
      "metadata": {
        "colab": {
          "base_uri": "https://localhost:8080/",
          "height": 364
        },
        "id": "ijzDpLZp_1tr",
        "outputId": "cc70d37f-506f-4648-aa28-1bfc31b84b48"
      },
      "execution_count": 196,
      "outputs": [
        {
          "output_type": "execute_result",
          "data": {
            "text/plain": [
              "          child_num  income_total    DAYS_BIRTH  DAYS_EMPLOYED  FLAG_MOBIL  \\\n",
              "count  26457.000000  2.645700e+04  26457.000000   26457.000000     26457.0   \n",
              "mean       0.428658  1.873065e+05 -15958.053899   59068.750728         1.0   \n",
              "std        0.747326  1.018784e+05   4201.589022  137475.427503         0.0   \n",
              "min        0.000000  2.700000e+04 -25152.000000  -15713.000000         1.0   \n",
              "25%        0.000000  1.215000e+05 -19431.000000   -3153.000000         1.0   \n",
              "50%        0.000000  1.575000e+05 -15547.000000   -1539.000000         1.0   \n",
              "75%        1.000000  2.250000e+05 -12446.000000    -407.000000         1.0   \n",
              "max       19.000000  1.575000e+06  -7705.000000  365243.000000         1.0   \n",
              "\n",
              "         work_phone         phone         email   family_size   begin_month  \\\n",
              "count  26457.000000  26457.000000  26457.000000  26457.000000  26457.000000   \n",
              "mean       0.224742      0.294251      0.091280      2.196848    -26.123294   \n",
              "std        0.417420      0.455714      0.288013      0.916717     16.559550   \n",
              "min        0.000000      0.000000      0.000000      1.000000    -60.000000   \n",
              "25%        0.000000      0.000000      0.000000      2.000000    -39.000000   \n",
              "50%        0.000000      0.000000      0.000000      2.000000    -24.000000   \n",
              "75%        0.000000      1.000000      0.000000      3.000000    -12.000000   \n",
              "max        1.000000      1.000000      1.000000     20.000000      0.000000   \n",
              "\n",
              "             credit  \n",
              "count  26457.000000  \n",
              "mean       1.519560  \n",
              "std        0.702283  \n",
              "min        0.000000  \n",
              "25%        1.000000  \n",
              "50%        2.000000  \n",
              "75%        2.000000  \n",
              "max        2.000000  "
            ],
            "text/html": [
              "\n",
              "  <div id=\"df-a3786969-ca94-496f-931e-16517cb63f8e\">\n",
              "    <div class=\"colab-df-container\">\n",
              "      <div>\n",
              "<style scoped>\n",
              "    .dataframe tbody tr th:only-of-type {\n",
              "        vertical-align: middle;\n",
              "    }\n",
              "\n",
              "    .dataframe tbody tr th {\n",
              "        vertical-align: top;\n",
              "    }\n",
              "\n",
              "    .dataframe thead th {\n",
              "        text-align: right;\n",
              "    }\n",
              "</style>\n",
              "<table border=\"1\" class=\"dataframe\">\n",
              "  <thead>\n",
              "    <tr style=\"text-align: right;\">\n",
              "      <th></th>\n",
              "      <th>child_num</th>\n",
              "      <th>income_total</th>\n",
              "      <th>DAYS_BIRTH</th>\n",
              "      <th>DAYS_EMPLOYED</th>\n",
              "      <th>FLAG_MOBIL</th>\n",
              "      <th>work_phone</th>\n",
              "      <th>phone</th>\n",
              "      <th>email</th>\n",
              "      <th>family_size</th>\n",
              "      <th>begin_month</th>\n",
              "      <th>credit</th>\n",
              "    </tr>\n",
              "  </thead>\n",
              "  <tbody>\n",
              "    <tr>\n",
              "      <th>count</th>\n",
              "      <td>26457.000000</td>\n",
              "      <td>2.645700e+04</td>\n",
              "      <td>26457.000000</td>\n",
              "      <td>26457.000000</td>\n",
              "      <td>26457.0</td>\n",
              "      <td>26457.000000</td>\n",
              "      <td>26457.000000</td>\n",
              "      <td>26457.000000</td>\n",
              "      <td>26457.000000</td>\n",
              "      <td>26457.000000</td>\n",
              "      <td>26457.000000</td>\n",
              "    </tr>\n",
              "    <tr>\n",
              "      <th>mean</th>\n",
              "      <td>0.428658</td>\n",
              "      <td>1.873065e+05</td>\n",
              "      <td>-15958.053899</td>\n",
              "      <td>59068.750728</td>\n",
              "      <td>1.0</td>\n",
              "      <td>0.224742</td>\n",
              "      <td>0.294251</td>\n",
              "      <td>0.091280</td>\n",
              "      <td>2.196848</td>\n",
              "      <td>-26.123294</td>\n",
              "      <td>1.519560</td>\n",
              "    </tr>\n",
              "    <tr>\n",
              "      <th>std</th>\n",
              "      <td>0.747326</td>\n",
              "      <td>1.018784e+05</td>\n",
              "      <td>4201.589022</td>\n",
              "      <td>137475.427503</td>\n",
              "      <td>0.0</td>\n",
              "      <td>0.417420</td>\n",
              "      <td>0.455714</td>\n",
              "      <td>0.288013</td>\n",
              "      <td>0.916717</td>\n",
              "      <td>16.559550</td>\n",
              "      <td>0.702283</td>\n",
              "    </tr>\n",
              "    <tr>\n",
              "      <th>min</th>\n",
              "      <td>0.000000</td>\n",
              "      <td>2.700000e+04</td>\n",
              "      <td>-25152.000000</td>\n",
              "      <td>-15713.000000</td>\n",
              "      <td>1.0</td>\n",
              "      <td>0.000000</td>\n",
              "      <td>0.000000</td>\n",
              "      <td>0.000000</td>\n",
              "      <td>1.000000</td>\n",
              "      <td>-60.000000</td>\n",
              "      <td>0.000000</td>\n",
              "    </tr>\n",
              "    <tr>\n",
              "      <th>25%</th>\n",
              "      <td>0.000000</td>\n",
              "      <td>1.215000e+05</td>\n",
              "      <td>-19431.000000</td>\n",
              "      <td>-3153.000000</td>\n",
              "      <td>1.0</td>\n",
              "      <td>0.000000</td>\n",
              "      <td>0.000000</td>\n",
              "      <td>0.000000</td>\n",
              "      <td>2.000000</td>\n",
              "      <td>-39.000000</td>\n",
              "      <td>1.000000</td>\n",
              "    </tr>\n",
              "    <tr>\n",
              "      <th>50%</th>\n",
              "      <td>0.000000</td>\n",
              "      <td>1.575000e+05</td>\n",
              "      <td>-15547.000000</td>\n",
              "      <td>-1539.000000</td>\n",
              "      <td>1.0</td>\n",
              "      <td>0.000000</td>\n",
              "      <td>0.000000</td>\n",
              "      <td>0.000000</td>\n",
              "      <td>2.000000</td>\n",
              "      <td>-24.000000</td>\n",
              "      <td>2.000000</td>\n",
              "    </tr>\n",
              "    <tr>\n",
              "      <th>75%</th>\n",
              "      <td>1.000000</td>\n",
              "      <td>2.250000e+05</td>\n",
              "      <td>-12446.000000</td>\n",
              "      <td>-407.000000</td>\n",
              "      <td>1.0</td>\n",
              "      <td>0.000000</td>\n",
              "      <td>1.000000</td>\n",
              "      <td>0.000000</td>\n",
              "      <td>3.000000</td>\n",
              "      <td>-12.000000</td>\n",
              "      <td>2.000000</td>\n",
              "    </tr>\n",
              "    <tr>\n",
              "      <th>max</th>\n",
              "      <td>19.000000</td>\n",
              "      <td>1.575000e+06</td>\n",
              "      <td>-7705.000000</td>\n",
              "      <td>365243.000000</td>\n",
              "      <td>1.0</td>\n",
              "      <td>1.000000</td>\n",
              "      <td>1.000000</td>\n",
              "      <td>1.000000</td>\n",
              "      <td>20.000000</td>\n",
              "      <td>0.000000</td>\n",
              "      <td>2.000000</td>\n",
              "    </tr>\n",
              "  </tbody>\n",
              "</table>\n",
              "</div>\n",
              "      <button class=\"colab-df-convert\" onclick=\"convertToInteractive('df-a3786969-ca94-496f-931e-16517cb63f8e')\"\n",
              "              title=\"Convert this dataframe to an interactive table.\"\n",
              "              style=\"display:none;\">\n",
              "        \n",
              "  <svg xmlns=\"http://www.w3.org/2000/svg\" height=\"24px\"viewBox=\"0 0 24 24\"\n",
              "       width=\"24px\">\n",
              "    <path d=\"M0 0h24v24H0V0z\" fill=\"none\"/>\n",
              "    <path d=\"M18.56 5.44l.94 2.06.94-2.06 2.06-.94-2.06-.94-.94-2.06-.94 2.06-2.06.94zm-11 1L8.5 8.5l.94-2.06 2.06-.94-2.06-.94L8.5 2.5l-.94 2.06-2.06.94zm10 10l.94 2.06.94-2.06 2.06-.94-2.06-.94-.94-2.06-.94 2.06-2.06.94z\"/><path d=\"M17.41 7.96l-1.37-1.37c-.4-.4-.92-.59-1.43-.59-.52 0-1.04.2-1.43.59L10.3 9.45l-7.72 7.72c-.78.78-.78 2.05 0 2.83L4 21.41c.39.39.9.59 1.41.59.51 0 1.02-.2 1.41-.59l7.78-7.78 2.81-2.81c.8-.78.8-2.07 0-2.86zM5.41 20L4 18.59l7.72-7.72 1.47 1.35L5.41 20z\"/>\n",
              "  </svg>\n",
              "      </button>\n",
              "      \n",
              "  <style>\n",
              "    .colab-df-container {\n",
              "      display:flex;\n",
              "      flex-wrap:wrap;\n",
              "      gap: 12px;\n",
              "    }\n",
              "\n",
              "    .colab-df-convert {\n",
              "      background-color: #E8F0FE;\n",
              "      border: none;\n",
              "      border-radius: 50%;\n",
              "      cursor: pointer;\n",
              "      display: none;\n",
              "      fill: #1967D2;\n",
              "      height: 32px;\n",
              "      padding: 0 0 0 0;\n",
              "      width: 32px;\n",
              "    }\n",
              "\n",
              "    .colab-df-convert:hover {\n",
              "      background-color: #E2EBFA;\n",
              "      box-shadow: 0px 1px 2px rgba(60, 64, 67, 0.3), 0px 1px 3px 1px rgba(60, 64, 67, 0.15);\n",
              "      fill: #174EA6;\n",
              "    }\n",
              "\n",
              "    [theme=dark] .colab-df-convert {\n",
              "      background-color: #3B4455;\n",
              "      fill: #D2E3FC;\n",
              "    }\n",
              "\n",
              "    [theme=dark] .colab-df-convert:hover {\n",
              "      background-color: #434B5C;\n",
              "      box-shadow: 0px 1px 3px 1px rgba(0, 0, 0, 0.15);\n",
              "      filter: drop-shadow(0px 1px 2px rgba(0, 0, 0, 0.3));\n",
              "      fill: #FFFFFF;\n",
              "    }\n",
              "  </style>\n",
              "\n",
              "      <script>\n",
              "        const buttonEl =\n",
              "          document.querySelector('#df-a3786969-ca94-496f-931e-16517cb63f8e button.colab-df-convert');\n",
              "        buttonEl.style.display =\n",
              "          google.colab.kernel.accessAllowed ? 'block' : 'none';\n",
              "\n",
              "        async function convertToInteractive(key) {\n",
              "          const element = document.querySelector('#df-a3786969-ca94-496f-931e-16517cb63f8e');\n",
              "          const dataTable =\n",
              "            await google.colab.kernel.invokeFunction('convertToInteractive',\n",
              "                                                     [key], {});\n",
              "          if (!dataTable) return;\n",
              "\n",
              "          const docLinkHtml = 'Like what you see? Visit the ' +\n",
              "            '<a target=\"_blank\" href=https://colab.research.google.com/notebooks/data_table.ipynb>data table notebook</a>'\n",
              "            + ' to learn more about interactive tables.';\n",
              "          element.innerHTML = '';\n",
              "          dataTable['output_type'] = 'display_data';\n",
              "          await google.colab.output.renderOutput(dataTable, element);\n",
              "          const docLink = document.createElement('div');\n",
              "          docLink.innerHTML = docLinkHtml;\n",
              "          element.appendChild(docLink);\n",
              "        }\n",
              "      </script>\n",
              "    </div>\n",
              "  </div>\n",
              "  "
            ]
          },
          "metadata": {},
          "execution_count": 196
        }
      ]
    },
    {
      "cell_type": "code",
      "source": [
        "test.describe()"
      ],
      "metadata": {
        "colab": {
          "base_uri": "https://localhost:8080/",
          "height": 364
        },
        "id": "p5pBYr8ViWoi",
        "outputId": "891c07e7-8e09-491f-e679-0c01dec6e33c"
      },
      "execution_count": 197,
      "outputs": [
        {
          "output_type": "execute_result",
          "data": {
            "text/plain": [
              "          child_num  income_total    DAYS_BIRTH  DAYS_EMPLOYED  FLAG_MOBIL  \\\n",
              "count  10000.000000  1.000000e+04  10000.000000   10000.000000     10000.0   \n",
              "mean       0.434700  1.850433e+05 -16020.466400   59776.690400         1.0   \n",
              "std        0.729102  1.015398e+05   4197.672887  138121.224504         0.0   \n",
              "min        0.000000  2.700000e+04 -25152.000000  -15661.000000         1.0   \n",
              "25%        0.000000  1.215000e+05 -19483.250000   -3153.000000         1.0   \n",
              "50%        0.000000  1.575000e+05 -15606.000000   -1577.000000         1.0   \n",
              "75%        1.000000  2.250000e+05 -12539.000000    -410.000000         1.0   \n",
              "max        5.000000  1.575000e+06  -7489.000000  365243.000000         1.0   \n",
              "\n",
              "         work_phone         phone         email   family_size   begin_month  \n",
              "count  10000.000000  10000.000000  10000.000000  10000.000000  10000.000000  \n",
              "mean       0.227600      0.296300      0.085600      2.202700    -26.272400  \n",
              "std        0.419304      0.456648      0.279786      0.898272     16.348557  \n",
              "min        0.000000      0.000000      0.000000      1.000000    -60.000000  \n",
              "25%        0.000000      0.000000      0.000000      2.000000    -39.000000  \n",
              "50%        0.000000      0.000000      0.000000      2.000000    -25.000000  \n",
              "75%        0.000000      1.000000      0.000000      3.000000    -12.000000  \n",
              "max        1.000000      1.000000      1.000000      7.000000      0.000000  "
            ],
            "text/html": [
              "\n",
              "  <div id=\"df-4aa2cac9-6513-4bc6-92f2-3e11a94ea22a\">\n",
              "    <div class=\"colab-df-container\">\n",
              "      <div>\n",
              "<style scoped>\n",
              "    .dataframe tbody tr th:only-of-type {\n",
              "        vertical-align: middle;\n",
              "    }\n",
              "\n",
              "    .dataframe tbody tr th {\n",
              "        vertical-align: top;\n",
              "    }\n",
              "\n",
              "    .dataframe thead th {\n",
              "        text-align: right;\n",
              "    }\n",
              "</style>\n",
              "<table border=\"1\" class=\"dataframe\">\n",
              "  <thead>\n",
              "    <tr style=\"text-align: right;\">\n",
              "      <th></th>\n",
              "      <th>child_num</th>\n",
              "      <th>income_total</th>\n",
              "      <th>DAYS_BIRTH</th>\n",
              "      <th>DAYS_EMPLOYED</th>\n",
              "      <th>FLAG_MOBIL</th>\n",
              "      <th>work_phone</th>\n",
              "      <th>phone</th>\n",
              "      <th>email</th>\n",
              "      <th>family_size</th>\n",
              "      <th>begin_month</th>\n",
              "    </tr>\n",
              "  </thead>\n",
              "  <tbody>\n",
              "    <tr>\n",
              "      <th>count</th>\n",
              "      <td>10000.000000</td>\n",
              "      <td>1.000000e+04</td>\n",
              "      <td>10000.000000</td>\n",
              "      <td>10000.000000</td>\n",
              "      <td>10000.0</td>\n",
              "      <td>10000.000000</td>\n",
              "      <td>10000.000000</td>\n",
              "      <td>10000.000000</td>\n",
              "      <td>10000.000000</td>\n",
              "      <td>10000.000000</td>\n",
              "    </tr>\n",
              "    <tr>\n",
              "      <th>mean</th>\n",
              "      <td>0.434700</td>\n",
              "      <td>1.850433e+05</td>\n",
              "      <td>-16020.466400</td>\n",
              "      <td>59776.690400</td>\n",
              "      <td>1.0</td>\n",
              "      <td>0.227600</td>\n",
              "      <td>0.296300</td>\n",
              "      <td>0.085600</td>\n",
              "      <td>2.202700</td>\n",
              "      <td>-26.272400</td>\n",
              "    </tr>\n",
              "    <tr>\n",
              "      <th>std</th>\n",
              "      <td>0.729102</td>\n",
              "      <td>1.015398e+05</td>\n",
              "      <td>4197.672887</td>\n",
              "      <td>138121.224504</td>\n",
              "      <td>0.0</td>\n",
              "      <td>0.419304</td>\n",
              "      <td>0.456648</td>\n",
              "      <td>0.279786</td>\n",
              "      <td>0.898272</td>\n",
              "      <td>16.348557</td>\n",
              "    </tr>\n",
              "    <tr>\n",
              "      <th>min</th>\n",
              "      <td>0.000000</td>\n",
              "      <td>2.700000e+04</td>\n",
              "      <td>-25152.000000</td>\n",
              "      <td>-15661.000000</td>\n",
              "      <td>1.0</td>\n",
              "      <td>0.000000</td>\n",
              "      <td>0.000000</td>\n",
              "      <td>0.000000</td>\n",
              "      <td>1.000000</td>\n",
              "      <td>-60.000000</td>\n",
              "    </tr>\n",
              "    <tr>\n",
              "      <th>25%</th>\n",
              "      <td>0.000000</td>\n",
              "      <td>1.215000e+05</td>\n",
              "      <td>-19483.250000</td>\n",
              "      <td>-3153.000000</td>\n",
              "      <td>1.0</td>\n",
              "      <td>0.000000</td>\n",
              "      <td>0.000000</td>\n",
              "      <td>0.000000</td>\n",
              "      <td>2.000000</td>\n",
              "      <td>-39.000000</td>\n",
              "    </tr>\n",
              "    <tr>\n",
              "      <th>50%</th>\n",
              "      <td>0.000000</td>\n",
              "      <td>1.575000e+05</td>\n",
              "      <td>-15606.000000</td>\n",
              "      <td>-1577.000000</td>\n",
              "      <td>1.0</td>\n",
              "      <td>0.000000</td>\n",
              "      <td>0.000000</td>\n",
              "      <td>0.000000</td>\n",
              "      <td>2.000000</td>\n",
              "      <td>-25.000000</td>\n",
              "    </tr>\n",
              "    <tr>\n",
              "      <th>75%</th>\n",
              "      <td>1.000000</td>\n",
              "      <td>2.250000e+05</td>\n",
              "      <td>-12539.000000</td>\n",
              "      <td>-410.000000</td>\n",
              "      <td>1.0</td>\n",
              "      <td>0.000000</td>\n",
              "      <td>1.000000</td>\n",
              "      <td>0.000000</td>\n",
              "      <td>3.000000</td>\n",
              "      <td>-12.000000</td>\n",
              "    </tr>\n",
              "    <tr>\n",
              "      <th>max</th>\n",
              "      <td>5.000000</td>\n",
              "      <td>1.575000e+06</td>\n",
              "      <td>-7489.000000</td>\n",
              "      <td>365243.000000</td>\n",
              "      <td>1.0</td>\n",
              "      <td>1.000000</td>\n",
              "      <td>1.000000</td>\n",
              "      <td>1.000000</td>\n",
              "      <td>7.000000</td>\n",
              "      <td>0.000000</td>\n",
              "    </tr>\n",
              "  </tbody>\n",
              "</table>\n",
              "</div>\n",
              "      <button class=\"colab-df-convert\" onclick=\"convertToInteractive('df-4aa2cac9-6513-4bc6-92f2-3e11a94ea22a')\"\n",
              "              title=\"Convert this dataframe to an interactive table.\"\n",
              "              style=\"display:none;\">\n",
              "        \n",
              "  <svg xmlns=\"http://www.w3.org/2000/svg\" height=\"24px\"viewBox=\"0 0 24 24\"\n",
              "       width=\"24px\">\n",
              "    <path d=\"M0 0h24v24H0V0z\" fill=\"none\"/>\n",
              "    <path d=\"M18.56 5.44l.94 2.06.94-2.06 2.06-.94-2.06-.94-.94-2.06-.94 2.06-2.06.94zm-11 1L8.5 8.5l.94-2.06 2.06-.94-2.06-.94L8.5 2.5l-.94 2.06-2.06.94zm10 10l.94 2.06.94-2.06 2.06-.94-2.06-.94-.94-2.06-.94 2.06-2.06.94z\"/><path d=\"M17.41 7.96l-1.37-1.37c-.4-.4-.92-.59-1.43-.59-.52 0-1.04.2-1.43.59L10.3 9.45l-7.72 7.72c-.78.78-.78 2.05 0 2.83L4 21.41c.39.39.9.59 1.41.59.51 0 1.02-.2 1.41-.59l7.78-7.78 2.81-2.81c.8-.78.8-2.07 0-2.86zM5.41 20L4 18.59l7.72-7.72 1.47 1.35L5.41 20z\"/>\n",
              "  </svg>\n",
              "      </button>\n",
              "      \n",
              "  <style>\n",
              "    .colab-df-container {\n",
              "      display:flex;\n",
              "      flex-wrap:wrap;\n",
              "      gap: 12px;\n",
              "    }\n",
              "\n",
              "    .colab-df-convert {\n",
              "      background-color: #E8F0FE;\n",
              "      border: none;\n",
              "      border-radius: 50%;\n",
              "      cursor: pointer;\n",
              "      display: none;\n",
              "      fill: #1967D2;\n",
              "      height: 32px;\n",
              "      padding: 0 0 0 0;\n",
              "      width: 32px;\n",
              "    }\n",
              "\n",
              "    .colab-df-convert:hover {\n",
              "      background-color: #E2EBFA;\n",
              "      box-shadow: 0px 1px 2px rgba(60, 64, 67, 0.3), 0px 1px 3px 1px rgba(60, 64, 67, 0.15);\n",
              "      fill: #174EA6;\n",
              "    }\n",
              "\n",
              "    [theme=dark] .colab-df-convert {\n",
              "      background-color: #3B4455;\n",
              "      fill: #D2E3FC;\n",
              "    }\n",
              "\n",
              "    [theme=dark] .colab-df-convert:hover {\n",
              "      background-color: #434B5C;\n",
              "      box-shadow: 0px 1px 3px 1px rgba(0, 0, 0, 0.15);\n",
              "      filter: drop-shadow(0px 1px 2px rgba(0, 0, 0, 0.3));\n",
              "      fill: #FFFFFF;\n",
              "    }\n",
              "  </style>\n",
              "\n",
              "      <script>\n",
              "        const buttonEl =\n",
              "          document.querySelector('#df-4aa2cac9-6513-4bc6-92f2-3e11a94ea22a button.colab-df-convert');\n",
              "        buttonEl.style.display =\n",
              "          google.colab.kernel.accessAllowed ? 'block' : 'none';\n",
              "\n",
              "        async function convertToInteractive(key) {\n",
              "          const element = document.querySelector('#df-4aa2cac9-6513-4bc6-92f2-3e11a94ea22a');\n",
              "          const dataTable =\n",
              "            await google.colab.kernel.invokeFunction('convertToInteractive',\n",
              "                                                     [key], {});\n",
              "          if (!dataTable) return;\n",
              "\n",
              "          const docLinkHtml = 'Like what you see? Visit the ' +\n",
              "            '<a target=\"_blank\" href=https://colab.research.google.com/notebooks/data_table.ipynb>data table notebook</a>'\n",
              "            + ' to learn more about interactive tables.';\n",
              "          element.innerHTML = '';\n",
              "          dataTable['output_type'] = 'display_data';\n",
              "          await google.colab.output.renderOutput(dataTable, element);\n",
              "          const docLink = document.createElement('div');\n",
              "          docLink.innerHTML = docLinkHtml;\n",
              "          element.appendChild(docLink);\n",
              "        }\n",
              "      </script>\n",
              "    </div>\n",
              "  </div>\n",
              "  "
            ]
          },
          "metadata": {},
          "execution_count": 197
        }
      ]
    },
    {
      "cell_type": "markdown",
      "source": [
        "\n",
        "\n",
        "> ### 전체 시각화\n",
        "\n",
        "\n"
      ],
      "metadata": {
        "id": "F1Rm_Kx2Pd5a"
      }
    },
    {
      "cell_type": "code",
      "source": [
        "# 수치형 시각화\n",
        "train.hist(figsize=(10,10));"
      ],
      "metadata": {
        "colab": {
          "base_uri": "https://localhost:8080/",
          "height": 607
        },
        "id": "YqpE3PHqPqMs",
        "outputId": "1dc68154-12e3-48df-a1f6-1f2869b19e5d"
      },
      "execution_count": 198,
      "outputs": [
        {
          "output_type": "display_data",
          "data": {
            "text/plain": [
              "<Figure size 720x720 with 12 Axes>"
            ],
            "image/png": "[encoded data removed]"
          },
          "metadata": {
            "needs_background": "light"
          }
        }
      ]
    },
    {
      "cell_type": "markdown",
      "source": [
        "\n",
        "\n",
        "*   **음수의 값을 가지는 DAYS_BIRTH / begin_month / DAYS_EMPLOYED를 양수로 바꾸기**\n",
        "*   **변수 간의 scale차이가 심함 => 스케일링 필요**\n",
        "\n"
      ],
      "metadata": {
        "id": "03tmgBKyVASN"
      }
    },
    {
      "cell_type": "code",
      "source": [
        "# 범주형 시각화\n",
        "cols = train.select_dtypes(include=\"O\").columns\n",
        "\n",
        "fig, ax = plt.subplots(len(cols)//3 + 1,3,figsize=(20,20))\n",
        "for i in range(0,len(cols),3):\n",
        "    sns.countplot(data=train, x=cols[i], ax=ax[i//3][0])\n",
        "    if len(cols)>i+1:\n",
        "        sns.countplot(data=train, x=cols[i+1], ax=ax[i//3][1])\n",
        "    if len(cols)>i+2:\n",
        "        sns.countplot(data=train, x=cols[i+2], ax=ax[i//3][2])"
      ],
      "metadata": {
        "id": "ch4UcXAMQZ3W",
        "colab": {
          "base_uri": "https://localhost:8080/",
          "height": 647
        },
        "outputId": "1d5185c6-7e4a-4bff-b391-26700831404f"
      },
      "execution_count": 199,
      "outputs": [
        {
          "output_type": "display_data",
          "data": {
            "text/plain": [
              "<Figure size 1440x1440 with 9 Axes>"
            ],
            "image/png": "[encoded data removed]"
          },
          "metadata": {
            "needs_background": "light"
          }
        }
      ]
    },
    {
      "cell_type": "markdown",
      "source": [
        "*   **edu_type / house_type / accyp_type 희솟값 처리 필요**\n",
        "\n"
      ],
      "metadata": {
        "id": "2dTGm1MAThoP"
      }
    },
    {
      "cell_type": "markdown",
      "source": [
        "# Data Preprocessing 1"
      ],
      "metadata": {
        "id": "2m_cxw2EWT-X"
      }
    },
    {
      "cell_type": "markdown",
      "source": [
        "\n",
        "\n",
        "> ### 수치형 데이터 전처리\n",
        "\n"
      ],
      "metadata": {
        "id": "Xd6mhAc3WkCQ"
      }
    },
    {
      "cell_type": "code",
      "source": [
        "# DAYS_BIRTH\n",
        "# DAYS_BIRTH(출생일)을 변형하여 AGE(나이) 파생변수 만들기"
      ],
      "metadata": {
        "id": "hGE_MENKXuoO"
      },
      "execution_count": 200,
      "outputs": []
    },
    {
      "cell_type": "code",
      "source": [
        "train['DAYS_BIRTH'].hist()"
      ],
      "metadata": {
        "id": "zAqVPRjzWStY",
        "colab": {
          "base_uri": "https://localhost:8080/",
          "height": 283
        },
        "outputId": "b66236e8-b9be-4bc6-f69e-052ef34697c8"
      },
      "execution_count": 201,
      "outputs": [
        {
          "output_type": "execute_result",
          "data": {
            "text/plain": [
              "<matplotlib.axes._subplots.AxesSubplot at 0x7f8a83faeb50>"
            ]
          },
          "metadata": {},
          "execution_count": 201
        },
        {
          "output_type": "display_data",
          "data": {
            "text/plain": [
              "<Figure size 432x288 with 1 Axes>"
            ],
            "image/png": "[encoded data removed]"
          },
          "metadata": {
            "needs_background": "light"
          }
        }
      ]
    },
    {
      "cell_type": "code",
      "source": [
        "train['Age'] = (-train['DAYS_BIRTH'])//365\n",
        "train['Age'].hist()"
      ],
      "metadata": {
        "id": "8F92Q93fWvGd",
        "colab": {
          "base_uri": "https://localhost:8080/",
          "height": 283
        },
        "outputId": "d771c6fe-136e-4df2-b259-7ef893357d3b"
      },
      "execution_count": 202,
      "outputs": [
        {
          "output_type": "execute_result",
          "data": {
            "text/plain": [
              "<matplotlib.axes._subplots.AxesSubplot at 0x7f8a68ff2fd0>"
            ]
          },
          "metadata": {},
          "execution_count": 202
        },
        {
          "output_type": "display_data",
          "data": {
            "text/plain": [
              "<Figure size 432x288 with 1 Axes>"
            ],
            "image/png": "[encoded data removed]"
          },
          "metadata": {
            "needs_background": "light"
          }
        }
      ]
    },
    {
      "cell_type": "code",
      "source": [
        "test['Age'] = (-test['DAYS_BIRTH'])//365\n",
        "test['Age'].hist()"
      ],
      "metadata": {
        "id": "muMoh1ZAmA1o",
        "colab": {
          "base_uri": "https://localhost:8080/",
          "height": 283
        },
        "outputId": "b8bc0c08-027c-4034-db78-f9742a0ffd74"
      },
      "execution_count": 203,
      "outputs": [
        {
          "output_type": "execute_result",
          "data": {
            "text/plain": [
              "<matplotlib.axes._subplots.AxesSubplot at 0x7f8a68e6b850>"
            ]
          },
          "metadata": {},
          "execution_count": 203
        },
        {
          "output_type": "display_data",
          "data": {
            "text/plain": [
              "<Figure size 432x288 with 1 Axes>"
            ],
            "image/png": "[encoded data removed]"
          },
          "metadata": {
            "needs_background": "light"
          }
        }
      ]
    },
    {
      "cell_type": "code",
      "source": [
        "# DAYS_EMPLOYED\n",
        "# DAYS_EMPLOYED(업무 시작일)이 양수면 고용되지 않은 상태 => 모두 0으로 바꾸기\n",
        "# DAYS_EMPLOYED(업무 시작일)을 일에서 연으로 나타내어 Year_EMPLOYED 파생변수 생성하기"
      ],
      "metadata": {
        "id": "dqMgM9txWu8y"
      },
      "execution_count": 204,
      "outputs": []
    },
    {
      "cell_type": "code",
      "source": [
        "train.loc[train['DAYS_EMPLOYED']>=0,'DAYS_EMPLOYED'] = 0 "
      ],
      "metadata": {
        "id": "gDsWZSNleHOe"
      },
      "execution_count": 205,
      "outputs": []
    },
    {
      "cell_type": "code",
      "source": [
        "train['DAYS_EMPLOYED'].hist()"
      ],
      "metadata": {
        "id": "03BKbDlEfb4k",
        "colab": {
          "base_uri": "https://localhost:8080/",
          "height": 286
        },
        "outputId": "1afa92b9-7787-4eae-e4aa-36d528c71b90"
      },
      "execution_count": 206,
      "outputs": [
        {
          "output_type": "execute_result",
          "data": {
            "text/plain": [
              "<matplotlib.axes._subplots.AxesSubplot at 0x7f8a68c772e0>"
            ]
          },
          "metadata": {},
          "execution_count": 206
        },
        {
          "output_type": "display_data",
          "data": {
            "text/plain": [
              "<Figure size 432x288 with 1 Axes>"
            ],
            "image/png": "[encoded data removed]"
          },
          "metadata": {
            "needs_background": "light"
          }
        }
      ]
    },
    {
      "cell_type": "code",
      "source": [
        "train['Year_EMPLOYED'] = (-train['DAYS_EMPLOYED'])//356\n",
        "train['Year_EMPLOYED'].hist()"
      ],
      "metadata": {
        "id": "aSYLLrWlWS6f",
        "colab": {
          "base_uri": "https://localhost:8080/",
          "height": 283
        },
        "outputId": "ee0ed321-aaa7-49dc-f2e6-6ca7579382b9"
      },
      "execution_count": 207,
      "outputs": [
        {
          "output_type": "execute_result",
          "data": {
            "text/plain": [
              "<matplotlib.axes._subplots.AxesSubplot at 0x7f8a68fba3a0>"
            ]
          },
          "metadata": {},
          "execution_count": 207
        },
        {
          "output_type": "display_data",
          "data": {
            "text/plain": [
              "<Figure size 432x288 with 1 Axes>"
            ],
            "image/png": "[encoded data removed]"
          },
          "metadata": {
            "needs_background": "light"
          }
        }
      ]
    },
    {
      "cell_type": "code",
      "source": [
        "test.loc[test['DAYS_EMPLOYED']>=0,'DAYS_EMPLOYED'] = 0 \n",
        "test['Year_EMPLOYED'] = (-test['DAYS_EMPLOYED'])//356\n",
        "test['Year_EMPLOYED'].hist()"
      ],
      "metadata": {
        "id": "_LOPtqoJmHLN",
        "colab": {
          "base_uri": "https://localhost:8080/",
          "height": 283
        },
        "outputId": "73c417a1-6baf-413b-9d5a-3d0c878632f8"
      },
      "execution_count": 208,
      "outputs": [
        {
          "output_type": "execute_result",
          "data": {
            "text/plain": [
              "<matplotlib.axes._subplots.AxesSubplot at 0x7f8a68fd7250>"
            ]
          },
          "metadata": {},
          "execution_count": 208
        },
        {
          "output_type": "display_data",
          "data": {
            "text/plain": [
              "<Figure size 432x288 with 1 Axes>"
            ],
            "image/png": "[encoded data removed]"
          },
          "metadata": {
            "needs_background": "light"
          }
        }
      ]
    },
    {
      "cell_type": "code",
      "source": [
        "# begin_month \n",
        "# begin_month(신용카드 발급 월) 양수로 나타내기"
      ],
      "metadata": {
        "id": "OVqpIzvWWTAT"
      },
      "execution_count": 209,
      "outputs": []
    },
    {
      "cell_type": "code",
      "source": [
        "train['begin_month'].hist()"
      ],
      "metadata": {
        "id": "H05mgtXFgCIe",
        "colab": {
          "base_uri": "https://localhost:8080/",
          "height": 283
        },
        "outputId": "388ae240-a690-4fa7-ec0d-35eb68092a6e"
      },
      "execution_count": 210,
      "outputs": [
        {
          "output_type": "execute_result",
          "data": {
            "text/plain": [
              "<matplotlib.axes._subplots.AxesSubplot at 0x7f8a68f77a60>"
            ]
          },
          "metadata": {},
          "execution_count": 210
        },
        {
          "output_type": "display_data",
          "data": {
            "text/plain": [
              "<Figure size 432x288 with 1 Axes>"
            ],
            "image/png": "[encoded data removed]"
          },
          "metadata": {
            "needs_background": "light"
          }
        }
      ]
    },
    {
      "cell_type": "code",
      "source": [
        "train['begin_month'] = -train['begin_month']"
      ],
      "metadata": {
        "id": "WsUN7L6IgIsS"
      },
      "execution_count": 211,
      "outputs": []
    },
    {
      "cell_type": "code",
      "source": [
        "train['begin_month'].hist()"
      ],
      "metadata": {
        "id": "G733jt7JgRpk",
        "colab": {
          "base_uri": "https://localhost:8080/",
          "height": 283
        },
        "outputId": "e5f538ce-9d0c-4f7a-b066-00bb4f203680"
      },
      "execution_count": 212,
      "outputs": [
        {
          "output_type": "execute_result",
          "data": {
            "text/plain": [
              "<matplotlib.axes._subplots.AxesSubplot at 0x7f8a68fef4f0>"
            ]
          },
          "metadata": {},
          "execution_count": 212
        },
        {
          "output_type": "display_data",
          "data": {
            "text/plain": [
              "<Figure size 432x288 with 1 Axes>"
            ],
            "image/png": "[encoded data removed]"
          },
          "metadata": {
            "needs_background": "light"
          }
        }
      ]
    },
    {
      "cell_type": "code",
      "source": [
        "test['begin_month'] = -test['begin_month']\n",
        "test['begin_month'].hist()"
      ],
      "metadata": {
        "id": "GpfkVe1umOY9",
        "colab": {
          "base_uri": "https://localhost:8080/",
          "height": 283
        },
        "outputId": "52b1366c-a117-4109-85fa-6b51d4db9733"
      },
      "execution_count": 213,
      "outputs": [
        {
          "output_type": "execute_result",
          "data": {
            "text/plain": [
              "<matplotlib.axes._subplots.AxesSubplot at 0x7f8a7a3ee340>"
            ]
          },
          "metadata": {},
          "execution_count": 213
        },
        {
          "output_type": "display_data",
          "data": {
            "text/plain": [
              "<Figure size 432x288 with 1 Axes>"
            ],
            "image/png": "[encoded data removed]"
          },
          "metadata": {
            "needs_background": "light"
          }
        }
      ]
    },
    {
      "cell_type": "markdown",
      "source": [
        "> ### 범주형 데이터 전처리"
      ],
      "metadata": {
        "id": "XNqP3HPQWpNn"
      }
    },
    {
      "cell_type": "code",
      "source": [
        "# edu_type\n",
        "# secondary special : 보조 특수\n",
        "# Higher education : 고등 교육\n",
        "# Incomplete higher : 불안전한 상위\n",
        "# Lower secondary : 중학교\n",
        "# Academic degree : 학업 학위"
      ],
      "metadata": {
        "id": "eYOG6Za5gQIW"
      },
      "execution_count": 214,
      "outputs": []
    },
    {
      "cell_type": "code",
      "source": [
        "train['edu_type'].value_counts()"
      ],
      "metadata": {
        "id": "1asFV-PxWt-f",
        "colab": {
          "base_uri": "https://localhost:8080/"
        },
        "outputId": "c1b917f0-70e3-4079-8e49-d8a6d591fef7"
      },
      "execution_count": 215,
      "outputs": [
        {
          "output_type": "execute_result",
          "data": {
            "text/plain": [
              "Secondary / secondary special    17995\n",
              "Higher education                  7162\n",
              "Incomplete higher                 1020\n",
              "Lower secondary                    257\n",
              "Academic degree                     23\n",
              "Name: edu_type, dtype: int64"
            ]
          },
          "metadata": {},
          "execution_count": 215
        }
      ]
    },
    {
      "cell_type": "code",
      "source": [
        "train.loc[(train['edu_type']==\"Lower secondary\")|(train['edu_type']==\"Academic degree\"),\"edu_type\"] = \"Else\""
      ],
      "metadata": {
        "id": "vUEbL9ZsiEE6"
      },
      "execution_count": 216,
      "outputs": []
    },
    {
      "cell_type": "code",
      "source": [
        "train['edu_type'].value_counts()"
      ],
      "metadata": {
        "id": "Wh4sGOoDjtth",
        "colab": {
          "base_uri": "https://localhost:8080/"
        },
        "outputId": "4aae633d-daf8-414b-fcca-72eef0273e1a"
      },
      "execution_count": 217,
      "outputs": [
        {
          "output_type": "execute_result",
          "data": {
            "text/plain": [
              "Secondary / secondary special    17995\n",
              "Higher education                  7162\n",
              "Incomplete higher                 1020\n",
              "Else                               280\n",
              "Name: edu_type, dtype: int64"
            ]
          },
          "metadata": {},
          "execution_count": 217
        }
      ]
    },
    {
      "cell_type": "code",
      "source": [
        "test.loc[(test['edu_type']==\"Lower secondary\")|(test['edu_type']==\"Academic degree\"),\"edu_type\"] = \"Else\"\n",
        "test['edu_type'].value_counts()"
      ],
      "metadata": {
        "id": "bx470NCQmUt_",
        "colab": {
          "base_uri": "https://localhost:8080/"
        },
        "outputId": "4e70fc7a-20bb-44a3-856f-6322b466c284"
      },
      "execution_count": 218,
      "outputs": [
        {
          "output_type": "execute_result",
          "data": {
            "text/plain": [
              "Secondary / secondary special    6782\n",
              "Higher education                 2702\n",
              "Incomplete higher                 390\n",
              "Else                              126\n",
              "Name: edu_type, dtype: int64"
            ]
          },
          "metadata": {},
          "execution_count": 218
        }
      ]
    },
    {
      "cell_type": "code",
      "source": [
        "# house_type "
      ],
      "metadata": {
        "id": "yskWSYh1Wt0x"
      },
      "execution_count": 219,
      "outputs": []
    },
    {
      "cell_type": "code",
      "source": [
        "train['house_type'].value_counts()"
      ],
      "metadata": {
        "id": "efc6UonjhBO7",
        "colab": {
          "base_uri": "https://localhost:8080/"
        },
        "outputId": "a701384e-e39e-4472-c277-8e8fcecc0d14"
      },
      "execution_count": 220,
      "outputs": [
        {
          "output_type": "execute_result",
          "data": {
            "text/plain": [
              "House / apartment      23653\n",
              "With parents            1257\n",
              "Municipal apartment      818\n",
              "Rented apartment         429\n",
              "Office apartment         190\n",
              "Co-op apartment          110\n",
              "Name: house_type, dtype: int64"
            ]
          },
          "metadata": {},
          "execution_count": 220
        }
      ]
    },
    {
      "cell_type": "code",
      "source": [
        "train.loc[(train['house_type']==\"Office apartment\")|(train['house_type']==\"Co-op apartment\"),\"house_type\"] = \"Else\""
      ],
      "metadata": {
        "id": "cYXOJP1qlWxU"
      },
      "execution_count": 221,
      "outputs": []
    },
    {
      "cell_type": "code",
      "source": [
        "train['house_type'].value_counts()"
      ],
      "metadata": {
        "id": "n6ThWQeRlW03",
        "colab": {
          "base_uri": "https://localhost:8080/"
        },
        "outputId": "b4e47225-22a1-4d82-ec9f-b75eda2e7361"
      },
      "execution_count": 222,
      "outputs": [
        {
          "output_type": "execute_result",
          "data": {
            "text/plain": [
              "House / apartment      23653\n",
              "With parents            1257\n",
              "Municipal apartment      818\n",
              "Rented apartment         429\n",
              "Else                     300\n",
              "Name: house_type, dtype: int64"
            ]
          },
          "metadata": {},
          "execution_count": 222
        }
      ]
    },
    {
      "cell_type": "code",
      "source": [
        "test.loc[(test['house_type']==\"Office apartment\")|(test['house_type']==\"Co-op apartment\"),\"house_type\"] = \"Else\"\n",
        "test['house_type'].value_counts()"
      ],
      "metadata": {
        "id": "KI4I832XmdP0",
        "colab": {
          "base_uri": "https://localhost:8080/"
        },
        "outputId": "54d8a0cd-6a11-4944-eb4e-04ca78eecb11"
      },
      "execution_count": 223,
      "outputs": [
        {
          "output_type": "execute_result",
          "data": {
            "text/plain": [
              "House / apartment      8895\n",
              "With parents            519\n",
              "Municipal apartment     310\n",
              "Rented apartment        146\n",
              "Else                    130\n",
              "Name: house_type, dtype: int64"
            ]
          },
          "metadata": {},
          "execution_count": 223
        }
      ]
    },
    {
      "cell_type": "code",
      "source": [
        "# occyp_type"
      ],
      "metadata": {
        "id": "j_ssTHY0hBMT"
      },
      "execution_count": 224,
      "outputs": []
    },
    {
      "cell_type": "code",
      "source": [
        "train['occyp_type'].value_counts()"
      ],
      "metadata": {
        "id": "q5hPbEuKm-4G",
        "colab": {
          "base_uri": "https://localhost:8080/"
        },
        "outputId": "248b0d62-f218-4e2a-9560-6fa8ca9a4d35"
      },
      "execution_count": 225,
      "outputs": [
        {
          "output_type": "execute_result",
          "data": {
            "text/plain": [
              "Laborers                 4512\n",
              "Core staff               2646\n",
              "Sales staff              2539\n",
              "Managers                 2167\n",
              "Drivers                  1575\n",
              "High skill tech staff    1040\n",
              "Accountants               902\n",
              "Medicine staff            864\n",
              "Cooking staff             457\n",
              "Security staff            424\n",
              "Cleaning staff            403\n",
              "Private service staff     243\n",
              "Low-skill Laborers        127\n",
              "Waiters/barmen staff      124\n",
              "Secretaries                97\n",
              "Realty agents              63\n",
              "HR staff                   62\n",
              "IT staff                   41\n",
              "Name: occyp_type, dtype: int64"
            ]
          },
          "metadata": {},
          "execution_count": 225
        }
      ]
    },
    {
      "cell_type": "code",
      "source": [
        "occyp_type_vc = train['occyp_type'].value_counts()\n",
        "ot_idx = occyp_type_vc[occyp_type_vc<200].index\n",
        "ot_idx"
      ],
      "metadata": {
        "id": "DOEH_AGgWtjY",
        "colab": {
          "base_uri": "https://localhost:8080/"
        },
        "outputId": "07970afd-69cf-4b9e-94ae-4857e91c9958"
      },
      "execution_count": 226,
      "outputs": [
        {
          "output_type": "execute_result",
          "data": {
            "text/plain": [
              "Index(['Low-skill Laborers', 'Waiters/barmen staff', 'Secretaries',\n",
              "       'Realty agents', 'HR staff', 'IT staff'],\n",
              "      dtype='object')"
            ]
          },
          "metadata": {},
          "execution_count": 226
        }
      ]
    },
    {
      "cell_type": "code",
      "source": [
        "train.loc[train['occyp_type'].isin(ot_idx),'occyp_type'] = \"Else\""
      ],
      "metadata": {
        "id": "Y4aBIwVjkxe3"
      },
      "execution_count": 227,
      "outputs": []
    },
    {
      "cell_type": "code",
      "source": [
        "train['occyp_type'].value_counts()"
      ],
      "metadata": {
        "id": "RpnG-0HbnlwM",
        "colab": {
          "base_uri": "https://localhost:8080/"
        },
        "outputId": "eede21b6-5835-44b1-fa07-3035b7728aa6"
      },
      "execution_count": 228,
      "outputs": [
        {
          "output_type": "execute_result",
          "data": {
            "text/plain": [
              "Laborers                 4512\n",
              "Core staff               2646\n",
              "Sales staff              2539\n",
              "Managers                 2167\n",
              "Drivers                  1575\n",
              "High skill tech staff    1040\n",
              "Accountants               902\n",
              "Medicine staff            864\n",
              "Else                      514\n",
              "Cooking staff             457\n",
              "Security staff            424\n",
              "Cleaning staff            403\n",
              "Private service staff     243\n",
              "Name: occyp_type, dtype: int64"
            ]
          },
          "metadata": {},
          "execution_count": 228
        }
      ]
    },
    {
      "cell_type": "code",
      "source": [
        "test.loc[test['occyp_type'].isin(ot_idx),'occyp_type'] = \"Else\"\n",
        "test['occyp_type'].value_counts()"
      ],
      "metadata": {
        "id": "ggiNV76TnnSd",
        "colab": {
          "base_uri": "https://localhost:8080/"
        },
        "outputId": "38bbc5f4-daf8-4d27-b8ad-963bd5fa2043"
      },
      "execution_count": 229,
      "outputs": [
        {
          "output_type": "execute_result",
          "data": {
            "text/plain": [
              "Laborers                 1699\n",
              "Sales staff               946\n",
              "Core staff                945\n",
              "Managers                  845\n",
              "Drivers                   563\n",
              "Medicine staff            343\n",
              "High skill tech staff     343\n",
              "Accountants               339\n",
              "Else                      210\n",
              "Cooking staff             198\n",
              "Security staff            168\n",
              "Cleaning staff            148\n",
              "Private service staff     101\n",
              "Name: occyp_type, dtype: int64"
            ]
          },
          "metadata": {},
          "execution_count": 229
        }
      ]
    },
    {
      "cell_type": "code",
      "source": [
        "# child_num"
      ],
      "metadata": {
        "id": "ijvE6SvDofpe"
      },
      "execution_count": 230,
      "outputs": []
    },
    {
      "cell_type": "code",
      "source": [
        "train['child_num'].value_counts()"
      ],
      "metadata": {
        "id": "i_YcVG-doiJH",
        "colab": {
          "base_uri": "https://localhost:8080/"
        },
        "outputId": "2f1de630-12ff-4ab7-aebb-3d7a44fc97b9"
      },
      "execution_count": 231,
      "outputs": [
        {
          "output_type": "execute_result",
          "data": {
            "text/plain": [
              "0     18340\n",
              "1      5386\n",
              "2      2362\n",
              "3       306\n",
              "4        47\n",
              "5        10\n",
              "14        3\n",
              "7         2\n",
              "19        1\n",
              "Name: child_num, dtype: int64"
            ]
          },
          "metadata": {},
          "execution_count": 231
        }
      ]
    },
    {
      "cell_type": "code",
      "source": [
        "train.loc[train['child_num']>4, 'child_num'] = 4"
      ],
      "metadata": {
        "id": "KPrVYN7voiRA"
      },
      "execution_count": 232,
      "outputs": []
    },
    {
      "cell_type": "code",
      "source": [
        "train['child_num'].value_counts()"
      ],
      "metadata": {
        "id": "7vbCujp1oveZ",
        "colab": {
          "base_uri": "https://localhost:8080/"
        },
        "outputId": "af4b2720-7b9f-43f0-ccdf-9e80cbf49e2d"
      },
      "execution_count": 233,
      "outputs": [
        {
          "output_type": "execute_result",
          "data": {
            "text/plain": [
              "0    18340\n",
              "1     5386\n",
              "2     2362\n",
              "3      306\n",
              "4       63\n",
              "Name: child_num, dtype: int64"
            ]
          },
          "metadata": {},
          "execution_count": 233
        }
      ]
    },
    {
      "cell_type": "code",
      "source": [
        "test.loc[test['child_num']>4, 'child_num'] = 4\n",
        "test['child_num'].value_counts()"
      ],
      "metadata": {
        "id": "PXVTgbMFozJk",
        "colab": {
          "base_uri": "https://localhost:8080/"
        },
        "outputId": "b89e2a6a-bf3d-47f8-b781-0618356a6e6f"
      },
      "execution_count": 234,
      "outputs": [
        {
          "output_type": "execute_result",
          "data": {
            "text/plain": [
              "0    6861\n",
              "1    2106\n",
              "2     894\n",
              "3     113\n",
              "4      26\n",
              "Name: child_num, dtype: int64"
            ]
          },
          "metadata": {},
          "execution_count": 234
        }
      ]
    },
    {
      "cell_type": "markdown",
      "source": [
        "> ### Encoding"
      ],
      "metadata": {
        "id": "5ya2ZBYkgn47"
      }
    },
    {
      "cell_type": "code",
      "source": [
        "cols = train.select_dtypes(include=\"O\").columns\n",
        "\n",
        "from sklearn import preprocessing\n",
        "\n",
        "for col in cols:\n",
        "  le = preprocessing.LabelEncoder()\n",
        "  train[col] = le.fit_transform(train[[col]])\n",
        "  test[col] = le.transform(test[[col]])"
      ],
      "metadata": {
        "id": "sgBMeQbLgm7X",
        "colab": {
          "base_uri": "https://localhost:8080/"
        },
        "outputId": "664df929-feaf-475d-c8a2-75a55a11002e"
      },
      "execution_count": 235,
      "outputs": [
        {
          "output_type": "stream",
          "name": "stderr",
          "text": [
            "/usr/local/lib/python3.8/dist-packages/sklearn/preprocessing/_label.py:115: DataConversionWarning: A column-vector y was passed when a 1d array was expected. Please change the shape of y to (n_samples, ), for example using ravel().\n",
            "  y = column_or_1d(y, warn=True)\n",
            "/usr/local/lib/python3.8/dist-packages/sklearn/preprocessing/_label.py:133: DataConversionWarning: A column-vector y was passed when a 1d array was expected. Please change the shape of y to (n_samples, ), for example using ravel().\n",
            "  y = column_or_1d(y, warn=True)\n"
          ]
        }
      ]
    },
    {
      "cell_type": "markdown",
      "source": [
        "# EDA"
      ],
      "metadata": {
        "id": "1lzcO2wLABV0"
      }
    },
    {
      "cell_type": "markdown",
      "source": [
        "\n",
        "\n",
        "> ### 상관관계\n",
        "\n"
      ],
      "metadata": {
        "id": "eXz0E-EpCWfO"
      }
    },
    {
      "cell_type": "code",
      "source": [
        "corr = train.corr()\n",
        "corr"
      ],
      "metadata": {
        "id": "uA1US53I-bP7",
        "colab": {
          "base_uri": "https://localhost:8080/",
          "height": 0
        },
        "outputId": "5b9d0dcb-6ef3-4b3e-c331-96620e337e30"
      },
      "execution_count": 236,
      "outputs": [
        {
          "output_type": "execute_result",
          "data": {
            "text/plain": [
              "                 gender       car   reality  child_num  income_total  \\\n",
              "gender         1.000000  0.362320 -0.048927   0.077899      0.198455   \n",
              "car            0.362320  1.000000 -0.016599   0.104266      0.213432   \n",
              "reality       -0.048927 -0.016599  1.000000  -0.001101      0.035377   \n",
              "child_num      0.077899  0.104266 -0.001101   1.000000      0.033452   \n",
              "income_total   0.198455  0.213432  0.035377   0.033452      1.000000   \n",
              "income_type    0.103083  0.048361 -0.048468   0.107297     -0.075175   \n",
              "edu_type       0.006526 -0.097084  0.006482  -0.046945     -0.207697   \n",
              "family_type   -0.101969 -0.124280  0.028144  -0.169025     -0.005802   \n",
              "house_type     0.052733  0.012091 -0.170056   0.018241     -0.014779   \n",
              "DAYS_BIRTH     0.201138  0.156883 -0.130241   0.343724      0.064155   \n",
              "DAYS_EMPLOYED  0.033930 -0.004348  0.038546  -0.045029     -0.086899   \n",
              "FLAG_MOBIL          NaN       NaN       NaN        NaN           NaN   \n",
              "work_phone     0.064316  0.026124 -0.208648   0.052422     -0.034207   \n",
              "phone         -0.027078 -0.013730 -0.065553  -0.011392      0.019013   \n",
              "email          0.000108  0.018904  0.051085   0.017700      0.089882   \n",
              "occyp_type    -0.104070 -0.104949  0.042421  -0.129651     -0.085433   \n",
              "family_size    0.111060  0.149463 -0.006667   0.879704      0.023839   \n",
              "begin_month   -0.007707  0.029955 -0.003863   0.007469      0.018047   \n",
              "credit         0.001562  0.007761 -0.009387   0.002786      0.008555   \n",
              "Age           -0.200988 -0.156431  0.129745  -0.343728     -0.064009   \n",
              "Year_EMPLOYED -0.038863 -0.000480 -0.035965   0.039940      0.083144   \n",
              "\n",
              "               income_type  edu_type  family_type  house_type  DAYS_BIRTH  \\\n",
              "gender            0.103083  0.006526    -0.101969    0.052733    0.201138   \n",
              "car               0.048361 -0.097084    -0.124280    0.012091    0.156883   \n",
              "reality          -0.048468  0.006482     0.028144   -0.170056   -0.130241   \n",
              "child_num         0.107297 -0.046945    -0.169025    0.018241    0.343724   \n",
              "income_total     -0.075175 -0.207697    -0.005802   -0.014779    0.064155   \n",
              "income_type       1.000000  0.057190    -0.050790    0.031638    0.211466   \n",
              "edu_type          0.057190  1.000000     0.012321   -0.029534   -0.142630   \n",
              "family_type      -0.050790  0.012321     1.000000    0.013096   -0.104556   \n",
              "house_type        0.031638 -0.029534     0.013096    1.000000    0.204305   \n",
              "DAYS_BIRTH        0.211466 -0.142630    -0.104556    0.204305    1.000000   \n",
              "DAYS_EMPLOYED    -0.188870  0.006512     0.052501    0.029560   -0.020244   \n",
              "FLAG_MOBIL             NaN       NaN          NaN         NaN         NaN   \n",
              "work_phone        0.161857 -0.021090    -0.065483    0.030092    0.178752   \n",
              "phone             0.004436 -0.038392    -0.014388   -0.012297   -0.029247   \n",
              "email            -0.020060 -0.089612    -0.015427    0.016231    0.111238   \n",
              "occyp_type       -0.182368  0.081847     0.049020   -0.053150   -0.315196   \n",
              "family_size       0.107698 -0.038823    -0.545149   -0.001122    0.298108   \n",
              "begin_month      -0.002750 -0.017238    -0.030711   -0.030632   -0.057306   \n",
              "credit           -0.008163  0.012582    -0.005230   -0.007038   -0.025187   \n",
              "Age              -0.211582  0.142999     0.104291   -0.203887   -0.999692   \n",
              "Year_EMPLOYED     0.180043 -0.003521    -0.049397   -0.032581    0.002992   \n",
              "\n",
              "               ...  FLAG_MOBIL  work_phone     phone     email  occyp_type  \\\n",
              "gender         ...         NaN    0.064316 -0.027078  0.000108   -0.104070   \n",
              "car            ...         NaN    0.026124 -0.013730  0.018904   -0.104949   \n",
              "reality        ...         NaN   -0.208648 -0.065553  0.051085    0.042421   \n",
              "child_num      ...         NaN    0.052422 -0.011392  0.017700   -0.129651   \n",
              "income_total   ...         NaN   -0.034207  0.019013  0.089882   -0.085433   \n",
              "income_type    ...         NaN    0.161857  0.004436 -0.020060   -0.182368   \n",
              "edu_type       ...         NaN   -0.021090 -0.038392 -0.089612    0.081847   \n",
              "family_type    ...         NaN   -0.065483 -0.014388 -0.015427    0.049020   \n",
              "house_type     ...         NaN    0.030092 -0.012297  0.016231   -0.053150   \n",
              "DAYS_BIRTH     ...         NaN    0.178752 -0.029247  0.111238   -0.315196   \n",
              "DAYS_EMPLOYED  ...         NaN   -0.108538 -0.041886 -0.002904    0.219141   \n",
              "FLAG_MOBIL     ...         NaN         NaN       NaN       NaN         NaN   \n",
              "work_phone     ...         NaN    1.000000  0.310256 -0.031048   -0.142006   \n",
              "phone          ...         NaN    0.310256  1.000000  0.012494   -0.002693   \n",
              "email          ...         NaN   -0.031048  0.012494  1.000000   -0.060471   \n",
              "occyp_type     ...         NaN   -0.142006 -0.002693 -0.060471    1.000000   \n",
              "family_size    ...         NaN    0.068705 -0.000132  0.016122   -0.117036   \n",
              "begin_month    ...         NaN    0.008563  0.014286 -0.002320   -0.001852   \n",
              "credit         ...         NaN   -0.003134  0.003452  0.014812    0.010923   \n",
              "Age            ...         NaN   -0.179204  0.029090 -0.111189    0.314870   \n",
              "Year_EMPLOYED  ...         NaN    0.102969  0.042374 -0.000019   -0.206816   \n",
              "\n",
              "               family_size  begin_month    credit       Age  Year_EMPLOYED  \n",
              "gender            0.111060    -0.007707  0.001562 -0.200988      -0.038863  \n",
              "car               0.149463     0.029955  0.007761 -0.156431      -0.000480  \n",
              "reality          -0.006667    -0.003863 -0.009387  0.129745      -0.035965  \n",
              "child_num         0.879704     0.007469  0.002786 -0.343728       0.039940  \n",
              "income_total      0.023839     0.018047  0.008555 -0.064009       0.083144  \n",
              "income_type       0.107698    -0.002750 -0.008163 -0.211582       0.180043  \n",
              "edu_type         -0.038823    -0.017238  0.012582  0.142999      -0.003521  \n",
              "family_type      -0.545149    -0.030711 -0.005230  0.104291      -0.049397  \n",
              "house_type       -0.001122    -0.030632 -0.007038 -0.203887      -0.032581  \n",
              "DAYS_BIRTH        0.298108    -0.057306 -0.025187 -0.999692       0.002992  \n",
              "DAYS_EMPLOYED    -0.055657    -0.082669 -0.022824  0.020645      -0.998883  \n",
              "FLAG_MOBIL             NaN          NaN       NaN       NaN            NaN  \n",
              "work_phone        0.068705     0.008563 -0.003134 -0.179204       0.102969  \n",
              "phone            -0.000132     0.014286  0.003452  0.029090       0.042374  \n",
              "email             0.016122    -0.002320  0.014812 -0.111189      -0.000019  \n",
              "occyp_type       -0.117036    -0.001852  0.010923  0.314870      -0.206816  \n",
              "family_size       1.000000     0.023032  0.008227 -0.298081       0.051053  \n",
              "begin_month       0.023032     1.000000  0.147477  0.057365       0.083338  \n",
              "credit            0.008227     0.147477  1.000000  0.025059       0.023608  \n",
              "Age              -0.298081     0.057365  0.025059  1.000000      -0.003393  \n",
              "Year_EMPLOYED     0.051053     0.083338  0.023608 -0.003393       1.000000  \n",
              "\n",
              "[21 rows x 21 columns]"
            ],
            "text/html": [
              "\n",
              "  <div id=\"df-613b9a5c-c112-433f-87c2-55444615ced3\">\n",
              "    <div class=\"colab-df-container\">\n",
              "      <div>\n",
              "<style scoped>\n",
              "    .dataframe tbody tr th:only-of-type {\n",
              "        vertical-align: middle;\n",
              "    }\n",
              "\n",
              "    .dataframe tbody tr th {\n",
              "        vertical-align: top;\n",
              "    }\n",
              "\n",
              "    .dataframe thead th {\n",
              "        text-align: right;\n",
              "    }\n",
              "</style>\n",
              "<table border=\"1\" class=\"dataframe\">\n",
              "  <thead>\n",
              "    <tr style=\"text-align: right;\">\n",
              "      <th></th>\n",
              "      <th>gender</th>\n",
              "      <th>car</th>\n",
              "      <th>reality</th>\n",
              "      <th>child_num</th>\n",
              "      <th>income_total</th>\n",
              "      <th>income_type</th>\n",
              "      <th>edu_type</th>\n",
              "      <th>family_type</th>\n",
              "      <th>house_type</th>\n",
              "      <th>DAYS_BIRTH</th>\n",
              "      <th>...</th>\n",
              "      <th>FLAG_MOBIL</th>\n",
              "      <th>work_phone</th>\n",
              "      <th>phone</th>\n",
              "      <th>email</th>\n",
              "      <th>occyp_type</th>\n",
              "      <th>family_size</th>\n",
              "      <th>begin_month</th>\n",
              "      <th>credit</th>\n",
              "      <th>Age</th>\n",
              "      <th>Year_EMPLOYED</th>\n",
              "    </tr>\n",
              "  </thead>\n",
              "  <tbody>\n",
              "    <tr>\n",
              "      <th>gender</th>\n",
              "      <td>1.000000</td>\n",
              "      <td>0.362320</td>\n",
              "      <td>-0.048927</td>\n",
              "      <td>0.077899</td>\n",
              "      <td>0.198455</td>\n",
              "      <td>0.103083</td>\n",
              "      <td>0.006526</td>\n",
              "      <td>-0.101969</td>\n",
              "      <td>0.052733</td>\n",
              "      <td>0.201138</td>\n",
              "      <td>...</td>\n",
              "      <td>NaN</td>\n",
              "      <td>0.064316</td>\n",
              "      <td>-0.027078</td>\n",
              "      <td>0.000108</td>\n",
              "      <td>-0.104070</td>\n",
              "      <td>0.111060</td>\n",
              "      <td>-0.007707</td>\n",
              "      <td>0.001562</td>\n",
              "      <td>-0.200988</td>\n",
              "      <td>-0.038863</td>\n",
              "    </tr>\n",
              "    <tr>\n",
              "      <th>car</th>\n",
              "      <td>0.362320</td>\n",
              "      <td>1.000000</td>\n",
              "      <td>-0.016599</td>\n",
              "      <td>0.104266</td>\n",
              "      <td>0.213432</td>\n",
              "      <td>0.048361</td>\n",
              "      <td>-0.097084</td>\n",
              "      <td>-0.124280</td>\n",
              "      <td>0.012091</td>\n",
              "      <td>0.156883</td>\n",
              "      <td>...</td>\n",
              "      <td>NaN</td>\n",
              "      <td>0.026124</td>\n",
              "      <td>-0.013730</td>\n",
              "      <td>0.018904</td>\n",
              "      <td>-0.104949</td>\n",
              "      <td>0.149463</td>\n",
              "      <td>0.029955</td>\n",
              "      <td>0.007761</td>\n",
              "      <td>-0.156431</td>\n",
              "      <td>-0.000480</td>\n",
              "    </tr>\n",
              "    <tr>\n",
              "      <th>reality</th>\n",
              "      <td>-0.048927</td>\n",
              "      <td>-0.016599</td>\n",
              "      <td>1.000000</td>\n",
              "      <td>-0.001101</td>\n",
              "      <td>0.035377</td>\n",
              "      <td>-0.048468</td>\n",
              "      <td>0.006482</td>\n",
              "      <td>0.028144</td>\n",
              "      <td>-0.170056</td>\n",
              "      <td>-0.130241</td>\n",
              "      <td>...</td>\n",
              "      <td>NaN</td>\n",
              "      <td>-0.208648</td>\n",
              "      <td>-0.065553</td>\n",
              "      <td>0.051085</td>\n",
              "      <td>0.042421</td>\n",
              "      <td>-0.006667</td>\n",
              "      <td>-0.003863</td>\n",
              "      <td>-0.009387</td>\n",
              "      <td>0.129745</td>\n",
              "      <td>-0.035965</td>\n",
              "    </tr>\n",
              "    <tr>\n",
              "      <th>child_num</th>\n",
              "      <td>0.077899</td>\n",
              "      <td>0.104266</td>\n",
              "      <td>-0.001101</td>\n",
              "      <td>1.000000</td>\n",
              "      <td>0.033452</td>\n",
              "      <td>0.107297</td>\n",
              "      <td>-0.046945</td>\n",
              "      <td>-0.169025</td>\n",
              "      <td>0.018241</td>\n",
              "      <td>0.343724</td>\n",
              "      <td>...</td>\n",
              "      <td>NaN</td>\n",
              "      <td>0.052422</td>\n",
              "      <td>-0.011392</td>\n",
              "      <td>0.017700</td>\n",
              "      <td>-0.129651</td>\n",
              "      <td>0.879704</td>\n",
              "      <td>0.007469</td>\n",
              "      <td>0.002786</td>\n",
              "      <td>-0.343728</td>\n",
              "      <td>0.039940</td>\n",
              "    </tr>\n",
              "    <tr>\n",
              "      <th>income_total</th>\n",
              "      <td>0.198455</td>\n",
              "      <td>0.213432</td>\n",
              "      <td>0.035377</td>\n",
              "      <td>0.033452</td>\n",
              "      <td>1.000000</td>\n",
              "      <td>-0.075175</td>\n",
              "      <td>-0.207697</td>\n",
              "      <td>-0.005802</td>\n",
              "      <td>-0.014779</td>\n",
              "      <td>0.064155</td>\n",
              "      <td>...</td>\n",
              "      <td>NaN</td>\n",
              "      <td>-0.034207</td>\n",
              "      <td>0.019013</td>\n",
              "      <td>0.089882</td>\n",
              "      <td>-0.085433</td>\n",
              "      <td>0.023839</td>\n",
              "      <td>0.018047</td>\n",
              "      <td>0.008555</td>\n",
              "      <td>-0.064009</td>\n",
              "      <td>0.083144</td>\n",
              "    </tr>\n",
              "    <tr>\n",
              "      <th>income_type</th>\n",
              "      <td>0.103083</td>\n",
              "      <td>0.048361</td>\n",
              "      <td>-0.048468</td>\n",
              "      <td>0.107297</td>\n",
              "      <td>-0.075175</td>\n",
              "      <td>1.000000</td>\n",
              "      <td>0.057190</td>\n",
              "      <td>-0.050790</td>\n",
              "      <td>0.031638</td>\n",
              "      <td>0.211466</td>\n",
              "      <td>...</td>\n",
              "      <td>NaN</td>\n",
              "      <td>0.161857</td>\n",
              "      <td>0.004436</td>\n",
              "      <td>-0.020060</td>\n",
              "      <td>-0.182368</td>\n",
              "      <td>0.107698</td>\n",
              "      <td>-0.002750</td>\n",
              "      <td>-0.008163</td>\n",
              "      <td>-0.211582</td>\n",
              "      <td>0.180043</td>\n",
              "    </tr>\n",
              "    <tr>\n",
              "      <th>edu_type</th>\n",
              "      <td>0.006526</td>\n",
              "      <td>-0.097084</td>\n",
              "      <td>0.006482</td>\n",
              "      <td>-0.046945</td>\n",
              "      <td>-0.207697</td>\n",
              "      <td>0.057190</td>\n",
              "      <td>1.000000</td>\n",
              "      <td>0.012321</td>\n",
              "      <td>-0.029534</td>\n",
              "      <td>-0.142630</td>\n",
              "      <td>...</td>\n",
              "      <td>NaN</td>\n",
              "      <td>-0.021090</td>\n",
              "      <td>-0.038392</td>\n",
              "      <td>-0.089612</td>\n",
              "      <td>0.081847</td>\n",
              "      <td>-0.038823</td>\n",
              "      <td>-0.017238</td>\n",
              "      <td>0.012582</td>\n",
              "      <td>0.142999</td>\n",
              "      <td>-0.003521</td>\n",
              "    </tr>\n",
              "    <tr>\n",
              "      <th>family_type</th>\n",
              "      <td>-0.101969</td>\n",
              "      <td>-0.124280</td>\n",
              "      <td>0.028144</td>\n",
              "      <td>-0.169025</td>\n",
              "      <td>-0.005802</td>\n",
              "      <td>-0.050790</td>\n",
              "      <td>0.012321</td>\n",
              "      <td>1.000000</td>\n",
              "      <td>0.013096</td>\n",
              "      <td>-0.104556</td>\n",
              "      <td>...</td>\n",
              "      <td>NaN</td>\n",
              "      <td>-0.065483</td>\n",
              "      <td>-0.014388</td>\n",
              "      <td>-0.015427</td>\n",
              "      <td>0.049020</td>\n",
              "      <td>-0.545149</td>\n",
              "      <td>-0.030711</td>\n",
              "      <td>-0.005230</td>\n",
              "      <td>0.104291</td>\n",
              "      <td>-0.049397</td>\n",
              "    </tr>\n",
              "    <tr>\n",
              "      <th>house_type</th>\n",
              "      <td>0.052733</td>\n",
              "      <td>0.012091</td>\n",
              "      <td>-0.170056</td>\n",
              "      <td>0.018241</td>\n",
              "      <td>-0.014779</td>\n",
              "      <td>0.031638</td>\n",
              "      <td>-0.029534</td>\n",
              "      <td>0.013096</td>\n",
              "      <td>1.000000</td>\n",
              "      <td>0.204305</td>\n",
              "      <td>...</td>\n",
              "      <td>NaN</td>\n",
              "      <td>0.030092</td>\n",
              "      <td>-0.012297</td>\n",
              "      <td>0.016231</td>\n",
              "      <td>-0.053150</td>\n",
              "      <td>-0.001122</td>\n",
              "      <td>-0.030632</td>\n",
              "      <td>-0.007038</td>\n",
              "      <td>-0.203887</td>\n",
              "      <td>-0.032581</td>\n",
              "    </tr>\n",
              "    <tr>\n",
              "      <th>DAYS_BIRTH</th>\n",
              "      <td>0.201138</td>\n",
              "      <td>0.156883</td>\n",
              "      <td>-0.130241</td>\n",
              "      <td>0.343724</td>\n",
              "      <td>0.064155</td>\n",
              "      <td>0.211466</td>\n",
              "      <td>-0.142630</td>\n",
              "      <td>-0.104556</td>\n",
              "      <td>0.204305</td>\n",
              "      <td>1.000000</td>\n",
              "      <td>...</td>\n",
              "      <td>NaN</td>\n",
              "      <td>0.178752</td>\n",
              "      <td>-0.029247</td>\n",
              "      <td>0.111238</td>\n",
              "      <td>-0.315196</td>\n",
              "      <td>0.298108</td>\n",
              "      <td>-0.057306</td>\n",
              "      <td>-0.025187</td>\n",
              "      <td>-0.999692</td>\n",
              "      <td>0.002992</td>\n",
              "    </tr>\n",
              "    <tr>\n",
              "      <th>DAYS_EMPLOYED</th>\n",
              "      <td>0.033930</td>\n",
              "      <td>-0.004348</td>\n",
              "      <td>0.038546</td>\n",
              "      <td>-0.045029</td>\n",
              "      <td>-0.086899</td>\n",
              "      <td>-0.188870</td>\n",
              "      <td>0.006512</td>\n",
              "      <td>0.052501</td>\n",
              "      <td>0.029560</td>\n",
              "      <td>-0.020244</td>\n",
              "      <td>...</td>\n",
              "      <td>NaN</td>\n",
              "      <td>-0.108538</td>\n",
              "      <td>-0.041886</td>\n",
              "      <td>-0.002904</td>\n",
              "      <td>0.219141</td>\n",
              "      <td>-0.055657</td>\n",
              "      <td>-0.082669</td>\n",
              "      <td>-0.022824</td>\n",
              "      <td>0.020645</td>\n",
              "      <td>-0.998883</td>\n",
              "    </tr>\n",
              "    <tr>\n",
              "      <th>FLAG_MOBIL</th>\n",
              "      <td>NaN</td>\n",
              "      <td>NaN</td>\n",
              "      <td>NaN</td>\n",
              "      <td>NaN</td>\n",
              "      <td>NaN</td>\n",
              "      <td>NaN</td>\n",
              "      <td>NaN</td>\n",
              "      <td>NaN</td>\n",
              "      <td>NaN</td>\n",
              "      <td>NaN</td>\n",
              "      <td>...</td>\n",
              "      <td>NaN</td>\n",
              "      <td>NaN</td>\n",
              "      <td>NaN</td>\n",
              "      <td>NaN</td>\n",
              "      <td>NaN</td>\n",
              "      <td>NaN</td>\n",
              "      <td>NaN</td>\n",
              "      <td>NaN</td>\n",
              "      <td>NaN</td>\n",
              "      <td>NaN</td>\n",
              "    </tr>\n",
              "    <tr>\n",
              "      <th>work_phone</th>\n",
              "      <td>0.064316</td>\n",
              "      <td>0.026124</td>\n",
              "      <td>-0.208648</td>\n",
              "      <td>0.052422</td>\n",
              "      <td>-0.034207</td>\n",
              "      <td>0.161857</td>\n",
              "      <td>-0.021090</td>\n",
              "      <td>-0.065483</td>\n",
              "      <td>0.030092</td>\n",
              "      <td>0.178752</td>\n",
              "      <td>...</td>\n",
              "      <td>NaN</td>\n",
              "      <td>1.000000</td>\n",
              "      <td>0.310256</td>\n",
              "      <td>-0.031048</td>\n",
              "      <td>-0.142006</td>\n",
              "      <td>0.068705</td>\n",
              "      <td>0.008563</td>\n",
              "      <td>-0.003134</td>\n",
              "      <td>-0.179204</td>\n",
              "      <td>0.102969</td>\n",
              "    </tr>\n",
              "    <tr>\n",
              "      <th>phone</th>\n",
              "      <td>-0.027078</td>\n",
              "      <td>-0.013730</td>\n",
              "      <td>-0.065553</td>\n",
              "      <td>-0.011392</td>\n",
              "      <td>0.019013</td>\n",
              "      <td>0.004436</td>\n",
              "      <td>-0.038392</td>\n",
              "      <td>-0.014388</td>\n",
              "      <td>-0.012297</td>\n",
              "      <td>-0.029247</td>\n",
              "      <td>...</td>\n",
              "      <td>NaN</td>\n",
              "      <td>0.310256</td>\n",
              "      <td>1.000000</td>\n",
              "      <td>0.012494</td>\n",
              "      <td>-0.002693</td>\n",
              "      <td>-0.000132</td>\n",
              "      <td>0.014286</td>\n",
              "      <td>0.003452</td>\n",
              "      <td>0.029090</td>\n",
              "      <td>0.042374</td>\n",
              "    </tr>\n",
              "    <tr>\n",
              "      <th>email</th>\n",
              "      <td>0.000108</td>\n",
              "      <td>0.018904</td>\n",
              "      <td>0.051085</td>\n",
              "      <td>0.017700</td>\n",
              "      <td>0.089882</td>\n",
              "      <td>-0.020060</td>\n",
              "      <td>-0.089612</td>\n",
              "      <td>-0.015427</td>\n",
              "      <td>0.016231</td>\n",
              "      <td>0.111238</td>\n",
              "      <td>...</td>\n",
              "      <td>NaN</td>\n",
              "      <td>-0.031048</td>\n",
              "      <td>0.012494</td>\n",
              "      <td>1.000000</td>\n",
              "      <td>-0.060471</td>\n",
              "      <td>0.016122</td>\n",
              "      <td>-0.002320</td>\n",
              "      <td>0.014812</td>\n",
              "      <td>-0.111189</td>\n",
              "      <td>-0.000019</td>\n",
              "    </tr>\n",
              "    <tr>\n",
              "      <th>occyp_type</th>\n",
              "      <td>-0.104070</td>\n",
              "      <td>-0.104949</td>\n",
              "      <td>0.042421</td>\n",
              "      <td>-0.129651</td>\n",
              "      <td>-0.085433</td>\n",
              "      <td>-0.182368</td>\n",
              "      <td>0.081847</td>\n",
              "      <td>0.049020</td>\n",
              "      <td>-0.053150</td>\n",
              "      <td>-0.315196</td>\n",
              "      <td>...</td>\n",
              "      <td>NaN</td>\n",
              "      <td>-0.142006</td>\n",
              "      <td>-0.002693</td>\n",
              "      <td>-0.060471</td>\n",
              "      <td>1.000000</td>\n",
              "      <td>-0.117036</td>\n",
              "      <td>-0.001852</td>\n",
              "      <td>0.010923</td>\n",
              "      <td>0.314870</td>\n",
              "      <td>-0.206816</td>\n",
              "    </tr>\n",
              "    <tr>\n",
              "      <th>family_size</th>\n",
              "      <td>0.111060</td>\n",
              "      <td>0.149463</td>\n",
              "      <td>-0.006667</td>\n",
              "      <td>0.879704</td>\n",
              "      <td>0.023839</td>\n",
              "      <td>0.107698</td>\n",
              "      <td>-0.038823</td>\n",
              "      <td>-0.545149</td>\n",
              "      <td>-0.001122</td>\n",
              "      <td>0.298108</td>\n",
              "      <td>...</td>\n",
              "      <td>NaN</td>\n",
              "      <td>0.068705</td>\n",
              "      <td>-0.000132</td>\n",
              "      <td>0.016122</td>\n",
              "      <td>-0.117036</td>\n",
              "      <td>1.000000</td>\n",
              "      <td>0.023032</td>\n",
              "      <td>0.008227</td>\n",
              "      <td>-0.298081</td>\n",
              "      <td>0.051053</td>\n",
              "    </tr>\n",
              "    <tr>\n",
              "      <th>begin_month</th>\n",
              "      <td>-0.007707</td>\n",
              "      <td>0.029955</td>\n",
              "      <td>-0.003863</td>\n",
              "      <td>0.007469</td>\n",
              "      <td>0.018047</td>\n",
              "      <td>-0.002750</td>\n",
              "      <td>-0.017238</td>\n",
              "      <td>-0.030711</td>\n",
              "      <td>-0.030632</td>\n",
              "      <td>-0.057306</td>\n",
              "      <td>...</td>\n",
              "      <td>NaN</td>\n",
              "      <td>0.008563</td>\n",
              "      <td>0.014286</td>\n",
              "      <td>-0.002320</td>\n",
              "      <td>-0.001852</td>\n",
              "      <td>0.023032</td>\n",
              "      <td>1.000000</td>\n",
              "      <td>0.147477</td>\n",
              "      <td>0.057365</td>\n",
              "      <td>0.083338</td>\n",
              "    </tr>\n",
              "    <tr>\n",
              "      <th>credit</th>\n",
              "      <td>0.001562</td>\n",
              "      <td>0.007761</td>\n",
              "      <td>-0.009387</td>\n",
              "      <td>0.002786</td>\n",
              "      <td>0.008555</td>\n",
              "      <td>-0.008163</td>\n",
              "      <td>0.012582</td>\n",
              "      <td>-0.005230</td>\n",
              "      <td>-0.007038</td>\n",
              "      <td>-0.025187</td>\n",
              "      <td>...</td>\n",
              "      <td>NaN</td>\n",
              "      <td>-0.003134</td>\n",
              "      <td>0.003452</td>\n",
              "      <td>0.014812</td>\n",
              "      <td>0.010923</td>\n",
              "      <td>0.008227</td>\n",
              "      <td>0.147477</td>\n",
              "      <td>1.000000</td>\n",
              "      <td>0.025059</td>\n",
              "      <td>0.023608</td>\n",
              "    </tr>\n",
              "    <tr>\n",
              "      <th>Age</th>\n",
              "      <td>-0.200988</td>\n",
              "      <td>-0.156431</td>\n",
              "      <td>0.129745</td>\n",
              "      <td>-0.343728</td>\n",
              "      <td>-0.064009</td>\n",
              "      <td>-0.211582</td>\n",
              "      <td>0.142999</td>\n",
              "      <td>0.104291</td>\n",
              "      <td>-0.203887</td>\n",
              "      <td>-0.999692</td>\n",
              "      <td>...</td>\n",
              "      <td>NaN</td>\n",
              "      <td>-0.179204</td>\n",
              "      <td>0.029090</td>\n",
              "      <td>-0.111189</td>\n",
              "      <td>0.314870</td>\n",
              "      <td>-0.298081</td>\n",
              "      <td>0.057365</td>\n",
              "      <td>0.025059</td>\n",
              "      <td>1.000000</td>\n",
              "      <td>-0.003393</td>\n",
              "    </tr>\n",
              "    <tr>\n",
              "      <th>Year_EMPLOYED</th>\n",
              "      <td>-0.038863</td>\n",
              "      <td>-0.000480</td>\n",
              "      <td>-0.035965</td>\n",
              "      <td>0.039940</td>\n",
              "      <td>0.083144</td>\n",
              "      <td>0.180043</td>\n",
              "      <td>-0.003521</td>\n",
              "      <td>-0.049397</td>\n",
              "      <td>-0.032581</td>\n",
              "      <td>0.002992</td>\n",
              "      <td>...</td>\n",
              "      <td>NaN</td>\n",
              "      <td>0.102969</td>\n",
              "      <td>0.042374</td>\n",
              "      <td>-0.000019</td>\n",
              "      <td>-0.206816</td>\n",
              "      <td>0.051053</td>\n",
              "      <td>0.083338</td>\n",
              "      <td>0.023608</td>\n",
              "      <td>-0.003393</td>\n",
              "      <td>1.000000</td>\n",
              "    </tr>\n",
              "  </tbody>\n",
              "</table>\n",
              "<p>21 rows × 21 columns</p>\n",
              "</div>\n",
              "      <button class=\"colab-df-convert\" onclick=\"convertToInteractive('df-613b9a5c-c112-433f-87c2-55444615ced3')\"\n",
              "              title=\"Convert this dataframe to an interactive table.\"\n",
              "              style=\"display:none;\">\n",
              "        \n",
              "  <svg xmlns=\"http://www.w3.org/2000/svg\" height=\"24px\"viewBox=\"0 0 24 24\"\n",
              "       width=\"24px\">\n",
              "    <path d=\"M0 0h24v24H0V0z\" fill=\"none\"/>\n",
              "    <path d=\"M18.56 5.44l.94 2.06.94-2.06 2.06-.94-2.06-.94-.94-2.06-.94 2.06-2.06.94zm-11 1L8.5 8.5l.94-2.06 2.06-.94-2.06-.94L8.5 2.5l-.94 2.06-2.06.94zm10 10l.94 2.06.94-2.06 2.06-.94-2.06-.94-.94-2.06-.94 2.06-2.06.94z\"/><path d=\"M17.41 7.96l-1.37-1.37c-.4-.4-.92-.59-1.43-.59-.52 0-1.04.2-1.43.59L10.3 9.45l-7.72 7.72c-.78.78-.78 2.05 0 2.83L4 21.41c.39.39.9.59 1.41.59.51 0 1.02-.2 1.41-.59l7.78-7.78 2.81-2.81c.8-.78.8-2.07 0-2.86zM5.41 20L4 18.59l7.72-7.72 1.47 1.35L5.41 20z\"/>\n",
              "  </svg>\n",
              "      </button>\n",
              "      \n",
              "  <style>\n",
              "    .colab-df-container {\n",
              "      display:flex;\n",
              "      flex-wrap:wrap;\n",
              "      gap: 12px;\n",
              "    }\n",
              "\n",
              "    .colab-df-convert {\n",
              "      background-color: #E8F0FE;\n",
              "      border: none;\n",
              "      border-radius: 50%;\n",
              "      cursor: pointer;\n",
              "      display: none;\n",
              "      fill: #1967D2;\n",
              "      height: 32px;\n",
              "      padding: 0 0 0 0;\n",
              "      width: 32px;\n",
              "    }\n",
              "\n",
              "    .colab-df-convert:hover {\n",
              "      background-color: #E2EBFA;\n",
              "      box-shadow: 0px 1px 2px rgba(60, 64, 67, 0.3), 0px 1px 3px 1px rgba(60, 64, 67, 0.15);\n",
              "      fill: #174EA6;\n",
              "    }\n",
              "\n",
              "    [theme=dark] .colab-df-convert {\n",
              "      background-color: #3B4455;\n",
              "      fill: #D2E3FC;\n",
              "    }\n",
              "\n",
              "    [theme=dark] .colab-df-convert:hover {\n",
              "      background-color: #434B5C;\n",
              "      box-shadow: 0px 1px 3px 1px rgba(0, 0, 0, 0.15);\n",
              "      filter: drop-shadow(0px 1px 2px rgba(0, 0, 0, 0.3));\n",
              "      fill: #FFFFFF;\n",
              "    }\n",
              "  </style>\n",
              "\n",
              "      <script>\n",
              "        const buttonEl =\n",
              "          document.querySelector('#df-613b9a5c-c112-433f-87c2-55444615ced3 button.colab-df-convert');\n",
              "        buttonEl.style.display =\n",
              "          google.colab.kernel.accessAllowed ? 'block' : 'none';\n",
              "\n",
              "        async function convertToInteractive(key) {\n",
              "          const element = document.querySelector('#df-613b9a5c-c112-433f-87c2-55444615ced3');\n",
              "          const dataTable =\n",
              "            await google.colab.kernel.invokeFunction('convertToInteractive',\n",
              "                                                     [key], {});\n",
              "          if (!dataTable) return;\n",
              "\n",
              "          const docLinkHtml = 'Like what you see? Visit the ' +\n",
              "            '<a target=\"_blank\" href=https://colab.research.google.com/notebooks/data_table.ipynb>data table notebook</a>'\n",
              "            + ' to learn more about interactive tables.';\n",
              "          element.innerHTML = '';\n",
              "          dataTable['output_type'] = 'display_data';\n",
              "          await google.colab.output.renderOutput(dataTable, element);\n",
              "          const docLink = document.createElement('div');\n",
              "          docLink.innerHTML = docLinkHtml;\n",
              "          element.appendChild(docLink);\n",
              "        }\n",
              "      </script>\n",
              "    </div>\n",
              "  </div>\n",
              "  "
            ]
          },
          "metadata": {},
          "execution_count": 236
        }
      ]
    },
    {
      "cell_type": "code",
      "source": [
        "train[\"FLAG_MOBIL\"].value_counts()"
      ],
      "metadata": {
        "id": "rVjDIacYDQ3I",
        "colab": {
          "base_uri": "https://localhost:8080/"
        },
        "outputId": "4df5eef8-9630-4217-f97b-feffb6d804e6"
      },
      "execution_count": 237,
      "outputs": [
        {
          "output_type": "execute_result",
          "data": {
            "text/plain": [
              "1    26457\n",
              "Name: FLAG_MOBIL, dtype: int64"
            ]
          },
          "metadata": {},
          "execution_count": 237
        }
      ]
    },
    {
      "cell_type": "markdown",
      "source": [
        "\n",
        "\n",
        "*   **FLAG_MOBIL 값 모두 같음 => 삭제**\n",
        "\n"
      ],
      "metadata": {
        "id": "Inlph-xJG2Ft"
      }
    },
    {
      "cell_type": "code",
      "source": [
        "mask = np.triu(np.ones_like(corr))\n",
        "plt.figure(figsize=(15,15))\n",
        "sns.heatmap(data=corr, annot=True, fmt=\".2f\", cmap=\"Blues\", mask=mask)"
      ],
      "metadata": {
        "id": "CLI5SqrBCPhX",
        "colab": {
          "base_uri": "https://localhost:8080/",
          "height": 0
        },
        "outputId": "3e927785-f46d-4d72-941f-425b5df2219e"
      },
      "execution_count": 238,
      "outputs": [
        {
          "output_type": "execute_result",
          "data": {
            "text/plain": [
              "<matplotlib.axes._subplots.AxesSubplot at 0x7f8a7a2f59d0>"
            ]
          },
          "metadata": {},
          "execution_count": 238
        },
        {
          "output_type": "display_data",
          "data": {
            "text/plain": [
              "<Figure size 1080x1080 with 2 Axes>"
            ],
            "image/png": "[encoded data removed]"
          },
          "metadata": {
            "needs_background": "light"
          }
        }
      ]
    },
    {
      "cell_type": "code",
      "source": [
        "plt.figure(figsize=(15,5))\n",
        "sns.countplot(data=train, x='edu_type', hue=\"credit\")"
      ],
      "metadata": {
        "id": "BIQ4O0-o_1Rc",
        "colab": {
          "base_uri": "https://localhost:8080/",
          "height": 0
        },
        "outputId": "5a944f25-e444-4b40-b5af-26ab5f05e8ba"
      },
      "execution_count": 239,
      "outputs": [
        {
          "output_type": "execute_result",
          "data": {
            "text/plain": [
              "<matplotlib.axes._subplots.AxesSubplot at 0x7f8a7a357910>"
            ]
          },
          "metadata": {},
          "execution_count": 239
        },
        {
          "output_type": "display_data",
          "data": {
            "text/plain": [
              "<Figure size 1080x360 with 1 Axes>"
            ],
            "image/png": "[encoded data removed]"
          },
          "metadata": {
            "needs_background": "light"
          }
        }
      ]
    },
    {
      "cell_type": "code",
      "source": [
        "plt.figure(figsize=(15,5))\n",
        "sns.countplot(data=train, x='occyp_type', hue=\"credit\")"
      ],
      "metadata": {
        "id": "UrWkTf6v_1O5",
        "colab": {
          "base_uri": "https://localhost:8080/",
          "height": 0
        },
        "outputId": "06c6aa06-8aa5-41fa-af2c-c6709aa58f6f"
      },
      "execution_count": 240,
      "outputs": [
        {
          "output_type": "execute_result",
          "data": {
            "text/plain": [
              "<matplotlib.axes._subplots.AxesSubplot at 0x7f8a7a0cad60>"
            ]
          },
          "metadata": {},
          "execution_count": 240
        },
        {
          "output_type": "display_data",
          "data": {
            "text/plain": [
              "<Figure size 1080x360 with 1 Axes>"
            ],
            "image/png": "[encoded data removed]"
          },
          "metadata": {
            "needs_background": "light"
          }
        }
      ]
    },
    {
      "cell_type": "code",
      "source": [
        "plt.figure(figsize=(15,5))\n",
        "sns.countplot(data=train, x='family_size', hue=\"credit\")"
      ],
      "metadata": {
        "id": "c1JrCxmTD_Vt",
        "colab": {
          "base_uri": "https://localhost:8080/",
          "height": 0
        },
        "outputId": "dac2fa77-6fed-4bb5-a75c-8ad7aac4c1ed"
      },
      "execution_count": 241,
      "outputs": [
        {
          "output_type": "execute_result",
          "data": {
            "text/plain": [
              "<matplotlib.axes._subplots.AxesSubplot at 0x7f8a7a3571f0>"
            ]
          },
          "metadata": {},
          "execution_count": 241
        },
        {
          "output_type": "display_data",
          "data": {
            "text/plain": [
              "<Figure size 1080x360 with 1 Axes>"
            ],
            "image/png": "[encoded data removed]"
          },
          "metadata": {
            "needs_background": "light"
          }
        }
      ]
    },
    {
      "cell_type": "code",
      "source": [
        "plt.figure(figsize=(15,5))\n",
        "sns.countplot(data=train, x='house_type', hue=\"credit\")"
      ],
      "metadata": {
        "id": "p2ntKqWEFuDs",
        "colab": {
          "base_uri": "https://localhost:8080/",
          "height": 0
        },
        "outputId": "e7ebc26d-0ba6-4f64-a4e6-1256aa78c0ae"
      },
      "execution_count": 242,
      "outputs": [
        {
          "output_type": "execute_result",
          "data": {
            "text/plain": [
              "<matplotlib.axes._subplots.AxesSubplot at 0x7f8a7a060c70>"
            ]
          },
          "metadata": {},
          "execution_count": 242
        },
        {
          "output_type": "display_data",
          "data": {
            "text/plain": [
              "<Figure size 1080x360 with 1 Axes>"
            ],
            "image/png": "[encoded data removed]"
          },
          "metadata": {
            "needs_background": "light"
          }
        }
      ]
    },
    {
      "cell_type": "code",
      "source": [
        "plt.figure(figsize=(15,5))\n",
        "sns.countplot(data=train, x='child_num', hue=\"credit\")"
      ],
      "metadata": {
        "id": "gzAEXfrBF6nN",
        "colab": {
          "base_uri": "https://localhost:8080/",
          "height": 0
        },
        "outputId": "967e6d83-a845-4786-85cb-994d34c4a4f4"
      },
      "execution_count": 243,
      "outputs": [
        {
          "output_type": "execute_result",
          "data": {
            "text/plain": [
              "<matplotlib.axes._subplots.AxesSubplot at 0x7f8a79f2ad30>"
            ]
          },
          "metadata": {},
          "execution_count": 243
        },
        {
          "output_type": "display_data",
          "data": {
            "text/plain": [
              "<Figure size 1080x360 with 1 Axes>"
            ],
            "image/png": "[encoded data removed]"
          },
          "metadata": {
            "needs_background": "light"
          }
        }
      ]
    },
    {
      "cell_type": "code",
      "source": [
        "plt.figure(figsize=(15,5))\n",
        "sns.kdeplot(data=train, x='begin_month', hue=\"credit\")"
      ],
      "metadata": {
        "id": "BVTKwrK3GEjm",
        "colab": {
          "base_uri": "https://localhost:8080/",
          "height": 0
        },
        "outputId": "434e29b1-66ba-4835-adb4-a729bcf88b20"
      },
      "execution_count": 244,
      "outputs": [
        {
          "output_type": "execute_result",
          "data": {
            "text/plain": [
              "<matplotlib.axes._subplots.AxesSubplot at 0x7f8a79f2a0a0>"
            ]
          },
          "metadata": {},
          "execution_count": 244
        },
        {
          "output_type": "display_data",
          "data": {
            "text/plain": [
              "<Figure size 1080x360 with 1 Axes>"
            ],
            "image/png": "[encoded data removed]"
          },
          "metadata": {
            "needs_background": "light"
          }
        }
      ]
    },
    {
      "cell_type": "markdown",
      "source": [
        "\n",
        "\n",
        "> ### feature 선택\n",
        "\n"
      ],
      "metadata": {
        "id": "av_9vAPisB_3"
      }
    },
    {
      "cell_type": "code",
      "source": [
        "train.columns"
      ],
      "metadata": {
        "id": "BGvEtxFfGa4d",
        "colab": {
          "base_uri": "https://localhost:8080/"
        },
        "outputId": "1be7bf91-1ff3-468f-fdb4-fd84143a75ff"
      },
      "execution_count": 245,
      "outputs": [
        {
          "output_type": "execute_result",
          "data": {
            "text/plain": [
              "Index(['gender', 'car', 'reality', 'child_num', 'income_total', 'income_type',\n",
              "       'edu_type', 'family_type', 'house_type', 'DAYS_BIRTH', 'DAYS_EMPLOYED',\n",
              "       'FLAG_MOBIL', 'work_phone', 'phone', 'email', 'occyp_type',\n",
              "       'family_size', 'begin_month', 'credit', 'Age', 'Year_EMPLOYED'],\n",
              "      dtype='object')"
            ]
          },
          "metadata": {},
          "execution_count": 245
        }
      ]
    },
    {
      "cell_type": "code",
      "source": [
        "features = ['gender', 'car', 'reality', 'child_num', 'income_total', 'income_type',\n",
        "       'edu_type', 'family_type', 'house_type',\n",
        "       'work_phone', 'phone', 'email', 'occyp_type',\n",
        "       'family_size', 'begin_month', 'Age', 'Year_EMPLOYED']"
      ],
      "metadata": {
        "id": "t5UCFgaCGa8z"
      },
      "execution_count": 246,
      "outputs": []
    },
    {
      "cell_type": "code",
      "source": [
        "label = 'credit'"
      ],
      "metadata": {
        "id": "adVzDO3_GbE3"
      },
      "execution_count": 247,
      "outputs": []
    },
    {
      "cell_type": "code",
      "source": [
        "X_train = train[features]\n",
        "y_train = train[label]\n",
        "\n",
        "X_test = test[features]"
      ],
      "metadata": {
        "id": "p6hqvcXZsBCW"
      },
      "execution_count": 248,
      "outputs": []
    },
    {
      "cell_type": "markdown",
      "source": [
        "# Data Preprocessing 2"
      ],
      "metadata": {
        "id": "mJAKbyEWr2IB"
      }
    },
    {
      "cell_type": "code",
      "source": [
        "y_train.value_counts()"
      ],
      "metadata": {
        "id": "krfMgsunbYwT",
        "colab": {
          "base_uri": "https://localhost:8080/"
        },
        "outputId": "55e1a8d3-ac44-4005-fba0-e3024d0787e2"
      },
      "execution_count": 249,
      "outputs": [
        {
          "output_type": "execute_result",
          "data": {
            "text/plain": [
              "2.0    16968\n",
              "1.0     6267\n",
              "0.0     3222\n",
              "Name: credit, dtype: int64"
            ]
          },
          "metadata": {},
          "execution_count": 249
        }
      ]
    },
    {
      "cell_type": "code",
      "source": [
        "# 성능 안좋아서 삭제함\n",
        "# from imblearn.over_sampling import SMOTE\n",
        "\n",
        "# smote = SMOTE(random_state=42)\n",
        "# X_train,y_train = smote.fit_resample(X_train, y_train)"
      ],
      "metadata": {
        "id": "oCezO0l6bQgT"
      },
      "execution_count": 250,
      "outputs": []
    },
    {
      "cell_type": "code",
      "source": [
        "y_train.value_counts()"
      ],
      "metadata": {
        "id": "XiC7SZGobbui",
        "colab": {
          "base_uri": "https://localhost:8080/"
        },
        "outputId": "38600c95-072f-4ac6-fcb3-41b535a531c6"
      },
      "execution_count": 251,
      "outputs": [
        {
          "output_type": "execute_result",
          "data": {
            "text/plain": [
              "2.0    16968\n",
              "1.0     6267\n",
              "0.0     3222\n",
              "Name: credit, dtype: int64"
            ]
          },
          "metadata": {},
          "execution_count": 251
        }
      ]
    },
    {
      "cell_type": "markdown",
      "source": [
        "> ### 결측치 대체"
      ],
      "metadata": {
        "id": "1pwxxhJ7X6NT"
      }
    },
    {
      "cell_type": "code",
      "source": [
        "# occyp_type"
      ],
      "metadata": {
        "id": "sIEkhc-HqguT"
      },
      "execution_count": 252,
      "outputs": []
    },
    {
      "cell_type": "code",
      "source": [
        "train['occyp_type'].value_counts()"
      ],
      "metadata": {
        "id": "u6ZSTgORX5Xy",
        "colab": {
          "base_uri": "https://localhost:8080/"
        },
        "outputId": "f5f590df-b24a-4971-d8a4-fa5bb7f626ba"
      },
      "execution_count": 253,
      "outputs": [
        {
          "output_type": "execute_result",
          "data": {
            "text/plain": [
              "13    8171\n",
              "7     4512\n",
              "3     2646\n",
              "11    2539\n",
              "8     2167\n",
              "4     1575\n",
              "6     1040\n",
              "0      902\n",
              "9      864\n",
              "5      514\n",
              "2      457\n",
              "12     424\n",
              "1      403\n",
              "10     243\n",
              "Name: occyp_type, dtype: int64"
            ]
          },
          "metadata": {},
          "execution_count": 253
        }
      ]
    },
    {
      "cell_type": "code",
      "source": [
        "train.loc[~train['occyp_type'].isnull(),'credit'].hist()"
      ],
      "metadata": {
        "id": "ZQwFN8VnYxKZ",
        "colab": {
          "base_uri": "https://localhost:8080/",
          "height": 0
        },
        "outputId": "996a949e-b6f1-4c5f-b426-761982174604"
      },
      "execution_count": 254,
      "outputs": [
        {
          "output_type": "execute_result",
          "data": {
            "text/plain": [
              "<matplotlib.axes._subplots.AxesSubplot at 0x7f8a840ea400>"
            ]
          },
          "metadata": {},
          "execution_count": 254
        },
        {
          "output_type": "display_data",
          "data": {
            "text/plain": [
              "<Figure size 432x288 with 1 Axes>"
            ],
            "image/png": "[encoded data removed]"
          },
          "metadata": {
            "needs_background": "light"
          }
        }
      ]
    },
    {
      "cell_type": "markdown",
      "source": [
        "\n",
        "\n",
        "*   **Nan인 값에 대해 Credit의 분포를 확인해본 결과, 분포가 다양했기 때문에 모두 기타로 처리하기 보다는 보간법을 통해 최대한 의미 있게 채우는 것이 좋겠다고 생각함**\n",
        "\n"
      ],
      "metadata": {
        "id": "HmfNISdjaf34"
      }
    },
    {
      "cell_type": "code",
      "source": [
        "# KNN 보간법\n",
        "from sklearn.impute import KNNImputer\n",
        "imputer = KNNImputer(n_neighbors=50)\n",
        "tmp = imputer.fit_transform(X_train)\n",
        "tmp2 = imputer.transform(X_test)"
      ],
      "metadata": {
        "id": "oqkCFIvZcbSw"
      },
      "execution_count": 255,
      "outputs": []
    },
    {
      "cell_type": "code",
      "source": [
        "X_train_Im = pd.DataFrame(tmp,columns=X_train.columns)\n",
        "X_test_Im = pd.DataFrame(tmp2,columns=X_test.columns)"
      ],
      "metadata": {
        "id": "mmsEAv1aqlny"
      },
      "execution_count": 256,
      "outputs": []
    },
    {
      "cell_type": "code",
      "source": [
        "X_train_Im.isnull().sum().sum(), X_test_Im.isnull().sum().sum()"
      ],
      "metadata": {
        "id": "9krZ_cnCrN4u",
        "colab": {
          "base_uri": "https://localhost:8080/"
        },
        "outputId": "f5a287f0-b2ae-4e9e-8374-cb343a029a0b"
      },
      "execution_count": 257,
      "outputs": [
        {
          "output_type": "execute_result",
          "data": {
            "text/plain": [
              "(0, 0)"
            ]
          },
          "metadata": {},
          "execution_count": 257
        }
      ]
    },
    {
      "cell_type": "code",
      "source": [
        "display(X_train_Im.head(2))\n",
        "display(X_test_Im.head(2))"
      ],
      "metadata": {
        "id": "NC16DGj5_1MN",
        "colab": {
          "base_uri": "https://localhost:8080/",
          "height": 0
        },
        "outputId": "ff1fa08c-cf2f-4dfd-92c4-94a02a69e12d"
      },
      "execution_count": 258,
      "outputs": [
        {
          "output_type": "display_data",
          "data": {
            "text/plain": [
              "   gender  car  reality  child_num  income_total  income_type  edu_type  \\\n",
              "0     0.0  0.0      0.0        0.0      202500.0          0.0       1.0   \n",
              "1     0.0  0.0      1.0        1.0      247500.0          0.0       3.0   \n",
              "\n",
              "   family_type  house_type  work_phone  phone  email  occyp_type  family_size  \\\n",
              "0          1.0         2.0         0.0    0.0    0.0        13.0          2.0   \n",
              "1          0.0         1.0         0.0    0.0    1.0         7.0          3.0   \n",
              "\n",
              "   begin_month   Age  Year_EMPLOYED  \n",
              "0          6.0  38.0           13.0  \n",
              "1          5.0  31.0            4.0  "
            ],
            "text/html": [
              "\n",
              "  <div id=\"df-94571de0-ba3f-44de-8035-d563bc2a4f12\">\n",
              "    <div class=\"colab-df-container\">\n",
              "      <div>\n",
              "<style scoped>\n",
              "    .dataframe tbody tr th:only-of-type {\n",
              "        vertical-align: middle;\n",
              "    }\n",
              "\n",
              "    .dataframe tbody tr th {\n",
              "        vertical-align: top;\n",
              "    }\n",
              "\n",
              "    .dataframe thead th {\n",
              "        text-align: right;\n",
              "    }\n",
              "</style>\n",
              "<table border=\"1\" class=\"dataframe\">\n",
              "  <thead>\n",
              "    <tr style=\"text-align: right;\">\n",
              "      <th></th>\n",
              "      <th>gender</th>\n",
              "      <th>car</th>\n",
              "      <th>reality</th>\n",
              "      <th>child_num</th>\n",
              "      <th>income_total</th>\n",
              "      <th>income_type</th>\n",
              "      <th>edu_type</th>\n",
              "      <th>family_type</th>\n",
              "      <th>house_type</th>\n",
              "      <th>work_phone</th>\n",
              "      <th>phone</th>\n",
              "      <th>email</th>\n",
              "      <th>occyp_type</th>\n",
              "      <th>family_size</th>\n",
              "      <th>begin_month</th>\n",
              "      <th>Age</th>\n",
              "      <th>Year_EMPLOYED</th>\n",
              "    </tr>\n",
              "  </thead>\n",
              "  <tbody>\n",
              "    <tr>\n",
              "      <th>0</th>\n",
              "      <td>0.0</td>\n",
              "      <td>0.0</td>\n",
              "      <td>0.0</td>\n",
              "      <td>0.0</td>\n",
              "      <td>202500.0</td>\n",
              "      <td>0.0</td>\n",
              "      <td>1.0</td>\n",
              "      <td>1.0</td>\n",
              "      <td>2.0</td>\n",
              "      <td>0.0</td>\n",
              "      <td>0.0</td>\n",
              "      <td>0.0</td>\n",
              "      <td>13.0</td>\n",
              "      <td>2.0</td>\n",
              "      <td>6.0</td>\n",
              "      <td>38.0</td>\n",
              "      <td>13.0</td>\n",
              "    </tr>\n",
              "    <tr>\n",
              "      <th>1</th>\n",
              "      <td>0.0</td>\n",
              "      <td>0.0</td>\n",
              "      <td>1.0</td>\n",
              "      <td>1.0</td>\n",
              "      <td>247500.0</td>\n",
              "      <td>0.0</td>\n",
              "      <td>3.0</td>\n",
              "      <td>0.0</td>\n",
              "      <td>1.0</td>\n",
              "      <td>0.0</td>\n",
              "      <td>0.0</td>\n",
              "      <td>1.0</td>\n",
              "      <td>7.0</td>\n",
              "      <td>3.0</td>\n",
              "      <td>5.0</td>\n",
              "      <td>31.0</td>\n",
              "      <td>4.0</td>\n",
              "    </tr>\n",
              "  </tbody>\n",
              "</table>\n",
              "</div>\n",
              "      <button class=\"colab-df-convert\" onclick=\"convertToInteractive('df-94571de0-ba3f-44de-8035-d563bc2a4f12')\"\n",
              "              title=\"Convert this dataframe to an interactive table.\"\n",
              "              style=\"display:none;\">\n",
              "        \n",
              "  <svg xmlns=\"http://www.w3.org/2000/svg\" height=\"24px\"viewBox=\"0 0 24 24\"\n",
              "       width=\"24px\">\n",
              "    <path d=\"M0 0h24v24H0V0z\" fill=\"none\"/>\n",
              "    <path d=\"M18.56 5.44l.94 2.06.94-2.06 2.06-.94-2.06-.94-.94-2.06-.94 2.06-2.06.94zm-11 1L8.5 8.5l.94-2.06 2.06-.94-2.06-.94L8.5 2.5l-.94 2.06-2.06.94zm10 10l.94 2.06.94-2.06 2.06-.94-2.06-.94-.94-2.06-.94 2.06-2.06.94z\"/><path d=\"M17.41 7.96l-1.37-1.37c-.4-.4-.92-.59-1.43-.59-.52 0-1.04.2-1.43.59L10.3 9.45l-7.72 7.72c-.78.78-.78 2.05 0 2.83L4 21.41c.39.39.9.59 1.41.59.51 0 1.02-.2 1.41-.59l7.78-7.78 2.81-2.81c.8-.78.8-2.07 0-2.86zM5.41 20L4 18.59l7.72-7.72 1.47 1.35L5.41 20z\"/>\n",
              "  </svg>\n",
              "      </button>\n",
              "      \n",
              "  <style>\n",
              "    .colab-df-container {\n",
              "      display:flex;\n",
              "      flex-wrap:wrap;\n",
              "      gap: 12px;\n",
              "    }\n",
              "\n",
              "    .colab-df-convert {\n",
              "      background-color: #E8F0FE;\n",
              "      border: none;\n",
              "      border-radius: 50%;\n",
              "      cursor: pointer;\n",
              "      display: none;\n",
              "      fill: #1967D2;\n",
              "      height: 32px;\n",
              "      padding: 0 0 0 0;\n",
              "      width: 32px;\n",
              "    }\n",
              "\n",
              "    .colab-df-convert:hover {\n",
              "      background-color: #E2EBFA;\n",
              "      box-shadow: 0px 1px 2px rgba(60, 64, 67, 0.3), 0px 1px 3px 1px rgba(60, 64, 67, 0.15);\n",
              "      fill: #174EA6;\n",
              "    }\n",
              "\n",
              "    [theme=dark] .colab-df-convert {\n",
              "      background-color: #3B4455;\n",
              "      fill: #D2E3FC;\n",
              "    }\n",
              "\n",
              "    [theme=dark] .colab-df-convert:hover {\n",
              "      background-color: #434B5C;\n",
              "      box-shadow: 0px 1px 3px 1px rgba(0, 0, 0, 0.15);\n",
              "      filter: drop-shadow(0px 1px 2px rgba(0, 0, 0, 0.3));\n",
              "      fill: #FFFFFF;\n",
              "    }\n",
              "  </style>\n",
              "\n",
              "      <script>\n",
              "        const buttonEl =\n",
              "          document.querySelector('#df-94571de0-ba3f-44de-8035-d563bc2a4f12 button.colab-df-convert');\n",
              "        buttonEl.style.display =\n",
              "          google.colab.kernel.accessAllowed ? 'block' : 'none';\n",
              "\n",
              "        async function convertToInteractive(key) {\n",
              "          const element = document.querySelector('#df-94571de0-ba3f-44de-8035-d563bc2a4f12');\n",
              "          const dataTable =\n",
              "            await google.colab.kernel.invokeFunction('convertToInteractive',\n",
              "                                                     [key], {});\n",
              "          if (!dataTable) return;\n",
              "\n",
              "          const docLinkHtml = 'Like what you see? Visit the ' +\n",
              "            '<a target=\"_blank\" href=https://colab.research.google.com/notebooks/data_table.ipynb>data table notebook</a>'\n",
              "            + ' to learn more about interactive tables.';\n",
              "          element.innerHTML = '';\n",
              "          dataTable['output_type'] = 'display_data';\n",
              "          await google.colab.output.renderOutput(dataTable, element);\n",
              "          const docLink = document.createElement('div');\n",
              "          docLink.innerHTML = docLinkHtml;\n",
              "          element.appendChild(docLink);\n",
              "        }\n",
              "      </script>\n",
              "    </div>\n",
              "  </div>\n",
              "  "
            ]
          },
          "metadata": {}
        },
        {
          "output_type": "display_data",
          "data": {
            "text/plain": [
              "   gender  car  reality  child_num  income_total  income_type  edu_type  \\\n",
              "0     1.0  1.0      0.0        0.0      112500.0          1.0       3.0   \n",
              "1     0.0  0.0      1.0        0.0      135000.0          2.0       1.0   \n",
              "\n",
              "   family_type  house_type  work_phone  phone  email  occyp_type  family_size  \\\n",
              "0          0.0         1.0         0.0    1.0    0.0        13.0          2.0   \n",
              "1          1.0         1.0         0.0    1.0    0.0         3.0          2.0   \n",
              "\n",
              "   begin_month   Age  Year_EMPLOYED  \n",
              "0         60.0  60.0            0.0  \n",
              "1         36.0  51.0           24.0  "
            ],
            "text/html": [
              "\n",
              "  <div id=\"df-39164dc8-f7d7-4425-a107-0b5da10ccc84\">\n",
              "    <div class=\"colab-df-container\">\n",
              "      <div>\n",
              "<style scoped>\n",
              "    .dataframe tbody tr th:only-of-type {\n",
              "        vertical-align: middle;\n",
              "    }\n",
              "\n",
              "    .dataframe tbody tr th {\n",
              "        vertical-align: top;\n",
              "    }\n",
              "\n",
              "    .dataframe thead th {\n",
              "        text-align: right;\n",
              "    }\n",
              "</style>\n",
              "<table border=\"1\" class=\"dataframe\">\n",
              "  <thead>\n",
              "    <tr style=\"text-align: right;\">\n",
              "      <th></th>\n",
              "      <th>gender</th>\n",
              "      <th>car</th>\n",
              "      <th>reality</th>\n",
              "      <th>child_num</th>\n",
              "      <th>income_total</th>\n",
              "      <th>income_type</th>\n",
              "      <th>edu_type</th>\n",
              "      <th>family_type</th>\n",
              "      <th>house_type</th>\n",
              "      <th>work_phone</th>\n",
              "      <th>phone</th>\n",
              "      <th>email</th>\n",
              "      <th>occyp_type</th>\n",
              "      <th>family_size</th>\n",
              "      <th>begin_month</th>\n",
              "      <th>Age</th>\n",
              "      <th>Year_EMPLOYED</th>\n",
              "    </tr>\n",
              "  </thead>\n",
              "  <tbody>\n",
              "    <tr>\n",
              "      <th>0</th>\n",
              "      <td>1.0</td>\n",
              "      <td>1.0</td>\n",
              "      <td>0.0</td>\n",
              "      <td>0.0</td>\n",
              "      <td>112500.0</td>\n",
              "      <td>1.0</td>\n",
              "      <td>3.0</td>\n",
              "      <td>0.0</td>\n",
              "      <td>1.0</td>\n",
              "      <td>0.0</td>\n",
              "      <td>1.0</td>\n",
              "      <td>0.0</td>\n",
              "      <td>13.0</td>\n",
              "      <td>2.0</td>\n",
              "      <td>60.0</td>\n",
              "      <td>60.0</td>\n",
              "      <td>0.0</td>\n",
              "    </tr>\n",
              "    <tr>\n",
              "      <th>1</th>\n",
              "      <td>0.0</td>\n",
              "      <td>0.0</td>\n",
              "      <td>1.0</td>\n",
              "      <td>0.0</td>\n",
              "      <td>135000.0</td>\n",
              "      <td>2.0</td>\n",
              "      <td>1.0</td>\n",
              "      <td>1.0</td>\n",
              "      <td>1.0</td>\n",
              "      <td>0.0</td>\n",
              "      <td>1.0</td>\n",
              "      <td>0.0</td>\n",
              "      <td>3.0</td>\n",
              "      <td>2.0</td>\n",
              "      <td>36.0</td>\n",
              "      <td>51.0</td>\n",
              "      <td>24.0</td>\n",
              "    </tr>\n",
              "  </tbody>\n",
              "</table>\n",
              "</div>\n",
              "      <button class=\"colab-df-convert\" onclick=\"convertToInteractive('df-39164dc8-f7d7-4425-a107-0b5da10ccc84')\"\n",
              "              title=\"Convert this dataframe to an interactive table.\"\n",
              "              style=\"display:none;\">\n",
              "        \n",
              "  <svg xmlns=\"http://www.w3.org/2000/svg\" height=\"24px\"viewBox=\"0 0 24 24\"\n",
              "       width=\"24px\">\n",
              "    <path d=\"M0 0h24v24H0V0z\" fill=\"none\"/>\n",
              "    <path d=\"M18.56 5.44l.94 2.06.94-2.06 2.06-.94-2.06-.94-.94-2.06-.94 2.06-2.06.94zm-11 1L8.5 8.5l.94-2.06 2.06-.94-2.06-.94L8.5 2.5l-.94 2.06-2.06.94zm10 10l.94 2.06.94-2.06 2.06-.94-2.06-.94-.94-2.06-.94 2.06-2.06.94z\"/><path d=\"M17.41 7.96l-1.37-1.37c-.4-.4-.92-.59-1.43-.59-.52 0-1.04.2-1.43.59L10.3 9.45l-7.72 7.72c-.78.78-.78 2.05 0 2.83L4 21.41c.39.39.9.59 1.41.59.51 0 1.02-.2 1.41-.59l7.78-7.78 2.81-2.81c.8-.78.8-2.07 0-2.86zM5.41 20L4 18.59l7.72-7.72 1.47 1.35L5.41 20z\"/>\n",
              "  </svg>\n",
              "      </button>\n",
              "      \n",
              "  <style>\n",
              "    .colab-df-container {\n",
              "      display:flex;\n",
              "      flex-wrap:wrap;\n",
              "      gap: 12px;\n",
              "    }\n",
              "\n",
              "    .colab-df-convert {\n",
              "      background-color: #E8F0FE;\n",
              "      border: none;\n",
              "      border-radius: 50%;\n",
              "      cursor: pointer;\n",
              "      display: none;\n",
              "      fill: #1967D2;\n",
              "      height: 32px;\n",
              "      padding: 0 0 0 0;\n",
              "      width: 32px;\n",
              "    }\n",
              "\n",
              "    .colab-df-convert:hover {\n",
              "      background-color: #E2EBFA;\n",
              "      box-shadow: 0px 1px 2px rgba(60, 64, 67, 0.3), 0px 1px 3px 1px rgba(60, 64, 67, 0.15);\n",
              "      fill: #174EA6;\n",
              "    }\n",
              "\n",
              "    [theme=dark] .colab-df-convert {\n",
              "      background-color: #3B4455;\n",
              "      fill: #D2E3FC;\n",
              "    }\n",
              "\n",
              "    [theme=dark] .colab-df-convert:hover {\n",
              "      background-color: #434B5C;\n",
              "      box-shadow: 0px 1px 3px 1px rgba(0, 0, 0, 0.15);\n",
              "      filter: drop-shadow(0px 1px 2px rgba(0, 0, 0, 0.3));\n",
              "      fill: #FFFFFF;\n",
              "    }\n",
              "  </style>\n",
              "\n",
              "      <script>\n",
              "        const buttonEl =\n",
              "          document.querySelector('#df-39164dc8-f7d7-4425-a107-0b5da10ccc84 button.colab-df-convert');\n",
              "        buttonEl.style.display =\n",
              "          google.colab.kernel.accessAllowed ? 'block' : 'none';\n",
              "\n",
              "        async function convertToInteractive(key) {\n",
              "          const element = document.querySelector('#df-39164dc8-f7d7-4425-a107-0b5da10ccc84');\n",
              "          const dataTable =\n",
              "            await google.colab.kernel.invokeFunction('convertToInteractive',\n",
              "                                                     [key], {});\n",
              "          if (!dataTable) return;\n",
              "\n",
              "          const docLinkHtml = 'Like what you see? Visit the ' +\n",
              "            '<a target=\"_blank\" href=https://colab.research.google.com/notebooks/data_table.ipynb>data table notebook</a>'\n",
              "            + ' to learn more about interactive tables.';\n",
              "          element.innerHTML = '';\n",
              "          dataTable['output_type'] = 'display_data';\n",
              "          await google.colab.output.renderOutput(dataTable, element);\n",
              "          const docLink = document.createElement('div');\n",
              "          docLink.innerHTML = docLinkHtml;\n",
              "          element.appendChild(docLink);\n",
              "        }\n",
              "      </script>\n",
              "    </div>\n",
              "  </div>\n",
              "  "
            ]
          },
          "metadata": {}
        }
      ]
    },
    {
      "cell_type": "markdown",
      "source": [
        "\n",
        "\n",
        "> ### 정규화\n",
        "\n"
      ],
      "metadata": {
        "id": "NGPztlwrgiDT"
      }
    },
    {
      "cell_type": "code",
      "source": [
        "from sklearn.preprocessing import StandardScaler\n",
        "scaler = StandardScaler()\n",
        "X_train_final = scaler.fit_transform(X_train_Im)\n",
        "X_test_final = scaler.transform(X_test_Im)"
      ],
      "metadata": {
        "id": "Uo0VkN9KWTDW"
      },
      "execution_count": 259,
      "outputs": []
    },
    {
      "cell_type": "code",
      "source": [
        "X_train_final.shape, X_test_final.shape"
      ],
      "metadata": {
        "id": "pChHqpBsIbW-",
        "colab": {
          "base_uri": "https://localhost:8080/"
        },
        "outputId": "35679abf-9e8a-45a6-b0ca-3c65a0910db4"
      },
      "execution_count": 260,
      "outputs": [
        {
          "output_type": "execute_result",
          "data": {
            "text/plain": [
              "((26457, 17), (10000, 17))"
            ]
          },
          "metadata": {},
          "execution_count": 260
        }
      ]
    },
    {
      "cell_type": "markdown",
      "source": [
        "# Model Build"
      ],
      "metadata": {
        "id": "2H0_hdDgIKhi"
      }
    },
    {
      "cell_type": "code",
      "source": [
        "class Model_build(tf.keras.Model):\n",
        "    def __init__(self):\n",
        "        super(Model_build, self).__init__()\n",
        "        self.dense1 = tf.keras.layers.Dense(128, activation='relu', kernel_initializer='GlorotUniform')\n",
        "        self.dense2 = tf.keras.layers.Dense(128, activation='relu', kernel_initializer='GlorotUniform')\n",
        "        self.dense3 = tf.keras.layers.Dense(3, activation='softmax')\n",
        "        self.drop1 = tf.keras.layers.Dropout(0.2)\n",
        "        self.drop2 = tf.keras.layers.Dropout(0.2)\n",
        "\n",
        "    def call(self, input):\n",
        "        x = self.dense1(input)\n",
        "        x = self.drop1(x)\n",
        "        x = self.dense2(x)\n",
        "        x = self.drop2(x)\n",
        "        output = self.dense3(x)\n",
        "        return output\n",
        "\n",
        "    def summary(self, input_shape):\n",
        "        inputs = tf.keras.layers.Input(input_shape)\n",
        "        tf.keras.Model(inputs, self.call(inputs)).summary()\n"
      ],
      "metadata": {
        "id": "pKE_v2b661Ff"
      },
      "execution_count": 261,
      "outputs": []
    },
    {
      "cell_type": "code",
      "source": [
        "input_shape = (500,X_train_final.shape[1])\n",
        "\n",
        "model = Model_build()\n",
        "model.build(input_shape=input_shape)\n",
        "\n",
        "# 모델 요약\n",
        "model.summary(input_shape=input_shape)"
      ],
      "metadata": {
        "id": "HnpSpDR67DFW",
        "colab": {
          "base_uri": "https://localhost:8080/"
        },
        "outputId": "6be615e2-cf0e-469c-d2fb-dc01bf362747"
      },
      "execution_count": 262,
      "outputs": [
        {
          "output_type": "stream",
          "name": "stdout",
          "text": [
            "Model: \"model_7\"\n",
            "_________________________________________________________________\n",
            " Layer (type)                Output Shape              Param #   \n",
            "=================================================================\n",
            " input_8 (InputLayer)        [(None, 500, 17)]         0         \n",
            "                                                                 \n",
            " dense_27 (Dense)            (None, 500, 128)          2304      \n",
            "                                                                 \n",
            " dropout_14 (Dropout)        (None, 500, 128)          0         \n",
            "                                                                 \n",
            " dense_28 (Dense)            (None, 500, 128)          16512     \n",
            "                                                                 \n",
            " dropout_15 (Dropout)        (None, 500, 128)          0         \n",
            "                                                                 \n",
            " dense_29 (Dense)            (None, 500, 3)            387       \n",
            "                                                                 \n",
            "=================================================================\n",
            "Total params: 19,203\n",
            "Trainable params: 19,203\n",
            "Non-trainable params: 0\n",
            "_________________________________________________________________\n"
          ]
        }
      ]
    },
    {
      "cell_type": "markdown",
      "source": [
        "# 학습 & 예측"
      ],
      "metadata": {
        "id": "KeALb8fRcRzr"
      }
    },
    {
      "cell_type": "code",
      "source": [
        "# 컴파일 및 학습\n",
        "model.compile(optimizer='adam',\n",
        "              loss='sparse_categorical_crossentropy',\n",
        "              metrics=['accuracy'])\n",
        "\n",
        "history = model.fit(X_train_final, y_train, epochs=400, verbose=1, validation_split=0.2, shuffle=True, batch_size=500)"
      ],
      "metadata": {
        "id": "V1PLyNI0M5W1",
        "colab": {
          "base_uri": "https://localhost:8080/"
        },
        "outputId": "a82fe3ea-1d0e-4889-e479-7c38769bb680"
      },
      "execution_count": 263,
      "outputs": [
        {
          "output_type": "stream",
          "name": "stdout",
          "text": [
            "Epoch 1/400\n",
            "43/43 [==============================] - 3s 24ms/step - loss: 0.9196 - accuracy: 0.6207 - val_loss: 0.8849 - val_accuracy: 0.6328\n",
            "Epoch 2/400\n",
            "43/43 [==============================] - 0s 10ms/step - loss: 0.8761 - accuracy: 0.6444 - val_loss: 0.8765 - val_accuracy: 0.6334\n",
            "Epoch 3/400\n",
            "43/43 [==============================] - 0s 8ms/step - loss: 0.8684 - accuracy: 0.6476 - val_loss: 0.8716 - val_accuracy: 0.6387\n",
            "Epoch 4/400\n",
            "43/43 [==============================] - 0s 9ms/step - loss: 0.8609 - accuracy: 0.6513 - val_loss: 0.8670 - val_accuracy: 0.6425\n",
            "Epoch 5/400\n",
            "43/43 [==============================] - 0s 8ms/step - loss: 0.8567 - accuracy: 0.6553 - val_loss: 0.8602 - val_accuracy: 0.6523\n",
            "Epoch 6/400\n",
            "43/43 [==============================] - 0s 9ms/step - loss: 0.8517 - accuracy: 0.6598 - val_loss: 0.8554 - val_accuracy: 0.6572\n",
            "Epoch 7/400\n",
            "43/43 [==============================] - 0s 8ms/step - loss: 0.8466 - accuracy: 0.6652 - val_loss: 0.8540 - val_accuracy: 0.6621\n",
            "Epoch 8/400\n",
            "43/43 [==============================] - 0s 10ms/step - loss: 0.8423 - accuracy: 0.6653 - val_loss: 0.8506 - val_accuracy: 0.6644\n",
            "Epoch 9/400\n",
            "43/43 [==============================] - 0s 9ms/step - loss: 0.8379 - accuracy: 0.6686 - val_loss: 0.8459 - val_accuracy: 0.6689\n",
            "Epoch 10/400\n",
            "43/43 [==============================] - 0s 8ms/step - loss: 0.8332 - accuracy: 0.6715 - val_loss: 0.8418 - val_accuracy: 0.6695\n",
            "Epoch 11/400\n",
            "43/43 [==============================] - 0s 9ms/step - loss: 0.8280 - accuracy: 0.6748 - val_loss: 0.8378 - val_accuracy: 0.6704\n",
            "Epoch 12/400\n",
            "43/43 [==============================] - 0s 9ms/step - loss: 0.8266 - accuracy: 0.6752 - val_loss: 0.8363 - val_accuracy: 0.6727\n",
            "Epoch 13/400\n",
            "43/43 [==============================] - 0s 9ms/step - loss: 0.8255 - accuracy: 0.6752 - val_loss: 0.8363 - val_accuracy: 0.6733\n",
            "Epoch 14/400\n",
            "43/43 [==============================] - 0s 8ms/step - loss: 0.8235 - accuracy: 0.6762 - val_loss: 0.8357 - val_accuracy: 0.6710\n",
            "Epoch 15/400\n",
            "43/43 [==============================] - 0s 8ms/step - loss: 0.8199 - accuracy: 0.6784 - val_loss: 0.8318 - val_accuracy: 0.6754\n",
            "Epoch 16/400\n",
            "43/43 [==============================] - 0s 8ms/step - loss: 0.8189 - accuracy: 0.6781 - val_loss: 0.8314 - val_accuracy: 0.6744\n",
            "Epoch 17/400\n",
            "43/43 [==============================] - 0s 9ms/step - loss: 0.8151 - accuracy: 0.6791 - val_loss: 0.8293 - val_accuracy: 0.6744\n",
            "Epoch 18/400\n",
            "43/43 [==============================] - 0s 8ms/step - loss: 0.8138 - accuracy: 0.6800 - val_loss: 0.8290 - val_accuracy: 0.6752\n",
            "Epoch 19/400\n",
            "43/43 [==============================] - 0s 8ms/step - loss: 0.8120 - accuracy: 0.6801 - val_loss: 0.8285 - val_accuracy: 0.6738\n",
            "Epoch 20/400\n",
            "43/43 [==============================] - 0s 9ms/step - loss: 0.8110 - accuracy: 0.6823 - val_loss: 0.8259 - val_accuracy: 0.6742\n",
            "Epoch 21/400\n",
            "43/43 [==============================] - 0s 8ms/step - loss: 0.8085 - accuracy: 0.6828 - val_loss: 0.8248 - val_accuracy: 0.6729\n",
            "Epoch 22/400\n",
            "43/43 [==============================] - 0s 9ms/step - loss: 0.8081 - accuracy: 0.6808 - val_loss: 0.8238 - val_accuracy: 0.6757\n",
            "Epoch 23/400\n",
            "43/43 [==============================] - 0s 9ms/step - loss: 0.8063 - accuracy: 0.6817 - val_loss: 0.8252 - val_accuracy: 0.6738\n",
            "Epoch 24/400\n",
            "43/43 [==============================] - 0s 8ms/step - loss: 0.8031 - accuracy: 0.6835 - val_loss: 0.8235 - val_accuracy: 0.6759\n",
            "Epoch 25/400\n",
            "43/43 [==============================] - 0s 8ms/step - loss: 0.8031 - accuracy: 0.6833 - val_loss: 0.8208 - val_accuracy: 0.6761\n",
            "Epoch 26/400\n",
            "43/43 [==============================] - 0s 8ms/step - loss: 0.8020 - accuracy: 0.6847 - val_loss: 0.8199 - val_accuracy: 0.6776\n",
            "Epoch 27/400\n",
            "43/43 [==============================] - 0s 9ms/step - loss: 0.7987 - accuracy: 0.6867 - val_loss: 0.8195 - val_accuracy: 0.6755\n",
            "Epoch 28/400\n",
            "43/43 [==============================] - 0s 8ms/step - loss: 0.7977 - accuracy: 0.6865 - val_loss: 0.8169 - val_accuracy: 0.6778\n",
            "Epoch 29/400\n",
            "43/43 [==============================] - 0s 9ms/step - loss: 0.7984 - accuracy: 0.6865 - val_loss: 0.8198 - val_accuracy: 0.6759\n",
            "Epoch 30/400\n",
            "43/43 [==============================] - 0s 8ms/step - loss: 0.7970 - accuracy: 0.6862 - val_loss: 0.8173 - val_accuracy: 0.6774\n",
            "Epoch 31/400\n",
            "43/43 [==============================] - 0s 8ms/step - loss: 0.7955 - accuracy: 0.6860 - val_loss: 0.8192 - val_accuracy: 0.6748\n",
            "Epoch 32/400\n",
            "43/43 [==============================] - 0s 8ms/step - loss: 0.7947 - accuracy: 0.6868 - val_loss: 0.8167 - val_accuracy: 0.6791\n",
            "Epoch 33/400\n",
            "43/43 [==============================] - 0s 9ms/step - loss: 0.7915 - accuracy: 0.6873 - val_loss: 0.8167 - val_accuracy: 0.6746\n",
            "Epoch 34/400\n",
            "43/43 [==============================] - 0s 8ms/step - loss: 0.7900 - accuracy: 0.6879 - val_loss: 0.8132 - val_accuracy: 0.6789\n",
            "Epoch 35/400\n",
            "43/43 [==============================] - 0s 8ms/step - loss: 0.7874 - accuracy: 0.6911 - val_loss: 0.8143 - val_accuracy: 0.6786\n",
            "Epoch 36/400\n",
            "43/43 [==============================] - 0s 8ms/step - loss: 0.7870 - accuracy: 0.6896 - val_loss: 0.8126 - val_accuracy: 0.6782\n",
            "Epoch 37/400\n",
            "43/43 [==============================] - 0s 9ms/step - loss: 0.7860 - accuracy: 0.6891 - val_loss: 0.8128 - val_accuracy: 0.6780\n",
            "Epoch 38/400\n",
            "43/43 [==============================] - 0s 8ms/step - loss: 0.7869 - accuracy: 0.6897 - val_loss: 0.8130 - val_accuracy: 0.6780\n",
            "Epoch 39/400\n",
            "43/43 [==============================] - 0s 9ms/step - loss: 0.7869 - accuracy: 0.6903 - val_loss: 0.8128 - val_accuracy: 0.6789\n",
            "Epoch 40/400\n",
            "43/43 [==============================] - 0s 9ms/step - loss: 0.7841 - accuracy: 0.6909 - val_loss: 0.8110 - val_accuracy: 0.6803\n",
            "Epoch 41/400\n",
            "43/43 [==============================] - 0s 9ms/step - loss: 0.7819 - accuracy: 0.6905 - val_loss: 0.8118 - val_accuracy: 0.6807\n",
            "Epoch 42/400\n",
            "43/43 [==============================] - 0s 8ms/step - loss: 0.7801 - accuracy: 0.6918 - val_loss: 0.8095 - val_accuracy: 0.6814\n",
            "Epoch 43/400\n",
            "43/43 [==============================] - 0s 8ms/step - loss: 0.7783 - accuracy: 0.6931 - val_loss: 0.8103 - val_accuracy: 0.6791\n",
            "Epoch 44/400\n",
            "43/43 [==============================] - 0s 8ms/step - loss: 0.7772 - accuracy: 0.6925 - val_loss: 0.8088 - val_accuracy: 0.6776\n",
            "Epoch 45/400\n",
            "43/43 [==============================] - 0s 8ms/step - loss: 0.7792 - accuracy: 0.6936 - val_loss: 0.8097 - val_accuracy: 0.6786\n",
            "Epoch 46/400\n",
            "43/43 [==============================] - 0s 9ms/step - loss: 0.7778 - accuracy: 0.6930 - val_loss: 0.8079 - val_accuracy: 0.6822\n",
            "Epoch 47/400\n",
            "43/43 [==============================] - 0s 8ms/step - loss: 0.7743 - accuracy: 0.6957 - val_loss: 0.8081 - val_accuracy: 0.6799\n",
            "Epoch 48/400\n",
            "43/43 [==============================] - 0s 8ms/step - loss: 0.7756 - accuracy: 0.6939 - val_loss: 0.8086 - val_accuracy: 0.6833\n",
            "Epoch 49/400\n",
            "43/43 [==============================] - 0s 10ms/step - loss: 0.7727 - accuracy: 0.6959 - val_loss: 0.8088 - val_accuracy: 0.6822\n",
            "Epoch 50/400\n",
            "43/43 [==============================] - 0s 10ms/step - loss: 0.7700 - accuracy: 0.6973 - val_loss: 0.8049 - val_accuracy: 0.6833\n",
            "Epoch 51/400\n",
            "43/43 [==============================] - 0s 8ms/step - loss: 0.7712 - accuracy: 0.6959 - val_loss: 0.8061 - val_accuracy: 0.6820\n",
            "Epoch 52/400\n",
            "43/43 [==============================] - 0s 8ms/step - loss: 0.7695 - accuracy: 0.6965 - val_loss: 0.8052 - val_accuracy: 0.6810\n",
            "Epoch 53/400\n",
            "43/43 [==============================] - 0s 9ms/step - loss: 0.7690 - accuracy: 0.6953 - val_loss: 0.8061 - val_accuracy: 0.6841\n",
            "Epoch 54/400\n",
            "43/43 [==============================] - 0s 9ms/step - loss: 0.7675 - accuracy: 0.6970 - val_loss: 0.8053 - val_accuracy: 0.6841\n",
            "Epoch 55/400\n",
            "43/43 [==============================] - 0s 8ms/step - loss: 0.7657 - accuracy: 0.6978 - val_loss: 0.8026 - val_accuracy: 0.6842\n",
            "Epoch 56/400\n",
            "43/43 [==============================] - 0s 8ms/step - loss: 0.7671 - accuracy: 0.6953 - val_loss: 0.8033 - val_accuracy: 0.6850\n",
            "Epoch 57/400\n",
            "43/43 [==============================] - 0s 9ms/step - loss: 0.7647 - accuracy: 0.6975 - val_loss: 0.8017 - val_accuracy: 0.6869\n",
            "Epoch 58/400\n",
            "43/43 [==============================] - 0s 8ms/step - loss: 0.7621 - accuracy: 0.6988 - val_loss: 0.8036 - val_accuracy: 0.6820\n",
            "Epoch 59/400\n",
            "43/43 [==============================] - 0s 8ms/step - loss: 0.7619 - accuracy: 0.6979 - val_loss: 0.8027 - val_accuracy: 0.6822\n",
            "Epoch 60/400\n",
            "43/43 [==============================] - 0s 9ms/step - loss: 0.7605 - accuracy: 0.6987 - val_loss: 0.7987 - val_accuracy: 0.6852\n",
            "Epoch 61/400\n",
            "43/43 [==============================] - 0s 9ms/step - loss: 0.7595 - accuracy: 0.7004 - val_loss: 0.8004 - val_accuracy: 0.6839\n",
            "Epoch 62/400\n",
            "43/43 [==============================] - 0s 8ms/step - loss: 0.7590 - accuracy: 0.6993 - val_loss: 0.8008 - val_accuracy: 0.6859\n",
            "Epoch 63/400\n",
            "43/43 [==============================] - 0s 9ms/step - loss: 0.7589 - accuracy: 0.6976 - val_loss: 0.7994 - val_accuracy: 0.6839\n",
            "Epoch 64/400\n",
            "43/43 [==============================] - 0s 9ms/step - loss: 0.7568 - accuracy: 0.6990 - val_loss: 0.7980 - val_accuracy: 0.6854\n",
            "Epoch 65/400\n",
            "43/43 [==============================] - 0s 8ms/step - loss: 0.7560 - accuracy: 0.7009 - val_loss: 0.7978 - val_accuracy: 0.6876\n",
            "Epoch 66/400\n",
            "43/43 [==============================] - 0s 8ms/step - loss: 0.7554 - accuracy: 0.7008 - val_loss: 0.7993 - val_accuracy: 0.6824\n",
            "Epoch 67/400\n",
            "43/43 [==============================] - 0s 9ms/step - loss: 0.7563 - accuracy: 0.7013 - val_loss: 0.7974 - val_accuracy: 0.6850\n",
            "Epoch 68/400\n",
            "43/43 [==============================] - 0s 9ms/step - loss: 0.7518 - accuracy: 0.7009 - val_loss: 0.7993 - val_accuracy: 0.6859\n",
            "Epoch 69/400\n",
            "43/43 [==============================] - 0s 8ms/step - loss: 0.7554 - accuracy: 0.7010 - val_loss: 0.7999 - val_accuracy: 0.6837\n",
            "Epoch 70/400\n",
            "43/43 [==============================] - 0s 8ms/step - loss: 0.7556 - accuracy: 0.7028 - val_loss: 0.7973 - val_accuracy: 0.6873\n",
            "Epoch 71/400\n",
            "43/43 [==============================] - 0s 9ms/step - loss: 0.7527 - accuracy: 0.7011 - val_loss: 0.7972 - val_accuracy: 0.6876\n",
            "Epoch 72/400\n",
            "43/43 [==============================] - 0s 8ms/step - loss: 0.7497 - accuracy: 0.7012 - val_loss: 0.7958 - val_accuracy: 0.6884\n",
            "Epoch 73/400\n",
            "43/43 [==============================] - 0s 9ms/step - loss: 0.7520 - accuracy: 0.7015 - val_loss: 0.7965 - val_accuracy: 0.6861\n",
            "Epoch 74/400\n",
            "43/43 [==============================] - 0s 9ms/step - loss: 0.7482 - accuracy: 0.7035 - val_loss: 0.7955 - val_accuracy: 0.6876\n",
            "Epoch 75/400\n",
            "43/43 [==============================] - 0s 9ms/step - loss: 0.7472 - accuracy: 0.7032 - val_loss: 0.7968 - val_accuracy: 0.6856\n",
            "Epoch 76/400\n",
            "43/43 [==============================] - 0s 10ms/step - loss: 0.7475 - accuracy: 0.7021 - val_loss: 0.7946 - val_accuracy: 0.6884\n",
            "Epoch 77/400\n",
            "43/43 [==============================] - 0s 9ms/step - loss: 0.7496 - accuracy: 0.7023 - val_loss: 0.7943 - val_accuracy: 0.6850\n",
            "Epoch 78/400\n",
            "43/43 [==============================] - 0s 9ms/step - loss: 0.7454 - accuracy: 0.7054 - val_loss: 0.7927 - val_accuracy: 0.6886\n",
            "Epoch 79/400\n",
            "43/43 [==============================] - 0s 9ms/step - loss: 0.7487 - accuracy: 0.7017 - val_loss: 0.7936 - val_accuracy: 0.6884\n",
            "Epoch 80/400\n",
            "43/43 [==============================] - 0s 9ms/step - loss: 0.7456 - accuracy: 0.7035 - val_loss: 0.7942 - val_accuracy: 0.6880\n",
            "Epoch 81/400\n",
            "43/43 [==============================] - 0s 8ms/step - loss: 0.7447 - accuracy: 0.7046 - val_loss: 0.7943 - val_accuracy: 0.6867\n",
            "Epoch 82/400\n",
            "43/43 [==============================] - 0s 9ms/step - loss: 0.7444 - accuracy: 0.7045 - val_loss: 0.7960 - val_accuracy: 0.6865\n",
            "Epoch 83/400\n",
            "43/43 [==============================] - 0s 8ms/step - loss: 0.7425 - accuracy: 0.7047 - val_loss: 0.7937 - val_accuracy: 0.6884\n",
            "Epoch 84/400\n",
            "43/43 [==============================] - 0s 9ms/step - loss: 0.7386 - accuracy: 0.7051 - val_loss: 0.7935 - val_accuracy: 0.6869\n",
            "Epoch 85/400\n",
            "43/43 [==============================] - 0s 8ms/step - loss: 0.7402 - accuracy: 0.7047 - val_loss: 0.7902 - val_accuracy: 0.6871\n",
            "Epoch 86/400\n",
            "43/43 [==============================] - 0s 8ms/step - loss: 0.7433 - accuracy: 0.7055 - val_loss: 0.7926 - val_accuracy: 0.6886\n",
            "Epoch 87/400\n",
            "43/43 [==============================] - 0s 8ms/step - loss: 0.7423 - accuracy: 0.7054 - val_loss: 0.7927 - val_accuracy: 0.6897\n",
            "Epoch 88/400\n",
            "43/43 [==============================] - 0s 8ms/step - loss: 0.7409 - accuracy: 0.7047 - val_loss: 0.7920 - val_accuracy: 0.6888\n",
            "Epoch 89/400\n",
            "43/43 [==============================] - 0s 9ms/step - loss: 0.7400 - accuracy: 0.7053 - val_loss: 0.7901 - val_accuracy: 0.6876\n",
            "Epoch 90/400\n",
            "43/43 [==============================] - 0s 8ms/step - loss: 0.7376 - accuracy: 0.7084 - val_loss: 0.7912 - val_accuracy: 0.6859\n",
            "Epoch 91/400\n",
            "43/43 [==============================] - 0s 9ms/step - loss: 0.7375 - accuracy: 0.7056 - val_loss: 0.7905 - val_accuracy: 0.6888\n",
            "Epoch 92/400\n",
            "43/43 [==============================] - 0s 9ms/step - loss: 0.7395 - accuracy: 0.7059 - val_loss: 0.7888 - val_accuracy: 0.6878\n",
            "Epoch 93/400\n",
            "43/43 [==============================] - 0s 8ms/step - loss: 0.7354 - accuracy: 0.7066 - val_loss: 0.7888 - val_accuracy: 0.6880\n",
            "Epoch 94/400\n",
            "43/43 [==============================] - 0s 8ms/step - loss: 0.7393 - accuracy: 0.7070 - val_loss: 0.7876 - val_accuracy: 0.6901\n",
            "Epoch 95/400\n",
            "43/43 [==============================] - 0s 9ms/step - loss: 0.7373 - accuracy: 0.7074 - val_loss: 0.7891 - val_accuracy: 0.6892\n",
            "Epoch 96/400\n",
            "43/43 [==============================] - 0s 8ms/step - loss: 0.7322 - accuracy: 0.7080 - val_loss: 0.7900 - val_accuracy: 0.6882\n",
            "Epoch 97/400\n",
            "43/43 [==============================] - 0s 9ms/step - loss: 0.7335 - accuracy: 0.7071 - val_loss: 0.7869 - val_accuracy: 0.6903\n",
            "Epoch 98/400\n",
            "43/43 [==============================] - 0s 9ms/step - loss: 0.7294 - accuracy: 0.7087 - val_loss: 0.7878 - val_accuracy: 0.6876\n",
            "Epoch 99/400\n",
            "43/43 [==============================] - 0s 9ms/step - loss: 0.7270 - accuracy: 0.7089 - val_loss: 0.7879 - val_accuracy: 0.6901\n",
            "Epoch 100/400\n",
            "43/43 [==============================] - 0s 8ms/step - loss: 0.7314 - accuracy: 0.7083 - val_loss: 0.7871 - val_accuracy: 0.6878\n",
            "Epoch 101/400\n",
            "43/43 [==============================] - 0s 9ms/step - loss: 0.7318 - accuracy: 0.7104 - val_loss: 0.7859 - val_accuracy: 0.6897\n",
            "Epoch 102/400\n",
            "43/43 [==============================] - 0s 9ms/step - loss: 0.7279 - accuracy: 0.7112 - val_loss: 0.7885 - val_accuracy: 0.6876\n",
            "Epoch 103/400\n",
            "43/43 [==============================] - 0s 10ms/step - loss: 0.7274 - accuracy: 0.7117 - val_loss: 0.7873 - val_accuracy: 0.6884\n",
            "Epoch 104/400\n",
            "43/43 [==============================] - 0s 8ms/step - loss: 0.7288 - accuracy: 0.7078 - val_loss: 0.7882 - val_accuracy: 0.6910\n",
            "Epoch 105/400\n",
            "43/43 [==============================] - 0s 8ms/step - loss: 0.7295 - accuracy: 0.7076 - val_loss: 0.7873 - val_accuracy: 0.6884\n",
            "Epoch 106/400\n",
            "43/43 [==============================] - 0s 10ms/step - loss: 0.7293 - accuracy: 0.7093 - val_loss: 0.7886 - val_accuracy: 0.6910\n",
            "Epoch 107/400\n",
            "43/43 [==============================] - 0s 8ms/step - loss: 0.7259 - accuracy: 0.7100 - val_loss: 0.7889 - val_accuracy: 0.6869\n",
            "Epoch 108/400\n",
            "43/43 [==============================] - 0s 8ms/step - loss: 0.7289 - accuracy: 0.7090 - val_loss: 0.7859 - val_accuracy: 0.6912\n",
            "Epoch 109/400\n",
            "43/43 [==============================] - 0s 8ms/step - loss: 0.7281 - accuracy: 0.7100 - val_loss: 0.7877 - val_accuracy: 0.6880\n",
            "Epoch 110/400\n",
            "43/43 [==============================] - 0s 8ms/step - loss: 0.7246 - accuracy: 0.7117 - val_loss: 0.7874 - val_accuracy: 0.6882\n",
            "Epoch 111/400\n",
            "43/43 [==============================] - 0s 8ms/step - loss: 0.7250 - accuracy: 0.7124 - val_loss: 0.7881 - val_accuracy: 0.6884\n",
            "Epoch 112/400\n",
            "43/43 [==============================] - 0s 8ms/step - loss: 0.7257 - accuracy: 0.7079 - val_loss: 0.7862 - val_accuracy: 0.6899\n",
            "Epoch 113/400\n",
            "43/43 [==============================] - 0s 9ms/step - loss: 0.7180 - accuracy: 0.7128 - val_loss: 0.7870 - val_accuracy: 0.6897\n",
            "Epoch 114/400\n",
            "43/43 [==============================] - 0s 8ms/step - loss: 0.7207 - accuracy: 0.7133 - val_loss: 0.7845 - val_accuracy: 0.6903\n",
            "Epoch 115/400\n",
            "43/43 [==============================] - 0s 9ms/step - loss: 0.7227 - accuracy: 0.7137 - val_loss: 0.7860 - val_accuracy: 0.6907\n",
            "Epoch 116/400\n",
            "43/43 [==============================] - 0s 8ms/step - loss: 0.7193 - accuracy: 0.7119 - val_loss: 0.7853 - val_accuracy: 0.6892\n",
            "Epoch 117/400\n",
            "43/43 [==============================] - 0s 9ms/step - loss: 0.7214 - accuracy: 0.7126 - val_loss: 0.7832 - val_accuracy: 0.6916\n",
            "Epoch 118/400\n",
            "43/43 [==============================] - 0s 8ms/step - loss: 0.7197 - accuracy: 0.7126 - val_loss: 0.7858 - val_accuracy: 0.6884\n",
            "Epoch 119/400\n",
            "43/43 [==============================] - 0s 8ms/step - loss: 0.7222 - accuracy: 0.7094 - val_loss: 0.7866 - val_accuracy: 0.6888\n",
            "Epoch 120/400\n",
            "43/43 [==============================] - 0s 8ms/step - loss: 0.7196 - accuracy: 0.7123 - val_loss: 0.7835 - val_accuracy: 0.6893\n",
            "Epoch 121/400\n",
            "43/43 [==============================] - 0s 8ms/step - loss: 0.7198 - accuracy: 0.7118 - val_loss: 0.7848 - val_accuracy: 0.6895\n",
            "Epoch 122/400\n",
            "43/43 [==============================] - 0s 8ms/step - loss: 0.7210 - accuracy: 0.7120 - val_loss: 0.7852 - val_accuracy: 0.6893\n",
            "Epoch 123/400\n",
            "43/43 [==============================] - 0s 10ms/step - loss: 0.7201 - accuracy: 0.7107 - val_loss: 0.7839 - val_accuracy: 0.6920\n",
            "Epoch 124/400\n",
            "43/43 [==============================] - 0s 8ms/step - loss: 0.7141 - accuracy: 0.7134 - val_loss: 0.7836 - val_accuracy: 0.6914\n",
            "Epoch 125/400\n",
            "43/43 [==============================] - 0s 8ms/step - loss: 0.7159 - accuracy: 0.7140 - val_loss: 0.7839 - val_accuracy: 0.6914\n",
            "Epoch 126/400\n",
            "43/43 [==============================] - 0s 8ms/step - loss: 0.7179 - accuracy: 0.7136 - val_loss: 0.7826 - val_accuracy: 0.6899\n",
            "Epoch 127/400\n",
            "43/43 [==============================] - 0s 9ms/step - loss: 0.7178 - accuracy: 0.7140 - val_loss: 0.7823 - val_accuracy: 0.6890\n",
            "Epoch 128/400\n",
            "43/43 [==============================] - 0s 9ms/step - loss: 0.7169 - accuracy: 0.7132 - val_loss: 0.7823 - val_accuracy: 0.6890\n",
            "Epoch 129/400\n",
            "43/43 [==============================] - 0s 8ms/step - loss: 0.7156 - accuracy: 0.7141 - val_loss: 0.7817 - val_accuracy: 0.6893\n",
            "Epoch 130/400\n",
            "43/43 [==============================] - 0s 8ms/step - loss: 0.7119 - accuracy: 0.7133 - val_loss: 0.7804 - val_accuracy: 0.6888\n",
            "Epoch 131/400\n",
            "43/43 [==============================] - 0s 8ms/step - loss: 0.7146 - accuracy: 0.7124 - val_loss: 0.7813 - val_accuracy: 0.6888\n",
            "Epoch 132/400\n",
            "43/43 [==============================] - 0s 8ms/step - loss: 0.7119 - accuracy: 0.7167 - val_loss: 0.7813 - val_accuracy: 0.6903\n",
            "Epoch 133/400\n",
            "43/43 [==============================] - 0s 9ms/step - loss: 0.7126 - accuracy: 0.7133 - val_loss: 0.7824 - val_accuracy: 0.6876\n",
            "Epoch 134/400\n",
            "43/43 [==============================] - 0s 9ms/step - loss: 0.7136 - accuracy: 0.7156 - val_loss: 0.7809 - val_accuracy: 0.6880\n",
            "Epoch 135/400\n",
            "43/43 [==============================] - 0s 8ms/step - loss: 0.7103 - accuracy: 0.7155 - val_loss: 0.7821 - val_accuracy: 0.6863\n",
            "Epoch 136/400\n",
            "43/43 [==============================] - 0s 8ms/step - loss: 0.7077 - accuracy: 0.7168 - val_loss: 0.7822 - val_accuracy: 0.6890\n",
            "Epoch 137/400\n",
            "43/43 [==============================] - 0s 9ms/step - loss: 0.7085 - accuracy: 0.7158 - val_loss: 0.7834 - val_accuracy: 0.6873\n",
            "Epoch 138/400\n",
            "43/43 [==============================] - 0s 8ms/step - loss: 0.7107 - accuracy: 0.7157 - val_loss: 0.7834 - val_accuracy: 0.6888\n",
            "Epoch 139/400\n",
            "43/43 [==============================] - 0s 8ms/step - loss: 0.7117 - accuracy: 0.7149 - val_loss: 0.7809 - val_accuracy: 0.6884\n",
            "Epoch 140/400\n",
            "43/43 [==============================] - 0s 9ms/step - loss: 0.7098 - accuracy: 0.7157 - val_loss: 0.7819 - val_accuracy: 0.6861\n",
            "Epoch 141/400\n",
            "43/43 [==============================] - 0s 8ms/step - loss: 0.7081 - accuracy: 0.7148 - val_loss: 0.7829 - val_accuracy: 0.6863\n",
            "Epoch 142/400\n",
            "43/43 [==============================] - 0s 9ms/step - loss: 0.7098 - accuracy: 0.7158 - val_loss: 0.7833 - val_accuracy: 0.6871\n",
            "Epoch 143/400\n",
            "43/43 [==============================] - 0s 9ms/step - loss: 0.7094 - accuracy: 0.7164 - val_loss: 0.7836 - val_accuracy: 0.6903\n",
            "Epoch 144/400\n",
            "43/43 [==============================] - 0s 8ms/step - loss: 0.7080 - accuracy: 0.7177 - val_loss: 0.7805 - val_accuracy: 0.6897\n",
            "Epoch 145/400\n",
            "43/43 [==============================] - 0s 9ms/step - loss: 0.7067 - accuracy: 0.7151 - val_loss: 0.7824 - val_accuracy: 0.6897\n",
            "Epoch 146/400\n",
            "43/43 [==============================] - 0s 8ms/step - loss: 0.7038 - accuracy: 0.7182 - val_loss: 0.7817 - val_accuracy: 0.6865\n",
            "Epoch 147/400\n",
            "43/43 [==============================] - 0s 9ms/step - loss: 0.7062 - accuracy: 0.7187 - val_loss: 0.7789 - val_accuracy: 0.6916\n",
            "Epoch 148/400\n",
            "43/43 [==============================] - 0s 8ms/step - loss: 0.7028 - accuracy: 0.7181 - val_loss: 0.7794 - val_accuracy: 0.6890\n",
            "Epoch 149/400\n",
            "43/43 [==============================] - 0s 9ms/step - loss: 0.7060 - accuracy: 0.7185 - val_loss: 0.7829 - val_accuracy: 0.6914\n",
            "Epoch 150/400\n",
            "43/43 [==============================] - 0s 9ms/step - loss: 0.7044 - accuracy: 0.7184 - val_loss: 0.7820 - val_accuracy: 0.6863\n",
            "Epoch 151/400\n",
            "43/43 [==============================] - 0s 9ms/step - loss: 0.7025 - accuracy: 0.7171 - val_loss: 0.7805 - val_accuracy: 0.6901\n",
            "Epoch 152/400\n",
            "43/43 [==============================] - 0s 10ms/step - loss: 0.7042 - accuracy: 0.7180 - val_loss: 0.7814 - val_accuracy: 0.6876\n",
            "Epoch 153/400\n",
            "43/43 [==============================] - 0s 9ms/step - loss: 0.7035 - accuracy: 0.7196 - val_loss: 0.7802 - val_accuracy: 0.6895\n",
            "Epoch 154/400\n",
            "43/43 [==============================] - 0s 9ms/step - loss: 0.7002 - accuracy: 0.7196 - val_loss: 0.7816 - val_accuracy: 0.6897\n",
            "Epoch 155/400\n",
            "43/43 [==============================] - 0s 9ms/step - loss: 0.7026 - accuracy: 0.7191 - val_loss: 0.7808 - val_accuracy: 0.6901\n",
            "Epoch 156/400\n",
            "43/43 [==============================] - 0s 9ms/step - loss: 0.7023 - accuracy: 0.7198 - val_loss: 0.7813 - val_accuracy: 0.6920\n",
            "Epoch 157/400\n",
            "43/43 [==============================] - 0s 10ms/step - loss: 0.7045 - accuracy: 0.7169 - val_loss: 0.7803 - val_accuracy: 0.6909\n",
            "Epoch 158/400\n",
            "43/43 [==============================] - 1s 12ms/step - loss: 0.7012 - accuracy: 0.7194 - val_loss: 0.7789 - val_accuracy: 0.6903\n",
            "Epoch 159/400\n",
            "43/43 [==============================] - 1s 12ms/step - loss: 0.7020 - accuracy: 0.7153 - val_loss: 0.7786 - val_accuracy: 0.6897\n",
            "Epoch 160/400\n",
            "43/43 [==============================] - 1s 13ms/step - loss: 0.6992 - accuracy: 0.7177 - val_loss: 0.7789 - val_accuracy: 0.6888\n",
            "Epoch 161/400\n",
            "43/43 [==============================] - 1s 13ms/step - loss: 0.6975 - accuracy: 0.7204 - val_loss: 0.7809 - val_accuracy: 0.6878\n",
            "Epoch 162/400\n",
            "43/43 [==============================] - 1s 13ms/step - loss: 0.7010 - accuracy: 0.7202 - val_loss: 0.7777 - val_accuracy: 0.6903\n",
            "Epoch 163/400\n",
            "43/43 [==============================] - 1s 13ms/step - loss: 0.7016 - accuracy: 0.7193 - val_loss: 0.7822 - val_accuracy: 0.6892\n",
            "Epoch 164/400\n",
            "43/43 [==============================] - 1s 12ms/step - loss: 0.7011 - accuracy: 0.7169 - val_loss: 0.7781 - val_accuracy: 0.6912\n",
            "Epoch 165/400\n",
            "43/43 [==============================] - 1s 14ms/step - loss: 0.7011 - accuracy: 0.7185 - val_loss: 0.7807 - val_accuracy: 0.6897\n",
            "Epoch 166/400\n",
            "43/43 [==============================] - 1s 12ms/step - loss: 0.6981 - accuracy: 0.7203 - val_loss: 0.7827 - val_accuracy: 0.6888\n",
            "Epoch 167/400\n",
            "43/43 [==============================] - 0s 8ms/step - loss: 0.6976 - accuracy: 0.7209 - val_loss: 0.7805 - val_accuracy: 0.6901\n",
            "Epoch 168/400\n",
            "43/43 [==============================] - 0s 8ms/step - loss: 0.6980 - accuracy: 0.7211 - val_loss: 0.7796 - val_accuracy: 0.6918\n",
            "Epoch 169/400\n",
            "43/43 [==============================] - 0s 9ms/step - loss: 0.6986 - accuracy: 0.7208 - val_loss: 0.7812 - val_accuracy: 0.6905\n",
            "Epoch 170/400\n",
            "43/43 [==============================] - 0s 9ms/step - loss: 0.6967 - accuracy: 0.7200 - val_loss: 0.7819 - val_accuracy: 0.6899\n",
            "Epoch 171/400\n",
            "43/43 [==============================] - 0s 9ms/step - loss: 0.6942 - accuracy: 0.7239 - val_loss: 0.7812 - val_accuracy: 0.6903\n",
            "Epoch 172/400\n",
            "43/43 [==============================] - 0s 9ms/step - loss: 0.6956 - accuracy: 0.7225 - val_loss: 0.7798 - val_accuracy: 0.6897\n",
            "Epoch 173/400\n",
            "43/43 [==============================] - 0s 9ms/step - loss: 0.6918 - accuracy: 0.7216 - val_loss: 0.7782 - val_accuracy: 0.6910\n",
            "Epoch 174/400\n",
            "43/43 [==============================] - 0s 9ms/step - loss: 0.6949 - accuracy: 0.7206 - val_loss: 0.7795 - val_accuracy: 0.6899\n",
            "Epoch 175/400\n",
            "43/43 [==============================] - 0s 8ms/step - loss: 0.6904 - accuracy: 0.7216 - val_loss: 0.7793 - val_accuracy: 0.6922\n",
            "Epoch 176/400\n",
            "43/43 [==============================] - 0s 9ms/step - loss: 0.6958 - accuracy: 0.7225 - val_loss: 0.7797 - val_accuracy: 0.6893\n",
            "Epoch 177/400\n",
            "43/43 [==============================] - 0s 8ms/step - loss: 0.6937 - accuracy: 0.7202 - val_loss: 0.7783 - val_accuracy: 0.6914\n",
            "Epoch 178/400\n",
            "43/43 [==============================] - 0s 9ms/step - loss: 0.6959 - accuracy: 0.7209 - val_loss: 0.7790 - val_accuracy: 0.6890\n",
            "Epoch 179/400\n",
            "43/43 [==============================] - 0s 8ms/step - loss: 0.6962 - accuracy: 0.7207 - val_loss: 0.7783 - val_accuracy: 0.6882\n",
            "Epoch 180/400\n",
            "43/43 [==============================] - 0s 8ms/step - loss: 0.6925 - accuracy: 0.7226 - val_loss: 0.7781 - val_accuracy: 0.6895\n",
            "Epoch 181/400\n",
            "43/43 [==============================] - 0s 8ms/step - loss: 0.6922 - accuracy: 0.7215 - val_loss: 0.7764 - val_accuracy: 0.6924\n",
            "Epoch 182/400\n",
            "43/43 [==============================] - 0s 9ms/step - loss: 0.6897 - accuracy: 0.7204 - val_loss: 0.7806 - val_accuracy: 0.6882\n",
            "Epoch 183/400\n",
            "43/43 [==============================] - 0s 9ms/step - loss: 0.6885 - accuracy: 0.7239 - val_loss: 0.7807 - val_accuracy: 0.6924\n",
            "Epoch 184/400\n",
            "43/43 [==============================] - 0s 8ms/step - loss: 0.6904 - accuracy: 0.7255 - val_loss: 0.7765 - val_accuracy: 0.6903\n",
            "Epoch 185/400\n",
            "43/43 [==============================] - 0s 9ms/step - loss: 0.6901 - accuracy: 0.7223 - val_loss: 0.7780 - val_accuracy: 0.6916\n",
            "Epoch 186/400\n",
            "43/43 [==============================] - 0s 9ms/step - loss: 0.6916 - accuracy: 0.7230 - val_loss: 0.7773 - val_accuracy: 0.6909\n",
            "Epoch 187/400\n",
            "43/43 [==============================] - 0s 8ms/step - loss: 0.6907 - accuracy: 0.7205 - val_loss: 0.7774 - val_accuracy: 0.6931\n",
            "Epoch 188/400\n",
            "43/43 [==============================] - 0s 8ms/step - loss: 0.6881 - accuracy: 0.7245 - val_loss: 0.7771 - val_accuracy: 0.6886\n",
            "Epoch 189/400\n",
            "43/43 [==============================] - 0s 9ms/step - loss: 0.6887 - accuracy: 0.7217 - val_loss: 0.7755 - val_accuracy: 0.6920\n",
            "Epoch 190/400\n",
            "43/43 [==============================] - 0s 8ms/step - loss: 0.6879 - accuracy: 0.7235 - val_loss: 0.7798 - val_accuracy: 0.6875\n",
            "Epoch 191/400\n",
            "43/43 [==============================] - 0s 9ms/step - loss: 0.6889 - accuracy: 0.7227 - val_loss: 0.7795 - val_accuracy: 0.6880\n",
            "Epoch 192/400\n",
            "43/43 [==============================] - 0s 8ms/step - loss: 0.6873 - accuracy: 0.7230 - val_loss: 0.7791 - val_accuracy: 0.6893\n",
            "Epoch 193/400\n",
            "43/43 [==============================] - 0s 8ms/step - loss: 0.6830 - accuracy: 0.7237 - val_loss: 0.7788 - val_accuracy: 0.6869\n",
            "Epoch 194/400\n",
            "43/43 [==============================] - 0s 8ms/step - loss: 0.6868 - accuracy: 0.7236 - val_loss: 0.7804 - val_accuracy: 0.6897\n",
            "Epoch 195/400\n",
            "43/43 [==============================] - 0s 9ms/step - loss: 0.6857 - accuracy: 0.7247 - val_loss: 0.7786 - val_accuracy: 0.6893\n",
            "Epoch 196/400\n",
            "43/43 [==============================] - 0s 9ms/step - loss: 0.6876 - accuracy: 0.7233 - val_loss: 0.7806 - val_accuracy: 0.6910\n",
            "Epoch 197/400\n",
            "43/43 [==============================] - 0s 9ms/step - loss: 0.6868 - accuracy: 0.7253 - val_loss: 0.7764 - val_accuracy: 0.6924\n",
            "Epoch 198/400\n",
            "43/43 [==============================] - 0s 9ms/step - loss: 0.6883 - accuracy: 0.7238 - val_loss: 0.7793 - val_accuracy: 0.6939\n",
            "Epoch 199/400\n",
            "43/43 [==============================] - 0s 8ms/step - loss: 0.6842 - accuracy: 0.7235 - val_loss: 0.7786 - val_accuracy: 0.6924\n",
            "Epoch 200/400\n",
            "43/43 [==============================] - 0s 9ms/step - loss: 0.6885 - accuracy: 0.7228 - val_loss: 0.7778 - val_accuracy: 0.6897\n",
            "Epoch 201/400\n",
            "43/43 [==============================] - 0s 9ms/step - loss: 0.6841 - accuracy: 0.7236 - val_loss: 0.7777 - val_accuracy: 0.6901\n",
            "Epoch 202/400\n",
            "43/43 [==============================] - 0s 10ms/step - loss: 0.6832 - accuracy: 0.7270 - val_loss: 0.7791 - val_accuracy: 0.6901\n",
            "Epoch 203/400\n",
            "43/43 [==============================] - 0s 10ms/step - loss: 0.6790 - accuracy: 0.7262 - val_loss: 0.7770 - val_accuracy: 0.6905\n",
            "Epoch 204/400\n",
            "43/43 [==============================] - 0s 9ms/step - loss: 0.6855 - accuracy: 0.7224 - val_loss: 0.7780 - val_accuracy: 0.6890\n",
            "Epoch 205/400\n",
            "43/43 [==============================] - 0s 8ms/step - loss: 0.6874 - accuracy: 0.7236 - val_loss: 0.7796 - val_accuracy: 0.6888\n",
            "Epoch 206/400\n",
            "43/43 [==============================] - 0s 9ms/step - loss: 0.6831 - accuracy: 0.7249 - val_loss: 0.7789 - val_accuracy: 0.6895\n",
            "Epoch 207/400\n",
            "43/43 [==============================] - 0s 9ms/step - loss: 0.6798 - accuracy: 0.7276 - val_loss: 0.7770 - val_accuracy: 0.6888\n",
            "Epoch 208/400\n",
            "43/43 [==============================] - 0s 8ms/step - loss: 0.6818 - accuracy: 0.7249 - val_loss: 0.7777 - val_accuracy: 0.6903\n",
            "Epoch 209/400\n",
            "43/43 [==============================] - 0s 9ms/step - loss: 0.6796 - accuracy: 0.7287 - val_loss: 0.7786 - val_accuracy: 0.6897\n",
            "Epoch 210/400\n",
            "43/43 [==============================] - 0s 10ms/step - loss: 0.6800 - accuracy: 0.7272 - val_loss: 0.7757 - val_accuracy: 0.6882\n",
            "Epoch 211/400\n",
            "43/43 [==============================] - 0s 9ms/step - loss: 0.6800 - accuracy: 0.7253 - val_loss: 0.7770 - val_accuracy: 0.6909\n",
            "Epoch 212/400\n",
            "43/43 [==============================] - 0s 9ms/step - loss: 0.6796 - accuracy: 0.7244 - val_loss: 0.7767 - val_accuracy: 0.6922\n",
            "Epoch 213/400\n",
            "43/43 [==============================] - 0s 8ms/step - loss: 0.6760 - accuracy: 0.7267 - val_loss: 0.7782 - val_accuracy: 0.6890\n",
            "Epoch 214/400\n",
            "43/43 [==============================] - 0s 9ms/step - loss: 0.6767 - accuracy: 0.7270 - val_loss: 0.7749 - val_accuracy: 0.6912\n",
            "Epoch 215/400\n",
            "43/43 [==============================] - 0s 10ms/step - loss: 0.6786 - accuracy: 0.7262 - val_loss: 0.7752 - val_accuracy: 0.6907\n",
            "Epoch 216/400\n",
            "43/43 [==============================] - 0s 9ms/step - loss: 0.6792 - accuracy: 0.7262 - val_loss: 0.7775 - val_accuracy: 0.6905\n",
            "Epoch 217/400\n",
            "43/43 [==============================] - 0s 9ms/step - loss: 0.6806 - accuracy: 0.7266 - val_loss: 0.7776 - val_accuracy: 0.6897\n",
            "Epoch 218/400\n",
            "43/43 [==============================] - 0s 9ms/step - loss: 0.6790 - accuracy: 0.7267 - val_loss: 0.7783 - val_accuracy: 0.6899\n",
            "Epoch 219/400\n",
            "43/43 [==============================] - 0s 9ms/step - loss: 0.6781 - accuracy: 0.7261 - val_loss: 0.7774 - val_accuracy: 0.6895\n",
            "Epoch 220/400\n",
            "43/43 [==============================] - 0s 9ms/step - loss: 0.6745 - accuracy: 0.7276 - val_loss: 0.7772 - val_accuracy: 0.6916\n",
            "Epoch 221/400\n",
            "43/43 [==============================] - 0s 8ms/step - loss: 0.6795 - accuracy: 0.7240 - val_loss: 0.7795 - val_accuracy: 0.6893\n",
            "Epoch 222/400\n",
            "43/43 [==============================] - 0s 8ms/step - loss: 0.6773 - accuracy: 0.7270 - val_loss: 0.7804 - val_accuracy: 0.6888\n",
            "Epoch 223/400\n",
            "43/43 [==============================] - 0s 9ms/step - loss: 0.6759 - accuracy: 0.7283 - val_loss: 0.7777 - val_accuracy: 0.6929\n",
            "Epoch 224/400\n",
            "43/43 [==============================] - 0s 9ms/step - loss: 0.6770 - accuracy: 0.7284 - val_loss: 0.7785 - val_accuracy: 0.6926\n",
            "Epoch 225/400\n",
            "43/43 [==============================] - 0s 10ms/step - loss: 0.6752 - accuracy: 0.7280 - val_loss: 0.7796 - val_accuracy: 0.6920\n",
            "Epoch 226/400\n",
            "43/43 [==============================] - 0s 8ms/step - loss: 0.6731 - accuracy: 0.7301 - val_loss: 0.7778 - val_accuracy: 0.6941\n",
            "Epoch 227/400\n",
            "43/43 [==============================] - 0s 9ms/step - loss: 0.6751 - accuracy: 0.7263 - val_loss: 0.7785 - val_accuracy: 0.6927\n",
            "Epoch 228/400\n",
            "43/43 [==============================] - 0s 9ms/step - loss: 0.6768 - accuracy: 0.7283 - val_loss: 0.7790 - val_accuracy: 0.6893\n",
            "Epoch 229/400\n",
            "43/43 [==============================] - 0s 10ms/step - loss: 0.6744 - accuracy: 0.7253 - val_loss: 0.7784 - val_accuracy: 0.6907\n",
            "Epoch 230/400\n",
            "43/43 [==============================] - 0s 10ms/step - loss: 0.6743 - accuracy: 0.7287 - val_loss: 0.7757 - val_accuracy: 0.6935\n",
            "Epoch 231/400\n",
            "43/43 [==============================] - 0s 9ms/step - loss: 0.6753 - accuracy: 0.7259 - val_loss: 0.7753 - val_accuracy: 0.6909\n",
            "Epoch 232/400\n",
            "43/43 [==============================] - 0s 9ms/step - loss: 0.6711 - accuracy: 0.7266 - val_loss: 0.7774 - val_accuracy: 0.6903\n",
            "Epoch 233/400\n",
            "43/43 [==============================] - 0s 10ms/step - loss: 0.6745 - accuracy: 0.7239 - val_loss: 0.7768 - val_accuracy: 0.6931\n",
            "Epoch 234/400\n",
            "43/43 [==============================] - 0s 9ms/step - loss: 0.6735 - accuracy: 0.7296 - val_loss: 0.7776 - val_accuracy: 0.6924\n",
            "Epoch 235/400\n",
            "43/43 [==============================] - 0s 8ms/step - loss: 0.6704 - accuracy: 0.7309 - val_loss: 0.7780 - val_accuracy: 0.6922\n",
            "Epoch 236/400\n",
            "43/43 [==============================] - 0s 8ms/step - loss: 0.6709 - accuracy: 0.7313 - val_loss: 0.7775 - val_accuracy: 0.6914\n",
            "Epoch 237/400\n",
            "43/43 [==============================] - 0s 8ms/step - loss: 0.6726 - accuracy: 0.7305 - val_loss: 0.7765 - val_accuracy: 0.6920\n",
            "Epoch 238/400\n",
            "43/43 [==============================] - 0s 9ms/step - loss: 0.6700 - accuracy: 0.7302 - val_loss: 0.7762 - val_accuracy: 0.6912\n",
            "Epoch 239/400\n",
            "43/43 [==============================] - 0s 8ms/step - loss: 0.6740 - accuracy: 0.7265 - val_loss: 0.7769 - val_accuracy: 0.6927\n",
            "Epoch 240/400\n",
            "43/43 [==============================] - 0s 9ms/step - loss: 0.6686 - accuracy: 0.7305 - val_loss: 0.7774 - val_accuracy: 0.6931\n",
            "Epoch 241/400\n",
            "43/43 [==============================] - 0s 8ms/step - loss: 0.6725 - accuracy: 0.7287 - val_loss: 0.7758 - val_accuracy: 0.6922\n",
            "Epoch 242/400\n",
            "43/43 [==============================] - 0s 9ms/step - loss: 0.6726 - accuracy: 0.7266 - val_loss: 0.7756 - val_accuracy: 0.6943\n",
            "Epoch 243/400\n",
            "43/43 [==============================] - 0s 10ms/step - loss: 0.6727 - accuracy: 0.7279 - val_loss: 0.7769 - val_accuracy: 0.6909\n",
            "Epoch 244/400\n",
            "43/43 [==============================] - 0s 8ms/step - loss: 0.6746 - accuracy: 0.7289 - val_loss: 0.7756 - val_accuracy: 0.6937\n",
            "Epoch 245/400\n",
            "43/43 [==============================] - 0s 8ms/step - loss: 0.6704 - accuracy: 0.7302 - val_loss: 0.7750 - val_accuracy: 0.6924\n",
            "Epoch 246/400\n",
            "43/43 [==============================] - 0s 8ms/step - loss: 0.6755 - accuracy: 0.7274 - val_loss: 0.7744 - val_accuracy: 0.6937\n",
            "Epoch 247/400\n",
            "43/43 [==============================] - 0s 8ms/step - loss: 0.6737 - accuracy: 0.7285 - val_loss: 0.7728 - val_accuracy: 0.6903\n",
            "Epoch 248/400\n",
            "43/43 [==============================] - 0s 8ms/step - loss: 0.6706 - accuracy: 0.7292 - val_loss: 0.7745 - val_accuracy: 0.6929\n",
            "Epoch 249/400\n",
            "43/43 [==============================] - 0s 8ms/step - loss: 0.6746 - accuracy: 0.7291 - val_loss: 0.7780 - val_accuracy: 0.6907\n",
            "Epoch 250/400\n",
            "43/43 [==============================] - 0s 9ms/step - loss: 0.6683 - accuracy: 0.7297 - val_loss: 0.7767 - val_accuracy: 0.6912\n",
            "Epoch 251/400\n",
            "43/43 [==============================] - 0s 9ms/step - loss: 0.6710 - accuracy: 0.7284 - val_loss: 0.7733 - val_accuracy: 0.6941\n",
            "Epoch 252/400\n",
            "43/43 [==============================] - 0s 9ms/step - loss: 0.6667 - accuracy: 0.7312 - val_loss: 0.7757 - val_accuracy: 0.6944\n",
            "Epoch 253/400\n",
            "43/43 [==============================] - 0s 9ms/step - loss: 0.6721 - accuracy: 0.7295 - val_loss: 0.7740 - val_accuracy: 0.6933\n",
            "Epoch 254/400\n",
            "43/43 [==============================] - 0s 9ms/step - loss: 0.6680 - accuracy: 0.7301 - val_loss: 0.7734 - val_accuracy: 0.6922\n",
            "Epoch 255/400\n",
            "43/43 [==============================] - 0s 8ms/step - loss: 0.6696 - accuracy: 0.7287 - val_loss: 0.7748 - val_accuracy: 0.6929\n",
            "Epoch 256/400\n",
            "43/43 [==============================] - 0s 9ms/step - loss: 0.6679 - accuracy: 0.7292 - val_loss: 0.7769 - val_accuracy: 0.6927\n",
            "Epoch 257/400\n",
            "43/43 [==============================] - 0s 9ms/step - loss: 0.6686 - accuracy: 0.7326 - val_loss: 0.7757 - val_accuracy: 0.6948\n",
            "Epoch 258/400\n",
            "43/43 [==============================] - 0s 8ms/step - loss: 0.6678 - accuracy: 0.7326 - val_loss: 0.7742 - val_accuracy: 0.6924\n",
            "Epoch 259/400\n",
            "43/43 [==============================] - 0s 8ms/step - loss: 0.6698 - accuracy: 0.7304 - val_loss: 0.7761 - val_accuracy: 0.6935\n",
            "Epoch 260/400\n",
            "43/43 [==============================] - 0s 8ms/step - loss: 0.6683 - accuracy: 0.7281 - val_loss: 0.7760 - val_accuracy: 0.6929\n",
            "Epoch 261/400\n",
            "43/43 [==============================] - 0s 9ms/step - loss: 0.6714 - accuracy: 0.7289 - val_loss: 0.7734 - val_accuracy: 0.6937\n",
            "Epoch 262/400\n",
            "43/43 [==============================] - 0s 9ms/step - loss: 0.6672 - accuracy: 0.7320 - val_loss: 0.7749 - val_accuracy: 0.6929\n",
            "Epoch 263/400\n",
            "43/43 [==============================] - 0s 9ms/step - loss: 0.6714 - accuracy: 0.7343 - val_loss: 0.7748 - val_accuracy: 0.6929\n",
            "Epoch 264/400\n",
            "43/43 [==============================] - 0s 8ms/step - loss: 0.6681 - accuracy: 0.7302 - val_loss: 0.7754 - val_accuracy: 0.6926\n",
            "Epoch 265/400\n",
            "43/43 [==============================] - 0s 10ms/step - loss: 0.6689 - accuracy: 0.7334 - val_loss: 0.7757 - val_accuracy: 0.6914\n",
            "Epoch 266/400\n",
            "43/43 [==============================] - 0s 8ms/step - loss: 0.6653 - accuracy: 0.7329 - val_loss: 0.7743 - val_accuracy: 0.6907\n",
            "Epoch 267/400\n",
            "43/43 [==============================] - 0s 9ms/step - loss: 0.6678 - accuracy: 0.7314 - val_loss: 0.7741 - val_accuracy: 0.6912\n",
            "Epoch 268/400\n",
            "43/43 [==============================] - 0s 9ms/step - loss: 0.6662 - accuracy: 0.7301 - val_loss: 0.7718 - val_accuracy: 0.6927\n",
            "Epoch 269/400\n",
            "43/43 [==============================] - 0s 9ms/step - loss: 0.6636 - accuracy: 0.7320 - val_loss: 0.7749 - val_accuracy: 0.6929\n",
            "Epoch 270/400\n",
            "43/43 [==============================] - 0s 9ms/step - loss: 0.6642 - accuracy: 0.7318 - val_loss: 0.7730 - val_accuracy: 0.6927\n",
            "Epoch 271/400\n",
            "43/43 [==============================] - 0s 10ms/step - loss: 0.6643 - accuracy: 0.7329 - val_loss: 0.7735 - val_accuracy: 0.6924\n",
            "Epoch 272/400\n",
            "43/43 [==============================] - 0s 10ms/step - loss: 0.6653 - accuracy: 0.7330 - val_loss: 0.7729 - val_accuracy: 0.6929\n",
            "Epoch 273/400\n",
            "43/43 [==============================] - 1s 16ms/step - loss: 0.6641 - accuracy: 0.7296 - val_loss: 0.7748 - val_accuracy: 0.6916\n",
            "Epoch 274/400\n",
            "43/43 [==============================] - 1s 15ms/step - loss: 0.6666 - accuracy: 0.7316 - val_loss: 0.7747 - val_accuracy: 0.6922\n",
            "Epoch 275/400\n",
            "43/43 [==============================] - 0s 10ms/step - loss: 0.6647 - accuracy: 0.7312 - val_loss: 0.7751 - val_accuracy: 0.6916\n",
            "Epoch 276/400\n",
            "43/43 [==============================] - 0s 9ms/step - loss: 0.6634 - accuracy: 0.7297 - val_loss: 0.7742 - val_accuracy: 0.6893\n",
            "Epoch 277/400\n",
            "43/43 [==============================] - 0s 9ms/step - loss: 0.6655 - accuracy: 0.7306 - val_loss: 0.7735 - val_accuracy: 0.6901\n",
            "Epoch 278/400\n",
            "43/43 [==============================] - 0s 10ms/step - loss: 0.6646 - accuracy: 0.7323 - val_loss: 0.7730 - val_accuracy: 0.6931\n",
            "Epoch 279/400\n",
            "43/43 [==============================] - 0s 8ms/step - loss: 0.6678 - accuracy: 0.7310 - val_loss: 0.7737 - val_accuracy: 0.6937\n",
            "Epoch 280/400\n",
            "43/43 [==============================] - 0s 10ms/step - loss: 0.6606 - accuracy: 0.7327 - val_loss: 0.7748 - val_accuracy: 0.6939\n",
            "Epoch 281/400\n",
            "43/43 [==============================] - 0s 8ms/step - loss: 0.6611 - accuracy: 0.7342 - val_loss: 0.7750 - val_accuracy: 0.6939\n",
            "Epoch 282/400\n",
            "43/43 [==============================] - 0s 10ms/step - loss: 0.6621 - accuracy: 0.7328 - val_loss: 0.7747 - val_accuracy: 0.6920\n",
            "Epoch 283/400\n",
            "43/43 [==============================] - 0s 9ms/step - loss: 0.6630 - accuracy: 0.7341 - val_loss: 0.7764 - val_accuracy: 0.6905\n",
            "Epoch 284/400\n",
            "43/43 [==============================] - 0s 9ms/step - loss: 0.6604 - accuracy: 0.7313 - val_loss: 0.7742 - val_accuracy: 0.6882\n",
            "Epoch 285/400\n",
            "43/43 [==============================] - 0s 8ms/step - loss: 0.6601 - accuracy: 0.7314 - val_loss: 0.7771 - val_accuracy: 0.6901\n",
            "Epoch 286/400\n",
            "43/43 [==============================] - 0s 9ms/step - loss: 0.6611 - accuracy: 0.7330 - val_loss: 0.7759 - val_accuracy: 0.6920\n",
            "Epoch 287/400\n",
            "43/43 [==============================] - 0s 9ms/step - loss: 0.6616 - accuracy: 0.7331 - val_loss: 0.7757 - val_accuracy: 0.6922\n",
            "Epoch 288/400\n",
            "43/43 [==============================] - 0s 10ms/step - loss: 0.6594 - accuracy: 0.7338 - val_loss: 0.7747 - val_accuracy: 0.6901\n",
            "Epoch 289/400\n",
            "43/43 [==============================] - 0s 10ms/step - loss: 0.6570 - accuracy: 0.7356 - val_loss: 0.7734 - val_accuracy: 0.6903\n",
            "Epoch 290/400\n",
            "43/43 [==============================] - 0s 9ms/step - loss: 0.6584 - accuracy: 0.7334 - val_loss: 0.7726 - val_accuracy: 0.6905\n",
            "Epoch 291/400\n",
            "43/43 [==============================] - 0s 9ms/step - loss: 0.6592 - accuracy: 0.7332 - val_loss: 0.7745 - val_accuracy: 0.6905\n",
            "Epoch 292/400\n",
            "43/43 [==============================] - 0s 9ms/step - loss: 0.6608 - accuracy: 0.7328 - val_loss: 0.7768 - val_accuracy: 0.6903\n",
            "Epoch 293/400\n",
            "43/43 [==============================] - 0s 9ms/step - loss: 0.6610 - accuracy: 0.7346 - val_loss: 0.7746 - val_accuracy: 0.6931\n",
            "Epoch 294/400\n",
            "43/43 [==============================] - 0s 10ms/step - loss: 0.6590 - accuracy: 0.7330 - val_loss: 0.7751 - val_accuracy: 0.6912\n",
            "Epoch 295/400\n",
            "43/43 [==============================] - 0s 9ms/step - loss: 0.6583 - accuracy: 0.7339 - val_loss: 0.7738 - val_accuracy: 0.6916\n",
            "Epoch 296/400\n",
            "43/43 [==============================] - 0s 9ms/step - loss: 0.6567 - accuracy: 0.7349 - val_loss: 0.7724 - val_accuracy: 0.6933\n",
            "Epoch 297/400\n",
            "43/43 [==============================] - 0s 9ms/step - loss: 0.6563 - accuracy: 0.7333 - val_loss: 0.7741 - val_accuracy: 0.6916\n",
            "Epoch 298/400\n",
            "43/43 [==============================] - 0s 10ms/step - loss: 0.6610 - accuracy: 0.7344 - val_loss: 0.7737 - val_accuracy: 0.6924\n",
            "Epoch 299/400\n",
            "43/43 [==============================] - 0s 9ms/step - loss: 0.6607 - accuracy: 0.7340 - val_loss: 0.7759 - val_accuracy: 0.6926\n",
            "Epoch 300/400\n",
            "43/43 [==============================] - 0s 10ms/step - loss: 0.6565 - accuracy: 0.7366 - val_loss: 0.7730 - val_accuracy: 0.6943\n",
            "Epoch 301/400\n",
            "43/43 [==============================] - 0s 10ms/step - loss: 0.6564 - accuracy: 0.7318 - val_loss: 0.7743 - val_accuracy: 0.6929\n",
            "Epoch 302/400\n",
            "43/43 [==============================] - 0s 10ms/step - loss: 0.6550 - accuracy: 0.7357 - val_loss: 0.7748 - val_accuracy: 0.6905\n",
            "Epoch 303/400\n",
            "43/43 [==============================] - 0s 9ms/step - loss: 0.6529 - accuracy: 0.7369 - val_loss: 0.7732 - val_accuracy: 0.6927\n",
            "Epoch 304/400\n",
            "43/43 [==============================] - 0s 10ms/step - loss: 0.6545 - accuracy: 0.7371 - val_loss: 0.7744 - val_accuracy: 0.6903\n",
            "Epoch 305/400\n",
            "43/43 [==============================] - 0s 9ms/step - loss: 0.6597 - accuracy: 0.7342 - val_loss: 0.7754 - val_accuracy: 0.6916\n",
            "Epoch 306/400\n",
            "43/43 [==============================] - 0s 10ms/step - loss: 0.6523 - accuracy: 0.7355 - val_loss: 0.7750 - val_accuracy: 0.6916\n",
            "Epoch 307/400\n",
            "43/43 [==============================] - 0s 10ms/step - loss: 0.6564 - accuracy: 0.7344 - val_loss: 0.7747 - val_accuracy: 0.6922\n",
            "Epoch 308/400\n",
            "43/43 [==============================] - 0s 10ms/step - loss: 0.6570 - accuracy: 0.7352 - val_loss: 0.7747 - val_accuracy: 0.6918\n",
            "Epoch 309/400\n",
            "43/43 [==============================] - 0s 10ms/step - loss: 0.6600 - accuracy: 0.7338 - val_loss: 0.7731 - val_accuracy: 0.6931\n",
            "Epoch 310/400\n",
            "43/43 [==============================] - 0s 9ms/step - loss: 0.6548 - accuracy: 0.7366 - val_loss: 0.7724 - val_accuracy: 0.6939\n",
            "Epoch 311/400\n",
            "43/43 [==============================] - 0s 9ms/step - loss: 0.6557 - accuracy: 0.7354 - val_loss: 0.7753 - val_accuracy: 0.6939\n",
            "Epoch 312/400\n",
            "43/43 [==============================] - 0s 9ms/step - loss: 0.6551 - accuracy: 0.7342 - val_loss: 0.7743 - val_accuracy: 0.6899\n",
            "Epoch 313/400\n",
            "43/43 [==============================] - 0s 9ms/step - loss: 0.6495 - accuracy: 0.7365 - val_loss: 0.7767 - val_accuracy: 0.6910\n",
            "Epoch 314/400\n",
            "43/43 [==============================] - 0s 9ms/step - loss: 0.6516 - accuracy: 0.7357 - val_loss: 0.7758 - val_accuracy: 0.6888\n",
            "Epoch 315/400\n",
            "43/43 [==============================] - 0s 10ms/step - loss: 0.6532 - accuracy: 0.7367 - val_loss: 0.7749 - val_accuracy: 0.6912\n",
            "Epoch 316/400\n",
            "43/43 [==============================] - 0s 10ms/step - loss: 0.6598 - accuracy: 0.7312 - val_loss: 0.7730 - val_accuracy: 0.6920\n",
            "Epoch 317/400\n",
            "43/43 [==============================] - 0s 10ms/step - loss: 0.6503 - accuracy: 0.7373 - val_loss: 0.7754 - val_accuracy: 0.6931\n",
            "Epoch 318/400\n",
            "43/43 [==============================] - 0s 9ms/step - loss: 0.6541 - accuracy: 0.7338 - val_loss: 0.7749 - val_accuracy: 0.6943\n",
            "Epoch 319/400\n",
            "43/43 [==============================] - 0s 9ms/step - loss: 0.6510 - accuracy: 0.7313 - val_loss: 0.7736 - val_accuracy: 0.6892\n",
            "Epoch 320/400\n",
            "43/43 [==============================] - 0s 9ms/step - loss: 0.6531 - accuracy: 0.7348 - val_loss: 0.7703 - val_accuracy: 0.6969\n",
            "Epoch 321/400\n",
            "43/43 [==============================] - 0s 9ms/step - loss: 0.6542 - accuracy: 0.7358 - val_loss: 0.7710 - val_accuracy: 0.6963\n",
            "Epoch 322/400\n",
            "43/43 [==============================] - 0s 10ms/step - loss: 0.6530 - accuracy: 0.7341 - val_loss: 0.7706 - val_accuracy: 0.6933\n",
            "Epoch 323/400\n",
            "43/43 [==============================] - 0s 10ms/step - loss: 0.6545 - accuracy: 0.7352 - val_loss: 0.7717 - val_accuracy: 0.6937\n",
            "Epoch 324/400\n",
            "43/43 [==============================] - 0s 10ms/step - loss: 0.6516 - accuracy: 0.7350 - val_loss: 0.7710 - val_accuracy: 0.6910\n",
            "Epoch 325/400\n",
            "43/43 [==============================] - 0s 9ms/step - loss: 0.6504 - accuracy: 0.7346 - val_loss: 0.7717 - val_accuracy: 0.6914\n",
            "Epoch 326/400\n",
            "43/43 [==============================] - 0s 9ms/step - loss: 0.6529 - accuracy: 0.7346 - val_loss: 0.7738 - val_accuracy: 0.6903\n",
            "Epoch 327/400\n",
            "43/43 [==============================] - 0s 10ms/step - loss: 0.6490 - accuracy: 0.7386 - val_loss: 0.7737 - val_accuracy: 0.6905\n",
            "Epoch 328/400\n",
            "43/43 [==============================] - 0s 9ms/step - loss: 0.6504 - accuracy: 0.7389 - val_loss: 0.7768 - val_accuracy: 0.6901\n",
            "Epoch 329/400\n",
            "43/43 [==============================] - 0s 9ms/step - loss: 0.6534 - accuracy: 0.7357 - val_loss: 0.7744 - val_accuracy: 0.6901\n",
            "Epoch 330/400\n",
            "43/43 [==============================] - 0s 10ms/step - loss: 0.6522 - accuracy: 0.7339 - val_loss: 0.7731 - val_accuracy: 0.6912\n",
            "Epoch 331/400\n",
            "43/43 [==============================] - 0s 9ms/step - loss: 0.6512 - accuracy: 0.7344 - val_loss: 0.7723 - val_accuracy: 0.6935\n",
            "Epoch 332/400\n",
            "43/43 [==============================] - 0s 9ms/step - loss: 0.6463 - accuracy: 0.7418 - val_loss: 0.7723 - val_accuracy: 0.6941\n",
            "Epoch 333/400\n",
            "43/43 [==============================] - 0s 9ms/step - loss: 0.6535 - accuracy: 0.7359 - val_loss: 0.7722 - val_accuracy: 0.6939\n",
            "Epoch 334/400\n",
            "43/43 [==============================] - 1s 16ms/step - loss: 0.6517 - accuracy: 0.7382 - val_loss: 0.7714 - val_accuracy: 0.6914\n",
            "Epoch 335/400\n",
            "43/43 [==============================] - 1s 14ms/step - loss: 0.6467 - accuracy: 0.7391 - val_loss: 0.7728 - val_accuracy: 0.6937\n",
            "Epoch 336/400\n",
            "43/43 [==============================] - 1s 14ms/step - loss: 0.6512 - accuracy: 0.7359 - val_loss: 0.7730 - val_accuracy: 0.6918\n",
            "Epoch 337/400\n",
            "43/43 [==============================] - 1s 17ms/step - loss: 0.6497 - accuracy: 0.7388 - val_loss: 0.7730 - val_accuracy: 0.6918\n",
            "Epoch 338/400\n",
            "43/43 [==============================] - 0s 9ms/step - loss: 0.6528 - accuracy: 0.7372 - val_loss: 0.7732 - val_accuracy: 0.6899\n",
            "Epoch 339/400\n",
            "43/43 [==============================] - 0s 10ms/step - loss: 0.6505 - accuracy: 0.7350 - val_loss: 0.7745 - val_accuracy: 0.6909\n",
            "Epoch 340/400\n",
            "43/43 [==============================] - 0s 9ms/step - loss: 0.6513 - accuracy: 0.7337 - val_loss: 0.7747 - val_accuracy: 0.6931\n",
            "Epoch 341/400\n",
            "43/43 [==============================] - 0s 10ms/step - loss: 0.6506 - accuracy: 0.7354 - val_loss: 0.7761 - val_accuracy: 0.6903\n",
            "Epoch 342/400\n",
            "43/43 [==============================] - 0s 10ms/step - loss: 0.6518 - accuracy: 0.7390 - val_loss: 0.7763 - val_accuracy: 0.6922\n",
            "Epoch 343/400\n",
            "43/43 [==============================] - 0s 9ms/step - loss: 0.6491 - accuracy: 0.7382 - val_loss: 0.7767 - val_accuracy: 0.6927\n",
            "Epoch 344/400\n",
            "43/43 [==============================] - 0s 9ms/step - loss: 0.6426 - accuracy: 0.7395 - val_loss: 0.7754 - val_accuracy: 0.6941\n",
            "Epoch 345/400\n",
            "43/43 [==============================] - 0s 10ms/step - loss: 0.6536 - accuracy: 0.7375 - val_loss: 0.7751 - val_accuracy: 0.6929\n",
            "Epoch 346/400\n",
            "43/43 [==============================] - 0s 10ms/step - loss: 0.6496 - accuracy: 0.7358 - val_loss: 0.7733 - val_accuracy: 0.6918\n",
            "Epoch 347/400\n",
            "43/43 [==============================] - 0s 10ms/step - loss: 0.6491 - accuracy: 0.7380 - val_loss: 0.7749 - val_accuracy: 0.6935\n",
            "Epoch 348/400\n",
            "43/43 [==============================] - 0s 9ms/step - loss: 0.6469 - accuracy: 0.7380 - val_loss: 0.7749 - val_accuracy: 0.6884\n",
            "Epoch 349/400\n",
            "43/43 [==============================] - 0s 9ms/step - loss: 0.6476 - accuracy: 0.7399 - val_loss: 0.7783 - val_accuracy: 0.6909\n",
            "Epoch 350/400\n",
            "43/43 [==============================] - 0s 9ms/step - loss: 0.6500 - accuracy: 0.7384 - val_loss: 0.7763 - val_accuracy: 0.6909\n",
            "Epoch 351/400\n",
            "43/43 [==============================] - 0s 9ms/step - loss: 0.6459 - accuracy: 0.7372 - val_loss: 0.7760 - val_accuracy: 0.6910\n",
            "Epoch 352/400\n",
            "43/43 [==============================] - 0s 9ms/step - loss: 0.6500 - accuracy: 0.7344 - val_loss: 0.7743 - val_accuracy: 0.6893\n",
            "Epoch 353/400\n",
            "43/43 [==============================] - 0s 9ms/step - loss: 0.6439 - accuracy: 0.7429 - val_loss: 0.7747 - val_accuracy: 0.6922\n",
            "Epoch 354/400\n",
            "43/43 [==============================] - 0s 10ms/step - loss: 0.6454 - accuracy: 0.7413 - val_loss: 0.7756 - val_accuracy: 0.6910\n",
            "Epoch 355/400\n",
            "43/43 [==============================] - 0s 9ms/step - loss: 0.6479 - accuracy: 0.7353 - val_loss: 0.7744 - val_accuracy: 0.6909\n",
            "Epoch 356/400\n",
            "43/43 [==============================] - 0s 10ms/step - loss: 0.6472 - accuracy: 0.7383 - val_loss: 0.7766 - val_accuracy: 0.6909\n",
            "Epoch 357/400\n",
            "43/43 [==============================] - 0s 9ms/step - loss: 0.6411 - accuracy: 0.7390 - val_loss: 0.7785 - val_accuracy: 0.6903\n",
            "Epoch 358/400\n",
            "43/43 [==============================] - 0s 9ms/step - loss: 0.6477 - accuracy: 0.7367 - val_loss: 0.7753 - val_accuracy: 0.6909\n",
            "Epoch 359/400\n",
            "43/43 [==============================] - 0s 10ms/step - loss: 0.6500 - accuracy: 0.7395 - val_loss: 0.7763 - val_accuracy: 0.6926\n",
            "Epoch 360/400\n",
            "43/43 [==============================] - 0s 9ms/step - loss: 0.6456 - accuracy: 0.7399 - val_loss: 0.7751 - val_accuracy: 0.6944\n",
            "Epoch 361/400\n",
            "43/43 [==============================] - 0s 10ms/step - loss: 0.6454 - accuracy: 0.7417 - val_loss: 0.7758 - val_accuracy: 0.6899\n",
            "Epoch 362/400\n",
            "43/43 [==============================] - 0s 10ms/step - loss: 0.6430 - accuracy: 0.7404 - val_loss: 0.7741 - val_accuracy: 0.6892\n",
            "Epoch 363/400\n",
            "43/43 [==============================] - 0s 9ms/step - loss: 0.6441 - accuracy: 0.7393 - val_loss: 0.7745 - val_accuracy: 0.6924\n",
            "Epoch 364/400\n",
            "43/43 [==============================] - 0s 10ms/step - loss: 0.6418 - accuracy: 0.7426 - val_loss: 0.7746 - val_accuracy: 0.6929\n",
            "Epoch 365/400\n",
            "43/43 [==============================] - 0s 9ms/step - loss: 0.6406 - accuracy: 0.7429 - val_loss: 0.7751 - val_accuracy: 0.6918\n",
            "Epoch 366/400\n",
            "43/43 [==============================] - 0s 9ms/step - loss: 0.6415 - accuracy: 0.7396 - val_loss: 0.7782 - val_accuracy: 0.6893\n",
            "Epoch 367/400\n",
            "43/43 [==============================] - 0s 10ms/step - loss: 0.6433 - accuracy: 0.7411 - val_loss: 0.7775 - val_accuracy: 0.6933\n",
            "Epoch 368/400\n",
            "43/43 [==============================] - 0s 9ms/step - loss: 0.6430 - accuracy: 0.7404 - val_loss: 0.7751 - val_accuracy: 0.6922\n",
            "Epoch 369/400\n",
            "43/43 [==============================] - 0s 9ms/step - loss: 0.6462 - accuracy: 0.7365 - val_loss: 0.7741 - val_accuracy: 0.6920\n",
            "Epoch 370/400\n",
            "43/43 [==============================] - 0s 9ms/step - loss: 0.6429 - accuracy: 0.7386 - val_loss: 0.7747 - val_accuracy: 0.6956\n",
            "Epoch 371/400\n",
            "43/43 [==============================] - 0s 10ms/step - loss: 0.6407 - accuracy: 0.7428 - val_loss: 0.7754 - val_accuracy: 0.6939\n",
            "Epoch 372/400\n",
            "43/43 [==============================] - 0s 9ms/step - loss: 0.6422 - accuracy: 0.7422 - val_loss: 0.7746 - val_accuracy: 0.6943\n",
            "Epoch 373/400\n",
            "43/43 [==============================] - 0s 10ms/step - loss: 0.6471 - accuracy: 0.7378 - val_loss: 0.7764 - val_accuracy: 0.6918\n",
            "Epoch 374/400\n",
            "43/43 [==============================] - 0s 10ms/step - loss: 0.6411 - accuracy: 0.7366 - val_loss: 0.7754 - val_accuracy: 0.6920\n",
            "Epoch 375/400\n",
            "43/43 [==============================] - 0s 10ms/step - loss: 0.6444 - accuracy: 0.7402 - val_loss: 0.7756 - val_accuracy: 0.6922\n",
            "Epoch 376/400\n",
            "43/43 [==============================] - 0s 9ms/step - loss: 0.6453 - accuracy: 0.7401 - val_loss: 0.7746 - val_accuracy: 0.6944\n",
            "Epoch 377/400\n",
            "43/43 [==============================] - 0s 10ms/step - loss: 0.6397 - accuracy: 0.7420 - val_loss: 0.7756 - val_accuracy: 0.6933\n",
            "Epoch 378/400\n",
            "43/43 [==============================] - 0s 9ms/step - loss: 0.6443 - accuracy: 0.7409 - val_loss: 0.7724 - val_accuracy: 0.6937\n",
            "Epoch 379/400\n",
            "43/43 [==============================] - 0s 10ms/step - loss: 0.6402 - accuracy: 0.7389 - val_loss: 0.7749 - val_accuracy: 0.6920\n",
            "Epoch 380/400\n",
            "43/43 [==============================] - 0s 10ms/step - loss: 0.6398 - accuracy: 0.7416 - val_loss: 0.7738 - val_accuracy: 0.6943\n",
            "Epoch 381/400\n",
            "43/43 [==============================] - 0s 9ms/step - loss: 0.6463 - accuracy: 0.7377 - val_loss: 0.7766 - val_accuracy: 0.6935\n",
            "Epoch 382/400\n",
            "43/43 [==============================] - 0s 9ms/step - loss: 0.6411 - accuracy: 0.7411 - val_loss: 0.7733 - val_accuracy: 0.6961\n",
            "Epoch 383/400\n",
            "43/43 [==============================] - 0s 9ms/step - loss: 0.6448 - accuracy: 0.7388 - val_loss: 0.7765 - val_accuracy: 0.6920\n",
            "Epoch 384/400\n",
            "43/43 [==============================] - 0s 9ms/step - loss: 0.6402 - accuracy: 0.7450 - val_loss: 0.7745 - val_accuracy: 0.6926\n",
            "Epoch 385/400\n",
            "43/43 [==============================] - 0s 9ms/step - loss: 0.6401 - accuracy: 0.7390 - val_loss: 0.7736 - val_accuracy: 0.6916\n",
            "Epoch 386/400\n",
            "43/43 [==============================] - 0s 9ms/step - loss: 0.6373 - accuracy: 0.7434 - val_loss: 0.7767 - val_accuracy: 0.6937\n",
            "Epoch 387/400\n",
            "43/43 [==============================] - 0s 10ms/step - loss: 0.6437 - accuracy: 0.7389 - val_loss: 0.7778 - val_accuracy: 0.6954\n",
            "Epoch 388/400\n",
            "43/43 [==============================] - 0s 10ms/step - loss: 0.6431 - accuracy: 0.7391 - val_loss: 0.7752 - val_accuracy: 0.6933\n",
            "Epoch 389/400\n",
            "43/43 [==============================] - 0s 10ms/step - loss: 0.6404 - accuracy: 0.7420 - val_loss: 0.7757 - val_accuracy: 0.6920\n",
            "Epoch 390/400\n",
            "43/43 [==============================] - 0s 9ms/step - loss: 0.6404 - accuracy: 0.7420 - val_loss: 0.7758 - val_accuracy: 0.6916\n",
            "Epoch 391/400\n",
            "43/43 [==============================] - 0s 10ms/step - loss: 0.6378 - accuracy: 0.7434 - val_loss: 0.7775 - val_accuracy: 0.6933\n",
            "Epoch 392/400\n",
            "43/43 [==============================] - 0s 9ms/step - loss: 0.6399 - accuracy: 0.7420 - val_loss: 0.7760 - val_accuracy: 0.6954\n",
            "Epoch 393/400\n",
            "43/43 [==============================] - 0s 9ms/step - loss: 0.6397 - accuracy: 0.7423 - val_loss: 0.7758 - val_accuracy: 0.6946\n",
            "Epoch 394/400\n",
            "43/43 [==============================] - 0s 10ms/step - loss: 0.6350 - accuracy: 0.7416 - val_loss: 0.7791 - val_accuracy: 0.6941\n",
            "Epoch 395/400\n",
            "43/43 [==============================] - 0s 10ms/step - loss: 0.6378 - accuracy: 0.7425 - val_loss: 0.7764 - val_accuracy: 0.6933\n",
            "Epoch 396/400\n",
            "43/43 [==============================] - 0s 10ms/step - loss: 0.6373 - accuracy: 0.7407 - val_loss: 0.7773 - val_accuracy: 0.6935\n",
            "Epoch 397/400\n",
            "43/43 [==============================] - 0s 9ms/step - loss: 0.6393 - accuracy: 0.7410 - val_loss: 0.7757 - val_accuracy: 0.6929\n",
            "Epoch 398/400\n",
            "43/43 [==============================] - 0s 9ms/step - loss: 0.6379 - accuracy: 0.7440 - val_loss: 0.7795 - val_accuracy: 0.6926\n",
            "Epoch 399/400\n",
            "43/43 [==============================] - 0s 10ms/step - loss: 0.6393 - accuracy: 0.7407 - val_loss: 0.7769 - val_accuracy: 0.6961\n",
            "Epoch 400/400\n",
            "43/43 [==============================] - 0s 9ms/step - loss: 0.6379 - accuracy: 0.7431 - val_loss: 0.7771 - val_accuracy: 0.6952\n"
          ]
        }
      ]
    },
    {
      "cell_type": "code",
      "source": [
        "df_hist = pd.DataFrame(history.history)\n",
        "df_hist.plot()"
      ],
      "metadata": {
        "id": "01PeEqdheHiu",
        "colab": {
          "base_uri": "https://localhost:8080/",
          "height": 283
        },
        "outputId": "627acc1e-1e66-40db-a34b-d6269379622f"
      },
      "execution_count": 264,
      "outputs": [
        {
          "output_type": "execute_result",
          "data": {
            "text/plain": [
              "<matplotlib.axes._subplots.AxesSubplot at 0x7f8a6dd28fd0>"
            ]
          },
          "metadata": {},
          "execution_count": 264
        },
        {
          "output_type": "display_data",
          "data": {
            "text/plain": [
              "<Figure size 432x288 with 1 Axes>"
            ],
            "image/png": "[encoded data removed]"
          },
          "metadata": {
            "needs_background": "light"
          }
        }
      ]
    },
    {
      "cell_type": "code",
      "source": [
        "y_predict = model.predict(X_test_final)\n",
        "y_predict"
      ],
      "metadata": {
        "id": "21WTaBwaazKg",
        "colab": {
          "base_uri": "https://localhost:8080/"
        },
        "outputId": "cc32fc11-a099-4217-ba9e-1447a3b73ee8"
      },
      "execution_count": 265,
      "outputs": [
        {
          "output_type": "stream",
          "name": "stdout",
          "text": [
            "313/313 [==============================] - 0s 1ms/step\n"
          ]
        },
        {
          "output_type": "execute_result",
          "data": {
            "text/plain": [
              "array([[0.07925134, 0.1043594 , 0.8163893 ],\n",
              "       [0.07210762, 0.21936774, 0.70852464],\n",
              "       [0.19522548, 0.21368934, 0.5910852 ],\n",
              "       ...,\n",
              "       [0.17271931, 0.20317484, 0.6241059 ],\n",
              "       [0.09728554, 0.49084395, 0.4118704 ],\n",
              "       [0.00611261, 0.12649685, 0.86739045]], dtype=float32)"
            ]
          },
          "metadata": {},
          "execution_count": 265
        }
      ]
    },
    {
      "cell_type": "markdown",
      "source": [
        "# 제출 파일"
      ],
      "metadata": {
        "id": "_BsPbAaZcabj"
      }
    },
    {
      "cell_type": "code",
      "source": [
        "submit = pd.read_csv(path + 'sample_submission.csv')"
      ],
      "metadata": {
        "id": "hAF_5sA8cOWq"
      },
      "execution_count": 266,
      "outputs": []
    },
    {
      "cell_type": "code",
      "source": [
        "submit[['0','1','2']] = y_predict"
      ],
      "metadata": {
        "id": "pPTMlKD_dRCf"
      },
      "execution_count": 267,
      "outputs": []
    },
    {
      "cell_type": "code",
      "source": [
        "submit.head()"
      ],
      "metadata": {
        "id": "CG-gAfvYdV3T",
        "colab": {
          "base_uri": "https://localhost:8080/",
          "height": 206
        },
        "outputId": "98690234-898d-4e79-a032-b2f5a9998a1d"
      },
      "execution_count": 268,
      "outputs": [
        {
          "output_type": "execute_result",
          "data": {
            "text/plain": [
              "   index         0         1         2\n",
              "0  26457  0.079251  0.104359  0.816389\n",
              "1  26458  0.072108  0.219368  0.708525\n",
              "2  26459  0.195225  0.213689  0.591085\n",
              "3  26460  0.236675  0.177255  0.586070\n",
              "4  26461  0.045685  0.172626  0.781689"
            ],
            "text/html": [
              "\n",
              "  <div id=\"df-e5051b26-0f74-464d-ba07-73de3778fad9\">\n",
              "    <div class=\"colab-df-container\">\n",
              "      <div>\n",
              "<style scoped>\n",
              "    .dataframe tbody tr th:only-of-type {\n",
              "        vertical-align: middle;\n",
              "    }\n",
              "\n",
              "    .dataframe tbody tr th {\n",
              "        vertical-align: top;\n",
              "    }\n",
              "\n",
              "    .dataframe thead th {\n",
              "        text-align: right;\n",
              "    }\n",
              "</style>\n",
              "<table border=\"1\" class=\"dataframe\">\n",
              "  <thead>\n",
              "    <tr style=\"text-align: right;\">\n",
              "      <th></th>\n",
              "      <th>index</th>\n",
              "      <th>0</th>\n",
              "      <th>1</th>\n",
              "      <th>2</th>\n",
              "    </tr>\n",
              "  </thead>\n",
              "  <tbody>\n",
              "    <tr>\n",
              "      <th>0</th>\n",
              "      <td>26457</td>\n",
              "      <td>0.079251</td>\n",
              "      <td>0.104359</td>\n",
              "      <td>0.816389</td>\n",
              "    </tr>\n",
              "    <tr>\n",
              "      <th>1</th>\n",
              "      <td>26458</td>\n",
              "      <td>0.072108</td>\n",
              "      <td>0.219368</td>\n",
              "      <td>0.708525</td>\n",
              "    </tr>\n",
              "    <tr>\n",
              "      <th>2</th>\n",
              "      <td>26459</td>\n",
              "      <td>0.195225</td>\n",
              "      <td>0.213689</td>\n",
              "      <td>0.591085</td>\n",
              "    </tr>\n",
              "    <tr>\n",
              "      <th>3</th>\n",
              "      <td>26460</td>\n",
              "      <td>0.236675</td>\n",
              "      <td>0.177255</td>\n",
              "      <td>0.586070</td>\n",
              "    </tr>\n",
              "    <tr>\n",
              "      <th>4</th>\n",
              "      <td>26461</td>\n",
              "      <td>0.045685</td>\n",
              "      <td>0.172626</td>\n",
              "      <td>0.781689</td>\n",
              "    </tr>\n",
              "  </tbody>\n",
              "</table>\n",
              "</div>\n",
              "      <button class=\"colab-df-convert\" onclick=\"convertToInteractive('df-e5051b26-0f74-464d-ba07-73de3778fad9')\"\n",
              "              title=\"Convert this dataframe to an interactive table.\"\n",
              "              style=\"display:none;\">\n",
              "        \n",
              "  <svg xmlns=\"http://www.w3.org/2000/svg\" height=\"24px\"viewBox=\"0 0 24 24\"\n",
              "       width=\"24px\">\n",
              "    <path d=\"M0 0h24v24H0V0z\" fill=\"none\"/>\n",
              "    <path d=\"M18.56 5.44l.94 2.06.94-2.06 2.06-.94-2.06-.94-.94-2.06-.94 2.06-2.06.94zm-11 1L8.5 8.5l.94-2.06 2.06-.94-2.06-.94L8.5 2.5l-.94 2.06-2.06.94zm10 10l.94 2.06.94-2.06 2.06-.94-2.06-.94-.94-2.06-.94 2.06-2.06.94z\"/><path d=\"M17.41 7.96l-1.37-1.37c-.4-.4-.92-.59-1.43-.59-.52 0-1.04.2-1.43.59L10.3 9.45l-7.72 7.72c-.78.78-.78 2.05 0 2.83L4 21.41c.39.39.9.59 1.41.59.51 0 1.02-.2 1.41-.59l7.78-7.78 2.81-2.81c.8-.78.8-2.07 0-2.86zM5.41 20L4 18.59l7.72-7.72 1.47 1.35L5.41 20z\"/>\n",
              "  </svg>\n",
              "      </button>\n",
              "      \n",
              "  <style>\n",
              "    .colab-df-container {\n",
              "      display:flex;\n",
              "      flex-wrap:wrap;\n",
              "      gap: 12px;\n",
              "    }\n",
              "\n",
              "    .colab-df-convert {\n",
              "      background-color: #E8F0FE;\n",
              "      border: none;\n",
              "      border-radius: 50%;\n",
              "      cursor: pointer;\n",
              "      display: none;\n",
              "      fill: #1967D2;\n",
              "      height: 32px;\n",
              "      padding: 0 0 0 0;\n",
              "      width: 32px;\n",
              "    }\n",
              "\n",
              "    .colab-df-convert:hover {\n",
              "      background-color: #E2EBFA;\n",
              "      box-shadow: 0px 1px 2px rgba(60, 64, 67, 0.3), 0px 1px 3px 1px rgba(60, 64, 67, 0.15);\n",
              "      fill: #174EA6;\n",
              "    }\n",
              "\n",
              "    [theme=dark] .colab-df-convert {\n",
              "      background-color: #3B4455;\n",
              "      fill: #D2E3FC;\n",
              "    }\n",
              "\n",
              "    [theme=dark] .colab-df-convert:hover {\n",
              "      background-color: #434B5C;\n",
              "      box-shadow: 0px 1px 3px 1px rgba(0, 0, 0, 0.15);\n",
              "      filter: drop-shadow(0px 1px 2px rgba(0, 0, 0, 0.3));\n",
              "      fill: #FFFFFF;\n",
              "    }\n",
              "  </style>\n",
              "\n",
              "      <script>\n",
              "        const buttonEl =\n",
              "          document.querySelector('#df-e5051b26-0f74-464d-ba07-73de3778fad9 button.colab-df-convert');\n",
              "        buttonEl.style.display =\n",
              "          google.colab.kernel.accessAllowed ? 'block' : 'none';\n",
              "\n",
              "        async function convertToInteractive(key) {\n",
              "          const element = document.querySelector('#df-e5051b26-0f74-464d-ba07-73de3778fad9');\n",
              "          const dataTable =\n",
              "            await google.colab.kernel.invokeFunction('convertToInteractive',\n",
              "                                                     [key], {});\n",
              "          if (!dataTable) return;\n",
              "\n",
              "          const docLinkHtml = 'Like what you see? Visit the ' +\n",
              "            '<a target=\"_blank\" href=https://colab.research.google.com/notebooks/data_table.ipynb>data table notebook</a>'\n",
              "            + ' to learn more about interactive tables.';\n",
              "          element.innerHTML = '';\n",
              "          dataTable['output_type'] = 'display_data';\n",
              "          await google.colab.output.renderOutput(dataTable, element);\n",
              "          const docLink = document.createElement('div');\n",
              "          docLink.innerHTML = docLinkHtml;\n",
              "          element.appendChild(docLink);\n",
              "        }\n",
              "      </script>\n",
              "    </div>\n",
              "  </div>\n",
              "  "
            ]
          },
          "metadata": {},
          "execution_count": 268
        }
      ]
    },
    {
      "cell_type": "code",
      "source": [
        "submit.to_csv(path + \"submission_0.6952.csv\",index=False)"
      ],
      "metadata": {
        "id": "W8DvSeacdcWk"
      },
      "execution_count": 270,
      "outputs": []
    },
    {
      "cell_type": "code",
      "source": [],
      "metadata": {
        "id": "_Lx204tKAi3w"
      },
      "execution_count": 269,
      "outputs": []
    },
    {
      "cell_type": "code",
      "source": [],
      "metadata": {
        "id": "VNYs_EQGAiwz"
      },
      "execution_count": 269,
      "outputs": []
    },
    {
      "cell_type": "code",
      "source": [],
      "metadata": {
        "id": "Eit8ZUrEeeOQ"
      },
      "execution_count": 269,
      "outputs": []
    }
  ]
}